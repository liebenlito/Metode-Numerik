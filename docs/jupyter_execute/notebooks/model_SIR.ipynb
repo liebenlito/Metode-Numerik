{
 "cells": [
  {
   "cell_type": "markdown",
   "metadata": {
    "colab_type": "text",
    "id": "view-in-github"
   },
   "source": [
    "<a href=\"https://colab.research.google.com/github/liebenlito/Metode-Numerik/blob/main/model_SIR.ipynb\" target=\"_parent\"><img src=\"https://colab.research.google.com/assets/colab-badge.svg\" alt=\"Open In Colab\"/></a>"
   ]
  },
  {
   "cell_type": "markdown",
   "metadata": {
    "id": "INRxs0sU5gz_"
   },
   "source": [
    "# Model SIR \n",
    "Misalkan di dalam suatu pengamatan pada waktu ke $t$ di dalam populasi __tertutup__, terdapat subpopulasi yang rentan (Susceptible, $S$), subpopulasi yang terjangkit penyakit (Infection, $I$), dan subpopulasi yang sembuh (Recovery, $R$). Model populasi ini dinamakan model $SIR$. Model SIR memiliki asumsi-asumsi sebagai berikut:\n",
    "\n",
    "1. Individu yang sembuh mempunyai kekebalan terhadap penyakit tersebut (tidak bisa menjadi rentan lagi).\n",
    "2. Penyakit tidak fatal (tidak menyebabkan kematian).\n",
    "3. Masa inkubasi sangat singkat. Masa inkubasi adalah masa antara mulai terjadinya infeksi sampai dengan tampaknya gejala.\n",
    "4. Laju kenaikan proporsi (jumlah individu) dari kelas terjangkit dan menularkan sebanding dengan proporsi (jumlah individu) dari kelas rentan dan kelas terjangkit. Proporsi (jumlah individu) kelas rentan minimum dengan laju yang sama, yaitu $\\beta SI$.\n",
    "5. Laju kenaikan proporsi (jumlah individu) kelas sembuh sebanding dengan proporsi ( jumlah individu) dari kelas terjangkit dan menularkan, yaitu $\\alpha I$.\n",
    "\n",
    "\n",
    "\n",
    "\n",
    "\n",
    "\n"
   ]
  },
  {
   "cell_type": "code",
   "execution_count": null,
   "metadata": {
    "id": "7m0V_cJx5USf"
   },
   "outputs": [],
   "source": []
  }
 ],
 "metadata": {
  "colab": {
   "authorship_tag": "ABX9TyN/BB3adGTuFCgYOMTNK/af",
   "include_colab_link": true,
   "name": "model_SIR.ipynb",
   "provenance": []
  },
  "kernelspec": {
   "display_name": "Python 3",
   "name": "python3"
  },
  "language_info": {
   "codemirror_mode": {
    "name": "ipython",
    "version": 3
   },
   "file_extension": ".py",
   "mimetype": "text/x-python",
   "name": "python",
   "nbconvert_exporter": "python",
   "pygments_lexer": "ipython3",
   "version": "3.9.7"
  }
 },
 "nbformat": 4,
 "nbformat_minor": 0
}