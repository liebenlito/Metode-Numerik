{
 "cells": [
  {
   "cell_type": "markdown",
   "metadata": {},
   "source": [
    "# Faktorisasi Matriks\n",
    "\n",
    "Pada prinsipnya Eliminasi Gauss adalah teknik yang secara umum digunakan untuk menyelesaikan Sistem Persamaan Linear (SPL). Namun, waktu komputasi yang dibutuhkan oleh Eliminasi Gauss cenderung lama seiring bertambahnya ukuran matriks atau dapat dinotasikan $O(n^3 /3)$ {cite}`burden_numerical_2010`. Hal ini banyak dipengaruhi oleh operasi aritmatika dari proses eliminasi yang terjadi di dalam Eliminasi Gauss. Dengan demikian, kita memerlukan suatu cara agar dapat meminimalkan waktu komputasi, salah satunya dengan melakukan __faktorisasi matriks__."
   ]
  },
  {
   "cell_type": "markdown",
   "metadata": {},
   "source": [
    "## Faktorisasi LU\n",
    "\n",
    "Diberikan suatu SPL yang dapat dibentuk dalam bentuk matriks-vektor sebagai berikut\n",
    "\n",
    "$$\n",
    "A\\vec{x} = \\vec{b}\n",
    "$$\n",
    "\n",
    "dimana $A \\in \\mathbb{R}^{n \\times n}$ dan $\\vec{x}, \\vec{b} \\in \\mathbb{R}^n$. Kemudian untuk menyelesaikan SPL tersebut, kita gunakan eliminasi Gauss tanpa pivoting dan kita asumsikan juga bahwa elemen pivot di $A$ tak nol seiring berjalannya proses eliminasi pada setiap iterasinya, atau dapat ditulis $a_{ii}^{(k)}$, untuk $k = 1,2, ..., n-1$ dan $i = 1,2,...,n$. Proses eliminasi pada iterasi pertama dilakukan dengan cara\n",
    "\n",
    "$$\n",
    "(E_j - m_{j1}E_1) \\rightarrow (E_j), \\hspace{1.5em} m_{j1} = \\frac{a_{j1}^{(1)}}{a_{11}^{(1)}}\n",
    "$$\n",
    "\n",
    "atau proses ini dapat direpresentasikan sebagai matriks \n",
    "\n",
    "$$\n",
    "M^{(1)} = \n",
    "\\begin{bmatrix}\n",
    "1       & 0 & \\cdots & 0 \\\\\n",
    "-m_{21} & 1 &        & 0 \\\\\n",
    "\\vdots  &   & \\ddots & \\vdots \\\\\n",
    "-m_{n1} & 0 & \\cdots & 1 \\\\\n",
    "\\end{bmatrix}\n",
    "$$\n",
    "\n",
    "Proses eliminasi ini dapat juga dipandang sebagai operasi perkalian matriks antara"
   ]
  },
  {
   "cell_type": "code",
   "execution_count": null,
   "metadata": {},
   "outputs": [],
   "source": []
  }
 ],
 "metadata": {
  "language_info": {
   "codemirror_mode": {
    "name": "ipython",
    "version": 3
   },
   "file_extension": ".py",
   "mimetype": "text/x-python",
   "name": "python",
   "nbconvert_exporter": "python",
   "pygments_lexer": "ipython3",
   "version": "3.9.7"
  }
 },
 "nbformat": 4,
 "nbformat_minor": 2
}