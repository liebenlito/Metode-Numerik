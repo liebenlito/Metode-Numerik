{
  "nbformat": 4,
  "nbformat_minor": 0,
  "metadata": {
    "colab": {
      "name": "Jawaban UTS Komputasi Sains.ipynb",
      "provenance": [],
      "authorship_tag": "ABX9TyNF5pKP7DmE6XDiFEx44i38"
    },
    "kernelspec": {
      "name": "python3",
      "display_name": "Python 3"
    },
    "language_info": {
      "name": "python"
    }
  },
  "cells": [
    {
      "cell_type": "markdown",
      "metadata": {
        "id": "SsQWb9nIPUaG"
      },
      "source": [
        "1."
      ]
    },
    {
      "cell_type": "code",
      "metadata": {
        "id": "hOG1x-9QJLpQ"
      },
      "source": [
        "import numpy as np"
      ],
      "execution_count": 1,
      "outputs": []
    },
    {
      "cell_type": "code",
      "metadata": {
        "id": "Rfz4yWP5JVMR"
      },
      "source": [
        "A = np.array([[1, 0, -1],\n",
        "              [-0.5, 1, -0.25],\n",
        "              [1, -0.5, 1]])"
      ],
      "execution_count": 2,
      "outputs": []
    },
    {
      "cell_type": "code",
      "metadata": {
        "id": "dXKvjE0iJk_e"
      },
      "source": [
        "n = A.shape[0]\n",
        "\n",
        "D = np.zeros_like(A)\n",
        "for i in range(n):\n",
        "  D[i,i] = A[i,i]\n",
        "\n",
        "L = np.zeros_like(A)\n",
        "for i in range(n):\n",
        "  for j in range(n):\n",
        "    if i > j:\n",
        "      L[i,j] = -A[i,j]\n",
        "\n",
        "U = np.zeros_like(A)\n",
        "for i in range(n):\n",
        "  for j in range(n):\n",
        "    if i < j:\n",
        "      U[i,j] = -A[i,j]"
      ],
      "execution_count": 11,
      "outputs": []
    },
    {
      "cell_type": "code",
      "metadata": {
        "id": "B8SPtmHcOIx7"
      },
      "source": [
        "def spectral_radius(T):\n",
        "  eigval = np.linalg.eigvals(T)\n",
        "  rho = np.max(np.abs(eigval))\n",
        "  return rho"
      ],
      "execution_count": 24,
      "outputs": []
    },
    {
      "cell_type": "code",
      "metadata": {
        "colab": {
          "base_uri": "https://localhost:8080/"
        },
        "id": "HW9UwL3yMbtp",
        "outputId": "9e8b372c-17fe-409c-ee4b-62fc19f7653b"
      },
      "source": [
        "print(\"{} \\n\\n {} \\n\\n {}\".format(D, L, U))\n"
      ],
      "execution_count": 18,
      "outputs": [
        {
          "output_type": "stream",
          "name": "stdout",
          "text": [
            "[[1. 0. 0.]\n",
            " [0. 1. 0.]\n",
            " [0. 0. 1.]] \n",
            "\n",
            " [[ 0.   0.   0. ]\n",
            " [ 0.5  0.   0. ]\n",
            " [-1.   0.5  0. ]] \n",
            "\n",
            " [[ 0.   -0.    1.  ]\n",
            " [ 0.    0.    0.25]\n",
            " [ 0.    0.    0.  ]]\n"
          ]
        }
      ]
    },
    {
      "cell_type": "code",
      "metadata": {
        "colab": {
          "base_uri": "https://localhost:8080/"
        },
        "id": "J5FNurlNJvns",
        "outputId": "f9328ae5-4952-4fac-d2d8-d7dfd7077e6b"
      },
      "source": [
        "Tj = np.matmul(D, (L+U))\n",
        "Tj"
      ],
      "execution_count": 9,
      "outputs": [
        {
          "output_type": "execute_result",
          "data": {
            "text/plain": [
              "array([[ 0.  ,  0.  ,  1.  ],\n",
              "       [ 0.5 ,  0.  ,  0.25],\n",
              "       [-1.  ,  0.5 ,  0.  ]])"
            ]
          },
          "metadata": {},
          "execution_count": 9
        }
      ]
    },
    {
      "cell_type": "code",
      "metadata": {
        "colab": {
          "base_uri": "https://localhost:8080/"
        },
        "id": "szWX_IEsMGMf",
        "outputId": "4b3d5ac5-8ae1-4e21-c6bc-a656ebd36ccb"
      },
      "source": [
        "spectral_radius(Tj)"
      ],
      "execution_count": 25,
      "outputs": [
        {
          "output_type": "execute_result",
          "data": {
            "text/plain": [
              "0.9721052103388309"
            ]
          },
          "metadata": {},
          "execution_count": 25
        }
      ]
    },
    {
      "cell_type": "code",
      "metadata": {
        "colab": {
          "base_uri": "https://localhost:8080/"
        },
        "id": "bvJHGTY7M9Oh",
        "outputId": "af7b0d5c-e675-40d3-f3bf-26b5d5b5fbc5"
      },
      "source": [
        "X = np.linalg.inv(D - L)\n",
        "Tgs = np.matmul(X, U)\n",
        "Tgs"
      ],
      "execution_count": 22,
      "outputs": [
        {
          "output_type": "execute_result",
          "data": {
            "text/plain": [
              "array([[ 0.   ,  0.   ,  1.   ],\n",
              "       [ 0.   ,  0.   ,  0.75 ],\n",
              "       [ 0.   ,  0.   , -0.625]])"
            ]
          },
          "metadata": {},
          "execution_count": 22
        }
      ]
    },
    {
      "cell_type": "code",
      "metadata": {
        "colab": {
          "base_uri": "https://localhost:8080/"
        },
        "id": "UYrNeJ9HOCrm",
        "outputId": "7291e6e7-76b6-4ec2-ffa3-d119afa63318"
      },
      "source": [
        "spectral_radius(Tgs)"
      ],
      "execution_count": 26,
      "outputs": [
        {
          "output_type": "execute_result",
          "data": {
            "text/plain": [
              "0.625"
            ]
          },
          "metadata": {},
          "execution_count": 26
        }
      ]
    },
    {
      "cell_type": "markdown",
      "metadata": {
        "id": "jnDiX5APPWDr"
      },
      "source": [
        "3."
      ]
    },
    {
      "cell_type": "code",
      "metadata": {
        "id": "YxP4PvJPPyLU"
      },
      "source": [
        ""
      ],
      "execution_count": null,
      "outputs": []
    },
    {
      "cell_type": "code",
      "metadata": {
        "id": "ct1VWIHWOcPZ"
      },
      "source": [
        "A = np.array([[2, -1, 1],\n",
        "              [2, 2, 2],\n",
        "              [-1, -1, 2]], dtype = np.double)\n",
        "b = np.array([-1, 4, -5], dtype = np.double)"
      ],
      "execution_count": 27,
      "outputs": []
    },
    {
      "cell_type": "code",
      "metadata": {
        "id": "uW6mPK4PPxYZ"
      },
      "source": [
        ""
      ],
      "execution_count": null,
      "outputs": []
    }
  ]
}