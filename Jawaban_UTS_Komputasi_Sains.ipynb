{
  "nbformat": 4,
  "nbformat_minor": 0,
  "metadata": {
    "colab": {
      "name": "Jawaban UTS Komputasi Sains.ipynb",
      "provenance": [],
      "authorship_tag": "ABX9TyNHXgxvotvibekYAW/3HA6A"
    },
    "kernelspec": {
      "name": "python3",
      "display_name": "Python 3"
    },
    "language_info": {
      "name": "python"
    }
  },
  "cells": [
    {
      "cell_type": "markdown",
      "metadata": {
        "id": "EPyG5l9Hy-UL"
      },
      "source": [
        "# Solusi UTS Komputasi Sains"
      ]
    },
    {
      "cell_type": "markdown",
      "metadata": {
        "id": "SsQWb9nIPUaG"
      },
      "source": [
        "1."
      ]
    },
    {
      "cell_type": "code",
      "metadata": {
        "id": "hOG1x-9QJLpQ"
      },
      "source": [
        "import numpy as np"
      ],
      "execution_count": null,
      "outputs": []
    },
    {
      "cell_type": "code",
      "metadata": {
        "id": "Rfz4yWP5JVMR"
      },
      "source": [
        "A = np.array([[1, 0, -1],\n",
        "              [-0.5, 1, -0.25],\n",
        "              [1, -0.5, 1]])"
      ],
      "execution_count": null,
      "outputs": []
    },
    {
      "cell_type": "code",
      "metadata": {
        "id": "dXKvjE0iJk_e"
      },
      "source": [
        "def diagonal(A):\n",
        "  n = A.shape[0]\n",
        "  D = np.zeros_like(A)\n",
        "  for i in range(n):\n",
        "    D[i,i] = A[i,i]\n",
        "  return D\n",
        "\n",
        "def lower(A):\n",
        "  n = A.shape[0]\n",
        "  L = np.zeros_like(A)\n",
        "  for i in range(n):\n",
        "    for j in range(n):\n",
        "      if i > j:\n",
        "        L[i,j] = -A[i,j]\n",
        "  return L\n",
        "\n",
        "def upper(A):\n",
        "  n = A.shape[0]\n",
        "  U = np.zeros_like(A)\n",
        "  for i in range(n):\n",
        "    for j in range(n):\n",
        "      if i < j:\n",
        "        U[i,j] = -A[i,j]\n",
        "  return U"
      ],
      "execution_count": null,
      "outputs": []
    },
    {
      "cell_type": "code",
      "metadata": {
        "id": "B8SPtmHcOIx7"
      },
      "source": [
        "def spectral_radius(T):\n",
        "  eigval = np.linalg.eigvals(T)\n",
        "  rho = np.max(np.abs(eigval))\n",
        "  return rho"
      ],
      "execution_count": null,
      "outputs": []
    },
    {
      "cell_type": "code",
      "metadata": {
        "colab": {
          "base_uri": "https://localhost:8080/"
        },
        "id": "HW9UwL3yMbtp",
        "outputId": "da568313-65c6-493b-ac59-521e77789e7e"
      },
      "source": [
        "D = diagonal(A)\n",
        "L = lower(A)\n",
        "U = upper(A)\n",
        "print(\"{} \\n\\n {} \\n\\n {}\".format(D, L, U))\n"
      ],
      "execution_count": null,
      "outputs": [
        {
          "output_type": "stream",
          "name": "stdout",
          "text": [
            "[[1. 0. 0.]\n",
            " [0. 1. 0.]\n",
            " [0. 0. 1.]] \n",
            "\n",
            " [[ 0.   0.   0. ]\n",
            " [ 0.5  0.   0. ]\n",
            " [-1.   0.5  0. ]] \n",
            "\n",
            " [[ 0.   -0.    1.  ]\n",
            " [ 0.    0.    0.25]\n",
            " [ 0.    0.    0.  ]]\n"
          ]
        }
      ]
    },
    {
      "cell_type": "code",
      "metadata": {
        "colab": {
          "base_uri": "https://localhost:8080/"
        },
        "id": "J5FNurlNJvns",
        "outputId": "47619af2-8313-44b4-ddc3-3ea5543f43d2"
      },
      "source": [
        "Tj = np.matmul(D, (L+U))\n",
        "Tj"
      ],
      "execution_count": null,
      "outputs": [
        {
          "output_type": "execute_result",
          "data": {
            "text/plain": [
              "array([[ 0.  ,  0.  ,  1.  ],\n",
              "       [ 0.5 ,  0.  ,  0.25],\n",
              "       [-1.  ,  0.5 ,  0.  ]])"
            ]
          },
          "metadata": {},
          "execution_count": 6
        }
      ]
    },
    {
      "cell_type": "code",
      "metadata": {
        "colab": {
          "base_uri": "https://localhost:8080/"
        },
        "id": "szWX_IEsMGMf",
        "outputId": "ef56d949-2a57-4b14-d16b-b23ee180f981"
      },
      "source": [
        "spectral_radius(Tj)"
      ],
      "execution_count": null,
      "outputs": [
        {
          "output_type": "execute_result",
          "data": {
            "text/plain": [
              "0.9721052103388309"
            ]
          },
          "metadata": {},
          "execution_count": 7
        }
      ]
    },
    {
      "cell_type": "code",
      "metadata": {
        "colab": {
          "base_uri": "https://localhost:8080/"
        },
        "id": "bvJHGTY7M9Oh",
        "outputId": "1d07e78e-f88d-420b-f1d1-c340f69c6714"
      },
      "source": [
        "X = np.linalg.inv(D - L)\n",
        "Tgs = np.matmul(X, U)\n",
        "Tgs"
      ],
      "execution_count": null,
      "outputs": [
        {
          "output_type": "execute_result",
          "data": {
            "text/plain": [
              "array([[ 0.   ,  0.   ,  1.   ],\n",
              "       [ 0.   ,  0.   ,  0.75 ],\n",
              "       [ 0.   ,  0.   , -0.625]])"
            ]
          },
          "metadata": {},
          "execution_count": 8
        }
      ]
    },
    {
      "cell_type": "code",
      "metadata": {
        "colab": {
          "base_uri": "https://localhost:8080/"
        },
        "id": "UYrNeJ9HOCrm",
        "outputId": "6cfa787d-a622-4a93-e733-2cc46b3dd491"
      },
      "source": [
        "spectral_radius(Tgs)"
      ],
      "execution_count": null,
      "outputs": [
        {
          "output_type": "execute_result",
          "data": {
            "text/plain": [
              "0.625"
            ]
          },
          "metadata": {},
          "execution_count": 9
        }
      ]
    },
    {
      "cell_type": "markdown",
      "metadata": {
        "id": "jnDiX5APPWDr"
      },
      "source": [
        "3."
      ]
    },
    {
      "cell_type": "code",
      "metadata": {
        "id": "So_e2uoKQ1Rk"
      },
      "source": [
        "from scipy.linalg import norm"
      ],
      "execution_count": null,
      "outputs": []
    },
    {
      "cell_type": "code",
      "metadata": {
        "id": "YxP4PvJPPyLU"
      },
      "source": [
        "def jacobi1(A, b, x0, epsilon=1e-5, N=1000):\n",
        "  x = np.zeros(len(b))\n",
        "  T = A - np.diag(np.diagonal(A))\n",
        "\n",
        "  for k in range(N):\n",
        "    x = (b - np.dot(T,x0))/np.diagonal(A)\n",
        "\n",
        "    if norm(np.dot(A,x) - b) < epsilon:\n",
        "      break\n",
        "      \n",
        "    x0 = x\n",
        "\n",
        "  return k,x"
      ],
      "execution_count": null,
      "outputs": []
    },
    {
      "cell_type": "code",
      "metadata": {
        "id": "MLbQYSDjQcYQ"
      },
      "source": [
        "def gauss_seidel(A, b, x0, epsilon=1e-5, N=1000):\n",
        "  x = np.zeros_like(b, dtype=np.double)\n",
        "  \n",
        "  for k in range(N):\n",
        "\n",
        "    for i in range(len(b)):\n",
        "      U = np.dot(A[i,:i], x[:i])\n",
        "      V = np.dot(A[i,(i+1):], x0[(i+1):])\n",
        "      x[i] = 1/A[i,i] * (b[i] - U - V)\n",
        "      #print(k,x)\n",
        "      \n",
        "    if norm(np.dot(A,x) - b) < epsilon:\n",
        "      break\n",
        "    \n",
        "    x0 = x\n",
        "\n",
        "  return k,x"
      ],
      "execution_count": null,
      "outputs": []
    },
    {
      "cell_type": "markdown",
      "metadata": {
        "id": "0jvt4wPFQinT"
      },
      "source": [
        "a."
      ]
    },
    {
      "cell_type": "code",
      "metadata": {
        "id": "ct1VWIHWOcPZ"
      },
      "source": [
        "A = np.array([[2, -1, 1],\n",
        "              [2, 2, 2],\n",
        "              [-1, -1, 2]], dtype = np.double)\n",
        "b = np.array([-1, 4, -5], dtype = np.double)"
      ],
      "execution_count": null,
      "outputs": []
    },
    {
      "cell_type": "code",
      "metadata": {
        "id": "uW6mPK4PPxYZ",
        "colab": {
          "base_uri": "https://localhost:8080/"
        },
        "outputId": "225388df-709b-4333-fe3c-48b50b0a864a"
      },
      "source": [
        "HasilGS = gauss_seidel(A, b, x0=np.zeros(A.shape[0]))\n",
        "HasilGS"
      ],
      "execution_count": null,
      "outputs": [
        {
          "output_type": "execute_result",
          "data": {
            "text/plain": [
              "(22, array([ 1.00000226,  1.9999975 , -1.00000012]))"
            ]
          },
          "metadata": {},
          "execution_count": 14
        }
      ]
    },
    {
      "cell_type": "code",
      "metadata": {
        "id": "HTpNuMMyQu46",
        "colab": {
          "base_uri": "https://localhost:8080/"
        },
        "outputId": "39e2b322-9089-4741-82dd-5e15f811403d"
      },
      "source": [
        "HasilJ = jacobi1(A, b, x0=np.zeros(A.shape[0]))\n",
        "HasilJ"
      ],
      "execution_count": null,
      "outputs": [
        {
          "output_type": "execute_result",
          "data": {
            "text/plain": [
              "(999, array([-1.71063658e+48, -6.84254632e+48,  1.71063658e+48]))"
            ]
          },
          "metadata": {},
          "execution_count": 15
        }
      ]
    },
    {
      "cell_type": "markdown",
      "metadata": {
        "id": "R4qXoNE8RUT8"
      },
      "source": [
        "Kenapa?"
      ]
    },
    {
      "cell_type": "code",
      "metadata": {
        "id": "eHWYo2ziRMeQ",
        "colab": {
          "base_uri": "https://localhost:8080/"
        },
        "outputId": "eba626ae-b458-4b54-bb63-38ac37c84abd"
      },
      "source": [
        "D = diagonal(A)\n",
        "L = lower(A)\n",
        "U = upper(A)\n",
        "\n",
        "print(\"{} \\n\\n {} \\n\\n {}\".format(D, L, U))"
      ],
      "execution_count": null,
      "outputs": [
        {
          "output_type": "stream",
          "name": "stdout",
          "text": [
            "[[2. 0. 0.]\n",
            " [0. 2. 0.]\n",
            " [0. 0. 2.]] \n",
            "\n",
            " [[ 0.  0.  0.]\n",
            " [-2.  0.  0.]\n",
            " [ 1.  1.  0.]] \n",
            "\n",
            " [[ 0.  1. -1.]\n",
            " [ 0.  0. -2.]\n",
            " [ 0.  0.  0.]]\n"
          ]
        }
      ]
    },
    {
      "cell_type": "markdown",
      "metadata": {
        "id": "BEn_xiPSTpCQ"
      },
      "source": [
        "* Untuk Jacobi"
      ]
    },
    {
      "cell_type": "markdown",
      "metadata": {
        "id": "QfzRbtzzSncQ"
      },
      "source": [
        "$T_J = D^{-1}(L + U)$"
      ]
    },
    {
      "cell_type": "code",
      "metadata": {
        "id": "DfvL1WfWSgwP",
        "colab": {
          "base_uri": "https://localhost:8080/"
        },
        "outputId": "f8178182-4d7d-433d-ef9a-f7b530b2288c"
      },
      "source": [
        "D_invers = np.linalg.inv(D)\n",
        "Tj = np.matmul(D, (L + U))\n",
        "Tj"
      ],
      "execution_count": null,
      "outputs": [
        {
          "output_type": "execute_result",
          "data": {
            "text/plain": [
              "array([[ 0.,  2., -2.],\n",
              "       [-4.,  0., -4.],\n",
              "       [ 2.,  2.,  0.]])"
            ]
          },
          "metadata": {},
          "execution_count": 17
        }
      ]
    },
    {
      "cell_type": "code",
      "metadata": {
        "id": "7hCHJERmS78c",
        "colab": {
          "base_uri": "https://localhost:8080/"
        },
        "outputId": "234c5501-c863-443f-b2ec-b31291c092a4"
      },
      "source": [
        "spectral_radius(Tj)"
      ],
      "execution_count": null,
      "outputs": [
        {
          "output_type": "execute_result",
          "data": {
            "text/plain": [
              "4.47213595499958"
            ]
          },
          "metadata": {},
          "execution_count": 18
        }
      ]
    },
    {
      "cell_type": "markdown",
      "metadata": {
        "id": "-Y_aHwNZTHPb"
      },
      "source": [
        "Karena $\\rho (T_J) > 1$ maka menghasilkan barisan solusi yang __divergen__."
      ]
    },
    {
      "cell_type": "markdown",
      "metadata": {
        "id": "Ke0ng2ooTf-B"
      },
      "source": [
        "* Untuk Gauss-Seidel"
      ]
    },
    {
      "cell_type": "markdown",
      "metadata": {
        "id": "GNWB3mE8T328"
      },
      "source": [
        "$T_{GS} = (D - L)^{-1} U$"
      ]
    },
    {
      "cell_type": "code",
      "metadata": {
        "id": "GbNARmj5TDtE",
        "colab": {
          "base_uri": "https://localhost:8080/"
        },
        "outputId": "32051c49-ccb9-4cfa-f6ea-f2a49a7097ab"
      },
      "source": [
        "DL_invers = np.linalg.inv((D-L))\n",
        "Tgs = np.matmul(DL_invers, U)\n",
        "Tgs"
      ],
      "execution_count": null,
      "outputs": [
        {
          "output_type": "execute_result",
          "data": {
            "text/plain": [
              "array([[ 0. ,  0.5, -0.5],\n",
              "       [ 0. , -0.5, -0.5],\n",
              "       [ 0. ,  0. , -0.5]])"
            ]
          },
          "metadata": {},
          "execution_count": 19
        }
      ]
    },
    {
      "cell_type": "code",
      "metadata": {
        "id": "i2ewoHgtUYBJ",
        "colab": {
          "base_uri": "https://localhost:8080/"
        },
        "outputId": "ed5ea044-81ca-4b2f-e04e-aa2ecfa797dc"
      },
      "source": [
        "spectral_radius(Tgs)"
      ],
      "execution_count": null,
      "outputs": [
        {
          "output_type": "execute_result",
          "data": {
            "text/plain": [
              "0.5"
            ]
          },
          "metadata": {},
          "execution_count": 20
        }
      ]
    },
    {
      "cell_type": "markdown",
      "metadata": {
        "id": "MXHtF_fnUd5B"
      },
      "source": [
        "Karena $\\rho (T_{GS}) < 1$ maka menghasilkan barisan solusi yang __konvergen__."
      ]
    },
    {
      "cell_type": "markdown",
      "metadata": {
        "id": "fu9_XwFeUrKZ"
      },
      "source": [
        "b."
      ]
    },
    {
      "cell_type": "code",
      "metadata": {
        "id": "VCAbP_VlUav9"
      },
      "source": [
        "A = np.array([[1, 2, -2],\n",
        "              [1, 1, 1],\n",
        "              [2, 2, 1]], dtype=np.double)\n",
        "b = np.array([7, 2, 5], dtype=np.double)"
      ],
      "execution_count": null,
      "outputs": []
    },
    {
      "cell_type": "code",
      "metadata": {
        "id": "EfDopPjAU-lO",
        "colab": {
          "base_uri": "https://localhost:8080/"
        },
        "outputId": "596fa784-6808-4358-8b6e-07b079002ed4"
      },
      "source": [
        "HasilGS = gauss_seidel(A, b, x0=np.zeros(A.shape[0]))\n",
        "HasilGS"
      ],
      "execution_count": null,
      "outputs": [
        {
          "output_type": "execute_result",
          "data": {
            "text/plain": [
              "(999, array([ 1.60887017e+304, -1.60940593e+304,  1.07150861e+301]))"
            ]
          },
          "metadata": {},
          "execution_count": 22
        }
      ]
    },
    {
      "cell_type": "code",
      "metadata": {
        "id": "UE0yRANyVVH8",
        "colab": {
          "base_uri": "https://localhost:8080/"
        },
        "outputId": "ed71774e-62c4-453a-b5eb-651319d8a580"
      },
      "source": [
        "HasilJ = jacobi1(A, b, x0=np.zeros(A.shape[0]))\n",
        "HasilJ"
      ],
      "execution_count": null,
      "outputs": [
        {
          "output_type": "execute_result",
          "data": {
            "text/plain": [
              "(2, array([ 1.,  2., -1.]))"
            ]
          },
          "metadata": {},
          "execution_count": 23
        }
      ]
    },
    {
      "cell_type": "markdown",
      "metadata": {
        "id": "ievDt9GMVb6J"
      },
      "source": [
        "Kenapa?"
      ]
    },
    {
      "cell_type": "code",
      "metadata": {
        "id": "CKy6e185ViTd",
        "colab": {
          "base_uri": "https://localhost:8080/"
        },
        "outputId": "292f32ce-4ac2-4404-9aa3-e7c929f45d15"
      },
      "source": [
        "D = diagonal(A)\n",
        "L = lower(A)\n",
        "U = upper(A)\n",
        "\n",
        "print(\"{} \\n\\n {} \\n\\n {}\".format(D, L, U))"
      ],
      "execution_count": null,
      "outputs": [
        {
          "output_type": "stream",
          "name": "stdout",
          "text": [
            "[[1. 0. 0.]\n",
            " [0. 1. 0.]\n",
            " [0. 0. 1.]] \n",
            "\n",
            " [[ 0.  0.  0.]\n",
            " [-1.  0.  0.]\n",
            " [-2. -2.  0.]] \n",
            "\n",
            " [[ 0. -2.  2.]\n",
            " [ 0.  0. -1.]\n",
            " [ 0.  0.  0.]]\n"
          ]
        }
      ]
    },
    {
      "cell_type": "markdown",
      "metadata": {
        "id": "3Bchk0oDVdUY"
      },
      "source": [
        "* Untuk Jacobi"
      ]
    },
    {
      "cell_type": "code",
      "metadata": {
        "id": "QxjWp0CaVYCu",
        "colab": {
          "base_uri": "https://localhost:8080/"
        },
        "outputId": "8b98072e-17a3-4423-84f9-b2b395d42459"
      },
      "source": [
        "D_invers = np.linalg.inv(D)\n",
        "Tj = np.matmul(D, (L + U))\n",
        "Tj"
      ],
      "execution_count": null,
      "outputs": [
        {
          "output_type": "execute_result",
          "data": {
            "text/plain": [
              "array([[ 0., -2.,  2.],\n",
              "       [-1.,  0., -1.],\n",
              "       [-2., -2.,  0.]])"
            ]
          },
          "metadata": {},
          "execution_count": 25
        }
      ]
    },
    {
      "cell_type": "code",
      "metadata": {
        "id": "XEbbg-4MVnEW",
        "colab": {
          "base_uri": "https://localhost:8080/"
        },
        "outputId": "f3130568-44c1-4ce0-c9dc-f5ddfa6de0f1"
      },
      "source": [
        "spectral_radius(Tj)"
      ],
      "execution_count": null,
      "outputs": [
        {
          "output_type": "execute_result",
          "data": {
            "text/plain": [
              "1.2332218361015282e-05"
            ]
          },
          "metadata": {},
          "execution_count": 26
        }
      ]
    },
    {
      "cell_type": "markdown",
      "metadata": {
        "id": "yyIF1fi-VvRW"
      },
      "source": [
        "Karena $\\rho (T_J) < 1$ maka menghasilkan barisan solusi yang __konvergen__."
      ]
    },
    {
      "cell_type": "markdown",
      "metadata": {
        "id": "QWKst_aXV2Cw"
      },
      "source": [
        "* Untuk Gauss-Seidel"
      ]
    },
    {
      "cell_type": "code",
      "metadata": {
        "id": "Kw4kqtoFVqqb",
        "colab": {
          "base_uri": "https://localhost:8080/"
        },
        "outputId": "55d91dc3-5639-4b2d-d9f9-e5ebfe0c5ded"
      },
      "source": [
        "DL_invers = np.linalg.inv((D-L))\n",
        "Tgs = np.matmul(DL_invers, U)\n",
        "Tgs"
      ],
      "execution_count": null,
      "outputs": [
        {
          "output_type": "execute_result",
          "data": {
            "text/plain": [
              "array([[ 0., -2.,  2.],\n",
              "       [ 0.,  2., -3.],\n",
              "       [ 0.,  0.,  2.]])"
            ]
          },
          "metadata": {},
          "execution_count": 27
        }
      ]
    },
    {
      "cell_type": "code",
      "metadata": {
        "id": "OrCtAXVlV6W4",
        "colab": {
          "base_uri": "https://localhost:8080/"
        },
        "outputId": "136ef737-dfe6-4f71-826a-81b29359522e"
      },
      "source": [
        "spectral_radius(Tgs)"
      ],
      "execution_count": null,
      "outputs": [
        {
          "output_type": "execute_result",
          "data": {
            "text/plain": [
              "2.0"
            ]
          },
          "metadata": {},
          "execution_count": 28
        }
      ]
    },
    {
      "cell_type": "markdown",
      "metadata": {
        "id": "d-KHINvsWAO5"
      },
      "source": [
        "Karena $\\rho (T_{GS}) > 1$ maka menghasilkan barisan solusi yang __divergen__."
      ]
    },
    {
      "cell_type": "markdown",
      "metadata": {
        "id": "OARIc50EWLKZ"
      },
      "source": [
        "4."
      ]
    },
    {
      "cell_type": "code",
      "metadata": {
        "id": "8wdMCUPKWyA6"
      },
      "source": [
        "import matplotlib.pyplot as plt"
      ],
      "execution_count": null,
      "outputs": []
    },
    {
      "cell_type": "code",
      "metadata": {
        "id": "pZ7CQiMBXOVT"
      },
      "source": [
        "def cubic_spline(data):\n",
        "  n = len(data) - 1\n",
        "\n",
        "  data = np.array(data)\n",
        "\n",
        "  # Nilai dari koef. a diketahui dari titik data atau input yaitu a_j = f(x_j)\n",
        "  a = [data[i, 1] for i in range(n+1)]\n",
        "  a = np.array(a)\n",
        "\n",
        "  h = [(data[i+1,0] - data[i,0]) for i in range(n)]\n",
        "  \n",
        "  # Membentuk matriks A\n",
        "  A = np.zeros((n+1,n+1))\n",
        "  for i in range(1, n):\n",
        "    for j in range(0, n):\n",
        "      if j < i:\n",
        "        for k in range(j):\n",
        "          A[i,k] = 0\n",
        "        A[i,j] = h[j-1]\n",
        "      elif j > i:\n",
        "        for k in range(j):\n",
        "          A[k,j] = 0\n",
        "        A[i,j] = h[j]\n",
        "        A[i+1, j+1] = h[j]\n",
        "      else:\n",
        "        A[i,i] = 2*(h[j-1] + h[j])\n",
        "  A[0, 0] = 1\n",
        "  A[n, n] = 1\n",
        "  A[:n-1, n] = 0\n",
        "\n",
        "  # Membentuk vektor b\n",
        "  b = np.zeros(n+1)\n",
        "  for i in range(1,n):\n",
        "    b[i] = (3/h[i]) * (a[i+1] - a[i]) - (3/h[i-1]) * (a[i] - a[i-1])\n",
        "\n",
        "  # Cari nilai koef. c dengan Gauss-Seidel\n",
        "  x0 = np.zeros(n+1)\n",
        "  iter, c = gauss_seidel(A, b, x0)\n",
        "\n",
        "  # Mencari koef. b dan d setelah koef. c didapatkan\n",
        "  d = np.zeros(n+1)\n",
        "  for i in range(n):\n",
        "    b[i] = (a[i+1] - a[i])/h[i] - h[i]*(c[i+1] + 2*c[i])/3\n",
        "    d[i] = (c[i+1] - c[i])/3*h[i]\n",
        "\n",
        "  return a, b, c, d, A"
      ],
      "execution_count": null,
      "outputs": []
    },
    {
      "cell_type": "code",
      "metadata": {
        "id": "qlkNA4vKV8jR",
        "colab": {
          "base_uri": "https://localhost:8080/"
        },
        "outputId": "251908e6-842c-4e05-e4f1-db649fc68b4a"
      },
      "source": [
        "x = np.array([0.9, 1.3, 1.9, 2.1, 2.6, 3.0, 3.9, 4.4, 4.7, 5.0, 6.0, 7.0, 8.0, 9.2, 10.5, 11.3, 11.6, 12.0, 12.6, 13.0, 13.3])\n",
        "y = np.array([1.3, 1.5, 1.85, 2.12, 2.6, 2.7, 2.4, 2.15, 2.05, 2.11, 2.25, 2.3, 2.26, 1.95, 1.4, 0.9, 0.7, 0.6, 0.5, 0.4, 0.25])\n",
        "\n",
        "data = [list(a) for a in zip(x, y)]\n",
        "data = np.array(data)\n",
        "data"
      ],
      "execution_count": null,
      "outputs": [
        {
          "output_type": "execute_result",
          "data": {
            "text/plain": [
              "array([[ 0.9 ,  1.3 ],\n",
              "       [ 1.3 ,  1.5 ],\n",
              "       [ 1.9 ,  1.85],\n",
              "       [ 2.1 ,  2.12],\n",
              "       [ 2.6 ,  2.6 ],\n",
              "       [ 3.  ,  2.7 ],\n",
              "       [ 3.9 ,  2.4 ],\n",
              "       [ 4.4 ,  2.15],\n",
              "       [ 4.7 ,  2.05],\n",
              "       [ 5.  ,  2.11],\n",
              "       [ 6.  ,  2.25],\n",
              "       [ 7.  ,  2.3 ],\n",
              "       [ 8.  ,  2.26],\n",
              "       [ 9.2 ,  1.95],\n",
              "       [10.5 ,  1.4 ],\n",
              "       [11.3 ,  0.9 ],\n",
              "       [11.6 ,  0.7 ],\n",
              "       [12.  ,  0.6 ],\n",
              "       [12.6 ,  0.5 ],\n",
              "       [13.  ,  0.4 ],\n",
              "       [13.3 ,  0.25]])"
            ]
          },
          "metadata": {},
          "execution_count": 31
        }
      ]
    },
    {
      "cell_type": "code",
      "metadata": {
        "id": "6C-2eEZ9WwC9",
        "colab": {
          "base_uri": "https://localhost:8080/"
        },
        "outputId": "0474d063-d64d-422b-ee87-89d0615d2d0d"
      },
      "source": [
        "# Cari koef. untuk S\n",
        "import pprint\n",
        "pp = pprint.PrettyPrinter(indent=2, compact=True)\n",
        "a,b,c,d, A = cubic_spline(data)\n",
        "\n",
        "P = [a,b,c,d]\n",
        "pp.pprint(P)"
      ],
      "execution_count": null,
      "outputs": [
        {
          "output_type": "stream",
          "name": "stdout",
          "text": [
            "[ array([1.3 , 1.5 , 1.85, 2.12, 2.6 , 2.7 , 2.4 , 2.15, 2.05, 2.11, 2.25,\n",
            "       2.3 , 2.26, 1.95, 1.4 , 0.9 , 0.7 , 0.6 , 0.5 , 0.4 , 0.25]),\n",
            "  array([ 0.50867103,  0.22927812,  1.19189293,  1.56531556,  0.5232126 ,\n",
            "        0.00299365, -0.47774079, -0.5013043 , -0.07292301,  0.30322867,\n",
            "        0.08678753,  0.01441943, -0.1334637 , -0.32538813, -0.51773512,\n",
            "       -0.73247255, -0.51355467, -0.15157408, -0.16927086, -0.39666192,\n",
            "        0.        ]),\n",
            "  array([ 0.        , -0.06503275,  1.90034154, -1.4290771 , -0.77373917,\n",
            "       -0.50161617, -0.1178576 ,  0.10215994,  1.4753898 , -0.2215495 ,\n",
            "       -0.04658699, -0.01718862, -0.12888106, -0.05441196, -0.11661175,\n",
            "       -0.16901982,  0.99609847, -0.01553695, -0.04438905, -0.51669041,\n",
            "        0.        ]),\n",
            "  array([-0.00867103,  0.39307486, -0.22196124,  0.10922299,  0.03628307,\n",
            "        0.11512757,  0.03666959,  0.13732299, -0.16969393,  0.05832084,\n",
            "        0.00979946, -0.03723081,  0.02978764, -0.02695324, -0.01397548,\n",
            "        0.11651183, -0.13488472, -0.00577042, -0.06297351,  0.05166904,\n",
            "        0.        ])]\n"
          ]
        }
      ]
    },
    {
      "cell_type": "code",
      "metadata": {
        "id": "iFqE2u9CcB0S"
      },
      "source": [
        "n = len(data)\n",
        "S = [(lambda x, j = j: a[j] + b[j]*(x - data[j,0]) + c[j]*((x - data[j,0])**2) + d[j]*((x - data[j,0])**3)) for j in range(n-1)]"
      ],
      "execution_count": null,
      "outputs": []
    },
    {
      "cell_type": "code",
      "metadata": {
        "id": "dpT7JpdvcbHC",
        "colab": {
          "base_uri": "https://localhost:8080/",
          "height": 283
        },
        "outputId": "02d179db-4a7a-46ec-91c7-9b0b9a7fcfed"
      },
      "source": [
        "interval = [np.linspace(data[i,0], data[i+1, 0], 100) for i in range(n-1)]\n",
        "plt.scatter(data[:,0], data[:,1], c='red', label='titik data')\n",
        "for i in range(n-1):\n",
        "  plt.plot(interval[i], S[i](interval[i]), 'b')\n",
        "\n",
        "plt.xlabel('$x$')\n",
        "plt.ylabel('$f(x)$')\n",
        "plt.ylim([-4, 4]);\n",
        "plt.legend();"
      ],
      "execution_count": null,
      "outputs": [
        {
          "output_type": "display_data",
          "data": {
            "image/png": "[encoded data removed]",
            "text/plain": [
              "<Figure size 432x288 with 1 Axes>"
            ]
          },
          "metadata": {
            "needs_background": "light"
          }
        }
      ]
    },
    {
      "cell_type": "code",
      "metadata": {
        "id": "t6D-c8g7dK5P"
      },
      "source": [
        ""
      ],
      "execution_count": null,
      "outputs": []
    }
  ]
}