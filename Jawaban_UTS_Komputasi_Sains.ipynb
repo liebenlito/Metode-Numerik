{
  "nbformat": 4,
  "nbformat_minor": 0,
  "metadata": {
    "colab": {
      "name": "Jawaban UTS Komputasi Sains.ipynb",
      "provenance": [],
      "authorship_tag": "ABX9TyM6pv/8Db7+kbf3ucHrZ/jP"
    },
    "kernelspec": {
      "name": "python3",
      "display_name": "Python 3"
    },
    "language_info": {
      "name": "python"
    }
  },
  "cells": [
    {
      "cell_type": "code",
      "metadata": {
        "id": "hOG1x-9QJLpQ"
      },
      "source": [
        ""
      ],
      "execution_count": null,
      "outputs": []
    }
  ]
}