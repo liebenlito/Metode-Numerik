{
  "nbformat": 4,
  "nbformat_minor": 0,
  "metadata": {
    "kernelspec": {
      "display_name": "Python 3",
      "language": "python",
      "name": "python3"
    },
    "language_info": {
      "codemirror_mode": {
        "name": "ipython",
        "version": 3
      },
      "file_extension": ".py",
      "mimetype": "text/x-python",
      "name": "python",
      "nbconvert_exporter": "python",
      "pygments_lexer": "ipython3",
      "version": "3.8.7"
    },
    "colab": {
      "name": "Bilangan Floating Point.ipynb",
      "provenance": []
    }
  },
  "cells": [
    {
      "cell_type": "code",
      "metadata": {
        "id": "HBLwch6m2qVk"
      },
      "source": [
        "%matplotlib inline\n",
        "import numpy\n",
        "import matplotlib.pyplot as plt"
      ],
      "execution_count": 1,
      "outputs": []
    },
    {
      "cell_type": "markdown",
      "metadata": {
        "id": "90ifpq552qVm"
      },
      "source": [
        "### Sistem Floating-Point\n",
        "\n",
        "Bilangan di sistem floating-point direpresentasikan sebagai deret dari bit dimana bit-bit tersebut merepresentasikan suatu angka yang berbeda. Secara umum, sistem floating-point ternormalisasi dapat ditulis sebagai \n",
        "\n",
        "$$F = \\pm d_1 . d_2 d_3 d_4 \\ldots d_p \\times \\beta^E$$\n",
        "\n",
        "dimana\n",
        "1. $\\pm$ adalah bit yang merepresentasikan tanda dari bilangan\n",
        "2. $d_1 . d_2 d_3 d_4 \\ldots d_t$ disebut *mantissa*.  The digits $d_2 d_3 d_4 \\ldots d_p$ disebut the *fraction/fraksi* dengan $t$ digit presisi.  Sistem ternormalisasi secara spesifik $d_1 \\neq 0$ kecuali bilangan tersebut adalah $0$.\n",
        "3. $\\beta$ adalah *basis*.  Untuk binary $\\beta = 2$, untuk desimal $\\beta = 10$, dst.\n",
        "4. $E$ adalah *eksponen*, suatu bilangan bulat antara $[E_{\\min}, E_{\\max}]$.\n",
        "\n",
        "Bagian penting dalam sistem floating-point yaitu\n",
        "1. Terdapat himpunan diskrit dan berhingga yang merepresentasikan suatu bilangan\n",
        "2. Dapat merepresentasikan bilangan yang tidak terdisrtibusi secara teratur pada garis bilangan (real)\n",
        "3. Aritmatika di dalam sistem floating-point menghasilkan hasil yang berbeda dibandingkan dengan aritmatika di dalam sistem bilangan real\n",
        "\n",
        "Sifat-Sifat dari sistem floating-point\n",
        "\n",
        "Semua sistem floating-point juga berupa beberapa bilangan yang penting:\n",
        " - Bilangan ternormalisasi terkecil (underflow)\n",
        " - Bilangan ternormalisasi terbesar (overflow)\n",
        " - Nol\n",
        " - Machine $\\epsilon$ atau $\\epsilon_{\\text{machine}}$\n",
        " - `inf` dan `nan`, tak hingga dan **N**ot **a** **N**umber"
      ]
    },
    {
      "cell_type": "markdown",
      "metadata": {
        "id": "GNuqAa7e2qVn"
      },
      "source": [
        "Contoh:\n",
        "Misalkan terdapat sistem desimal 2-digit (ternormalisasi)\n",
        "$$f = \\pm d_1 . d_2 \\times 10^E$$\n",
        "dengan $E \\in [-2, 0]$.\n",
        "\n",
        "**Bilangan dan distribusi dari bilangan**\n",
        "1. Berapa banyak bilangan yang dapat direpresentasikan dengan sistem ini?\n",
        "\n",
        "2. Bagaimana distribusinya pada garis bilangan \"real\"?\n",
        "\n",
        "3. Apa nilai dari underflow dan overflow?\n"
      ]
    },
    {
      "cell_type": "markdown",
      "metadata": {
        "id": "1KSHMON82qVn"
      },
      "source": [
        "Berapa banyak bilangan yang dapat direpresentasikan dengan sistem ini?\n",
        "\n",
        "$$\n",
        "    f = \\pm d_1 . d_2 \\times 10^E ~~~  E \\in [-2, 0]\n",
        "$$\n",
        "\n",
        "$$ \n",
        "    2 \\times 9 \\times 10 \\times 3 + 1 = 541\n",
        "$$"
      ]
    },
    {
      "cell_type": "code",
      "metadata": {
        "colab": {
          "base_uri": "https://localhost:8080/",
          "height": 132
        },
        "id": "vo-19YHJ2qVn",
        "outputId": "dd9604c4-cec2-4a88-96e3-27e2437841b9"
      },
      "source": [
        "nilai_d1 = [1, 2, 3, 4, 5, 6, 7, 8, 9]\n",
        "nilai_d2 = [0, 1, 2, 3, 4, 5, 6, 7, 8, 9]\n",
        "nilai_E = [0, -1, -2]\n",
        "\n",
        "fig = plt.figure(figsize=(10.0, 1.0))\n",
        "ax = fig.add_subplot(1, 1, 1)\n",
        "\n",
        "for E in nilai_E:\n",
        "    for d1 in nilai_d1:\n",
        "        for d2 in nilai_d2:\n",
        "            ax.plot( (d1 + d2 * 0.1) * 10**E, 0.0, 'r+', markersize=20)\n",
        "            ax.plot(-(d1 + d2 * 0.1) * 10**E, 0.0, 'r+', markersize=20)\n",
        "            \n",
        "ax.plot(0.0, 0.0, '+', markersize=20)\n",
        "ax.plot([-10.0, 10.0], [0.0, 0.0], 'k')\n",
        "\n",
        "ax.set_title(\"Distribusi Nilai\")\n",
        "ax.set_yticks([])\n",
        "ax.set_xlabel(\"x\")\n",
        "ax.set_ylabel(\"\")\n",
        "ax.set_xlim([-2, 2])\n",
        "plt.show()"
      ],
      "execution_count": 12,
      "outputs": [
        {
          "output_type": "display_data",
          "data": {
            "image/png": "[encoded data removed]",
            "text/plain": [
              "<Figure size 720x72 with 1 Axes>"
            ]
          },
          "metadata": {
            "needs_background": "light"
          }
        }
      ]
    },
    {
      "cell_type": "markdown",
      "metadata": {
        "id": "3GmMLEVG2qVo"
      },
      "source": [
        "Apa nilai dari underflow dan overflow?\n",
        "\n",
        "Bilangan terkecil dapat direpresentasikan dengan underflow:  $1.0 \\times 10^{-2} = 0.5$\n",
        "\n",
        "Bilangan terbesar dapat direpresentasikan dengan overflow:  $1.9 \\times 10^0 = 1.9$\n",
        "\n",
        "Catatan bahwa semua sistem floating-point IEEE 754 menggunakan bilangan binari.  \n",
        "\n",
        "Cara cepat:\n",
        "$$\n",
        "    2^3 2^2 2^1 2^0 . 2^{-1} 2^{-2} 2^{-3}\n",
        "$$\n",
        "melambangkan 8, 4, 2, 1 . 1/2, 1/4, 1/8, ..."
      ]
    },
    {
      "cell_type": "markdown",
      "metadata": {
        "id": "d402AdGT2qVo"
      },
      "source": [
        "### Real Systems - IEEE 754 Binary Floating Point Systems\n",
        "\n",
        "#### Single Precision\n",
        " - Total storage yang dialokasi adalah 32 bit\n",
        " - Eksponen is 8 bit $\\Rightarrow E \\in [-126, 127]$\n",
        " - Fraksi 23 bit ($p = 24$)\n",
        " \n",
        "```\n",
        "s EEEEEEEE FFFFFFFFFFFFFFFFFFFFFFF\n",
        "0 1      8 9                     31\n",
        "```\n",
        "* Overflow $= 2^{127} \\approx 3.4 \\times 10^{38}$\n",
        "* Underflow $= 2^{-126} \\approx 1.2 \\times 10^{-38}$\n",
        "* $\\epsilon_{\\text{machine}} = 2^{-23} \\approx 1.2 \\times 10^{-7}$"
      ]
    },
    {
      "cell_type": "markdown",
      "metadata": {
        "id": "gAX-nGgT2qVo"
      },
      "source": [
        "#### Double Precision\n",
        " - Total storage yang dialokasi adalah 64 bit\n",
        " - Eksponen is 11 bit $\\Rightarrow E \\in [-1022, 1024]$\n",
        " - Fraksi 52 bit ($p = 53$)\n",
        " \n",
        "```\n",
        "s EEEEEEEEEE FFFFFFFFFF FFFFFFFFFF FFFFFFFFFF FFFFFFFFFF FFFFFFFFFF FF\n",
        "0 1       11 12                                                      63\n",
        "```\n",
        "* Overflow $= 2^{1024} \\approx 1.8 \\times 10^{308}$\n",
        "* Underflow $= 2^{-1022} \\approx 2.2 \\times 10^{-308}$\n",
        "* $\\epsilon_{\\text{machine}} = 2^{-52} \\approx 2.2 \\times 10^{-16}$"
      ]
    },
    {
      "cell_type": "markdown",
      "metadata": {
        "id": "7fP1PhBD2qVo"
      },
      "source": [
        "### IEEE Numbers di Python\n",
        "\n",
        "Informasi mengenai parameter-parameter penting terkait dengan sistem floating-point, seperti machine epsilon:\n",
        "\n",
        "```python\n",
        "import numpy\n",
        "numpy.finfo(float).eps\n",
        "```"
      ]
    },
    {
      "cell_type": "code",
      "metadata": {
        "colab": {
          "base_uri": "https://localhost:8080/"
        },
        "id": "AVqZvYLa2qVp",
        "outputId": "f68eeb36-8901-419e-b631-5d8a48ed917c"
      },
      "source": [
        "print(numpy.finfo(numpy.float16))\n",
        "print(numpy.finfo(numpy.float32))"
      ],
      "execution_count": 3,
      "outputs": [
        {
          "output_type": "stream",
          "name": "stdout",
          "text": [
            "Machine parameters for float16\n",
            "---------------------------------------------------------------\n",
            "precision =   3   resolution = 1.00040e-03\n",
            "machep =    -10   eps =        9.76562e-04\n",
            "negep =     -11   epsneg =     4.88281e-04\n",
            "minexp =    -14   tiny =       6.10352e-05\n",
            "maxexp =     16   max =        6.55040e+04\n",
            "nexp =        5   min =        -max\n",
            "---------------------------------------------------------------\n",
            "\n",
            "Machine parameters for float32\n",
            "---------------------------------------------------------------\n",
            "precision =   6   resolution = 1.0000000e-06\n",
            "machep =    -23   eps =        1.1920929e-07\n",
            "negep =     -24   epsneg =     5.9604645e-08\n",
            "minexp =   -126   tiny =       1.1754944e-38\n",
            "maxexp =    128   max =        3.4028235e+38\n",
            "nexp =        8   min =        -max\n",
            "---------------------------------------------------------------\n",
            "\n"
          ]
        }
      ]
    },
    {
      "cell_type": "code",
      "metadata": {
        "colab": {
          "base_uri": "https://localhost:8080/"
        },
        "id": "XgTGhpLA2qVp",
        "outputId": "e0a14cd0-0b80-4962-c2c0-920d0cfebc8d"
      },
      "source": [
        "print(numpy.finfo(float))"
      ],
      "execution_count": 4,
      "outputs": [
        {
          "output_type": "stream",
          "name": "stdout",
          "text": [
            "Machine parameters for float64\n",
            "---------------------------------------------------------------\n",
            "precision =  15   resolution = 1.0000000000000001e-15\n",
            "machep =    -52   eps =        2.2204460492503131e-16\n",
            "negep =     -53   epsneg =     1.1102230246251565e-16\n",
            "minexp =  -1022   tiny =       2.2250738585072014e-308\n",
            "maxexp =   1024   max =        1.7976931348623157e+308\n",
            "nexp =       11   min =        -max\n",
            "---------------------------------------------------------------\n",
            "\n"
          ]
        }
      ]
    },
    {
      "cell_type": "markdown",
      "metadata": {
        "id": "ieVNdyBf2qVp"
      },
      "source": [
        "### Contoh"
      ]
    },
    {
      "cell_type": "code",
      "metadata": {
        "colab": {
          "base_uri": "https://localhost:8080/"
        },
        "id": "Ul52yZi32qVq",
        "outputId": "e70fd788-84a8-4428-80f3-098efafe57e0"
      },
      "source": [
        "eps = numpy.finfo(float).eps\n",
        "MAX = numpy.finfo(float).max\n",
        "print('eps = {}'.format(eps))\n",
        "print('MAX = {}'.format(MAX))"
      ],
      "execution_count": 5,
      "outputs": [
        {
          "output_type": "stream",
          "name": "stdout",
          "text": [
            "eps = 2.220446049250313e-16\n",
            "MAX = 1.7976931348623157e+308\n"
          ]
        }
      ]
    },
    {
      "cell_type": "markdown",
      "metadata": {
        "id": "iZfKayrt2qVq"
      },
      "source": [
        "Tunjukan bahwa $(1 + \\epsilon_{mach}) > 1$"
      ]
    },
    {
      "cell_type": "code",
      "metadata": {
        "colab": {
          "base_uri": "https://localhost:8080/"
        },
        "id": "YLrXJjqm2qVq",
        "outputId": "21fde064-1297-41eb-ade8-dbebac16da6a"
      },
      "source": [
        "print(MAX*1)\n",
        "print(MAX*(1+eps))"
      ],
      "execution_count": 6,
      "outputs": [
        {
          "output_type": "stream",
          "name": "stdout",
          "text": [
            "1.7976931348623157e+308\n",
            "inf\n"
          ]
        },
        {
          "output_type": "stream",
          "name": "stderr",
          "text": [
            "/usr/local/lib/python3.7/dist-packages/ipykernel_launcher.py:2: RuntimeWarning: overflow encountered in double_scalars\n",
            "  \n"
          ]
        }
      ]
    },
    {
      "cell_type": "markdown",
      "metadata": {
        "id": "4m0aDzzd2qVq"
      },
      "source": [
        "![image.png](attachment:image.png)"
      ]
    },
    {
      "cell_type": "markdown",
      "metadata": {
        "id": "LxoxGsqb2qVq"
      },
      "source": [
        "## Kenapa kita perlu mengetahuinya?\n",
        "\n",
        " - Aritmatika Floating point tidak komutatif atau asosiatif\n",
        " - Mencampur presisi berbahaya"
      ]
    },
    {
      "cell_type": "markdown",
      "metadata": {
        "id": "j-A7P-oH2qVr"
      },
      "source": [
        "### Contoh 1: Aritmatika Sederhana\n",
        " \n",
        "Aritmatika sederhana $\\delta < \\epsilon_{\\text{machine}}$\n",
        "\n",
        "   $$(1+\\delta) - 1 = 1 - 1 = 0$$\n",
        "\n",
        "   $$1 - 1 + \\delta = \\delta$$"
      ]
    },
    {
      "cell_type": "code",
      "metadata": {
        "colab": {
          "base_uri": "https://localhost:8080/"
        },
        "id": "VNi8BDJ12qVr",
        "outputId": "180f85eb-8899-49ac-98ed-f23690992c27"
      },
      "source": [
        "eps = numpy.finfo(float).eps\n",
        "delta = 0.5*eps\n",
        "print('eps =   {},  1 + eps   > 1 is {}'.format(eps,((1. + eps) > 1.)))\n",
        "print('delta = {}, 1 + delta > 1 is {}'.format(delta,((1. + delta) > 1.)))\n",
        "x = 1+delta  -1\n",
        "y = 1 - 1 + delta\n",
        "print()\n",
        "print('1 + delta - 1 = {}'.format(x))\n",
        "print('1 - 1 + delta = {}'.format(y))"
      ],
      "execution_count": 7,
      "outputs": [
        {
          "output_type": "stream",
          "name": "stdout",
          "text": [
            "eps =   2.220446049250313e-16,  1 + eps   > 1 is True\n",
            "delta = 1.1102230246251565e-16, 1 + delta > 1 is False\n",
            "\n",
            "1 + delta - 1 = 0.0\n",
            "1 - 1 + delta = 1.1102230246251565e-16\n"
          ]
        }
      ]
    },
    {
      "cell_type": "code",
      "metadata": {
        "colab": {
          "base_uri": "https://localhost:8080/",
          "height": 54
        },
        "id": "RsSHZaLj2qVr",
        "outputId": "f15601cc-db58-4a68-bbac-2cb30e928b85"
      },
      "source": [
        "import sympy\n",
        "sympy.init_printing(pretty_print=True)\n",
        "x = sympy.symbols('x')\n",
        "f = sympy.exp(x)\n",
        "f.series(x0=0, n=3)"
      ],
      "execution_count": 8,
      "outputs": [
        {
          "output_type": "execute_result",
          "data": {
            "image/png": "[encoded data removed]",
            "text/latex": "$\\displaystyle 1 + x + \\frac{x^{2}}{2} + O\\left(x^{3}\\right)$",
            "text/plain": [
              "         2        \n",
              "        x     ⎛ 3⎞\n",
              "1 + x + ── + O⎝x ⎠\n",
              "        2         "
            ]
          },
          "metadata": {},
          "execution_count": 8
        }
      ]
    },
    {
      "cell_type": "code",
      "metadata": {
        "colab": {
          "base_uri": "https://localhost:8080/"
        },
        "id": "swP-GFRU2qVr",
        "outputId": "435609e6-8b12-49f5-855a-9d2e48e2144e"
      },
      "source": [
        "x = 1.\n",
        "Tn = 1 + x + x**2/2 # solusi aproksimasi dari f(x) = e^x\n",
        "f = numpy.exp(1.) # nilai eksak\n",
        "E_t = numpy.abs(f - Tn) # nilai error absolut\n",
        "epsilon_t = E_t/f # nilai error relatif\n",
        "print(\"T_n = {}, E_t = {}, epsilon_t = {}\". format(Tn, E_t, epsilon_t))"
      ],
      "execution_count": 9,
      "outputs": [
        {
          "output_type": "stream",
          "name": "stdout",
          "text": [
            "T_n = 2.5, E_t = 0.2182818284590451, epsilon_t = 0.08030139707139415\n"
          ]
        }
      ]
    },
    {
      "cell_type": "code",
      "metadata": {
        "colab": {
          "base_uri": "https://localhost:8080/",
          "height": 410
        },
        "id": "atAXtSfi2qVr",
        "outputId": "bcbe766f-ae83-4773-d2f6-de97eb724ac4"
      },
      "source": [
        "x = numpy.linspace(-1, 1, 100) # membuat sumbu-x\n",
        "f = numpy.exp(x) # nilai eksak\n",
        "T_N = 1.0 + x + x**2/2.0 \n",
        "R_N = numpy.exp(1) * x**3/6.0\n",
        "\n",
        "plt.figure(figsize=(8,6))\n",
        "plt.plot(x, T_N, 'r', x, f, 'b', x, R_N, 'g')\n",
        "plt.plot(x, numpy.exp(x) - T_N, 'g--')\n",
        "plt.plot(0.0, 1.0, 'o', markersize=10)\n",
        "plt.grid()\n",
        "plt.xlabel('x', fontsize=16)\n",
        "plt.ylabel(\"$f(x)$, $T_N(x)$, $R_N(x)$\", fontsize=16)\n",
        "plt.legend([\"$T_N(x)$\", \"$f(x)$\", \"$R_N(x)$\", \"$E_t(x)$\"], loc=2)\n",
        "plt.show"
      ],
      "execution_count": 10,
      "outputs": [
        {
          "output_type": "execute_result",
          "data": {
            "text/plain": [
              "<function matplotlib.pyplot.show>"
            ]
          },
          "metadata": {},
          "execution_count": 10
        },
        {
          "output_type": "display_data",
          "data": {
            "image/png": "[encoded data removed]",
            "text/plain": [
              "<Figure size 576x432 with 1 Axes>"
            ]
          },
          "metadata": {
            "needs_background": "light"
          }
        }
      ]
    },
    {
      "cell_type": "code",
      "metadata": {
        "id": "_eWM0WaR2qVs"
      },
      "source": [
        ""
      ],
      "execution_count": 10,
      "outputs": []
    }
  ]
}