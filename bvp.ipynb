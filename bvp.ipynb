{
  "nbformat": 4,
  "nbformat_minor": 0,
  "metadata": {
    "colab": {
      "name": "bvp.ipynb",
      "provenance": [],
      "authorship_tag": "ABX9TyMC3T7o+PIRm9wjm10Mmkuo"
    },
    "kernelspec": {
      "name": "python3",
      "display_name": "Python 3"
    },
    "language_info": {
      "name": "python"
    }
  },
  "cells": [
    {
      "cell_type": "markdown",
      "metadata": {
        "id": "YFi1sgQRF_V1"
      },
      "source": [
        "$$\n",
        "y′′ + ∣ y ∣ = 0 y ( x = 0 ) = 0.5 y ( x = 4 ) = − 1.5\n",
        "$$\n",
        "\n",
        "$$\n",
        "\\begin{cases} \n",
        "  \\begin{aligned} \n",
        "    &y\\ ''+ \\left| y \\right| = 0\\\\ &y(x=0) = 0.5\\\\ &y(x=4) = -1.5 \n",
        "    \\end{aligned} \n",
        "  \\end{cases}\n",
        "$$"
      ]
    },
    {
      "cell_type": "markdown",
      "metadata": {
        "id": "AJO3G0ewGaWt"
      },
      "source": [
        "$$\n",
        " 0 = y , y 1 = y   ′ y0 = y,y1 = y\\ ' y0=y,y1=y ′\n",
        "$$"
      ]
    },
    {
      "cell_type": "code",
      "metadata": {
        "id": "v6vp1uEsFrP4"
      },
      "source": [
        ""
      ],
      "execution_count": null,
      "outputs": []
    }
  ]
}