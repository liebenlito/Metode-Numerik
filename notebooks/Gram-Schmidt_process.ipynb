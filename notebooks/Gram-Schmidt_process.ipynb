{
 "cells": [
  {
   "cell_type": "markdown",
   "metadata": {},
   "source": [
    "## Proses Gram-Schmidt\n",
    "Proses Gram-Schmidt digunakan untuk mencari himpunan vektor yang orthogonal atau basis orthonormal.\n",
    "1. Diberikan suatu himpunan vektor yang bebas linear: input $\\textbf{v}_1, \\textbf{v}_2, \\cdots, \\textbf{v}_n$.\n",
    "2. Inisialisasi vektor basis pertama: $\\textbf{u}_1 = \\textbf{v}_1$.\n",
    "3. Orthogonalisasi: \n",
    "   $$ \\textbf{u}_i = \\textbf{v}_i - \\sum_{j=1}^{i-1} \\text{proj}_{\\textbf{u}_j} (\\textbf{v}_i)$$\n",
    "   dimana:\n",
    "   $$\\text{proj}_{\\textbf{u}_j} (\\textbf{v}_i) = \\frac{\\langle \\textbf{v}_i, \\textbf{u}_j \\rangle}{\\langle \\textbf{u}_i, \\textbf{u}_j \\rangle} \\textbf{u}_j$$ \n",
    "4. Normalisasi vektor:\n",
    "   $$\\textbf{e}_i = \\frac{\\textbf{u}_i}{\\lVert \\textbf{u}_i \\rVert}$$\n",
    "5. Hasilnya adalah basis orthonormal $\\textbf{e}_1, \\textbf{e}_2, \\cdots, \\textbf{e}_n$"
   ]
  },
  {
   "cell_type": "code",
   "execution_count": 1,
   "metadata": {},
   "outputs": [],
   "source": [
    "import numpy as np"
   ]
  },
  {
   "cell_type": "code",
   "execution_count": 4,
   "metadata": {},
   "outputs": [],
   "source": [
    "def gram_schmidt_process(vektor):\n",
    "    basis_orthonormal = []\n",
    "    for v in vektor:\n",
    "        v = np.array(v, dtype=np.float32)\n",
    "\n",
    "        # orthognalisasi\n",
    "        for u in basis_orthonormal:\n",
    "            v -= np.dot(v, u) * u\n",
    "\n",
    "        # normalisasi vektor\n",
    "        norm = np.linalg.norm(v)\n",
    "        basis_orthonormal.append(v/norm)\n",
    "    return basis_orthonormal"
   ]
  },
  {
   "cell_type": "code",
   "execution_count": 5,
   "metadata": {},
   "outputs": [
    {
     "data": {
      "text/plain": [
       "[array([1., 0., 0.], dtype=float32),\n",
       " array([0., 1., 0.], dtype=float32),\n",
       " array([0., 0., 1.], dtype=float32)]"
      ]
     },
     "execution_count": 5,
     "metadata": {},
     "output_type": "execute_result"
    }
   ],
   "source": [
    "v = [[1,0,0], [1,1,0], [1,1,1]]\n",
    "basis_orthonormal = gram_schmidt_process(v)\n",
    "basis_orthonormal"
   ]
  },
  {
   "cell_type": "code",
   "execution_count": null,
   "metadata": {},
   "outputs": [],
   "source": []
  }
 ],
 "metadata": {
  "kernelspec": {
   "display_name": "base",
   "language": "python",
   "name": "python3"
  },
  "language_info": {
   "codemirror_mode": {
    "name": "ipython",
    "version": 3
   },
   "file_extension": ".py",
   "mimetype": "text/x-python",
   "name": "python",
   "nbconvert_exporter": "python",
   "pygments_lexer": "ipython3",
   "version": "3.9.16"
  }
 },
 "nbformat": 4,
 "nbformat_minor": 2
}
