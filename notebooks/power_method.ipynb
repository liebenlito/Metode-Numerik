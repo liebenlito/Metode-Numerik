{
 "cells": [
  {
   "cell_type": "markdown",
   "metadata": {},
   "source": [
    "## Algoritma Power Method\n",
    "\n",
    "1. Inisialisasi: input sebarang vektor $\\textbf{x}_0 \\neq 0$\n",
    "2. Update vektor: \n",
    "   $$\\textbf{x}_{k+1} = A\\textbf{x}_k$$\n",
    "3. Normalisasi vektor:\n",
    "   $$\\textbf{x}_{k+1} = \\frac{\\textbf{x}_{k+1}}{\\lVert \\textbf{x}_{k+1} \\rVert}$$\n",
    "4. Estimasi eigenvalue yang dominan menggunakan teknik **Rayleigh Quotient**:\n",
    "   $$\\lambda = \\frac{\\textbf{x}_{k}^T A \\textbf{x}_{k}}{\\textbf{x}_{k}^T \\textbf{x}_{k}}$$\n",
    "5. Ulangi langkah di atas sampai $\\varepsilon < 10^{-10}$ atau sampai mencapai batas toleransi. "
   ]
  },
  {
   "cell_type": "code",
   "execution_count": 15,
   "metadata": {},
   "outputs": [],
   "source": [
    "import numpy as np\n",
    "\n",
    "def power_method(A, max_iter=100, tol=1e-10):\n",
    "    n = A.shape[0]\n",
    "\n",
    "    # inisialisasi sebarang vektor\n",
    "    x = np.random.rand(n)\n",
    "\n",
    "    # normalisasi vektor\n",
    "    x = x / np.linalg.norm(x, np.inf)\n",
    "\n",
    "    eigenvalue = 0\n",
    "    for _ in range(max_iter):\n",
    "        x_baru = np.dot(A, x)\n",
    "        # normalisasi\n",
    "        x_baru = x_baru / np.linalg.norm(x_baru, np.inf)\n",
    "        # estimasi eigenvalue\n",
    "        eigenvalue_baru = np.dot(x_baru.T, np.dot(A, x_baru))\n",
    "\n",
    "        if np.abs(eigenvalue - eigenvalue_baru) < tol:\n",
    "            break\n",
    "        \n",
    "        eigenvalue = eigenvalue_baru\n",
    "        x = x_baru\n",
    "\n",
    "    return eigenvalue, x\n"
   ]
  },
  {
   "cell_type": "code",
   "execution_count": 16,
   "metadata": {},
   "outputs": [],
   "source": [
    "A = np.array([\n",
    "    [-4, 14, 0],\n",
    "    [-5, 13, 0],\n",
    "    [-1, 0, 2]\n",
    "])"
   ]
  },
  {
   "cell_type": "code",
   "execution_count": 17,
   "metadata": {},
   "outputs": [
    {
     "name": "stdout",
     "output_type": "stream",
     "text": [
      "Dominant eigenvalue = 9.436224489980292\n",
      "Vektor eigen = [ 1.          0.71428571 -0.25      ]\n"
     ]
    }
   ],
   "source": [
    "eigenvalue, eigenvector = power_method(A)\n",
    "print(f\"Dominant eigenvalue = {eigenvalue}\")\n",
    "print(f\"Vektor eigen = {eigenvector}\")"
   ]
  },
  {
   "cell_type": "code",
   "execution_count": null,
   "metadata": {},
   "outputs": [],
   "source": []
  }
 ],
 "metadata": {
  "kernelspec": {
   "display_name": "base",
   "language": "python",
   "name": "python3"
  },
  "language_info": {
   "codemirror_mode": {
    "name": "ipython",
    "version": 3
   },
   "file_extension": ".py",
   "mimetype": "text/x-python",
   "name": "python",
   "nbconvert_exporter": "python",
   "pygments_lexer": "ipython3",
   "version": "3.9.16"
  }
 },
 "nbformat": 4,
 "nbformat_minor": 2
}
