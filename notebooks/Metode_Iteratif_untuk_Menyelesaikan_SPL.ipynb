{
  "cells": [
    {
      "cell_type": "markdown",
      "metadata": {
        "id": "upyQQoXOgkl2"
      },
      "source": [
        "# Metode Iteratif untuk Menyelesaikan Sistem Persamaan Linear\n",
        "\n",
        "Terdapat dua teknik untuk menyelesaikan Sistem Persamaan Linear (SPL) yaitu metode langsung dan metode iteratif. Metode langsung seperti eliminasi Gauss, memiliki beberapa kelemahan diantaranya:\n",
        "* Tidak memiliki perbaikan dari error yang dihasilkan. Hal ini dikarenakan, metode ini terlalu mirip dengan solusi eksaknya. Akibatnya, metode ini rentan atau sensitif terhadap error pembulatan. \n",
        "* Operasi yang dibutuhkan oleh metode langsung dinotasikan dengan $O(n^3)$. Ini berarti, semakin besar $n$ atau ukuran matriksnya, maka akan semakin lama waktu eksekusinya."
      ]
    },
    {
      "cell_type": "markdown",
      "metadata": {
        "id": "BbTrJiP2iass"
      },
      "source": [
        "## Metode Jacobi\n",
        "\n",
        "Metode Jacobi dibangun dengan menggunakan dua asumsi:\n",
        "1. SPL $A\\vec{x}=\\vec{b}$ memiliki solusi tunggal.\n",
        "2. Koefisien dari matriks $A$ tidak nol pada diagonal utamanya, $a_{11}, a_{12}, \\cdots, a_{nn}$. Jika koefisien dari diagonal utamanya bernilai nol, maka penukaran baris atau kolom dapat dilakukan.\n",
        "\n",
        "Misalkan diberikan SPL\n",
        "\n",
        "$$\n",
        "\\begin{array}{cc}\n",
        "  a_{11}x_1 & + & a_{12}x_2 & + & \\cdots & + & a_{1n}x_n & = & b_1 & (1)\\\\\n",
        "  a_{21}x_1 & + & a_{22}x_2 & + & \\cdots & + & a_{2n}x_n & = & b_2 & (2)\\\\\n",
        "   &  &  &  & \\vdots &  &  &  &  \\\\\n",
        "  a_{n1}x_1 & + & a_{n2}x_2 & + & \\cdots & + & a_{nn}x_n & = & b_n & (n)\\\\\n",
        "\\end{array}\n",
        "$$\n",
        "\n",
        "Berikut ini adalah langkah-langkah penyelesaian menggunakan metode Jacobi:\n",
        "1. Pertama, kita selesaikan persamaan $(1)$ untuk $x_1$, dilanjutkan ke persamaan $(2)$ untuk $x_2$, dan seterusnya sampai persamaan $(n)$ untuk $x_n$. Sehingga menjadi\n",
        "\n",
        "$$\n",
        "\\begin{array}{cc}\n",
        "  x_1 & = & \\frac{1}{a_{11}} \\left(b_1 - a_{12}x_2 - a_{13}x_3 - \\cdots - a_{1n}x_n \\right)\\\\\n",
        "  x_2 & = & \\frac{1}{a_{22}} \\left(b_2 - a_{21}x_1 - a_{23}x_3 - \\cdots - a_{2n}x_n \\right)\\\\\n",
        "    & \\vdots & \\\\\n",
        "  x_n & = & \\frac{1}{a_{nn}} \\left(b_n - a_{n1}x_1 - a_{n2}x_2 - \\cdots - a_{n,n-1}x_{n,n-1}\\right)\\\\\n",
        "\\end{array}\n",
        "$$\n",
        "\n",
        "2. Buat tebakan awal untuk solusinya, dinotasikan dengan $x_1^{(0)}, x_2^{(0)}, \\cdots, x_n^{(0)}$ dan subtitusikan ke dalam persamaan pada langkah 1 untuk mendapatkan solusi pada iterasi pertama.\n",
        "\n",
        "3. Lakukan proses langkah 2 secara terus menerus sampai mendapatkan barisan solusi $x_1^{(k)}, x_2^{(k)}, \\cdots, x_n^{(k)}$, untuk $k=1, 2, \\cdots$, yang konvergen ke solusi dari SPL tersebut. \n",
        "\n"
      ]
    },
    {
      "cell_type": "code",
      "execution_count": 147,
      "metadata": {
        "id": "t9E5z2QBf_3b"
      },
      "outputs": [],
      "source": [
        "import numpy as np\n",
        "from scipy.linalg import norm\n",
        "import matplotlib.pyplot as plt"
      ]
    },
    {
      "cell_type": "markdown",
      "metadata": {
        "id": "AEjpEZtvxiqv"
      },
      "source": [
        "__Metode Jacobi__"
      ]
    },
    {
      "cell_type": "code",
      "execution_count": 148,
      "metadata": {
        "id": "IE0PTt4XgNlq"
      },
      "outputs": [],
      "source": [
        "def jacobi(A, b, x0, epsilon=1e-5, N=1000):\n",
        "  k = 1\n",
        "  x = np.zeros(len(b))\n",
        "  while (k < N):\n",
        "    for i in range(len(b)):\n",
        "      sum = 0\n",
        "      for j in range(len(b)):\n",
        "        if i != j:\n",
        "          sum += A[i,j] * x0[j]\n",
        "      \n",
        "      x[i] = 1/A[i,i]*(-sum + b[i])\n",
        "\n",
        "    if norm(x - x0) < epsilon:\n",
        "      break\n",
        "    \n",
        "    x0 = x\n",
        "    k = k + 1\n",
        "  return k,x"
      ]
    },
    {
      "cell_type": "code",
      "execution_count": 149,
      "metadata": {
        "id": "8FmG0QotzXSY"
      },
      "outputs": [],
      "source": [
        "def jacobi1(A, b, x0, epsilon=1e-5, N=1000):\n",
        "  x = np.zeros(len(b))\n",
        "  T = A - np.diag(np.diagonal(A))\n",
        "\n",
        "  for k in range(N):\n",
        "    x = (b - np.dot(T,x0))/np.diagonal(A)\n",
        "\n",
        "    if norm(np.dot(A,x) - b) < epsilon:\n",
        "      break\n",
        "      \n",
        "    x0 = x\n",
        "\n",
        "  return k,x"
      ]
    },
    {
      "cell_type": "markdown",
      "metadata": {
        "id": "OqA9HHKuxoqL"
      },
      "source": [
        "__Metode Gauss-Seidel__"
      ]
    },
    {
      "cell_type": "code",
      "execution_count": 150,
      "metadata": {
        "id": "3QkFDZ3Nxn8r"
      },
      "outputs": [],
      "source": [
        "def gauss_seidel(A, b, x0, epsilon=1e-5, N=1000):\n",
        "  x = np.zeros_like(b, dtype=np.double)\n",
        "  \n",
        "  for k in range(N):\n",
        "\n",
        "    for i in range(len(b)):\n",
        "      U = np.dot(A[i,:i], x[:i])\n",
        "      V = np.dot(A[i,(i+1):], x0[(i+1):])\n",
        "      x[i] = 1/A[i,i] * (b[i] - U - V)\n",
        "      #print(k,x)\n",
        "      \n",
        "    if norm(np.dot(A,x) - b) < epsilon:\n",
        "      break\n",
        "    \n",
        "    x0 = x\n",
        "\n",
        "  return k,x"
      ]
    },
    {
      "cell_type": "markdown",
      "metadata": {
        "id": "y9tX1jn42ehx"
      },
      "source": [
        "__Metode SOR__"
      ]
    },
    {
      "cell_type": "code",
      "execution_count": 151,
      "metadata": {
        "id": "_Ren5lTV2eCA"
      },
      "outputs": [],
      "source": [
        "def SOR(A, b, x0, omega, epsilon=1e-5, N=1000):\n",
        "  x = np.zeros_like(b, dtype=np.double)\n",
        "  \n",
        "  for k in range(N):\n",
        "\n",
        "    for i in range(len(b)):\n",
        "      U = np.dot(A[i,:i], x[:i])\n",
        "      V = np.dot(A[i,(i+1):], x0[(i+1):])\n",
        "      x[i] = 1/A[i,i] * (b[i] - U - V)\n",
        "      x[i] = np.dot(x0[i], (1-omega)) + np.dot(x[i], omega)\n",
        "      #print(k, x) \n",
        "      \n",
        "    if norm(np.dot(A,x) - b) < epsilon:\n",
        "      break\n",
        "    #if np.linalg.norm((x - x0)) <= epsilon:\n",
        "      #break\n",
        "\n",
        "    x0 = x\n",
        "\n",
        "  return k,x"
      ]
    },
    {
      "cell_type": "markdown",
      "metadata": {
        "id": "--D2DDGwwhek"
      },
      "source": [
        "__Contoh 1__:\n"
      ]
    },
    {
      "cell_type": "code",
      "execution_count": 152,
      "metadata": {
        "colab": {
          "base_uri": "https://localhost:8080/"
        },
        "id": "JpoEKEkUjoti",
        "outputId": "43a4ec54-81c2-4808-ef18-c922089e7c75"
      },
      "outputs": [
        {
          "name": "stdout",
          "output_type": "stream",
          "text": [
            "(16, array([ 0.03508768, -0.23684256,  0.65789423]))\n",
            "(8, array([ 0.0350878 , -0.23684279,  0.657895  ]))\n",
            "(8, array([ 0.03508732, -0.23684027,  0.65789412]))\n"
          ]
        }
      ],
      "source": [
        "A = np.array([[3, -1, 1], [3, 6, 2], [3, 3, 7]])\n",
        "b = np.array([1, 0, 4])\n",
        "x0 = np.array([1., 1., 1.])\n",
        "\n",
        "x_J = jacobi1(A, b, x0)\n",
        "x_GS = gauss_seidel(A, b, x0)\n",
        "x_SOR = SOR(A, b, x0, 0.3)\n",
        "print(x_J)\n",
        "print(x_GS)\n",
        "print(x_SOR)"
      ]
    },
    {
      "cell_type": "markdown",
      "metadata": {
        "id": "Z-MRfpaAjNnZ"
      },
      "source": [
        "__Contoh 2__:\n"
      ]
    },
    {
      "cell_type": "code",
      "execution_count": 153,
      "metadata": {
        "colab": {
          "base_uri": "https://localhost:8080/"
        },
        "id": "mqPdFuNbhk__",
        "outputId": "e0a001c6-17e6-45c8-99ab-01b79b047a68"
      },
      "outputs": [
        {
          "name": "stdout",
          "output_type": "stream",
          "text": [
            "(64, array([ 3.00000066,  4.00000088, -5.00000022]))\n",
            "(23, array([ 3.00000454,  3.99999621, -5.00000095]))\n",
            "(22, array([ 2.99999431,  4.00000474, -4.99999881]))\n"
          ]
        }
      ],
      "source": [
        "A = np.array([[4, 3, 0], [3, 4, -1], [0, -1, 4]])\n",
        "b = np.array([24, 30, -24])\n",
        "x0 = np.array([1., 1., 1.])\n",
        "\n",
        "x_J = jacobi1(A, b, x0)\n",
        "x_GS = gauss_seidel(A, b, x0)\n",
        "x_SOR = SOR(A, b, x0, 0.2)\n",
        "print(x_J)\n",
        "print(x_GS)\n",
        "print(x_SOR)"
      ]
    },
    {
      "cell_type": "markdown",
      "metadata": {
        "id": "xy8ezED71hSo"
      },
      "source": [
        "__Contoh 4__:\n",
        "\n",
        "Diberikan matriks\n",
        "\n",
        "$$\n",
        "A = \n",
        "\\begin{bmatrix}\n",
        "  2 & -1 & 0 \\\\\n",
        "  -1 & 2 & -1 \\\\\n",
        "  0 & -1 & 2 \\\\\n",
        "\\end{bmatrix}\n",
        "$$\n",
        "\n",
        "Ingin: Melihat nilai norm matriks dari bentuk iteratif matriks $T_j, T_{gs}, T_{\\omega}$\n",
        "\n",
        "$$A = D - L - U$$\n",
        "\n",
        "$$\n",
        "A = \n",
        "\\begin{bmatrix}\n",
        "  2 & -1 & 0 \\\\\n",
        "  -1 & 2 & -1 \\\\\n",
        "  0 & -1 & 2 \\\\\n",
        "\\end{bmatrix}\n",
        "=\n",
        "\\begin{bmatrix}\n",
        "  2 & 0 & 0 \\\\\n",
        "  0 & 2 & 0 \\\\\n",
        "  0 & 0 & 2 \\\\\n",
        "\\end{bmatrix}\n",
        "-\n",
        "\\begin{bmatrix}\n",
        "  0 & 0 & 0 \\\\\n",
        "  1 & 0 & 0 \\\\\n",
        "  0 & 1 & 0 \\\\\n",
        "\\end{bmatrix}\n",
        "-\n",
        "\\begin{bmatrix}\n",
        "  0 & 1 & 0 \\\\\n",
        "  0 & 0 & 1 \\\\\n",
        "  0 & 0 & 0 \\\\\n",
        "\\end{bmatrix}\n",
        "$$\n",
        "\n",
        "$T_j = D^{-1} (L+U)$, $T_{gs} = (D-L)^{-1} U$, $T_{\\omega} = (D-\\omega L)^{-1} [(1-\\omega)D + \\omega U]$"
      ]
    },
    {
      "cell_type": "code",
      "execution_count": 154,
      "metadata": {
        "colab": {
          "base_uri": "https://localhost:8080/"
        },
        "id": "72CDQg0huFsB",
        "outputId": "e81b990e-18eb-4fc8-990c-7ae50fd8990a"
      },
      "outputs": [
        {
          "data": {
            "text/plain": [
              "array([[0. , 0.5, 0. ],\n",
              "       [0.5, 0. , 0.5],\n",
              "       [0. , 0.5, 0. ]])"
            ]
          },
          "execution_count": 154,
          "metadata": {},
          "output_type": "execute_result"
        }
      ],
      "source": [
        "D = np.array([[2.,0.,0.], [0.,2.,0.], [0.,0.,2.]])\n",
        "L = np.array([[0.,0.,0.], [1.,0.,0.], [0.,1.,0.]])\n",
        "U = np.array([[0.,1.,0.], [0.,0.,1.], [0.,0.,0.]])\n",
        "\n",
        "D_invers = np.linalg.inv(D)\n",
        "LU = L+U\n",
        "Tj = np.matmul(D_invers,LU)\n",
        "Tj"
      ]
    },
    {
      "cell_type": "code",
      "execution_count": 155,
      "metadata": {
        "colab": {
          "base_uri": "https://localhost:8080/"
        },
        "id": "H0EYSCxF5MTS",
        "outputId": "fbb2e121-9714-4def-a065-e97f64282fd1"
      },
      "outputs": [
        {
          "data": {
            "text/plain": [
              "array([[0.   , 0.5  , 0.   ],\n",
              "       [0.   , 0.25 , 0.5  ],\n",
              "       [0.   , 0.125, 0.25 ]])"
            ]
          },
          "execution_count": 155,
          "metadata": {},
          "output_type": "execute_result"
        }
      ],
      "source": [
        "DL_invers = np.linalg.inv((D-L))\n",
        "Tgs = np.matmul(DL_invers,U)\n",
        "Tgs"
      ]
    },
    {
      "cell_type": "code",
      "execution_count": 156,
      "metadata": {
        "colab": {
          "base_uri": "https://localhost:8080/"
        },
        "id": "LjcGI_dj6PjM",
        "outputId": "fe903d28-f0f7-492c-f556-d82268cab9ab"
      },
      "outputs": [
        {
          "data": {
            "text/plain": [
              "array([[0.5      , 0.       , 0.       ],\n",
              "       [0.3125   , 0.5      , 0.       ],\n",
              "       [0.1953125, 0.3125   , 0.5      ]])"
            ]
          },
          "execution_count": 156,
          "metadata": {},
          "output_type": "execute_result"
        }
      ],
      "source": [
        "w = 1.25\n",
        "A = np.linalg.inv(D-w*L)\n",
        "A"
      ]
    },
    {
      "cell_type": "code",
      "execution_count": 157,
      "metadata": {
        "colab": {
          "base_uri": "https://localhost:8080/"
        },
        "id": "w-9i84PU6-Dv",
        "outputId": "ce75d134-0e06-468c-fe9f-2e6a1e85cc8b"
      },
      "outputs": [
        {
          "data": {
            "text/plain": [
              "array([[-0.5 ,  1.25,  0.  ],\n",
              "       [ 0.  , -0.5 ,  1.25],\n",
              "       [ 0.  ,  0.  , -0.5 ]])"
            ]
          },
          "execution_count": 157,
          "metadata": {},
          "output_type": "execute_result"
        }
      ],
      "source": [
        "B = (1-w)*D + w*U\n",
        "B"
      ]
    },
    {
      "cell_type": "code",
      "execution_count": 158,
      "metadata": {
        "colab": {
          "base_uri": "https://localhost:8080/"
        },
        "id": "89eYPnee7ktZ",
        "outputId": "28b05939-0c42-4c8c-c0c0-e5f5a1ff99a3"
      },
      "outputs": [
        {
          "data": {
            "text/plain": [
              "array([[-0.25      ,  0.625     ,  0.        ],\n",
              "       [-0.15625   ,  0.140625  ,  0.625     ],\n",
              "       [-0.09765625,  0.08789062,  0.140625  ]])"
            ]
          },
          "execution_count": 158,
          "metadata": {},
          "output_type": "execute_result"
        }
      ],
      "source": [
        "Tsor = np.matmul(A,B)\n",
        "Tsor"
      ]
    },
    {
      "cell_type": "markdown",
      "metadata": {
        "id": "SGL4uHkw8I-X"
      },
      "source": [
        "Norm $l_1, l_2, l_{\\infty}$ dari $T_j, T_{gs}, T_{SOR}$"
      ]
    },
    {
      "cell_type": "code",
      "execution_count": 159,
      "metadata": {
        "colab": {
          "base_uri": "https://localhost:8080/"
        },
        "id": "IIWNdMcr8DJ7",
        "outputId": "1282355e-2205-4164-9b9c-8add8540bb6a"
      },
      "outputs": [
        {
          "data": {
            "text/plain": [
              "array([[1.        , 0.70710678, 1.        ],\n",
              "       [0.875     , 0.69047642, 0.75      ],\n",
              "       [0.85351562, 0.77743989, 0.921875  ]])"
            ]
          },
          "execution_count": 159,
          "metadata": {},
          "output_type": "execute_result"
        }
      ],
      "source": [
        "l = np.zeros((3,3), dtype=np.double)\n",
        "l[0,0] = norm(Tj,1)\n",
        "l[1,0] = norm(Tgs,1)\n",
        "l[2,0] = norm(Tsor,1)\n",
        "\n",
        "l[0,1] = norm(Tj,2)\n",
        "l[1,1] = norm(Tgs,2)\n",
        "l[2,1] = norm(Tsor,2)\n",
        "\n",
        "l[0,2] = norm(Tj,np.inf)\n",
        "l[1,2] = norm(Tgs,np.inf)\n",
        "l[2,2] = norm(Tsor,np.inf)\n",
        "\n",
        "l"
      ]
    },
    {
      "cell_type": "code",
      "execution_count": 159,
      "metadata": {
        "id": "aoZHKVcC89mm"
      },
      "outputs": [],
      "source": []
    }
  ],
  "metadata": {
    "colab": {
      "authorship_tag": "ABX9TyPEzRhtv5OJYlWyCJpkDK1J",
      "name": "Metode Iteratif untuk Menyelesaikan SPL.ipynb",
      "provenance": []
    },
    "kernelspec": {
      "display_name": "Python 3",
      "name": "python3"
    },
    "language_info": {
      "name": "python"
    }
  },
  "nbformat": 4,
  "nbformat_minor": 0
}
