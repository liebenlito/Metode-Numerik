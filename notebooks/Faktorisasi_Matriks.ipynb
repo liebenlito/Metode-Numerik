{
 "cells": [
  {
   "cell_type": "markdown",
   "metadata": {},
   "source": [
    "# Faktorisasi Matriks\n",
    "\n",
    "Pada prinsipnya Eliminasi Gauss adalah teknik yang secara umum digunakan untuk menyelesaikan Sistem Persamaan Linear (SPL). Namun, waktu komputasi yang dibutuhkan oleh Eliminasi Gauss cenderung lama seiring bertambahnya ukuran matriks atau dapat dinotasikan $O(n^3 /3)$ {cite}`burden_numerical_2010`. Hal ini banyak dipengaruhi oleh operasi aritmatika dari proses eliminasi yang terjadi di dalam Eliminasi Gauss. Dengan demikian, kita memerlukan suatu cara agar dapat meminimalkan waktu komputasi, salah satunya dengan melakukan __faktorisasi matriks__."
   ]
  },
  {
   "cell_type": "markdown",
   "metadata": {},
   "source": [
    "## Faktorisasi LU\n",
    "\n",
    "Diberikan suatu SPL yang dapat dibentuk dalam bentuk matriks-vektor sebagai berikut\n",
    "\n",
    "$$\n",
    "A\\vec{x} = \\vec{b}\n",
    "$$\n",
    "\n",
    "dimana $A \\in \\mathbb{R}^{n \\times n}$ dan $\\vec{x}, \\vec{b} \\in \\mathbb{R}^n$. Kemudian untuk menyelesaikan SPL tersebut, kita gunakan eliminasi Gauss tanpa pivoting dan kita asumsikan juga bahwa elemen pivot di $A$ tak nol seiring berjalannya proses eliminasi pada setiap iterasinya, atau dapat ditulis $a_{ii}^{(k)}$, untuk $k = 1,2, ..., n$ dan $i = 1,2,...,n$. Proses eliminasi pada iterasi pertama dilakukan dengan cara\n",
    "\n",
    "$$\n",
    "(E_j - m_{j1}E_1) \\rightarrow (E_j), \\hspace{1.5em} m_{j1} = \\frac{a_{j1}^{(1)}}{a_{11}^{(1)}}\n",
    "$$\n",
    "\n",
    "atau operasi ini dapat direpresentasikan sebagai __matriks transformasi Gaussian pertama__\n",
    "\n",
    "$$\n",
    "M^{(1)} = \n",
    "\\begin{bmatrix}\n",
    "1       & 0 & \\cdots & 0 \\\\\n",
    "-m_{21} & 1 &        & 0 \\\\\n",
    "\\vdots  &   & \\ddots & \\vdots \\\\\n",
    "-m_{n1} & 0 & \\cdots & 1 \\\\\n",
    "\\end{bmatrix}\n",
    "$$\n",
    "\n",
    "Sehingga, hasil perkalian matriks antara $M^{(1)}$ dan $A^{(1)}$ adalah\n",
    "\n",
    "$$\n",
    "A^{(2)}\\vec{x} = M^{(1)}A\\vec{x} = M^{(1)} \\vec{b} = \\vec{b}^{(2)}.\n",
    "$$\n",
    "\n",
    "Secara umum, ketika kita melakukan perkalian matriks A dengan matriks transformasi Gaussian pada iterasi ke $k$ akan menghasilkan\n",
    "\n",
    "$$\n",
    "A^{(k+1)} \\vec{x} = M^{(k)} A^{(k)} \\vec{x} = M^{(k)} \\cdots M^{(1)} A \\vec{x} = M^{(k)}\\vec{b}^{(k)} = \\vec{b}^{(k+1)} = M^{(k)} \\cdots M^{(1)} \\vec{b}.\n",
    "$$\n",
    "\n",
    "Proses ini akan berhenti pada $A^{(n)} \\vec{x} = \\vec{b}^{(n)}$, dimana $A^{(n)}$ menjadi matriks segitiga atas\n",
    "\n",
    "$$\n",
    "A^{(n)} = \n",
    "\\begin{bmatrix}\n",
    "a_{11}^{(1)} & a_{12}^{(1)} & \\cdots & a_{1n}^{(1)} \\\\\n",
    "0            & a_{22}^{(2)} &        & a_{2n}^{(2)} \\\\\n",
    "\\vdots       &   & \\ddots & \\vdots \\\\\n",
    "0            & 0 & \\cdots & a_{nn}^{(n)} \\\\\n",
    "\\end{bmatrix}\n",
    "$$\n",
    "\n",
    "diberikan oleh \n",
    "\n",
    "$$\n",
    "A^{(n)} = M^{(n-1)} M^{(n-1)} \\cdots M^{(1)} A.\n",
    "$$"
   ]
  },
  {
   "cell_type": "markdown",
   "metadata": {},
   "source": [
    "Kemudian kita panggil kembali \n",
    "\n",
    "$$\n",
    "A^{(k+1)} \\vec{x} = M^{(k)} A^{(k)} \\vec{x} = M^{(k)} \\cdots M^{(1)} A \\vec{x} = M^{(k)}\\vec{b}^{(k)} = \\vec{b}^{(k+1)}\n",
    "$$\n",
    "\n",
    "dimana $M^{(k)}$ dihasilkan dari operasi baris\n",
    "\n",
    "$$\n",
    "(E_j - m_{jk}E_k) \\rightarrow (E_j), \\hspace{1.5em} j=k+1, \\cdots, n.\n",
    "$$\n",
    "\n"
   ]
  },
  {
   "cell_type": "code",
   "execution_count": null,
   "metadata": {},
   "outputs": [],
   "source": []
  }
 ],
 "metadata": {
  "language_info": {
   "name": "python"
  },
  "orig_nbformat": 4
 },
 "nbformat": 4,
 "nbformat_minor": 2
}
