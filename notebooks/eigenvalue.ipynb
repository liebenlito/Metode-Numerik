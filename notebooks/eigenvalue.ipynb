{
 "cells": [
  {
   "cell_type": "markdown",
   "metadata": {},
   "source": [
    "# Nilai Eigen dan Vektor Eigen\n",
    "\n",
    "Secara komputasi, mencari nilai eigen dan vektor eigen dari suatu matriks $n \\times n$ memerlukan waktu eksekusi yang lama. Misalkan kita bangun persamaan karakteristik polinomial \n",
    "\n",
    "$$\n",
    "p(\\lambda) = \\text{det}(A-\\lambda I)\n",
    "$$\n",
    "\n",
    "dimana $A$ adalah matriks $n \\times n$, $I$ adalah matriks identitas, dan $\\lambda$ adalah nilai eigen."
   ]
  },
  {
   "cell_type": "markdown",
   "metadata": {},
   "source": [
    "## Review Aljabar Linear\n",
    "\n",
    "```{admonition} Definisi \n",
    "Misalkan \\lbrace \\textbf{v}^{(1)}, \\textbf{v}^{(2)}, \\cdots, \\textbf{v}^{(k)}\\rbrace adalah himpunan vektor. Himpunan tersebut dikatakan __linearly independent__ jika\n",
    "\n",
    "$$\n",
    "\\textbf{0} = \\alpha_1 \\textbf{v}^{(1)} + \\alpha_2 \\textbf{v}^{(2)} + \\cdots + \\alpha_k \\textbf{v}^{(k)}\n",
    "$$\n",
    "\n",
    "maka $\\alpha_i = 0$ untuk setiap $i = 0, 1, /cdots, k$. Begitu pula sebaliknya, maka himpunan vektornya disebut __linearly dependent__. \n",
    "```"
   ]
  },
  {
   "cell_type": "markdown",
   "metadata": {},
   "source": [
    "```{admonition} Teorema \n",
    "Diberikan \\lbrace \\textbf{v}^{(1)}, \\textbf{v}^{(2)}, \\cdots, \\textbf{v}^{(k)}\\rbrace adalah himpunan vektor yang linearly independent di $\\mathbb{R}^n$. Maka untuk setiap vektor $\\textbf{x} \\in \\mathbb{R}^n$ \n",
    "\n",
    "$$\n",
    "\\textbf{0} = \\alpha_1 \\textbf{v}^{(1)} + \\alpha_2 \\textbf{v}^{(2)} + \\cdots + \\alpha_k \\textbf{v}^{(k)}\n",
    "$$\n",
    "\n",
    "maka $\\alpha_i = 0$ untuk setiap $i = 0, 1, /cdots, k$. Begitu pula sebaliknya, maka himpunan vektornya disebut __linearly dependent__. \n",
    "```"
   ]
  },
  {
   "cell_type": "code",
   "execution_count": null,
   "metadata": {},
   "outputs": [],
   "source": []
  }
 ],
 "metadata": {
  "kernelspec": {
   "display_name": "Python 3.9.9 64-bit",
   "language": "python",
   "name": "python3"
  },
  "language_info": {
   "name": "python",
   "version": "3.9.9"
  },
  "orig_nbformat": 4,
  "vscode": {
   "interpreter": {
    "hash": "b0fa6594d8f4cbf19f97940f81e996739fb7646882a419484c72d19e05852a7e"
   }
  }
 },
 "nbformat": 4,
 "nbformat_minor": 2
}
