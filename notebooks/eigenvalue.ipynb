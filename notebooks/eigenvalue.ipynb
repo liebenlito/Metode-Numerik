{
 "cells": [
  {
   "cell_type": "markdown",
   "metadata": {},
   "source": [
    "# Nilai Eigen dan Vektor Eigen\n",
    "\n",
    "Secara komputasi, mencari nilai eigen dan vektor eigen dari suatu matriks $n \\times n$ memerlukan waktu eksekusi yang lama. Misalkan kita bangun persamaan karakteristik polinomial \n",
    "\n",
    "$$\n",
    "p(\\lambda) = \\text{det}(A-\\lambda I)\n",
    "$$\n",
    "\n",
    "dimana $A$ adalah matriks $n \\times n$, $I$ adalah matriks identitas, dan $\\lambda$ adalah nilai eigen."
   ]
  },
  {
   "cell_type": "markdown",
   "metadata": {},
   "source": [
    "## Gersgorin Circle\n",
    "\n",
    "Misalkan $A$ adalah matriks $n \\times n$ dan $R_i$ dinotasikan sebagai lingkaran di bidang kompleks dengan pusat $a_{ii}$ dan radius $\\sum_{j=1, j \\neq i}^n |a_{ij}|$;\n",
    "\n",
    "$$\n",
    "R_i = \\\n",
    "$$"
   ]
  },
  {
   "cell_type": "code",
   "execution_count": null,
   "metadata": {},
   "outputs": [],
   "source": []
  }
 ],
 "metadata": {
  "kernelspec": {
   "display_name": "Python 3.9.9 64-bit",
   "language": "python",
   "name": "python3"
  },
  "language_info": {
   "name": "python",
   "version": "3.9.9"
  },
  "orig_nbformat": 4,
  "vscode": {
   "interpreter": {
    "hash": "b0fa6594d8f4cbf19f97940f81e996739fb7646882a419484c72d19e05852a7e"
   }
  }
 },
 "nbformat": 4,
 "nbformat_minor": 2
}
