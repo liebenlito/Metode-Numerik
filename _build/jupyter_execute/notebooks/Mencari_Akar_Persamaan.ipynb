{
 "cells": [
  {
   "cell_type": "markdown",
   "metadata": {
    "id": "WLg2GO5m7y4S"
   },
   "source": [
    "# Mencari Akar Persamaan Non-Linear Satu Variabel\n",
    "\n",
    "Diberikan suatu fungsi bernilai real dan nonlinear $f(x)$. Cari suatu akar $p$ dari $f(x)$ sedemikian sehingga $f(p)=0$.\n",
    "\n",
    "__Contoh 1__: Polinomial kuadratik: $f(x)=x^2+5x+6$.\n",
    "$𝑓(x)=(x+2)(x+3)=0⇒p_1=−2, p_2=−3$.\n",
    "\n",
    "__Contoh 2__: $f(x)=x^2+4x+10=(x+2)^2+6$.\n",
    "Tidak ada akar $𝑝$ bernilai real yang memenuhi $f(p)=0$.\n",
    "\n",
    "__Contoh 3__: $f(x)=x^2+\\cos⁡{x}+e^x+\\sqrt{x+1}$.\n",
    "Akar bisa saja sulit untuk ditemukan secara analitik.\n",
    "\n",
    "__Fokus__: menggunakan metode numerik untuk mengaproksimasi akar.\n"
   ]
  },
  {
   "cell_type": "code",
   "execution_count": 1,
   "metadata": {
    "id": "0L5m4LK-7y4U"
   },
   "outputs": [],
   "source": [
    "import matplotlib.pyplot as plt\n",
    "import numpy as np"
   ]
  },
  {
   "cell_type": "markdown",
   "metadata": {
    "id": "32vSbJ-77y4V"
   },
   "source": [
    "## Metode Bisection\n",
    "\n",
    "Diberikan $f(x)$ kontinu di interval $[a,b]$ dengan $f(a)$ dan $f(b)$ memiliki tanda yang berlawanan.\n",
    "Tujuan: Cari $a,b$ sedemikian sehingga $f(a).f(b)<0$. Ini berarti terdapat akar $p∈(a,b)$ sedemikian sehingga $f(r)=0$.\n",
    "\n",
    "Misalkan $c=(a+b)/2$, titik tengah.\n",
    "Jika $f(c)=0$, selesai.\n",
    "Jika tidak, periksa jika $f(c).f(c)<0$ atau $f(c).f(c)<0$.\n",
    "Pilih interval $[a,c]$ atau $[c,b]$, dan ulangi prosedur ini sampai memenuhi kriteria pemberhentian.\n",
    "\n",
    "Kriteria Pemberhentian:\n",
    "* Interval cukup kecil\n",
    "* $|f(c_n )|$ hampir $0$\n",
    "* Sudah mencapai iterasi maksimum\n",
    "* Kombinasi dari yang di atas."
   ]
  },
  {
   "cell_type": "markdown",
   "metadata": {
    "id": "UtAppMUz7y4W"
   },
   "source": [
    "__Contoh 1__:\n",
    "\n",
    "Diberikan $f(x) = x^3 + 4x^2 - 10$. Cari akar dari $f(x)$ di interval $[1,2]$ menggunakan metode Bisection dengan $\\varepsilon = 10^{-4}$"
   ]
  },
  {
   "cell_type": "code",
   "execution_count": 2,
   "metadata": {
    "colab": {
     "base_uri": "https://localhost:8080/",
     "height": 397
    },
    "id": "kFPXZZti7y4W",
    "outputId": "82841c8d-b9d3-4994-9f56-6b9ebb193bd4"
   },
   "outputs": [
    {
     "data": {
      "image/png": "[encoded data removed]",
      "text/plain": [
       "<Figure size 576x432 with 1 Axes>"
      ]
     },
     "metadata": {
      "filenames": {
       "image/png": "/Users/muhazaliebenlito/vscode/Metode-Numerik/_build/jupyter_execute/notebooks/Mencari_Akar_Persamaan_4_0.png"
      },
      "needs_background": "light"
     },
     "output_type": "display_data"
    }
   ],
   "source": [
    "x = np.linspace(0, 10, 100)\n",
    "fungsi = x**3 + 4*x**2 - 10.\n",
    "g = np.zeros(x.size)\n",
    "\n",
    "plt.figure(figsize=(8,6))\n",
    "plt.plot(x, fungsi, x, g, 'r--')\n",
    "plt.xlabel(\"$x$\", fontsize=16)\n",
    "plt.ylabel(\"$f$\", fontsize=16)\n",
    "plt.ylim([-1., 10])\n",
    "plt.xlim([1., 2.])\n",
    "plt.grid()\n",
    "plt.legend(\"f\", loc='best');"
   ]
  },
  {
   "cell_type": "code",
   "execution_count": 3,
   "metadata": {
    "id": "zMg_SsF67y4X"
   },
   "outputs": [],
   "source": [
    "def bisection(func, a, b, epsilon=1e-4, N=1000):\n",
    "    f = func\n",
    "    FA = f(a)\n",
    "    for i in range(N):\n",
    "        p = a + (b-a)/2\n",
    "        FP = f(p)\n",
    "        print(\"iterasi {:2d}\\t p = {:2.4f}\\t f(p) = {:2.4f}\\t a = {:2.4f}\\t b = {:2.4f}\".format(i, p, FP, a, b))\n",
    "        if np.abs(FP) <= epsilon or (b-a)/2 <= epsilon:\n",
    "            break\n",
    "        else:\n",
    "            if FA*FP > epsilon:\n",
    "                a = p\n",
    "                FA = FP\n",
    "            else:\n",
    "                b = p\n",
    "    return p,FP,a,b,i"
   ]
  },
  {
   "cell_type": "code",
   "execution_count": 4,
   "metadata": {
    "colab": {
     "base_uri": "https://localhost:8080/"
    },
    "id": "lKcZN3_17y4X",
    "outputId": "aebd5cb0-d329-4e44-9f3e-fce846e1ae11"
   },
   "outputs": [
    {
     "name": "stdout",
     "output_type": "stream",
     "text": [
      "iterasi  0\t p = 1.5000\t f(p) = 2.3750\t a = 1.0000\t b = 2.0000\n",
      "iterasi  1\t p = 1.2500\t f(p) = -1.7969\t a = 1.0000\t b = 1.5000\n",
      "iterasi  2\t p = 1.3750\t f(p) = 0.1621\t a = 1.2500\t b = 1.5000\n",
      "iterasi  3\t p = 1.3125\t f(p) = -0.8484\t a = 1.2500\t b = 1.3750\n",
      "iterasi  4\t p = 1.3438\t f(p) = -0.3510\t a = 1.3125\t b = 1.3750\n",
      "iterasi  5\t p = 1.3594\t f(p) = -0.0964\t a = 1.3438\t b = 1.3750\n",
      "iterasi  6\t p = 1.3672\t f(p) = 0.0324\t a = 1.3594\t b = 1.3750\n",
      "iterasi  7\t p = 1.3633\t f(p) = -0.0321\t a = 1.3594\t b = 1.3672\n",
      "iterasi  8\t p = 1.3652\t f(p) = 0.0001\t a = 1.3633\t b = 1.3672\n",
      "p = 1.365234375, f(p) = 7.202476263046265e-05, a = 1.36328125, b = 1.3671875, Total iterasi = 9\n"
     ]
    }
   ],
   "source": [
    "f = lambda x: x**3 + 4*x**2 - 10\n",
    "hasil = bisection(f, a=1, b=2, epsilon=1e-4, N=100)\n",
    "print(\"p = {}, f(p) = {}, a = {}, b = {}, Total iterasi = {}\".format(hasil[0], hasil[1], hasil[2], hasil[3], hasil[4]+1))"
   ]
  },
  {
   "cell_type": "markdown",
   "metadata": {
    "id": "QxHWr12pnSeg"
   },
   "source": [
    "__Contoh 2__:\n",
    "\n",
    "Diberikan $f(x) = x^2 + 4x - 4$. Cari akar dari $f(x)$ di interval $[0,5]$ menggunakan metode Bisection dengan $\\varepsilon = 10^{-4}$"
   ]
  },
  {
   "cell_type": "code",
   "execution_count": 5,
   "metadata": {
    "colab": {
     "base_uri": "https://localhost:8080/",
     "height": 397
    },
    "id": "_c2DCNk8n9jQ",
    "outputId": "3076fced-a6d2-485d-825e-d07e1de98962"
   },
   "outputs": [
    {
     "data": {
      "image/png": "[encoded data removed]",
      "text/plain": [
       "<Figure size 576x432 with 1 Axes>"
      ]
     },
     "metadata": {
      "filenames": {
       "image/png": "/Users/muhazaliebenlito/vscode/Metode-Numerik/_build/jupyter_execute/notebooks/Mencari_Akar_Persamaan_8_0.png"
      },
      "needs_background": "light"
     },
     "output_type": "display_data"
    }
   ],
   "source": [
    "x = np.linspace(-20, 10, 100)\n",
    "fungsi = x**2 + 4*x - 4.\n",
    "g = np.zeros(x.size)\n",
    "\n",
    "plt.figure(figsize=(8,6))\n",
    "plt.plot(x, fungsi, x, g, 'r--')\n",
    "plt.xlabel(\"$x$\", fontsize=16)\n",
    "plt.ylabel(\"$f$\", fontsize=16)\n",
    "plt.ylim([-1., 10])\n",
    "plt.xlim([0, 5])\n",
    "plt.grid()\n",
    "plt.legend(\"f\", loc='best');"
   ]
  },
  {
   "cell_type": "code",
   "execution_count": 6,
   "metadata": {
    "colab": {
     "base_uri": "https://localhost:8080/"
    },
    "id": "vQ6H0f-AnYiT",
    "outputId": "d468b4af-409b-430a-be49-366c33e67771"
   },
   "outputs": [
    {
     "name": "stdout",
     "output_type": "stream",
     "text": [
      "iterasi  0\t p = 2.5000\t f(p) = 12.2500\t a = 0.0000\t b = 5.0000\n",
      "iterasi  1\t p = 1.2500\t f(p) = 2.5625\t a = 0.0000\t b = 2.5000\n",
      "iterasi  2\t p = 0.6250\t f(p) = -1.1094\t a = 0.0000\t b = 1.2500\n",
      "iterasi  3\t p = 0.9375\t f(p) = 0.6289\t a = 0.6250\t b = 1.2500\n",
      "iterasi  4\t p = 0.7812\t f(p) = -0.2646\t a = 0.6250\t b = 0.9375\n",
      "iterasi  5\t p = 0.8594\t f(p) = 0.1760\t a = 0.7812\t b = 0.9375\n",
      "iterasi  6\t p = 0.8203\t f(p) = -0.0458\t a = 0.7812\t b = 0.8594\n",
      "iterasi  7\t p = 0.8398\t f(p) = 0.0647\t a = 0.8203\t b = 0.8594\n",
      "iterasi  8\t p = 0.8301\t f(p) = 0.0093\t a = 0.8203\t b = 0.8398\n",
      "iterasi  9\t p = 0.8252\t f(p) = -0.0183\t a = 0.8203\t b = 0.8301\n",
      "iterasi 10\t p = 0.8276\t f(p) = -0.0045\t a = 0.8252\t b = 0.8301\n",
      "iterasi 11\t p = 0.8264\t f(p) = -0.0114\t a = 0.8252\t b = 0.8276\n",
      "iterasi 12\t p = 0.8270\t f(p) = -0.0079\t a = 0.8264\t b = 0.8276\n",
      "iterasi 13\t p = 0.8267\t f(p) = -0.0096\t a = 0.8264\t b = 0.8270\n",
      "iterasi 14\t p = 0.8269\t f(p) = -0.0088\t a = 0.8267\t b = 0.8270\n",
      "iterasi 15\t p = 0.8268\t f(p) = -0.0092\t a = 0.8267\t b = 0.8269\n",
      "p = 0.8267974853515625, f(p) = -0.009215976810082793, a = 0.82672119140625, b = 0.826873779296875, Total iterasi = 16\n"
     ]
    }
   ],
   "source": [
    "f = lambda x: x**2 + 4*x - 4\n",
    "hasil = bisection(f, a=0, b=5, epsilon=1e-4, N=100)\n",
    "print(\"p = {}, f(p) = {}, a = {}, b = {}, Total iterasi = {}\".format(hasil[0], hasil[1], hasil[2], hasil[3], hasil[4]+1))"
   ]
  },
  {
   "cell_type": "markdown",
   "metadata": {
    "id": "lXnsoONB9drN"
   },
   "source": [
    "### Analisis Kekonvergenan Metode Bisection\n",
    "\n",
    "Diberikan suatu fungsi nonlinear $f(x)$ kontinu di $[a,b]$ dan $\\text{sgn}(f(a)) \\neq \\text{sgn}(f(b))$. Kita misalkan $a_0 = a$ dan $b_0=b$ sebagai interval pada iterasi ke 0 dari metode bisection, sehingga terdapat $c_0 = \\frac{a_0+b_0}{2}$ adalah nilai tengah dari $[a_0, b_0]$. Maka kita definisikan error untuk iterasi ke-0 dari metode bisection, yaitu:\n",
    "\n",
    "$$e_0 = |p-c_0| \\leq \\frac{b_0 - a_0}{2},$$\n",
    "\n",
    "dimana $p$ adalah akar dari $f(x)$. Kemudian kita tuliskan $c_n = \\frac{a_n + b_n}{2}$ adalah nilai tengah dari $[a_n, b_n]$ pada iterasi ke-$n$, maka error yang dihasilkannya adalah\n",
    "\n",
    "$$e_n = |p-c_n| \\leq \\frac{b_n - a_n}{2} = \\frac{b_0 - a_0}{2}\\cdot \\frac{1}{2^n}.$$\n",
    "\n",
    "Jika diberikan toleransi error $\\varepsilon \\rightarrow 0$, maka haruslah $e_n \\leq \\varepsilon$. Sehingga\n",
    "\n",
    "$$e_n \\leq \\frac{b_0 - a_0}{2}\\cdot \\frac{1}{2^n} \\leq \\varepsilon.$$\n",
    "\n",
    "Jadi, iterasi minimum yang dibutuhkan metode bisection untuk konvergen ke solusi (akar) adalah\n",
    "\n",
    "> $$n \\geq \\frac{\\log{(b-a)} - \\log{2\\varepsilon}}{\\log{2}}.$$\n",
    "\n",
    "\n",
    "```{admonition} Iterasi Minimum Bisection\n",
    "Jika diberikan $f(x)$ kontinu di $[a,b]$ dan $\\text{sgn}(f(a)) \\neq \\text{sgn}(f(b))$, maka iterasi minimum yang dibutuhkan oleh Metode Bisection untuk mendapatkan solusi adalah\n",
    "\n",
    "$$n \\geq \\frac{\\log{(b-a)} - \\log{2\\varepsilon}}{\\log{2}}.$$\n",
    "```\n"
   ]
  },
  {
   "cell_type": "markdown",
   "metadata": {
    "id": "CYEVu8YWCeV-"
   },
   "source": [
    "__Contoh 3__\n",
    "\n",
    "Dari contoh 2, kita ingin melihat berapa iterasi minimum yang dibutuhkan metode bisection untuk mendapatkan akar/solusi menggunakan analisis kekonvergenan yang sudah dituliskan sebelumnya.\n",
    "\n",
    "__Jawaban__:\n",
    "\n",
    "$n \\geq \\frac{\\log{(5-0)} - \\log{2\\cdot 10^{-4}}}{\\log{2}}$\n",
    "\n",
    "$\\Rightarrow n \\geq \\frac{4.398}{0.301} = 14.611 \\approx 14.$\n",
    "\n",
    "Jadi iterasi minimum yang dibutuhkan adalah 14 iterasi.\n",
    "\n"
   ]
  },
  {
   "cell_type": "markdown",
   "metadata": {
    "id": "F6JVxswI7y4Y"
   },
   "source": [
    "## Iterasi Fixed Point\n",
    "\n",
    "__Definisi__: Suatu bilangan $p$ adalah __fixed point__ untuk suatu fungsi $g$ jika $g(p) = p$. Diberikan suatu fungsi $f(x)$ kontinu, untuk suatu $p$ maka $f(p) = 0$. Kemudian kita definisikan fungsi $g$ dan kita tuliskan\n",
    "$$\n",
    "\\begin{array}{cc}\n",
    "  x = x + f(x) = g(x) &  & x=x-f(x)=g(x)\n",
    "\\end{array}\n",
    "$$\n",
    "* Terdapat akar $p = g(p)$, dimana $p$ adalah fixed point. Kemudian dengan tebakan awal $x_0$, hitung $g(x_0)$, dan harapannya untuk setiap iterasi $x_k = g(x_{k-1})$ menuju ke $p$.\n",
    "* Stopping criteria:\n",
    "  * $|x_k - x_{k-1}| \\leq \\varepsilon$ atau $|g(x_k) - x_{k-1}| \\leq \\varepsilon$\n",
    "  * Iterasi maksimum terpenuhi.\n"
   ]
  },
  {
   "cell_type": "code",
   "execution_count": 7,
   "metadata": {
    "id": "My9Moe13amDD"
   },
   "outputs": [],
   "source": [
    "def iterasi_fixed_point(func, p0, N=100, epsilon=1e-5):\n",
    "    print('     p\\t\\t     g(p)      \\tresidual')\n",
    "    print('------------------------------------------------')\n",
    "    g = func\n",
    "    for i in range(N):\n",
    "        p = g(p0)\n",
    "        if (np.abs(p-p0) < epsilon):\n",
    "            break    \n",
    "        print('{:8.4f}\\t{:10.4f}\\t{:10.4f}\\t'.format(p, g(p), np.abs(p-p0)))\n",
    "        p0 = p\n",
    "    return p"
   ]
  },
  {
   "cell_type": "markdown",
   "metadata": {
    "id": "Zkk-N7nU7y4Y"
   },
   "source": [
    "### Contoh 1\n",
    "Carilah akar dari $f(x)=x−\\cos{⁡(x)}$ dengan akurasi 4-digit"
   ]
  },
  {
   "cell_type": "code",
   "execution_count": 8,
   "metadata": {
    "colab": {
     "base_uri": "https://localhost:8080/",
     "height": 393
    },
    "id": "w8HAyI1V7y4Z",
    "outputId": "729ac0db-9ed0-451b-e8a3-12b88853284f"
   },
   "outputs": [
    {
     "data": {
      "image/png": "[encoded data removed]",
      "text/plain": [
       "<Figure size 576x432 with 1 Axes>"
      ]
     },
     "metadata": {
      "filenames": {
       "image/png": "/Users/muhazaliebenlito/vscode/Metode-Numerik/_build/jupyter_execute/notebooks/Mencari_Akar_Persamaan_15_0.png"
      },
      "needs_background": "light"
     },
     "output_type": "display_data"
    }
   ],
   "source": [
    "x = np.linspace(0, 1.2, 100)\n",
    "g = np.cos(x)\n",
    "\n",
    "plt.figure(figsize=(8,6))\n",
    "plt.plot(x, g, x, x, 'r--')\n",
    "plt.xlabel('x', fontsize=16)\n",
    "plt.ylabel(\"$f$, $g$\", fontsize=16)\n",
    "# plt.ticklabel_format(axis='y', style='sci', scilimits=(-1,1))\n",
    "plt.ylim([0.1, 1.1])\n",
    "plt.xlim([0.1, 1.2])\n",
    "plt.grid()\n",
    "plt.legend([\"$f$\", \"$g$\"], loc='best');"
   ]
  },
  {
   "cell_type": "code",
   "execution_count": 9,
   "metadata": {
    "colab": {
     "base_uri": "https://localhost:8080/",
     "height": 558
    },
    "id": "037APdzeakkU",
    "outputId": "7dbc12b3-4b85-49c3-9f1a-f92c8787c85a"
   },
   "outputs": [
    {
     "name": "stdout",
     "output_type": "stream",
     "text": [
      "     p\t\t     g(p)      \tresidual\n",
      "------------------------------------------------\n",
      "  1.0000\t    0.5403\t    1.0000\t\n",
      "  0.5403\t    0.8576\t    0.4597\t\n",
      "  0.8576\t    0.6543\t    0.3173\t\n",
      "  0.6543\t    0.7935\t    0.2033\t\n",
      "  0.7935\t    0.7014\t    0.1392\t\n",
      "  0.7014\t    0.7640\t    0.0921\t\n",
      "  0.7640\t    0.7221\t    0.0626\t\n",
      "  0.7221\t    0.7504\t    0.0419\t\n",
      "  0.7504\t    0.7314\t    0.0283\t\n",
      "  0.7314\t    0.7442\t    0.0190\t\n",
      "  0.7442\t    0.7356\t    0.0128\t\n",
      "  0.7356\t    0.7414\t    0.0086\t\n",
      "  0.7414\t    0.7375\t    0.0058\t\n",
      "  0.7375\t    0.7401\t    0.0039\t\n",
      "  0.7401\t    0.7384\t    0.0026\t\n",
      "  0.7384\t    0.7396\t    0.0018\t\n",
      "  0.7396\t    0.7388\t    0.0012\t\n",
      "  0.7388\t    0.7393\t    0.0008\t\n",
      "  0.7393\t    0.7389\t    0.0005\t\n",
      "  0.7389\t    0.7392\t    0.0004\t\n",
      "  0.7392\t    0.7390\t    0.0002\t\n",
      "  0.7390\t    0.7391\t    0.0002\t\n",
      "  0.7391\t    0.7391\t    0.0001\t\n",
      "  0.7391\t    0.7391\t    0.0001\t\n",
      "  0.7391\t    0.7391\t    0.0001\t\n",
      "  0.7391\t    0.7391\t    0.0000\t\n",
      "  0.7391\t    0.7391\t    0.0000\t\n",
      "  0.7391\t    0.7391\t    0.0000\t\n",
      "  0.7391\t    0.7391\t    0.0000\t\n"
     ]
    },
    {
     "data": {
      "text/plain": [
       "0.7390822985224023"
      ]
     },
     "execution_count": 9,
     "metadata": {},
     "output_type": "execute_result"
    }
   ],
   "source": [
    "g = lambda x: np.cos(x)\n",
    "iterasi_fixed_point(g, p0=0)"
   ]
  },
  {
   "cell_type": "markdown",
   "metadata": {
    "id": "72ytl5TS7y4a"
   },
   "source": [
    "### Contoh 2\n",
    "\n",
    "Selesaikan $f(x)=e^{-2x}\\cdot (x-1)$\n",
    "\n",
    "Kita pilih: $g(x) = e^{-2x}\\cdot (x-1) + x$"
   ]
  },
  {
   "cell_type": "code",
   "execution_count": 10,
   "metadata": {
    "colab": {
     "base_uri": "https://localhost:8080/",
     "height": 404
    },
    "id": "_RBi7LUP7y4a",
    "outputId": "c00841ff-bb54-4163-a2c1-9880ce6d1c5c"
   },
   "outputs": [
    {
     "data": {
      "image/png": "[encoded data removed]",
      "text/plain": [
       "<Figure size 576x432 with 1 Axes>"
      ]
     },
     "metadata": {
      "filenames": {
       "image/png": "/Users/muhazaliebenlito/vscode/Metode-Numerik/_build/jupyter_execute/notebooks/Mencari_Akar_Persamaan_18_0.png"
      },
      "needs_background": "light"
     },
     "output_type": "display_data"
    }
   ],
   "source": [
    "x = np.linspace(0.1, 1., 1000)\n",
    "f = np.exp(-2*x) * (x-1)\n",
    "g = np.exp(-2*x) * (x-1) + x\n",
    "\n",
    "plt.figure(figsize=(8, 6))\n",
    "plt.plot(x, g, 'b', x, x, 'g--')\n",
    "plt.xlabel('x', fontsize=16)\n",
    "plt.ylabel(\"$f$, $g$\", fontsize=16)\n",
    "plt.ylim([0.99999, 1.0])\n",
    "plt.xlim([0.99999, 1.0])\n",
    "plt.grid()\n",
    "plt.legend([\"$f$\", \"$g$\"], loc='best');"
   ]
  },
  {
   "cell_type": "code",
   "execution_count": 11,
   "metadata": {
    "id": "buG36z9j7y4a"
   },
   "outputs": [],
   "source": [
    "import sympy\n",
    "sympy.init_printing(pretty_print=True)"
   ]
  },
  {
   "cell_type": "code",
   "execution_count": 12,
   "metadata": {
    "colab": {
     "base_uri": "https://localhost:8080/"
    },
    "id": "j6wgyN0-7y4b",
    "outputId": "76f44686-dc2d-4017-cb42-385faef78ca1"
   },
   "outputs": [
    {
     "name": "stdout",
     "output_type": "stream",
     "text": [
      "-2*(x - 1)*exp(-2*x) + 1 + exp(-2*x)\n"
     ]
    }
   ],
   "source": [
    "x = sympy.symbols('x')\n",
    "g_simbol = sympy.exp(-2*x) * (x-1) + x\n",
    "g_aksen = sympy.diff(g_simbol, x)\n",
    "print(g_aksen)"
   ]
  },
  {
   "cell_type": "code",
   "execution_count": 13,
   "metadata": {
    "colab": {
     "base_uri": "https://localhost:8080/"
    },
    "id": "Pm3c0Jr17y4b",
    "outputId": "7651b24e-fdba-43e3-ff82-fcafbe785b05"
   },
   "outputs": [
    {
     "name": "stdout",
     "output_type": "stream",
     "text": [
      "1.1353352832366128\n"
     ]
    }
   ],
   "source": [
    "ksi = 1\n",
    "g_aksen_eval = sympy.lambdify(x, g_aksen, \"numpy\")\n",
    "print(np.abs(g_aksen_eval(ksi)))"
   ]
  },
  {
   "cell_type": "code",
   "execution_count": 14,
   "metadata": {
    "colab": {
     "base_uri": "https://localhost:8080/",
     "height": 1000
    },
    "id": "y7B2SA377y4b",
    "outputId": "39e70d41-0d09-48f4-8236-0a5336b6a8fb"
   },
   "outputs": [
    {
     "name": "stdout",
     "output_type": "stream",
     "text": [
      "     p\t\t     g(p)      \tresidual\n",
      "------------------------------------------------\n",
      " -1.0000\t  -15.7781\t    1.0000\t\n",
      "-15.7781\t-850035804379802.7500\t   14.7781\t\n",
      "-850035804379802.7500\t      -inf\t850035804379787.0000\t\n",
      "    -inf\t      -inf\t       inf\t\n",
      "    -inf\t      -inf\t       nan\t\n",
      "    -inf\t      -inf\t       nan\t\n",
      "    -inf\t      -inf\t       nan\t\n",
      "    -inf\t      -inf\t       nan\t\n",
      "    -inf\t      -inf\t       nan\t\n",
      "    -inf\t      -inf\t       nan\t\n",
      "    -inf\t      -inf\t       nan\t\n",
      "    -inf\t      -inf\t       nan\t\n",
      "    -inf\t      -inf\t       nan\t\n",
      "    -inf\t      -inf\t       nan\t\n",
      "    -inf\t      -inf\t       nan\t\n",
      "    -inf\t      -inf\t       nan\t\n",
      "    -inf\t      -inf\t       nan\t\n",
      "    -inf\t      -inf\t       nan\t\n",
      "    -inf\t      -inf\t       nan\t\n",
      "    -inf\t      -inf\t       nan\t\n",
      "    -inf\t      -inf\t       nan\t\n",
      "    -inf\t      -inf\t       nan\t\n",
      "    -inf\t      -inf\t       nan\t\n",
      "    -inf\t      -inf\t       nan\t\n",
      "    -inf\t      -inf\t       nan\t\n",
      "    -inf\t      -inf\t       nan\t\n",
      "    -inf\t      -inf\t       nan\t\n",
      "    -inf\t      -inf\t       nan\t\n",
      "    -inf\t      -inf\t       nan\t\n",
      "    -inf\t      -inf\t       nan\t\n",
      "    -inf\t      -inf\t       nan\t\n",
      "    -inf\t      -inf\t       nan\t\n",
      "    -inf\t      -inf\t       nan\t\n",
      "    -inf\t      -inf\t       nan\t\n",
      "    -inf\t      -inf\t       nan\t\n",
      "    -inf\t      -inf\t       nan\t\n",
      "    -inf\t      -inf\t       nan\t\n",
      "    -inf\t      -inf\t       nan\t\n",
      "    -inf\t      -inf\t       nan\t\n",
      "    -inf\t      -inf\t       nan\t\n",
      "    -inf\t      -inf\t       nan\t\n",
      "    -inf\t      -inf\t       nan\t\n",
      "    -inf\t      -inf\t       nan\t\n",
      "    -inf\t      -inf\t       nan\t\n",
      "    -inf\t      -inf\t       nan\t\n",
      "    -inf\t      -inf\t       nan\t\n",
      "    -inf\t      -inf\t       nan\t\n",
      "    -inf\t      -inf\t       nan\t\n",
      "    -inf\t      -inf\t       nan\t\n",
      "    -inf\t      -inf\t       nan\t\n",
      "    -inf\t      -inf\t       nan\t\n",
      "    -inf\t      -inf\t       nan\t\n",
      "    -inf\t      -inf\t       nan\t\n",
      "    -inf\t      -inf\t       nan\t\n",
      "    -inf\t      -inf\t       nan\t\n",
      "    -inf\t      -inf\t       nan\t\n",
      "    -inf\t      -inf\t       nan\t\n",
      "    -inf\t      -inf\t       nan\t\n",
      "    -inf\t      -inf\t       nan\t\n",
      "    -inf\t      -inf\t       nan\t\n",
      "    -inf\t      -inf\t       nan\t\n",
      "    -inf\t      -inf\t       nan\t\n",
      "    -inf\t      -inf\t       nan\t\n",
      "    -inf\t      -inf\t       nan\t\n",
      "    -inf\t      -inf\t       nan\t\n",
      "    -inf\t      -inf\t       nan\t\n",
      "    -inf\t      -inf\t       nan\t\n",
      "    -inf\t      -inf\t       nan\t\n",
      "    -inf\t      -inf\t       nan\t\n",
      "    -inf\t      -inf\t       nan\t\n",
      "    -inf\t      -inf\t       nan\t\n",
      "    -inf\t      -inf\t       nan\t\n",
      "    -inf\t      -inf\t       nan\t\n",
      "    -inf\t      -inf\t       nan\t\n",
      "    -inf\t      -inf\t       nan\t\n",
      "    -inf\t      -inf\t       nan\t\n",
      "    -inf\t      -inf\t       nan\t\n",
      "    -inf\t      -inf\t       nan\t\n",
      "    -inf\t      -inf\t       nan\t\n",
      "    -inf\t      -inf\t       nan\t\n",
      "    -inf\t      -inf\t       nan\t\n",
      "    -inf\t      -inf\t       nan\t\n",
      "    -inf\t      -inf\t       nan\t\n",
      "    -inf\t      -inf\t       nan\t\n",
      "    -inf\t      -inf\t       nan\t\n",
      "    -inf\t      -inf\t       nan\t\n",
      "    -inf\t      -inf\t       nan\t\n",
      "    -inf\t      -inf\t       nan\t\n",
      "    -inf\t      -inf\t       nan\t\n",
      "    -inf\t      -inf\t       nan\t\n",
      "    -inf\t      -inf\t       nan\t\n",
      "    -inf\t      -inf\t       nan\t\n",
      "    -inf\t      -inf\t       nan\t\n",
      "    -inf\t      -inf\t       nan\t\n",
      "    -inf\t      -inf\t       nan\t\n",
      "    -inf\t      -inf\t       nan\t\n",
      "    -inf\t      -inf\t       nan\t\n",
      "    -inf\t      -inf\t       nan\t\n",
      "    -inf\t      -inf\t       nan\t\n",
      "    -inf\t      -inf\t       nan\t\n"
     ]
    },
    {
     "name": "stderr",
     "output_type": "stream",
     "text": [
      "/var/folders/d8/_nrt2sy9567f87n08gxx0xc00000gn/T/ipykernel_4284/3427404320.py:1: RuntimeWarning: overflow encountered in exp\n",
      "  g = lambda x: np.exp(-2*x) * (x-1) + x\n",
      "/var/folders/d8/_nrt2sy9567f87n08gxx0xc00000gn/T/ipykernel_4284/1089591089.py:7: RuntimeWarning: invalid value encountered in double_scalars\n",
      "  if (np.abs(p-p0) < epsilon):\n",
      "/var/folders/d8/_nrt2sy9567f87n08gxx0xc00000gn/T/ipykernel_4284/1089591089.py:9: RuntimeWarning: invalid value encountered in double_scalars\n",
      "  print('{:8.4f}\\t{:10.4f}\\t{:10.4f}\\t'.format(p, g(p), np.abs(p-p0)))\n"
     ]
    },
    {
     "data": {
      "image/png": "[encoded data removed]",
      "text/latex": [
       "$\\displaystyle -\\infty$"
      ],
      "text/plain": [
       "-inf"
      ]
     },
     "execution_count": 14,
     "metadata": {
      "filenames": {
       "image/png": "/Users/muhazaliebenlito/vscode/Metode-Numerik/_build/jupyter_execute/notebooks/Mencari_Akar_Persamaan_22_2.png"
      }
     },
     "output_type": "execute_result"
    }
   ],
   "source": [
    "g = lambda x: np.exp(-2*x) * (x-1) + x\n",
    "iterasi_fixed_point(g, 0)"
   ]
  },
  {
   "cell_type": "markdown",
   "metadata": {
    "id": "D9XhqGicbZes"
   },
   "source": [
    "### Analisis Kekonvergenan Iterasi Fixed Point\n",
    "\n",
    "Misalkan $p$ adalah akar sedemikian sehingga $p=g(p)$. Kemudian, kita tulis iterasi fixed point $x_k = g(x_{k-1})$ dan definisikan error\n",
    "\n",
    "$$e_{k-1} = x_{k-1} - p$$\n",
    "\n",
    "maka\n",
    "\n",
    "$$e_k = x_k - p = g(x_{k-1}) - p.$$\n",
    "\n",
    "Berdasarkan Teorema Nilai Rataan, maka didapat\n",
    "\n",
    "$$e_k = g'(\\xi)(x_{k-1} - p), \\hspace{10mm} \\xi \\in (x_{k-1}, p).$$\n",
    "\n",
    "Kemudian, kedua ruas kita mutlakan\n",
    "\n",
    "$$|e_k| = |g'(\\xi)(x_{k-1} - p)|, \\hspace{10mm} \\xi \\in (x_{k-1}, p).$$\n",
    "\n",
    "atau berdasarkan pertidaksamaan segitiga, maka dapat ditulis sebagai\n",
    "\n",
    "$$|e_k| \\leq |g'(\\xi)||(e_{k-1})|, \\hspace{10mm} \\xi \\in (x_{k-1}, p).$$\n",
    "\n",
    "__Observasi__:\n",
    "* Jika $|g'(\\xi)|< 1$, maka error akan berkurang.\n",
    "* Jika $|g'(\\xi)|> 1$, maka error akan bertambah.\n",
    "\n",
    "Dengan demikian, kita pilih $|g'(\\xi)|< 1$ sedemikian sehingga\n",
    "\n",
    "> $$|e_k| \\leq |g'(\\xi)||(e_{k-1})|, \\hspace{10mm} \\xi \\in (x_{k-1}, p).$$\n",
    "\n",
    "Dan dapat disimpulkan __tingkat konvergensi__ dari iterasi fixed point adalah __linear__.\n",
    "\n",
    "__Remark__. Jika diketahui untuk suatu $g(x)$, terdapat akar di $p\\in[a,b]$, maka nilai $|g'(\\xi)|$ dapat kita tentukan dengan cara memilih interval $\\xi \\in [a,b]$ sedemikian sehingga\n",
    "\n",
    "$$m = \\max_{\\xi \\in [a,b]} |g'(\\xi)|.$$  \n",
    "\n",
    "\n"
   ]
  },
  {
   "cell_type": "markdown",
   "metadata": {
    "id": "MZRXXlTxdZkV"
   },
   "source": [
    "__Perbaikan__\n",
    "\n",
    "Pilih: $g(x) = -e^{-2x}\\cdot (x-1) + x$"
   ]
  },
  {
   "cell_type": "code",
   "execution_count": 15,
   "metadata": {
    "colab": {
     "base_uri": "https://localhost:8080/"
    },
    "id": "U_qkgi2Z7y4c",
    "outputId": "52554aea-9c04-447d-f2a3-70c9b58adc55"
   },
   "outputs": [
    {
     "name": "stdout",
     "output_type": "stream",
     "text": [
      "-2*(1 - x)*exp(-2*x) + 1 - exp(-2*x)\n"
     ]
    }
   ],
   "source": [
    "x = sympy.symbols('x')\n",
    "g_simbol = -sympy.exp(-2*x) * (x-1) + x\n",
    "g_aksen = sympy.diff(g_simbol, x)\n",
    "print(g_aksen)"
   ]
  },
  {
   "cell_type": "code",
   "execution_count": 16,
   "metadata": {
    "colab": {
     "base_uri": "https://localhost:8080/"
    },
    "id": "og3zpGT5d9Ky",
    "outputId": "59992414-2b0e-4729-eb16-106ce446a475"
   },
   "outputs": [
    {
     "name": "stdout",
     "output_type": "stream",
     "text": [
      "0.8646647167633873\n"
     ]
    }
   ],
   "source": [
    "ksi = 1\n",
    "g_aksen_eval = sympy.lambdify(x, g_aksen, \"numpy\")\n",
    "print(np.abs(g_aksen_eval(ksi)))"
   ]
  },
  {
   "cell_type": "code",
   "execution_count": 17,
   "metadata": {
    "colab": {
     "base_uri": "https://localhost:8080/",
     "height": 87
    },
    "id": "YWnVVzLHeBX7",
    "outputId": "be27a438-800b-4c05-a42e-651559fd8571"
   },
   "outputs": [
    {
     "name": "stdout",
     "output_type": "stream",
     "text": [
      "     p\t\t     g(p)      \tresidual\n",
      "------------------------------------------------\n",
      "  1.0000\t    1.0000\t    1.0000\t\n"
     ]
    },
    {
     "data": {
      "image/png": "[encoded data removed]",
      "text/latex": [
       "$\\displaystyle 1.0$"
      ],
      "text/plain": [
       "1.0"
      ]
     },
     "execution_count": 17,
     "metadata": {
      "filenames": {
       "image/png": "/Users/muhazaliebenlito/vscode/Metode-Numerik/_build/jupyter_execute/notebooks/Mencari_Akar_Persamaan_27_1.png"
      }
     },
     "output_type": "execute_result"
    }
   ],
   "source": [
    "g = lambda x: -np.exp(-2*x) * (x-1) + x\n",
    "iterasi_fixed_point(g, 0)"
   ]
  },
  {
   "cell_type": "markdown",
   "metadata": {
    "id": "i5y_sE9hemst"
   },
   "source": [
    "Dari __Contoh 2__ maka dapat disimpulkan bahwa pemilihan $g(x)$ berpengaruh terhadap solusi."
   ]
  },
  {
   "cell_type": "markdown",
   "metadata": {
    "id": "lZBgO-XQeYoi"
   },
   "source": [
    "### Contoh 3: \n",
    "\n",
    "Diberikan $f(x) = x^3 + 4x^2 - 10$ terdapat akar tunggal untuk $f(x) = 0$ di $[1,2]$. Kita dapat membuat beberapa bentuk $g(x)$ menggunakan manipulasi aljabar dari persamaan $x^3 + 4x^2 - 10 = 0$. Sehingga kita mendapatkan\n",
    "\n",
    "$$\n",
    "\\begin{array}{cc}\n",
    "  4x^2 &=& 10 - x^3\\\\\n",
    "  x^2 &=& \\frac{1}{4}(10-x^3)\\\\\n",
    "  x &=& \\pm \\frac{1}{2} \\sqrt{(10-x^3)}\n",
    "\\end{array}.\n",
    "$$\n",
    "\n",
    "Berikut adalah beberapa variasi bentuk $g(x)$ yang mungkin untuk persamaan $x^3 + 4x^2 - 10 = 0$:\n",
    "1. $g_1(x) = x - x^3 - 4x^2 + 10$\n",
    "2. $g_2(x) = \\sqrt{ \\frac{10}{x} - 4x}$ (hati-hati!)\n",
    "3. $g_3(x) = \\frac{1}{2} \\sqrt{10-x^3}$ (hati-hati!)\n",
    "4. $g_4(x) = \\sqrt{\\frac{10}{4+x}}$\n",
    "5. $g_5(x) = x - \\frac{x^3 + 4x^2 - 10}{3x^2 + 8x}$"
   ]
  },
  {
   "cell_type": "code",
   "execution_count": 18,
   "metadata": {
    "colab": {
     "base_uri": "https://localhost:8080/",
     "height": 397
    },
    "id": "aZWmkdfeeEPS",
    "outputId": "d368a1e1-13f5-474d-df65-41b7fd0a4d8c"
   },
   "outputs": [
    {
     "data": {
      "image/png": "[encoded data removed]",
      "text/plain": [
       "<Figure size 576x432 with 1 Axes>"
      ]
     },
     "metadata": {
      "filenames": {
       "image/png": "/Users/muhazaliebenlito/vscode/Metode-Numerik/_build/jupyter_execute/notebooks/Mencari_Akar_Persamaan_30_0.png"
      },
      "needs_background": "light"
     },
     "output_type": "display_data"
    }
   ],
   "source": [
    "x = np.linspace(1, 2, 100)\n",
    "g1 = x - x**3 - 4*x**2 + 10\n",
    "#g2 = np.sqrt((10/4) - 4*x)\n",
    "g3 = 0.5 * np.sqrt(10 - x**3)\n",
    "g4 = np.sqrt(10/(4+x))\n",
    "g5 = x - ((x**3 + 4*x**2 - 10)/(3*x**2 + 8*x))\n",
    "\n",
    "plt.figure(figsize=(8,6))\n",
    "plt.plot(x, g5, x, x, 'r--')\n",
    "plt.xlabel('x', fontsize=16)\n",
    "plt.ylabel(\"$f$, $g$\", fontsize=16)\n",
    "# plt.ticklabel_format(axis='y', style='sci', scilimits=(-1,1))\n",
    "plt.ylim([-2, 2.5])\n",
    "plt.xlim([1, 2])\n",
    "plt.grid()\n",
    "plt.legend([\"$f$\", \"$g$\"], loc='best');"
   ]
  },
  {
   "cell_type": "markdown",
   "metadata": {
    "id": "_c2lRmzblXbx"
   },
   "source": [
    "Cek nilai $|g'(x)|$ untuk masing-masing $g_1, g_2, g_3, g_4, g_5$."
   ]
  },
  {
   "cell_type": "code",
   "execution_count": 19,
   "metadata": {
    "colab": {
     "base_uri": "https://localhost:8080/"
    },
    "id": "lJX29hIVjlhw",
    "outputId": "dcf78778-c20e-43ee-db2b-df94024fc87d"
   },
   "outputs": [
    {
     "name": "stdout",
     "output_type": "stream",
     "text": [
      "-3*x**2 - 8*x + 1\n",
      "10\n"
     ]
    }
   ],
   "source": [
    "# g1\n",
    "x = sympy.symbols('x')\n",
    "g_simbol = x - x**3 - 4*x**2 + 10\n",
    "g_aksen = sympy.diff(g_simbol, x)\n",
    "print(g_aksen)\n",
    "\n",
    "ksi = 1\n",
    "g_aksen_eval = sympy.lambdify(x, g_aksen, \"numpy\")\n",
    "print(np.abs(g_aksen_eval(ksi)))"
   ]
  },
  {
   "cell_type": "code",
   "execution_count": 20,
   "metadata": {
    "colab": {
     "base_uri": "https://localhost:8080/"
    },
    "id": "WU9rQhNRlSRo",
    "outputId": "d99d41a8-0fa0-458d-b090-35829b5b76ec"
   },
   "outputs": [
    {
     "name": "stdout",
     "output_type": "stream",
     "text": [
      "-0.75*x**2/sqrt(10 - x**3)\n",
      "0.25\n"
     ]
    }
   ],
   "source": [
    "# g3\n",
    "x = sympy.symbols('x')\n",
    "g_simbol = 0.5 * sympy.sqrt(10 - x**3)\n",
    "g_aksen = sympy.diff(g_simbol, x)\n",
    "print(g_aksen)\n",
    "\n",
    "ksi = 1\n",
    "g_aksen_eval = sympy.lambdify(x, g_aksen, \"numpy\")\n",
    "print(np.abs(g_aksen_eval(ksi)))"
   ]
  },
  {
   "cell_type": "code",
   "execution_count": 21,
   "metadata": {
    "colab": {
     "base_uri": "https://localhost:8080/"
    },
    "id": "3hjP-qmZlsTW",
    "outputId": "ed954cd9-069d-4546-a74b-b995c8b6f32e"
   },
   "outputs": [
    {
     "name": "stdout",
     "output_type": "stream",
     "text": [
      "-sqrt(10)*sqrt(1/(x + 4))/(2*(x + 4))\n",
      "0.1414213562373095\n"
     ]
    }
   ],
   "source": [
    "# g4\n",
    "x = sympy.symbols('x')\n",
    "g_simbol = sympy.sqrt(10/(4+x))\n",
    "g_aksen = sympy.diff(g_simbol, x)\n",
    "print(g_aksen)\n",
    "\n",
    "ksi = 1\n",
    "g_aksen_eval = sympy.lambdify(x, g_aksen, \"numpy\")\n",
    "print(np.abs(g_aksen_eval(ksi)))"
   ]
  },
  {
   "cell_type": "code",
   "execution_count": 22,
   "metadata": {
    "colab": {
     "base_uri": "https://localhost:8080/"
    },
    "id": "7-z3XfqomEPd",
    "outputId": "8fe3bc86-1cf0-44fc-dabf-15fc6463bf2d"
   },
   "outputs": [
    {
     "name": "stdout",
     "output_type": "stream",
     "text": [
      "-(-6*x - 8)*(x**3 + 4*x**2 - 10)/(3*x**2 + 8*x)**2\n",
      "0.5785123966942148\n"
     ]
    }
   ],
   "source": [
    "# g5\n",
    "x = sympy.symbols('x')\n",
    "g_simbol = x - ((x**3 + 4*x**2 - 10)/(3*x**2 + 8*x))\n",
    "g_aksen = sympy.diff(g_simbol, x)\n",
    "print(g_aksen)\n",
    "\n",
    "ksi = 1\n",
    "g_aksen_eval = sympy.lambdify(x, g_aksen, \"numpy\")\n",
    "print(np.abs(g_aksen_eval(ksi)))"
   ]
  },
  {
   "cell_type": "markdown",
   "metadata": {
    "id": "UWCveu2CnrrI"
   },
   "source": [
    "Hasil iterasi fixed point untuk $g_1, g_2, g_3, g_4, g_5$:"
   ]
  },
  {
   "cell_type": "code",
   "execution_count": 23,
   "metadata": {
    "colab": {
     "base_uri": "https://localhost:8080/",
     "height": 450
    },
    "id": "mKMoevjqmMkn",
    "outputId": "6d7ddb8e-54d0-4395-a0c7-7e9a3ba1ed2a"
   },
   "outputs": [
    {
     "name": "stdout",
     "output_type": "stream",
     "text": [
      "     p\t\t     g(p)      \tresidual\n",
      "------------------------------------------------\n",
      "  6.0000\t -344.0000\t    5.0000\t\n",
      "-344.0000\t40233906.0000\t  350.0000\t\n",
      "40233906.0000\t-65129333514558058266624.0000\t40234250.0000\t\n",
      "-65129333514558058266624.0000\t276267566256213176812460591377636390697531392742540224134413008502784.0000\t65129333514558100209664.0000\t\n",
      "276267566256213176812460591377636390697531392742540224134413008502784.0000\t-21085781678484218373029710589143631921317875000289319058960190154839362740347082366049129581190236367284319210288916507514866804543042709750411734218555823868097599405777061398665815022859218193480385822720.0000\t276267566256213176812460591377636390697531392742540224134413008502784.0000\t\n"
     ]
    },
    {
     "ename": "OverflowError",
     "evalue": "int too large to convert to float",
     "output_type": "error",
     "traceback": [
      "\u001b[0;31m---------------------------------------------------------------------------\u001b[0m",
      "\u001b[0;31mOverflowError\u001b[0m                             Traceback (most recent call last)",
      "\u001b[0;32m/var/folders/d8/_nrt2sy9567f87n08gxx0xc00000gn/T/ipykernel_4284/3585757220.py\u001b[0m in \u001b[0;36m<module>\u001b[0;34m\u001b[0m\n\u001b[1;32m      4\u001b[0m \u001b[0mg5\u001b[0m \u001b[0;34m=\u001b[0m \u001b[0;32mlambda\u001b[0m \u001b[0mx\u001b[0m\u001b[0;34m:\u001b[0m \u001b[0mx\u001b[0m \u001b[0;34m-\u001b[0m \u001b[0;34m(\u001b[0m\u001b[0;34m(\u001b[0m\u001b[0mx\u001b[0m\u001b[0;34m**\u001b[0m\u001b[0;36m3\u001b[0m \u001b[0;34m+\u001b[0m \u001b[0;36m4\u001b[0m\u001b[0;34m*\u001b[0m\u001b[0mx\u001b[0m\u001b[0;34m**\u001b[0m\u001b[0;36m2\u001b[0m \u001b[0;34m-\u001b[0m \u001b[0;36m10\u001b[0m\u001b[0;34m)\u001b[0m\u001b[0;34m/\u001b[0m\u001b[0;34m(\u001b[0m\u001b[0;36m3\u001b[0m\u001b[0;34m*\u001b[0m\u001b[0mx\u001b[0m\u001b[0;34m**\u001b[0m\u001b[0;36m2\u001b[0m \u001b[0;34m+\u001b[0m \u001b[0;36m8\u001b[0m\u001b[0;34m*\u001b[0m\u001b[0mx\u001b[0m\u001b[0;34m)\u001b[0m\u001b[0;34m)\u001b[0m\u001b[0;34m\u001b[0m\u001b[0;34m\u001b[0m\u001b[0m\n\u001b[1;32m      5\u001b[0m \u001b[0;34m\u001b[0m\u001b[0m\n\u001b[0;32m----> 6\u001b[0;31m \u001b[0miterasi_fixed_point\u001b[0m\u001b[0;34m(\u001b[0m\u001b[0mg1\u001b[0m\u001b[0;34m,\u001b[0m \u001b[0;36m1\u001b[0m\u001b[0;34m)\u001b[0m\u001b[0;34m\u001b[0m\u001b[0;34m\u001b[0m\u001b[0m\n\u001b[0m",
      "\u001b[0;32m/var/folders/d8/_nrt2sy9567f87n08gxx0xc00000gn/T/ipykernel_4284/1089591089.py\u001b[0m in \u001b[0;36miterasi_fixed_point\u001b[0;34m(func, p0, N, epsilon)\u001b[0m\n\u001b[1;32m      7\u001b[0m         \u001b[0;32mif\u001b[0m \u001b[0;34m(\u001b[0m\u001b[0mnp\u001b[0m\u001b[0;34m.\u001b[0m\u001b[0mabs\u001b[0m\u001b[0;34m(\u001b[0m\u001b[0mp\u001b[0m\u001b[0;34m-\u001b[0m\u001b[0mp0\u001b[0m\u001b[0;34m)\u001b[0m \u001b[0;34m<\u001b[0m \u001b[0mepsilon\u001b[0m\u001b[0;34m)\u001b[0m\u001b[0;34m:\u001b[0m\u001b[0;34m\u001b[0m\u001b[0;34m\u001b[0m\u001b[0m\n\u001b[1;32m      8\u001b[0m             \u001b[0;32mbreak\u001b[0m\u001b[0;34m\u001b[0m\u001b[0;34m\u001b[0m\u001b[0m\n\u001b[0;32m----> 9\u001b[0;31m         \u001b[0mprint\u001b[0m\u001b[0;34m(\u001b[0m\u001b[0;34m'{:8.4f}\\t{:10.4f}\\t{:10.4f}\\t'\u001b[0m\u001b[0;34m.\u001b[0m\u001b[0mformat\u001b[0m\u001b[0;34m(\u001b[0m\u001b[0mp\u001b[0m\u001b[0;34m,\u001b[0m \u001b[0mg\u001b[0m\u001b[0;34m(\u001b[0m\u001b[0mp\u001b[0m\u001b[0;34m)\u001b[0m\u001b[0;34m,\u001b[0m \u001b[0mnp\u001b[0m\u001b[0;34m.\u001b[0m\u001b[0mabs\u001b[0m\u001b[0;34m(\u001b[0m\u001b[0mp\u001b[0m\u001b[0;34m-\u001b[0m\u001b[0mp0\u001b[0m\u001b[0;34m)\u001b[0m\u001b[0;34m)\u001b[0m\u001b[0;34m)\u001b[0m\u001b[0;34m\u001b[0m\u001b[0;34m\u001b[0m\u001b[0m\n\u001b[0m\u001b[1;32m     10\u001b[0m         \u001b[0mp0\u001b[0m \u001b[0;34m=\u001b[0m \u001b[0mp\u001b[0m\u001b[0;34m\u001b[0m\u001b[0;34m\u001b[0m\u001b[0m\n\u001b[1;32m     11\u001b[0m     \u001b[0;32mreturn\u001b[0m \u001b[0mp\u001b[0m\u001b[0;34m\u001b[0m\u001b[0;34m\u001b[0m\u001b[0m\n",
      "\u001b[0;31mOverflowError\u001b[0m: int too large to convert to float"
     ]
    }
   ],
   "source": [
    "g1 = lambda x: x - x**3 - 4*x**2 + 10\n",
    "g3 = lambda x: 0.5 * np.sqrt(10 - x**3)\n",
    "g4 = lambda x: np.sqrt(10/(4+x))\n",
    "g5 = lambda x: x - ((x**3 + 4*x**2 - 10)/(3*x**2 + 8*x))\n",
    "\n",
    "iterasi_fixed_point(g1, 1)"
   ]
  },
  {
   "cell_type": "code",
   "execution_count": 94,
   "metadata": {
    "colab": {
     "base_uri": "https://localhost:8080/",
     "height": 171
    },
    "id": "D43uPOsam2Sb",
    "outputId": "dd7e286e-1832-4cad-f905-0a0b5009fb48"
   },
   "outputs": [
    {
     "name": "stdout",
     "output_type": "stream",
     "text": [
      "     p\t\t     g(p)      \tresidual\n",
      "------------------------------------------------\n",
      "  1.4142\t    1.3590\t    0.4142\t\n",
      "  1.3590\t    1.3660\t    0.0552\t\n",
      "  1.3660\t    1.3651\t    0.0070\t\n",
      "  1.3651\t    1.3652\t    0.0009\t\n",
      "  1.3652\t    1.3652\t    0.0001\t\n",
      "  1.3652\t    1.3652\t    0.0000\t\n"
     ]
    },
    {
     "data": {
      "image/png": "[encoded data removed]",
      "text/latex": [
       "$\\displaystyle 1.36523021992706$"
      ],
      "text/plain": [
       "1.3652302199270552"
      ]
     },
     "execution_count": 94,
     "metadata": {
      "filenames": {
       "image/png": "/Users/muhazaliebenlito/vscode/Metode-Numerik/_build/jupyter_execute/notebooks/Mencari_Akar_Persamaan_38_1.png"
      }
     },
     "output_type": "execute_result"
    }
   ],
   "source": [
    "iterasi_fixed_point(g4, 1)"
   ]
  },
  {
   "cell_type": "code",
   "execution_count": 95,
   "metadata": {
    "colab": {
     "base_uri": "https://localhost:8080/",
     "height": 121
    },
    "id": "fPzHhZlmm-wq",
    "outputId": "ae78139c-2762-4725-fbf0-053cbbb86f44"
   },
   "outputs": [
    {
     "name": "stdout",
     "output_type": "stream",
     "text": [
      "     p\t\t     g(p)      \tresidual\n",
      "------------------------------------------------\n",
      "  1.4545\t    1.3689\t    0.4545\t\n",
      "  1.3689\t    1.3652\t    0.0856\t\n",
      "  1.3652\t    1.3652\t    0.0037\t\n"
     ]
    },
    {
     "data": {
      "image/png": "[encoded data removed]",
      "text/latex": [
       "$\\displaystyle 1.36523001343537$"
      ],
      "text/plain": [
       "1.3652300134353668"
      ]
     },
     "execution_count": 95,
     "metadata": {
      "filenames": {
       "image/png": "/Users/muhazaliebenlito/vscode/Metode-Numerik/_build/jupyter_execute/notebooks/Mencari_Akar_Persamaan_39_1.png"
      }
     },
     "output_type": "execute_result"
    }
   ],
   "source": [
    "iterasi_fixed_point(g5, 1)"
   ]
  },
  {
   "cell_type": "markdown",
   "metadata": {
    "id": "PKQ75RZjFqOE"
   },
   "source": [
    "## Metode Newton\n",
    "* Metode Newton atau yang lebih dikenal sebagai __Newton-Raphson__ adalah salah satu metode yang _powerful_ untuk menyelesaikan masalah pencarian akar pada persamaan nonlinear.\n",
    "* Metode ini dibentuk dengan memanfaatkan polinomial Taylor order pertama untuk merepresentasikan suatu fungsi $f(x)$.\n",
    "\n",
    "__Definisi__: Diberikan $f\\in C^2[a,b]$ dan terdapat $p_0 \\in [a,b]$ sebagai nilai aproksimasi untuk akar $p$ sedemikian sehingga $f'(p_0) \\neq 0$ dan $|p-p_0|$ kecil. Perhatikan polinomial Taylor order pertama untuk suatu $f(x)$ terhadap titik $p_0$ dan $x = p$,\n",
    "\n",
    "$$\n",
    "f(p) = f(p_0) + (p-p_0)f'(p_0)+\\frac{(p-p_0)^2}{2}f''(\\xi(p)), \\hspace{10mm} \\xi(p) \\in (p,p_0).\n",
    "$$\n",
    "\n",
    "Karena $p$ adalah akar maka $f(p)=0$, \n",
    "\n",
    "$$\n",
    "0 = f(p_0) + (p-p_0)f'(p_0)+\\frac{(p-p_0)^2}{2}f''(\\xi(p)), \\hspace{10mm} \\xi(p) \\in (p,p_0).\n",
    "$$\n",
    "\n",
    "Karena diasumsikan $|p-p_0|$ kecil, maka $(p-p_0)^2 \\approx 0$, sehingga\n",
    "\n",
    "$$\n",
    "0 = f(p_0) + (p-p_0)f'(p_0)\n",
    "$$\n",
    "\n",
    "atau\n",
    "\n",
    "$$\n",
    "p \\approx p_0 - \\frac{f(p_0)}{f'(p_0)} \\equiv p_1.\n",
    "$$\n",
    "\n",
    "Dengan tebakan awal $p_0$, kita dapatkan suatu barisan solusi $\\{p_k\\}_{k=0}^{\\infty}$, sehingga bentuk iteratif untuk metode Newton dapat kita tuliskan\n",
    "\n",
    "$$\n",
    "p_k = p_{k-1} - \\frac{f(p_{k-1})}{f'(p_{k-1})},\n",
    "$$\n",
    "\n",
    "untuk $k = 1,2,\\cdots$.\n",
    "\n",
    "__Stopping Criteria__:\n",
    "* $|p_k - p_{k-1}| < \\varepsilon$\n",
    "* $\\frac{|p_k - p_{k-1}|}{|p_k|} < \\varepsilon$\n",
    "* $|f(p_k)| < \\varepsilon$\n",
    "* iterasi maksimum sudah terpenuhi."
   ]
  },
  {
   "cell_type": "markdown",
   "metadata": {
    "id": "S-wIsW6rMRGJ"
   },
   "source": [
    "### Implementasi Metode Newton"
   ]
  },
  {
   "cell_type": "code",
   "execution_count": 96,
   "metadata": {
    "id": "UH4AMI8bMP7R"
   },
   "outputs": [],
   "source": [
    "def newton(func, dfunc, p0, N=100, epsilon=1e-5):\n",
    "    print('     p\\t\\t     f(p)      \\tresidual')\n",
    "    print('------------------------------------------------')\n",
    "    f = func\n",
    "    df = dfunc\n",
    "    for i in range(N):\n",
    "        p = p0 - f(p0)/df(p0)\n",
    "        if (np.abs(p-p0) < epsilon):\n",
    "            break    \n",
    "        print('{:8.4f}\\t{:10.4f}\\t{:10.5E}\\t'.format(p, f(p), np.abs(p-p0)))\n",
    "        p0 = p\n",
    "    return p"
   ]
  },
  {
   "cell_type": "markdown",
   "metadata": {
    "id": "hqcqf3AnMAXN"
   },
   "source": [
    "__Contoh 1__:\n",
    "\n",
    "Tentukan akar dari fungsi $f(x)=\\cos(x) - x$."
   ]
  },
  {
   "cell_type": "code",
   "execution_count": 97,
   "metadata": {
    "id": "0dty9PclFIS8"
   },
   "outputs": [],
   "source": [
    "f = lambda x: np.cos(x) - x"
   ]
  },
  {
   "cell_type": "code",
   "execution_count": 98,
   "metadata": {
    "colab": {
     "base_uri": "https://localhost:8080/",
     "height": 268
    },
    "id": "n9vPh5nGNaJ0",
    "outputId": "4ceb657b-73ae-4896-f0ed-ed542326111a"
   },
   "outputs": [
    {
     "data": {
      "image/png": "[encoded data removed]",
      "text/plain": [
       "<Figure size 432x288 with 1 Axes>"
      ]
     },
     "metadata": {
      "filenames": {
       "image/png": "/Users/muhazaliebenlito/vscode/Metode-Numerik/_build/jupyter_execute/notebooks/Mencari_Akar_Persamaan_45_0.png"
      },
      "needs_background": "light"
     },
     "output_type": "display_data"
    }
   ],
   "source": [
    "X = np.linspace(-10,10, 100)\n",
    "g = np.zeros(X.size)\n",
    "plt.plot(X,g);\n",
    "plt.plot(X, f(X), label='$f(x)$');\n",
    "plt.legend();"
   ]
  },
  {
   "cell_type": "markdown",
   "metadata": {
    "id": "4FwCINFoOfJV"
   },
   "source": [
    "Implementasikan metode newton untuk mencari akar dari $f(x)$. Pertama, kita cari $f'(x)$ terlebih dahulu"
   ]
  },
  {
   "cell_type": "code",
   "execution_count": 99,
   "metadata": {
    "id": "6hGeBzz_NbdE"
   },
   "outputs": [],
   "source": [
    "x = sympy.symbols('x')\n",
    "f_simbol = sympy.cos(x) - x \n",
    "f_diff = sympy.diff(f_simbol, x)\n",
    "f_aksen = sympy.lambdify(x, f_diff, \"numpy\")\n"
   ]
  },
  {
   "cell_type": "markdown",
   "metadata": {
    "id": "CVNRK3uQQoc2"
   },
   "source": [
    "Kemudian pilih tebakan awal, misal $p_0=1$ dan cari akar menggunakan metode Newton "
   ]
  },
  {
   "cell_type": "code",
   "execution_count": 102,
   "metadata": {
    "colab": {
     "base_uri": "https://localhost:8080/"
    },
    "id": "pdNVn9_6PAVV",
    "outputId": "7e08647a-45b6-44cc-afb8-8a440a049af5"
   },
   "outputs": [
    {
     "name": "stdout",
     "output_type": "stream",
     "text": [
      "     p\t\t     f(p)      \tresidual\n",
      "------------------------------------------------\n",
      "  0.7504\t   -0.0189\t2.49636E-01\t\n",
      "  0.7391\t   -0.0000\t1.12510E-02\t\n",
      "  0.7391\t   -0.0000\t2.77575E-05\t\n",
      "  0.7391\t    0.0000\t1.70123E-10\t\n"
     ]
    }
   ],
   "source": [
    "p0 = 1\n",
    "p = newton(f, f_aksen, p0, epsilon=1e-10)\n"
   ]
  },
  {
   "cell_type": "code",
   "execution_count": 105,
   "metadata": {
    "colab": {
     "base_uri": "https://localhost:8080/",
     "height": 268
    },
    "id": "39oF16uqPzM7",
    "outputId": "d2ffb653-3932-4290-f147-6eb299a16a06"
   },
   "outputs": [
    {
     "data": {
      "image/png": "[encoded data removed]",
      "text/plain": [
       "<Figure size 432x288 with 1 Axes>"
      ]
     },
     "metadata": {
      "filenames": {
       "image/png": "/Users/muhazaliebenlito/vscode/Metode-Numerik/_build/jupyter_execute/notebooks/Mencari_Akar_Persamaan_50_0.png"
      },
      "needs_background": "light"
     },
     "output_type": "display_data"
    }
   ],
   "source": [
    "X = np.linspace(-10,10, 100)\n",
    "g = np.zeros(X.size)\n",
    "plt.plot(X,g);\n",
    "plt.plot(X, f(X), label='$f(x)$');\n",
    "plt.annotate('p = {:4.4f}'.format(p),(p+0.5,0.5))\n",
    "plt.scatter(p, 0, color='red');\n",
    "plt.legend();"
   ]
  },
  {
   "cell_type": "markdown",
   "metadata": {
    "id": "cpvbSLDpTcqk"
   },
   "source": [
    "### Analisis Kekonvergenan Metode Newton\n",
    "\n",
    "Misalkan $p$ adalah akar sehingga $f(p)=0$ dan $p=g(p)$. Definisikan error\n",
    "\n",
    "$$ e_k = |p_k - p| = |g(p_{k-1}) - g(p)|.$$\n",
    "\n",
    "Berdasarkan Ekspansi Taylor untuk $g(p_{k-1})$ di $x=p$, maka\n",
    "\n",
    "$$\n",
    "g(p_{k-1}) = g(p) + (p_{k-1} - p) g'(p) + \\frac{(p_{k-1} - p)^2}{2}g''(\\xi), \\hspace{10mm} \\xi \\in (p_{k-1}, p).\n",
    "$$\n",
    "\n",
    "Pandang sebagai fixed point yang 'optimal'\n",
    "\n",
    "$$x = g(x) = x-\\frac{f(x)}{f'(x)}$$\n",
    "\n",
    "maka \n",
    "\n",
    "$$\n",
    "g'(x) = 1-\\left[ \\frac{f'(x)f'(x) - f(x) f''(x)}{(f'(x))^2} \\right] = \\frac{f(x)f''(x)}{(f'(x))^2}\n",
    "$$\n",
    "\n",
    "Jika kita asumsikan $p$ adalah akar maka $f(p) = 0$ sehingga\n",
    "\n",
    "$$\n",
    "g'(p) = \\frac{f(p)f''(p)}{(f'(p))^2} = 0.\n",
    "$$\n",
    "\n",
    "Dengan demikian, karena $g'(p)=0$ maka\n",
    "\n",
    "$$g(p_{k-1}) = g(p) +  \\frac{(p_{k-1} - p)^2}{2}g''(\\xi), \\hspace{10mm} \\xi \\in (p_{k-1}, p).$$\n",
    "\n",
    "Subtitusikan bentuk $g(p_{k-1})$ ke persamaan $e_k$, maka didapat\n",
    "\n",
    "$$\n",
    "\\begin{array}{cc}\n",
    "e_k &=& |g(p_{k-1}) - g(p)| \\\\\n",
    "     &=& \\left|g(p) +  \\frac{(p_{k-1} - p)^2}{2}g''(\\xi) - g(p) \\right| \\\\\n",
    "     &=& \\left|\\frac{(p_{k-1} - p)^2}{2}g''(\\xi) \\right| \\\\\n",
    "     &\\leq& \\left|(p_{k-1} - p)^2 \\right|  \\left| \\frac{g''(\\xi)}{2} \\right| \\\\\n",
    "     &\\leq& \\left|(e_{k-1})^2 \\right|  \\left| \\frac{g''(\\xi)}{2} \\right| \\\\\n",
    "\\end{array}\n",
    "$$\n",
    "\n",
    "Jika kita misalkan $M = \\left| \\frac{g''(\\xi)}{2} \\right|$ maka \n",
    "\n",
    "> $$\n",
    "e_k \\leq M e_{k-1}^{2}\n",
    "$$\n",
    "\n",
    "Jadi, tingkat konvergensi dari metode Newton adalah __kuadratik__."
   ]
  },
  {
   "cell_type": "markdown",
   "metadata": {
    "id": "LnEgldsmTH5v"
   },
   "source": [
    "## Metode Secant\n",
    "\n",
    "Kelemahan dari metode Newton adalah kita perlu untuk mencari turunan dari $f(x)$. Hal ini dapat menimbulkan masalah jika kita menemukan bentuk $f(x)$ yang kompleks atau dengan kata lain turunannya sulit ditemukan. Berdasarkan definisi dari turunan, \n",
    "\n",
    "$$\n",
    "f'(x) = \\lim_{\\Delta x \\rightarrow 0} \\frac{f(x) - f(x + \\Delta x)}{\\Delta x}\n",
    "$$\n",
    "\n",
    "kita dapat mengaproksimasi turunan dari $f(x)$ yaitu\n",
    "\n",
    "$$\n",
    "f'(x_k) \\approx \\frac{f(x_k) - f(x_{k-1})}{x_k - x_{k-1}}.\n",
    "$$\n",
    "\n",
    "Panggil skema iterasi Newton:\n",
    "\n",
    "$$\n",
    "p_k = p_{k-1} - \\frac{f(p_{k-1})}{f'(p_{k-1})}\n",
    "$$\n",
    "\n",
    "Jika terdapat $p_{k-2}$ yang dekat dengan $p_{k-1}$, maka\n",
    "\n",
    "$$\n",
    "f'(p_{k-1}) \\approx \\frac{f(p_{k-1}) - f(p_{k-2})}{p_{k-1} - p_{k-2}}.\n",
    "$$\n",
    "\n",
    "Kemudian subtitusikan $f'(p_{k-1})$ ke skema iterasi Newton, maka kita dapatkan skema iterasi untuk __Metode Secant__\n",
    "\n",
    "$$\n",
    "p_k = p_{k-1} - \\frac{f(p_{k-1})(p_{k-1} - p_{k-2})}{f(p_{k-1}) - f(p_{k-2})}\n",
    "$$\n",
    "\n",
    "__Catatan__: Metode Secant membutuhkan dua tebakan awal $p_0$ dan $p_1$ yang dekat. \n"
   ]
  },
  {
   "cell_type": "markdown",
   "metadata": {
    "id": "tSclamQduxti"
   },
   "source": [
    "### Implementasi Metode Secant"
   ]
  },
  {
   "cell_type": "code",
   "execution_count": 110,
   "metadata": {
    "id": "Rajrj-tXu2C8"
   },
   "outputs": [],
   "source": [
    "def secant(func, p0, p1, N=100, epsilon=1e-5):\n",
    "    print('     p\\t\\t     f(p)      \\tresidual')\n",
    "    print('------------------------------------------------')\n",
    "    q0 = func(p0)\n",
    "    q1 = func(p1)\n",
    "    for i in range(N):\n",
    "        p = p1 - q1*(p1-p0)/(q1-q0)\n",
    "        if (np.abs(p-p1) < epsilon):\n",
    "            break    \n",
    "        print('{:8.4f}\\t{:10.4f}\\t{:10.5E}\\t'.format(p, f(p), np.abs(p-p0)))\n",
    "        p0 = p1\n",
    "        q0 = q1\n",
    "        p1 = p\n",
    "        q1 = func(p)\n",
    "    return p"
   ]
  },
  {
   "cell_type": "markdown",
   "metadata": {
    "id": "D5wEP4oRC4fk"
   },
   "source": [
    "__Contoh 1__\n",
    "\n",
    "Tentukan akar dari fungsi $f(x)=\\cos(x) - x$"
   ]
  },
  {
   "cell_type": "code",
   "execution_count": 112,
   "metadata": {
    "colab": {
     "base_uri": "https://localhost:8080/"
    },
    "id": "Ns1jxnXbDDZS",
    "outputId": "5b5b5237-b268-4f54-b10a-a4800ad0e9f0"
   },
   "outputs": [
    {
     "name": "stdout",
     "output_type": "stream",
     "text": [
      "     p\t\t     f(p)      \tresidual\n",
      "------------------------------------------------\n",
      "  0.6851\t    0.0893\t6.85073E-01\t\n",
      "  0.7363\t    0.0047\t2.63701E-01\t\n",
      "  0.7391\t   -0.0001\t5.40460E-02\t\n",
      "  0.7391\t    0.0000\t2.78611E-03\t\n",
      "  0.7391\t    0.0000\t3.42287E-05\t\n"
     ]
    }
   ],
   "source": [
    "f = lambda x: np.cos(x) - x\n",
    "p0 = 0\n",
    "p1 = 1\n",
    "p = secant(f, p0, p1, epsilon=1e-10)"
   ]
  },
  {
   "cell_type": "markdown",
   "metadata": {
    "id": "OTmNWqPysA6K"
   },
   "source": [
    "### Analisis Kekonvergenan Metode Secant\n",
    "__Klaim__: Metode Secant memiliki tingkat konvergensi __superlinear__ atau dapat ditulis\n",
    "\n",
    "$$e_{k} \\leq e_{k-1}^{1.618}.$$\n",
    "\n",
    "Pembuktiannya dapat dilihat di [sini](https://nptel.ac.in/content/storage2/courses/122104019/numerical-analysis/Rathish-kumar/ratish-1/f3node5.html).\n"
   ]
  },
  {
   "cell_type": "code",
   "execution_count": 101,
   "metadata": {
    "id": "8F7X1xrMSNHf"
   },
   "outputs": [],
   "source": []
  }
 ],
 "metadata": {
  "colab": {
   "name": "Mencari Akar Persamaan.ipynb",
   "provenance": []
  },
  "kernelspec": {
   "display_name": "Python 3",
   "language": "python",
   "name": "python3"
  },
  "language_info": {
   "codemirror_mode": {
    "name": "ipython",
    "version": 3
   },
   "file_extension": ".py",
   "mimetype": "text/x-python",
   "name": "python",
   "nbconvert_exporter": "python",
   "pygments_lexer": "ipython3",
   "version": "3.9.7"
  }
 },
 "nbformat": 4,
 "nbformat_minor": 0
}