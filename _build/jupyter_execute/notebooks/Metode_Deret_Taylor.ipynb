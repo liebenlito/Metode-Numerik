{
 "cells": [
  {
   "cell_type": "markdown",
   "metadata": {
    "id": "NleG4rsoyCRI"
   },
   "source": [
    "# Solusi Numerik Persamaan Differensial Biasa"
   ]
  },
  {
   "cell_type": "markdown",
   "metadata": {
    "id": "aABw1LHFyCRR"
   },
   "source": [
    "## Pendahuluan"
   ]
  },
  {
   "cell_type": "markdown",
   "metadata": {
    "id": "I3wBoOEgyCRT"
   },
   "source": [
    "> Persamaan Differensial (PD) dapat didefinisikan sebagai suatu persamaan yang berisi satu atau lebih turunan. Kondisi awal (initial condition) adalah nilai dari variabel terikatnya ketika variabel bebasnya bernilai nol. Solusi dari PD adalah suatu fungsi yang mememuhi persamaannya dan kondisinya. \n",
    "\n",
    "Misalkan perubahan populasi penduduk dari waktu ke waktu di kota Jakarta digambarkan oleh persamaan\n",
    "\n",
    "$$\n",
    "\\frac{dP}{dt} = rP\n",
    "$$\n",
    "\n",
    "dimana $r$ adalah tingkat pertumbuhan populasi penduduknya dan $P$ adalah jumlah populasi penduduknya pada waktu ke $t$. Kemudian diketahui pertumbuhan populasi per tahunnya adalah 10% dan penduduk di kota Jakarta berjumlah 10 juta jiwa pada saat ini. Maka perubahan populasi penduduk dari waktu ke waktu dapat digambarkan dengan persamaan\n",
    "\n",
    "$$\n",
    "\\frac{dP}{dt} = 0.10P.\n",
    "$$\n",
    "\n",
    "Dengan demikian, solusi dari PD tersebut adalah suatu fungsi, $P(t)$ yang memiliki turunan $0.10P(t)$ dengan $P(0) = 10^{6}$. Untuk mencari solusi analitiknya, pertama\n",
    "\n",
    "$$\n",
    "\\begin{array}{ll}\n",
    "\\frac{1}{P} dP &=& 0.10 dt \\\\\n",
    "\\int \\frac{1}{P} dP &=& \\int 0.10 dt\\\\\n",
    "\\ln{P} &=& 0.10t + C \n",
    "\\end{array}\n",
    "$$\n",
    "\n",
    "sehingga \n",
    "\n",
    "$$\n",
    "P(t) = e^{0.10t} e^C.\n",
    "$$\n",
    "\n",
    "atau \n",
    "\n",
    "$$\n",
    "P(t) = ke^{0.10t}\n",
    "$$\n",
    "\n",
    "dimana $k = e^C$.\n",
    "\n",
    "Jika diketahui $P(0)=10^{6}$, maka\n",
    "\n",
    "$$\n",
    "10^{6} = ke^{0.10*0} = k * 1 = k.\n",
    "$$\n",
    "\n",
    "Sehingga solusinya adalah\n",
    "\n",
    "$$\n",
    "P(t) = 10^{6}e^{0.10t} \n",
    "$$\n",
    "\n",
    "atau secara umum dapat ditulis\n",
    "\n",
    "$$\n",
    "P(t) = P_0 e^{0.10t}\n",
    "$$\n",
    "\n",
    "untuk suatu nilai kondisi awal $P_0$."
   ]
  },
  {
   "cell_type": "markdown",
   "metadata": {},
   "source": [
    "### Contoh 1. \n",
    "Misalkan $y = y(t)$ merupakan suatu fungsi dari $t$, contoh PDB dari fungsi tersebut diantaranya $y' = y^2$, $y'' + y.y' + 4 = 0$, dan lainnya."
   ]
  },
  {
   "cell_type": "markdown",
   "metadata": {
    "id": "jD5zTLmyyCRU"
   },
   "source": [
    "Masalah dalam PDB dibagi menjadi dua yaitu __Masalah Nilai Awal (MNA)__ dan __Masalah Syarat Batas (MSB)__. MNA untuk orde pertama PDB didefinisikan:\n",
    "\n",
    "$$\n",
    "\\begin{matrix}\n",
    "    y' = f(t,y), & y(t_0)=y_0\n",
    "\\end{matrix}\n",
    "$$\n",
    "\n",
    "Sebagai contoh:\n",
    "\n",
    "$$\n",
    "\\begin{matrix}\n",
    "    y' = y+1, & y(t_0) = 0. & \\text{Solusi:} & y(t) = e^t - 1, \\\\\n",
    "    y' = 2, & y(t_0) = 0. & \\text{Solusi:} & y(t) = 2t.\n",
    "\\end{matrix}\n",
    "$$\n",
    "\n",
    "Dalam banyak masalah, solusi eksak sangat sulit untuk didapatkan.\n"
   ]
  },
  {
   "cell_type": "markdown",
   "metadata": {
    "id": "U1hwdX_3yCRV"
   },
   "source": [
    "__Solusi Numerik__: Diberikan \n",
    "\n",
    "$$\n",
    "\\begin{matrix}\n",
    "    y' = f(t,y), & y(t_0)=y_0.\n",
    "\\end{matrix}\n",
    "$$ \n",
    "\n",
    "Cari $y_n = y(t_n)$ untuk $n = 1,2,\\dots ,N$ dan $t_0 < t_1 < \\dots <t_N$. Disini $t_N$ menyatakan waktu akhir komputasi.\n",
    "Ambil step waktu yang seragam: Misalkan $h$ adalah panjang step waktu\n",
    "\n",
    "$$\n",
    "\\begin{matrix}\n",
    "t_{n+1} - t_{n} = h, & t_k = t_0 + kh, & k=1,2,\\dots,N\n",
    "\\end{matrix}\n",
    "$$"
   ]
  },
  {
   "cell_type": "markdown",
   "metadata": {
    "id": "W_MeKkw4yCRX"
   },
   "source": [
    "## Metode Deret Taylor (MDT)"
   ]
  },
  {
   "cell_type": "markdown",
   "metadata": {
    "id": "NlqJP3TpyCRY"
   },
   "source": [
    "Diberikan\n",
    "\n",
    "$$\n",
    "\\begin{matrix}\n",
    "y'=f(t,y(t)), & y(t_0)=y_0\n",
    "\\end{matrix}.\n",
    "$$"
   ]
  },
  {
   "cell_type": "markdown",
   "metadata": {
    "id": "FGd78uedyCRZ"
   },
   "source": [
    "Misalkan kita ingin mencari $y_1 = y(t_1) = y(t_0+h)$. Ekspansi Taylornya adalah\n",
    "\n",
    "$$\n",
    "y(t_0 + h) = y(t_0) + hy'(t_0) + \\frac{1}{2}h^2y''(t_0) + \\dots = \\sum_{m=0}^{\\infty} \\frac{1}{m!} h^m y^{(m)} (t_0).\n",
    "$$"
   ]
  },
  {
   "cell_type": "markdown",
   "metadata": {
    "id": "M78wYIPWyCRa"
   },
   "source": [
    "MDT untuk order $m$: Ambil suku ke $(m+1)$ pertama dari Ekspansi Taylor\n",
    "\n",
    "$$\n",
    "y(t_0 + h) = y(t_0) + hy'(t_0) + \\frac{1}{2}h^2y''(t_0) + \\dots + \\frac{1}{m!} h^m y^{(m)} (t_0).\n",
    "$$"
   ]
  },
  {
   "cell_type": "markdown",
   "metadata": {
    "id": "-lxHGkOSyCRb"
   },
   "source": [
    "Error di masing-masing step:\n",
    "\n",
    "$$\n",
    "y(t_0 + h) - y_1 = \\sum_{k=m+1}^{\\infty} \\frac{1}{k!} h^k y^{(k)} (t_0) = \\frac{1}{(m+1)!} h^{m+1} y^{(m+1)} (\\xi)\n",
    "$$\n",
    "\n",
    "untuk suatu $\\xi \\in (t_0, t_1).$"
   ]
  },
  {
   "cell_type": "markdown",
   "metadata": {
    "id": "jTLjR448yCRc"
   },
   "source": [
    "Untuk $m=1$, kita dapatkan __Metode Euler__:\n",
    "\n",
    "$$\n",
    "y_1 = y_0 + hy'(t_0) = y_0 + hf(t_0,x_0).\n",
    "$$\n",
    "\n",
    "Bentuk umum untuk $k$ step:\n",
    "\n",
    "$$\n",
    "\\begin{matrix}\n",
    "    y_{k+1} = y_k + hf(t_k,x_k), & k = 1,2,\\dots\n",
    "\\end{matrix}\n",
    "$$"
   ]
  },
  {
   "cell_type": "markdown",
   "metadata": {
    "id": "jxKVc-sNyCRc"
   },
   "source": [
    "Untuk $m=2$, kita dapatkan\n",
    "\n",
    "$$\n",
    "y_1 = y_0 + hy'(t_0) + \\frac{1}{2} h^2 y''(t_0)\n",
    "$$\n",
    "\n",
    "Bentuk $y''(t_0)$ dapat dicari menggunakan\n",
    "\n",
    "$$\n",
    "\\begin{matrix}\n",
    "    y''(t_0) & = \\frac{d}{dt} f(t_0, y(t_0)) \\\\\n",
    "             & = f_t(t_0,y_0) + f_y(t_0,y_0) y'(t_0) \\\\ \n",
    "             & = f_t(t_0,y_0) + f_y(t_0,y_0)f(t_0,y_0)\n",
    "\\end{matrix}\n",
    "$$\n",
    "\n",
    "sehingga kita dapatkan\n",
    "\n",
    "$$\n",
    "y_1 = y_0 + hy'(t_0) + \\frac{1}{2} h^2 \\left[f_t(t_0,y_0) + f_y(t_0,y_0)f(t_0,y_0)\\right]\n",
    "$$\n",
    "\n",
    "Bentuk umum untuk $k$ step:\n",
    "\n",
    "$$\n",
    "\\begin{matrix}\n",
    "    y_{k+1} = y_k + hy'(t_k) + \\frac{1}{2} h^2 \\left[f_t(t_k,y_k) + f_y(t_k,y_k)f(t_k,y_k)\\right], & k=1,2,\\dots\n",
    "\\end{matrix}\n",
    "$$\n"
   ]
  },
  {
   "cell_type": "markdown",
   "metadata": {
    "id": "7vYizEPRyCRd"
   },
   "source": [
    "__Contoh 2__. Terapkan MDT dengan $m=1,2,3$ untuk \n",
    "\n",
    "$$\n",
    "\\begin{matrix}\n",
    "    y' = -y + e^{-t}, & y(0)=0.\n",
    "\\end{matrix}\n",
    "$$\n",
    "\n",
    "(Solusi eksaknya adalah $y(t)=te^{-t}$.)\n",
    "\n",
    "__Jawaban__. Diberikan inisial data $y_0 = 0$.\n",
    "Untuk $m=1$, kita dapatkan\n",
    "\n",
    "$$\n",
    "\\begin{matrix}\n",
    "    y_{k+1} = y_k + h \\left( -y_k + e^{-t_k} \\right), & k=1,2,\\dots\n",
    "\\end{matrix}\n",
    "$$\n",
    "\n",
    "Untuk $m=2$ dan $m=3$, kita cari terlebih dahulu $y''$ dan $y'''$ dengan cara\n",
    "\n",
    "$$\n",
    "y''= \\left( -y + e^{-t} \\right)^{'} = -y' - e^{-t} = y - e^{-t} - e^{-t} = y - 2e^{-t}.\n",
    "$$\n",
    "\n",
    "$$\n",
    "y''' = \\left( y - 2e^{-t} \\right)^{'} = -y' + 2e^{-t} = y - e^{-t} + 2e^{-t} = y + e^{-t}.\n",
    "$$\n",
    "\n",
    "Sehingga bentuk iteratif untuk $m=2$ menjadi\n",
    "\n",
    "$$\n",
    "\\begin{matrix}\n",
    "    y_{k+1} & = & y_k + hy'_k + \\frac{1}{2} h^2 y''_k & \\\\\n",
    "            & = & y_k + h(-y_k + e^{-t_k}) + \\frac{1}{2} h^2 (y_k - 2e^{-t_k}) & k = 1,2,\\dots. \\\\\n",
    "\\end{matrix}\n",
    "$$\n",
    "\n",
    "dan untuk $m=3$ adalah\n",
    "\n",
    "$$\n",
    "\\begin{matrix}\n",
    "    y_{k+1} & = & y_k + hy'_k + \\frac{1}{2} h^2 y''_k & \\\\\n",
    "            & = & y_k + h(-y_k + e^{-t_k}) + \\frac{1}{2} h^2 (y_k - 2e^{-t_k}) + \\frac{1}{6} h^3 (y_k + e^{-t_k}) & k = 1,2,\\dots. \\\\\n",
    "\\end{matrix}\n",
    "$$\n",
    "\n"
   ]
  },
  {
   "cell_type": "markdown",
   "metadata": {
    "id": "x3T8QnVjyCRe"
   },
   "source": [
    "__Penerapan__. Kita terapkan bentuk iteratif MDT untuk $m=1$ dan $m=2$ pada __Contoh 2__ menggunakan __Python 3__. Langkah pertama kita definisikan library yang kita pakai,"
   ]
  },
  {
   "cell_type": "code",
   "execution_count": 1,
   "metadata": {
    "id": "qS8t7wAMyCRe"
   },
   "outputs": [],
   "source": [
    "import numpy as np\n",
    "import math\n",
    "import matplotlib.pyplot as plt"
   ]
  },
  {
   "cell_type": "code",
   "execution_count": 2,
   "metadata": {
    "id": "PlOqJIejyCRg"
   },
   "outputs": [],
   "source": [
    "h = 0.1\n",
    "T = 2\n",
    "\n",
    "N = int(T/h)\n",
    "t = np.zeros(N+1)\n",
    "y_m1 = np.zeros(N+1)\n",
    "y_m2 = np.zeros(N+1)\n",
    "y_m3 = np.zeros(N+1)\n",
    "y_a = np.zeros(N+1)\n",
    "\n",
    "for k in range(N):\n",
    "    t[k+1] = t[0] + (k+1)*h\n",
    "    y_a[k+1] = t[k+1]*math.exp(-t[k+1])\n",
    "    y_m1[k+1] = y_m1[k] + h*(-y_m1[k] + math.exp(-t[k]))\n",
    "    y_m2[k+1] = y_m2[k] + h*(-y_m2[k] + math.exp(-t[k])) + 0.5*(h**2)*(y_m2[k] - 2*math.exp(-t[k]))"
   ]
  },
  {
   "cell_type": "code",
   "execution_count": 3,
   "metadata": {
    "colab": {
     "base_uri": "https://localhost:8080/",
     "height": 299
    },
    "id": "PFJ7OdgKyCRg",
    "outputId": "57640205-8b58-4e33-c002-7e43f92b0d0c"
   },
   "outputs": [
    {
     "data": {
      "image/png": "[encoded data removed]",
      "text/plain": [
       "<Figure size 432x288 with 1 Axes>"
      ]
     },
     "metadata": {
      "filenames": {
       "image/png": "/Users/muhazaliebenlito/vscode/Metode-Numerik/_build/jupyter_execute/notebooks/Metode_Deret_Taylor_17_0.png"
      },
      "needs_background": "light"
     },
     "output_type": "display_data"
    }
   ],
   "source": [
    "plt.title('Solusi Analitik vs Solusi MDT ($m=1$ dan $m=2$)')\n",
    "plt.xlabel('$t$')\n",
    "plt.ylabel('$y(t)$')\n",
    "\n",
    "plt.plot(t,y_a, label=\"$y_{analitik}$\")\n",
    "plt.plot(t,y_m1, 'o', label=\"$y_{m1}$\")\n",
    "plt.plot(t,y_m2, 'o', label=\"$y_{m2}$\")\n",
    "\n",
    "plt.legend(loc=4);"
   ]
  },
  {
   "cell_type": "code",
   "execution_count": 4,
   "metadata": {
    "colab": {
     "base_uri": "https://localhost:8080/",
     "height": 297
    },
    "id": "orTVBUhmyCRh",
    "outputId": "16eab773-fe92-4add-a3a0-12da0d9cf6d7"
   },
   "outputs": [
    {
     "data": {
      "image/png": "[encoded data removed]",
      "text/plain": [
       "<Figure size 432x288 with 1 Axes>"
      ]
     },
     "metadata": {
      "filenames": {
       "image/png": "/Users/muhazaliebenlito/vscode/Metode-Numerik/_build/jupyter_execute/notebooks/Metode_Deret_Taylor_18_0.png"
      },
      "needs_background": "light"
     },
     "output_type": "display_data"
    }
   ],
   "source": [
    "error_m1 = abs(y_a-y_m1)\n",
    "error_m2 = abs(y_a-y_m2)\n",
    "\n",
    "plt.title('Error MDT $m=1$ vs Error MDT $m=2$')\n",
    "plt.xlabel('$t$')\n",
    "plt.ylabel('Error')\n",
    "\n",
    "plt.plot(t,error_m1, '-o', label=\"MDT($m=1$)\")\n",
    "plt.plot(t,error_m2, '-o', label=\"MDT($m=2$)\")\n",
    "\n",
    "plt.legend();"
   ]
  },
  {
   "cell_type": "markdown",
   "metadata": {
    "id": "x4yEFurtyCRi"
   },
   "source": [
    "__Contoh 3__. Terapkan MDT dengan $m=1,2,3,4$ untuk\n",
    "\n",
    "$$\n",
    "\\begin{matrix}\n",
    "    y'=y, & y(0)=1\n",
    "\\end{matrix}\n",
    "$$"
   ]
  },
  {
   "cell_type": "markdown",
   "metadata": {
    "id": "hLP-DYnEyCRi"
   },
   "source": [
    "(Solusi eksaknya adalah $y(t)=e^t$.)"
   ]
  },
  {
   "cell_type": "markdown",
   "metadata": {
    "id": "W_RDuYtHyCRi"
   },
   "source": [
    "__Jawaban__. Perhatikan bahwa \n",
    "\n",
    "$$\n",
    "  \\begin{matrix}\n",
    "      y''=y'=y, & y'''=y''=y, & \\dots, & y^{(m)} = y.\n",
    "  \\end{matrix}\n",
    "$$\n",
    "\n",
    "Diberikan inisial $y_0=1$, maka kita dapatkan\n",
    "\n",
    "$$\n",
    "\\begin{matrix}\n",
    "    m=1: & y_{k+1} = y_k + hy_k = (1+h)y_k \\\\\n",
    "    m=2: & y_{k+1} = y_k + hy_k + \\frac{1}{2} h^2 y_k = (1+h+\\frac{1}{2} h^2)y_k \\\\\n",
    "    m=3: & y_{k+1} = y_k + hy_k + \\frac{1}{2} h^2 y_k + \\frac{1}{6} h^3 y_k = (1+h+\\frac{1}{2}h^2+\\frac{1}{6} h^3)y_k \\\\\n",
    "    m=4: & y_{k+1} = y_k + hy_k + \\frac{1}{2} h^2 y_k + \\frac{1}{6} h^3 y_k + \\frac{1}{24} h^4 y_k = (1+h+\\frac{1}{2}h^2+\\frac{1}{6} h^3 + \\frac{1}{24} h^4)y_k\n",
    "\\end{matrix}\n",
    "$$"
   ]
  },
  {
   "cell_type": "markdown",
   "metadata": {
    "id": "B1Om2yDZyCRj"
   },
   "source": [
    "__Penerapan__."
   ]
  },
  {
   "cell_type": "code",
   "execution_count": 5,
   "metadata": {
    "collapsed": true,
    "id": "827Z2MHLyCRj"
   },
   "outputs": [],
   "source": [
    "h = 0.1\n",
    "T = 2\n",
    "\n",
    "N = int(T/h)\n",
    "t = np.zeros(N+1)\n",
    "y_m1 = np.zeros(N+1)\n",
    "y_m2 = np.zeros(N+1)\n",
    "y_m3 = np.zeros(N+1)\n",
    "y_m4 = np.zeros(N+1)\n",
    "y_a = np.zeros(N+1)\n",
    "\n",
    "y_a[0] = 1\n",
    "y_m1[0] = 1\n",
    "y_m2[0] = 1\n",
    "y_m3[0] = 1\n",
    "y_m4[0] = 1\n",
    "\n",
    "\n",
    "for k in range(N):\n",
    "    t[k+1] = t[0] + (k+1)*h\n",
    "    y_a[k+1] = math.exp(t[k+1])\n",
    "    y_m1[k+1] = (1+h)*y_m1[k]\n",
    "    y_m2[k+1] = (1 + h + (1/2) * (h**2)) * y_m2[k]\n",
    "    y_m3[k+1] = (1 + h + (1/2) * (h**2) + (1/6) * (h**3)) * y_m3[k]\n",
    "    y_m4[k+1] = (1 + h + (1/2) * (h**2) + (1/6) * (h**3) + (1/24) * (h**4)) * y_m4[k] "
   ]
  },
  {
   "cell_type": "code",
   "execution_count": 6,
   "metadata": {
    "colab": {
     "base_uri": "https://localhost:8080/",
     "height": 299
    },
    "id": "qjCtXqcwyCRj",
    "outputId": "3565c4fc-1809-41bf-9962-37a084672a6b"
   },
   "outputs": [
    {
     "data": {
      "image/png": "[encoded data removed]",
      "text/plain": [
       "<Figure size 432x288 with 1 Axes>"
      ]
     },
     "metadata": {
      "filenames": {
       "image/png": "/Users/muhazaliebenlito/vscode/Metode-Numerik/_build/jupyter_execute/notebooks/Metode_Deret_Taylor_24_0.png"
      },
      "needs_background": "light"
     },
     "output_type": "display_data"
    }
   ],
   "source": [
    "plt.title('Solusi Analitik vs Solusi MDT ($m=1,2,3,4$)')\n",
    "plt.xlabel('$t$')\n",
    "plt.ylabel('$y(t)$')\n",
    "\n",
    "plt.plot(t,y_a, label=\"$y_{analitik}$\")\n",
    "plt.plot(t,y_m1, 'o', label=\"$y_{m1}$\")\n",
    "plt.plot(t,y_m2, 'o', label=\"$y_{m2}$\")\n",
    "plt.plot(t,y_m3, 'o', label=\"$y_{m3}$\")\n",
    "plt.plot(t,y_m4, 'o', label=\"$y_{m4}$\")\n",
    "\n",
    "plt.legend(loc=4);"
   ]
  },
  {
   "cell_type": "code",
   "execution_count": 7,
   "metadata": {
    "colab": {
     "base_uri": "https://localhost:8080/",
     "height": 298
    },
    "id": "fj3IVfrByCRk",
    "outputId": "f3ecd6c1-17b3-4874-ef33-269a2edd0d49"
   },
   "outputs": [
    {
     "data": {
      "image/png": "[encoded data removed]",
      "text/plain": [
       "<Figure size 432x288 with 1 Axes>"
      ]
     },
     "metadata": {
      "filenames": {
       "image/png": "/Users/muhazaliebenlito/vscode/Metode-Numerik/_build/jupyter_execute/notebooks/Metode_Deret_Taylor_25_0.png"
      },
      "needs_background": "light"
     },
     "output_type": "display_data"
    }
   ],
   "source": [
    "error_m1 = abs(y_a-y_m1)\n",
    "error_m2 = abs(y_a-y_m2)\n",
    "error_m3 = abs(y_a-y_m3)\n",
    "error_m4 = abs(y_a-y_m4)\n",
    "\n",
    "plt.title('Error MDT $m=1,2,3,4$')\n",
    "plt.xlabel('$t$')\n",
    "plt.ylabel('Error')\n",
    "\n",
    "plt.plot(t,error_m1, '-o', label=\"MDT($m=1$)\")\n",
    "plt.plot(t,error_m2, '-o', label=\"MDT($m=2$)\")\n",
    "plt.plot(t,error_m3, '-o', label=\"MDT($m=3$)\")\n",
    "plt.plot(t,error_m4, '-o', label=\"MDT($m=4$)\")\n",
    "\n",
    "plt.legend();"
   ]
  },
  {
   "cell_type": "markdown",
   "metadata": {
    "id": "VKl8DLssyCRk"
   },
   "source": [
    "__Contoh 3__. Terapkan MDT dengan $m=1,2,3,4$ untuk \n",
    "\n",
    "$$\n",
    "\\begin{matrix}\n",
    "    y'=\\sin(t)+e^{-t}, & y(0)=0\n",
    "\\end{matrix}\n",
    "$$\n",
    "\n",
    "(Solusi eksaknya adalah $y(t) = -e^{-t} -\\cos(t) + 2.)$"
   ]
  },
  {
   "cell_type": "markdown",
   "metadata": {
    "id": "KKbr2frMyCRk"
   },
   "source": [
    "__Jawaban__. Perhatikan bahwa \n",
    "\n",
    "$$\n",
    "\\begin{matrix}\n",
    "    y''=\\cos{t}-e^{-t},\\\\\n",
    "    y'''=-\\sin{t}+e^{-t}, \\text{dan}\\\\\n",
    "    y^{(iv)} = -\\cos{t}-e^{-t}.\n",
    "\\end{matrix}\n",
    "$$"
   ]
  },
  {
   "cell_type": "markdown",
   "metadata": {
    "id": "HC7NNyX5yCRk"
   },
   "source": [
    "Bentuk iteratif untuk $m=1$ adalah\n",
    "\n",
    "$$\n",
    "y_{k+1} = y_k + h \\left[ \\sin(t_k) + e^{-t_k} \\right], \n",
    "$$\n",
    "\n",
    "untuk $m=2$ \n",
    "\n",
    "$$\n",
    "y_{k+1} = y_k + h \\left[ \\sin(t_k) + e^{-t_k} \\right] + \\frac{h^2}{2} \\left[ \\cos(t_k)-e^{-t_k} \\right], \n",
    "$$\n",
    "\n",
    "untuk $m=3$\n",
    "\n",
    "$$\n",
    "y_{k+1} = y_k + h \\left[ \\sin(t_k) + e^{-t_k} \\right] + \\frac{h^2}{2} \\left[ \\cos(t_k)-e^{-t_k} \\right] - \\frac{h^3}{6} \\left[ \\sin(t_k) - e^{-t_k} \\right], \\text{dan}\n",
    "$$\n",
    "\n",
    "untuk $m=4$\n",
    "\n",
    "$$\n",
    "y_{k+1} = y_k + h \\left[ \\sin(t_k) + e^{-t_k} \\right] + \\frac{h^2}{2} \\left[ \\cos(t_k)-e^{-t_k} \\right] - \\frac{h^3}{6} \\left[ \\sin(t_k) - e^{-t_k} \\right] - \\frac{h^4}{24} \\left[ \\cos(t_k) + e^{-t_k} \\right]\n",
    "$$"
   ]
  },
  {
   "cell_type": "code",
   "execution_count": 8,
   "metadata": {
    "collapsed": true,
    "id": "eFMiJVLwyCRl"
   },
   "outputs": [],
   "source": [
    "h = 0.2*math.pi\n",
    "T = 5*math.pi\n",
    "\n",
    "N = int(T/h)\n",
    "t = np.zeros(N+1)\n",
    "y_m1 = np.zeros(N+1)\n",
    "y_m2 = np.zeros(N+1)\n",
    "y_m3 = np.zeros(N+1)\n",
    "y_m4 = np.zeros(N+1)\n",
    "y_a = np.zeros(N+1)\n",
    "\n",
    "y_a[0] = 0\n",
    "y_m1[0] = 0\n",
    "y_m2[0] = 0\n",
    "y_m3[0] = 0\n",
    "y_m4[0] = 0\n",
    "\n",
    "\n",
    "for k in range(N):\n",
    "    t[k+1] = t[0] + (k+1)*h\n",
    "    y_a[k+1] = - math.exp(-t[k+1]) - math.cos(t[k+1]) + 2\n",
    "    y_m1[k+1] = y_m1[k] + h*(math.sin(t[k]) + math.exp(-t[k]))\n",
    "    y_m2[k+1] = y_m2[k] + h*(math.sin(t[k]) + math.exp(-t[k])) + (1/2) * (h**2) * (math.cos(t[k]) - math.exp(-t[k])) \n",
    "    y_m3[k+1] = y_m3[k] + h*(math.sin(t[k]) + math.exp(-t[k])) + (1/2) * (h**2) * (math.cos(t[k]) - math.exp(-t[k])) - (1/6) * (h**3) * (math.sin(t[k]) - math.exp(-t[k]))\n",
    "    y_m4[k+1] = y_m4[k] + h*(math.sin(t[k]) + math.exp(-t[k])) + (1/2) * (h**2) * (math.cos(t[k]) - math.exp(-t[k])) - (1/6) * (h**3) * (math.sin(t[k]) - math.exp(-t[k])) - (1/24) * (h**4) * (math.cos(t[k]) + math.exp(-t[k]))  "
   ]
  },
  {
   "cell_type": "code",
   "execution_count": 9,
   "metadata": {
    "colab": {
     "base_uri": "https://localhost:8080/",
     "height": 299
    },
    "id": "aZSJPUT-yCRl",
    "outputId": "513fc3c1-2bac-4491-bb1d-6423448e4b58"
   },
   "outputs": [
    {
     "data": {
      "image/png": "[encoded data removed]",
      "text/plain": [
       "<Figure size 432x288 with 1 Axes>"
      ]
     },
     "metadata": {
      "filenames": {
       "image/png": "/Users/muhazaliebenlito/vscode/Metode-Numerik/_build/jupyter_execute/notebooks/Metode_Deret_Taylor_30_0.png"
      },
      "needs_background": "light"
     },
     "output_type": "display_data"
    }
   ],
   "source": [
    "plt.title('Solusi Analitik vs Solusi MDT ($m=1,2,3,4$)')\n",
    "plt.xlabel('$t$')\n",
    "plt.ylabel('$y(t)$')\n",
    "\n",
    "plt.plot(t,y_a, label=\"$y_{analitik}$\")\n",
    "plt.plot(t,y_m1, 'o', label=\"$y_{m1}$\")\n",
    "plt.plot(t,y_m2, 'o', label=\"$y_{m2}$\")\n",
    "plt.plot(t,y_m3, 'o', label=\"$y_{m3}$\")\n",
    "plt.plot(t,y_m4, 'o', label=\"$y_{m4}$\")\n",
    "\n",
    "plt.legend(loc=4);"
   ]
  },
  {
   "cell_type": "code",
   "execution_count": 10,
   "metadata": {
    "colab": {
     "base_uri": "https://localhost:8080/",
     "height": 298
    },
    "id": "w_NYb2onyCRm",
    "outputId": "10f63d33-47d7-4f1a-f467-b5dc5a276686"
   },
   "outputs": [
    {
     "data": {
      "image/png": "[encoded data removed]",
      "text/plain": [
       "<Figure size 432x288 with 1 Axes>"
      ]
     },
     "metadata": {
      "filenames": {
       "image/png": "/Users/muhazaliebenlito/vscode/Metode-Numerik/_build/jupyter_execute/notebooks/Metode_Deret_Taylor_31_0.png"
      },
      "needs_background": "light"
     },
     "output_type": "display_data"
    }
   ],
   "source": [
    "error_m1 = abs(y_a-y_m1)\n",
    "error_m2 = abs(y_a-y_m2)\n",
    "error_m3 = abs(y_a-y_m3)\n",
    "error_m4 = abs(y_a-y_m4)\n",
    "\n",
    "plt.title('Error MDT $m=1,2,3,4$')\n",
    "plt.xlabel('$t$')\n",
    "plt.ylabel('Error')\n",
    "\n",
    "plt.plot(t,error_m1, '-o', label=\"MDT($m=1$)\")\n",
    "plt.plot(t,error_m2, '-o', label=\"MDT($m=2$)\")\n",
    "plt.plot(t,error_m3, '-o', label=\"MDT($m=3$)\")\n",
    "plt.plot(t,error_m4, '-o', label=\"MDT($m=4$)\")\n",
    "\n",
    "plt.legend(loc=1);"
   ]
  },
  {
   "cell_type": "markdown",
   "metadata": {
    "collapsed": true,
    "id": "xFpJ5VbRyCRn"
   },
   "source": [
    "__Analisis Error__. Diberikan PDB\n",
    "\n",
    "$$\n",
    "\\begin{matrix}\n",
    "    y'=f(t,y), & y(t_0)=y_0\n",
    "\\end{matrix}\n",
    "$$\n",
    "\n",
    "*Error pemotongan lokal* (error di tiap step waktu) untuk MDT untuk order ke $m$ adalah\n",
    "\n",
    "$$\n",
    "\\begin{matrix}\n",
    "    e_L^{(k)} = \\left| x_{k+1} - x(t_k+h) \\right| = \\left| \\frac{h^{m+1}}{(m+1)!} x^{(m+1)} (\\xi) \\right|,\n",
    "\\end{matrix}\n",
    "$$\n",
    "\n",
    "untuk $\\xi \\in \\left( t_k, t_{k+1} \\right)$. Kita tahu bahwa \n",
    "\n",
    "$$\n",
    "x^{(m+1)} = \\frac{d^mf}{dt^m}.\n",
    "$$\n",
    "\n",
    "Sekarang asumsikan bahwa \n",
    "\n",
    "$$\n",
    "\\left| \\frac{d^mf}{dt^m} \\leq M \\right|.\n",
    "$$\n",
    "\n",
    "Dengan demikian kita dapatkan\n",
    "\n",
    "$$\n",
    "e_L^{(k)} \\leq \\frac{M}{(m+1)!} h^{m+1} = O(h^{m+1}).\n",
    "$$ "
   ]
  }
 ],
 "metadata": {
  "colab": {
   "name": "Metode_Deret_Taylor.ipynb",
   "provenance": []
  },
  "kernelspec": {
   "display_name": "Python 3",
   "language": "python",
   "name": "python3"
  },
  "language_info": {
   "codemirror_mode": {
    "name": "ipython",
    "version": 3
   },
   "file_extension": ".py",
   "mimetype": "text/x-python",
   "name": "python",
   "nbconvert_exporter": "python",
   "pygments_lexer": "ipython3",
   "version": "3.9.7"
  }
 },
 "nbformat": 4,
 "nbformat_minor": 0
}