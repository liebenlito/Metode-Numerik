{
 "cells": [
  {
   "cell_type": "markdown",
   "metadata": {
    "id": "gp6O8_uNoUDC"
   },
   "source": [
    "# Solusi Numerik untuk Sistem Persamaan Linear\n",
    "\n",
    "Suatu sistem persamaan linear (SPL) adalah kumpulan dari sejumlah $n$ persamaan atau secara matematis dapat ditulis\n",
    "\n",
    "$$\n",
    "\\begin{array}{cc}\n",
    "E_1: & a_{11}x_1 + a_{12}x_2 + \\cdots + a_{1n}x_n = b_1, \\\\\n",
    "E_2: & a_{21}x_1 + a_{22}x_2 + \\cdots + a_{2n}x_n = b_2, \\\\\n",
    "E_3: & a_{31}x_1 + a_{32}x_2 + \\cdots + a_{3n}x_n = b_3, \\\\\n",
    "    & \\vdots \\\\\n",
    "E_n: & a_{n1}x_1 + a_{n2}x_2 + \\cdots + a_{nn}x_n = b_n, \\\\\n",
    "\\end{array}\n",
    "(1)\n",
    "$$\n",
    "\n",
    "Di dalam (1), terdapat koefisien $a_{ij}$, untuk $i,j = 1,2, \\cdots, n$, dan $b_i$, dan kita perlu untuk mencari unknowns $x_1, x_2,\\cdots, x_n$. SPL (1) juga dapat ditulis dalam bentuk matriks-vektor yaitu\n",
    "\n",
    "$$A\\vec{x} = \\vec{b},$$\n",
    "\n",
    "dimana $A \\in \\mathbb{R}^{n \\times n}$, $\\vec{x} \\in \\mathbb{R}^n$, dan $\\vec{b} \\in \\mathbb{R}^n$.\n",
    "\n"
   ]
  },
  {
   "cell_type": "markdown",
   "metadata": {
    "id": "oMdCENeSWj4n"
   },
   "source": [
    "Terdapat dua cara untuk menyelesaikan (1) menggunakan solusi numerik:\n",
    "1. Metode Langsung (Naive) (fokus pada analisa error pembulatan)\n",
    "2. Metode Iteratif\n",
    "\n",
    "Selain mencari $\\vec{x}$, permasalahan yang ada di dalam SPL meliputi:\n",
    "1. Determinan dari matriks\n",
    "2. Invers dari matriks\n",
    "3. Tipe-tipe khusus dari matriks:\n",
    "  * Matriks Definit Positif\n",
    "  * Matriks Tridiagonal\n",
    "\n",
    "Beberapa metode yang akan dipelajari antara lain:\n",
    "1. Eliminasi Gauss\n",
    "2. Partial Pivoting\n",
    "3. Faktorisasi Matriks\n",
    "  * Dekomposisi LU\n",
    "  * Matriks Permutasi\n",
    "  * Cholesky\n",
    "  * Faktorisasi Crout"
   ]
  },
  {
   "cell_type": "markdown",
   "metadata": {
    "id": "NaNlVyxdw-Dy"
   },
   "source": [
    "## Sistem Persamaan Linear\n",
    "\n",
    "Kita menggunakan tiga operasi baris untuk menyederhanakan SPL (1):\n",
    "1. Persamaan $E_i$ dapat __dikali__ oleh suatu konstanta $\\lambda$ yang __tak nol__,yang hasilnya ditempatkan di $E_i$. Operasi tersebut dinotasikan sebagai $(\\lambda E_i) \\rightarrow (E_i)$.\n",
    "2. Persamaan $E_j$ dapat __dikali__ oleh suatu konstanta $\\lambda$ dan __ditambahkan__ ke persamaan $E_i$, yang hasilnya ditempatkan di $E_i$. Operasi ini dapat dinotasikan sebagai $(E_i + \\lambda E_j) \\rightarrow (E_i)$.\n",
    "3. Persamaan $E_i$ dan $E_j$ dapat __ditukar__ urutannya atau dapat ditulis $(E_i) \\leftrightarrow (E_j)$."
   ]
  },
  {
   "cell_type": "markdown",
   "metadata": {
    "id": "sK1CP8lszyF_"
   },
   "source": [
    "### Contoh 1:\n",
    "Diberikan SPL\n",
    "\n",
    "$$\n",
    "\\begin{array}{cc}\n",
    "E_1: & x_1 &+& x_2 &&  &+& 3x_4 &=& 4, \\\\\n",
    "E_2: & 2x_1 &+& x_2 &-& x_3 &+& x_4 &=& 1, \\\\\n",
    "E_3: & 3x_1 &-& x_2 &-& x_3 &+& 2x_4 &=& -3, \\\\\n",
    "E_4: & -x_1 &+& 2x_2 &+& 3x_3 &-& x_4 &=& 4. \\\\\n",
    "\\end{array}\n",
    "$$\n",
    "\n",
    "Tujuannya adalah mencari nilai dari $x_1, x_2, x_3$, dan $x_4$."
   ]
  },
  {
   "cell_type": "markdown",
   "metadata": {
    "id": "hcUOoMGg1m00"
   },
   "source": [
    "Pertama, kita eliminasi $x_1$ dari persamaan $E_2, E_3$, dan $E_4$ dengan cara:\n",
    "* $(E_2-2E_1)\\rightarrow(E_2)$\n",
    "* $(E_3-3E_1)\\rightarrow(E_3)$\n",
    "* $(E_4+E_1)\\rightarrow(E_4)$\n",
    "\n",
    "akan menghasilkan sistem persamaan baru\n",
    "\n",
    "$$\n",
    "\\begin{array}{cc}\n",
    "E_1: & x_1 &+& x_2 &&  &+& 3x_4 &=& 4, \\\\\n",
    "E_2: &  &-& x_2 &-& x_3 &-& 5x_4 &=& -7, \\\\\n",
    "E_3: &  &-& 4x_2 &-& x_3 &-& 7x_4 &=& -15, \\\\\n",
    "E_4: &  && 3x_2 &+& 3x_3 &+& 2x_4 &=& 8. \\\\\n",
    "\\end{array}\n",
    "$$\n",
    "\n",
    "Di dalam sistem persamaan baru ini, kemudian, kita eliminasi $x_2$ dari $E_3$ dan $E_4$ dengan cara:\n",
    "* $(E_3-4E_2)\\rightarrow(E_3)$\n",
    "* $(E_4+3E_2)\\rightarrow(E_4)$,\n",
    "\n",
    "sehingga menghasilkan\n",
    "\n",
    "$$\n",
    "\\begin{array}{cc}\n",
    "E_1: & x_1 &+& x_2 &&  &+& 3x_4 &=& 4, \\\\\n",
    "E_2: &  &-& x_2 &-& x_3 &-& 5x_4 &=& -7, \\\\\n",
    "E_3: &  && &-& 3x_3 &+& 13x_4 &=& 13, \\\\\n",
    "E_4: &  && &&  &-& 13x_4 &=& -13. \\\\\n",
    "\\end{array}\n",
    "(2)\n",
    "$$\n",
    "\n",
    "SPL (2) sudah menjadi __bentuk tereduksi__ dan untuk mencari nilai unknowns tersebut digunakan proses __subtitusi mundur__. Karena $E_4$ bernilai $x_4 = 1$, kita selesaikan $E_3$ untuk mencari $x_3$\n",
    "\n",
    "$$\n",
    "x_3 = \\frac{1}{3}(13-13x_4) = \\frac{1}{3}(13-13) = 0.\n",
    "$$\n",
    "\n",
    "Dilanjutkan untuk $E_2$\n",
    "\n",
    "$$\n",
    "x_2 = -(-7 + 5x_4 + x_3) = -(-7 + 5 + 0) = 2,\n",
    "$$\n",
    "\n",
    "dan $E_1$\n",
    "\n",
    "$$\n",
    "x1 = 4 - 3x_4 - x_2 = 4 - 3 - 1 = -1.\n",
    "$$\n",
    "\n",
    "Jadi solusinya adalah $x_1 = -1, x_2 = 2, x_3 = 0$, dan $x_4 = 1$."
   ]
  },
  {
   "cell_type": "markdown",
   "metadata": {
    "id": "Btv-RVaPBaZr"
   },
   "source": [
    "## Desain Algoritma untuk Eliminasi Gauss\n",
    "Agar dapat mempermudah pengimplementasiannya ke dalam bahasa pemrograman, SPL(1) diubah ke dalam bentuk augmented, \n",
    "\n",
    "$$\n",
    "\\begin{array}{cc}\n",
    "E_1: & a_{11}x_1 + a_{12}x_2 + \\cdots + a_{1n}x_n = a_{1,n+1}, \\\\\n",
    "E_2: & a_{21}x_1 + a_{22}x_2 + \\cdots + a_{2n}x_n = a_{2,n+1}, \\\\\n",
    "E_3: & a_{31}x_1 + a_{32}x_2 + \\cdots + a_{3n}x_n = a_{3,n+1}, \\\\\n",
    "    & \\vdots \\\\\n",
    "E_n: & a_{n1}x_1 + a_{n2}x_2 + \\cdots + a_{nn}x_n = a_{n,n+1}, \\\\\n",
    "\\end{array}\n",
    "(3)\n",
    "$$\n",
    "\n",
    "atau dapat ditulis dalam bentuk augmented matrix $C$\n",
    "\n",
    "$$\n",
    "C = \n",
    "\\begin{bmatrix}\n",
    "  a_{11} & a_{12} & \\cdots & a_{1n} & a_{1,n+1} \\\\\n",
    "  a_{21} & a_{22} & \\cdots & a_{2n} & a_{2,n+1} \\\\\n",
    "   &  & \\vdots &  &  \\\\\n",
    "  a_{n1} & a_{n2} & \\cdots & a_{nn} & a_{n,n+1} \\\\\n",
    "\\end{bmatrix}\n",
    "$$\n",
    "\n",
    "Untuk menyelesaikan SPL tersebut, kita gunakan Eliminasi Gauss yang desain algoritmanya adalah sebagai berikut:\n",
    "1. Buat sistem segitiga atas menggunakan eliminasi maju.\n",
    "  * Kita lakukan eliminasi $x_1$ dari persamaan $E_2$, $E_3$, $E_4, ..., E_n$ menghasilkan SPL baru, lakukan eliminasi $x_2$ dari persamaan $E_3, E_4, ..., E_n$, dst. sampai $x_{n-1}$ dari persamaan $E_n$ atau dapat ditulis dalam bentuk algoritma\n",
    "    ``` python\n",
    "    for i=1 to n\n",
    "        for j=i+1 to n\n",
    "            (E_j) <- (E_j) - (a_{ji}/a_{ii})*(E_i)\n",
    "    ```\n",
    "Maka algoritma ini akan menghasilkan sistem segitiga atas\n",
    "\n",
    "$$\n",
    "\\begin{array}{cc}\n",
    "E_1: & a_{11}x_1 &+& a_{12}x_2 &+& \\cdots &+& a_{1n}x_n &=& a_{1,n+1}, \\\\\n",
    "E_2: &  && a_{22}x_2 &+& \\cdots &+& a_{2n}x_n &=& a_{2,n+1}, \\\\\n",
    "&&&&&&& \\vdots& \\\\\n",
    "E_n: &  && &&  &+& a_{nn}x_n &=& a_{n,n+1}. \\\\\n",
    "\\end{array}\n",
    "(4)\n",
    "$$\n",
    "\n",
    "Catatan bahwa nilai dari koefisien $a_{i,j+1}$ di (4) berbeda dari (3).\n",
    "\n",
    "2. Subtitusi mundur\n",
    "  * Lakukan subtitusi mundur untuk mendapatkan solusinya.\n",
    "  ```python\n",
    "  x_n = a_{n, n+1} / a_{nn}\n",
    "  for i = n-1 to 1\n",
    "      x_i = 1/a_{ii} (a_{i, n+1} - sum(a_{ij}*x_j))\n",
    "  ``` "
   ]
  },
  {
   "cell_type": "markdown",
   "metadata": {
    "id": "j-2qyDEu_vWi"
   },
   "source": [
    "## Implementasi di Python\n",
    "\n",
    "SPL biasanya diubah ke dalam bentuk __augmented matrix__, agar lebih mudah untuk mengimplementasikannya."
   ]
  },
  {
   "cell_type": "code",
   "execution_count": 1,
   "metadata": {
    "id": "HjH77_vS1wQo"
   },
   "outputs": [],
   "source": [
    "import numpy as np\n",
    "import matplotlib.pyplot as plt"
   ]
  },
  {
   "cell_type": "code",
   "execution_count": 2,
   "metadata": {
    "id": "9P7nJU1inly5"
   },
   "outputs": [],
   "source": [
    "def eliminasi_gauss(A, b):\n",
    "  # Gabung matriks A dan b sehingga membentuk augmented matrix A_c\n",
    "  A_c = np.c_[A,b] \n",
    "\n",
    "  # Jumlah baris dari A\n",
    "  n = A.shape[0]\n",
    "\n",
    "  # Lakukan eliminasi maju\n",
    "  for i in range(n):\n",
    "    faktor = A_c[i+1:, i]/A_c[i,i]\n",
    "    A_c[i+1:] -= faktor[:, np.newaxis] * A_c[i]\n",
    "\n",
    "  x = np.zeros_like(b, dtype=np.float64)\n",
    "\n",
    "  # Lakukan subtitutsi mundur\n",
    "  x[-1] = A_c[-1,-1]/A_c[-1,-2]\n",
    "  for i in range(n-2, -1, -1):\n",
    "    x[i] = 1/A_c[i,i] * (A_c[i,-1] - np.dot(A_c[i,i:-1], x[i:]))\n",
    "\n",
    "  return x"
   ]
  },
  {
   "cell_type": "code",
   "execution_count": 3,
   "metadata": {
    "id": "lZ3Inzjr1u9v"
   },
   "outputs": [],
   "source": [
    "A = np.array([[1, 1, 0, 3],\n",
    "              [2, 1, -1, 1],\n",
    "              [3, -1, -1, 2],\n",
    "              [-1, 2, 3, -1]], dtype=np.float64)\n",
    "\n",
    "b = np.array([4, 1, -3, 4], dtype=np.float64)"
   ]
  },
  {
   "cell_type": "code",
   "execution_count": 4,
   "metadata": {
    "colab": {
     "base_uri": "https://localhost:8080/"
    },
    "id": "FcztOSTC27pc",
    "outputId": "cd3612b1-f870-45d3-e8b7-c9c0427bbb5c"
   },
   "outputs": [
    {
     "data": {
      "text/plain": [
       "array([-1.,  2.,  0.,  1.])"
      ]
     },
     "execution_count": 4,
     "metadata": {},
     "output_type": "execute_result"
    }
   ],
   "source": [
    "sol = eliminasi_gauss(A,b)\n",
    "sol"
   ]
  },
  {
   "cell_type": "markdown",
   "metadata": {
    "id": "hebl7UbaLQJk"
   },
   "source": [
    "### Contoh 2\n",
    "\n",
    "$$\n",
    "\\begin{array}{cc}\n",
    "E_1: & 10^{-17}x_1 &-& x_2 &=& -1, \\\\\n",
    "E_2: & x_1 &+& 2x_2 &=& 3, \\\\\n",
    "\\end{array}\n",
    "$$"
   ]
  },
  {
   "cell_type": "code",
   "execution_count": 5,
   "metadata": {
    "id": "nJPZN-LuLzYa"
   },
   "outputs": [],
   "source": [
    "A = np.array([[1e-17, -1],\n",
    "              [1,2]], dtype=np.float64)\n",
    "b = np.array([-1, 3], dtype=np.float64)"
   ]
  },
  {
   "cell_type": "code",
   "execution_count": 6,
   "metadata": {
    "colab": {
     "base_uri": "https://localhost:8080/"
    },
    "id": "43Y4AhhrMI9Y",
    "outputId": "79726904-54d4-4f56-8092-282072cbcc48"
   },
   "outputs": [
    {
     "data": {
      "text/plain": [
       "array([0., 1.])"
      ]
     },
     "execution_count": 6,
     "metadata": {},
     "output_type": "execute_result"
    }
   ],
   "source": [
    "sol = eliminasi_gauss(A,b)\n",
    "sol"
   ]
  },
  {
   "cell_type": "code",
   "execution_count": 7,
   "metadata": {
    "colab": {
     "base_uri": "https://localhost:8080/",
     "height": 265
    },
    "id": "KTPMRcz0RcbD",
    "outputId": "4e4b2746-ed7d-4a25-c286-a0112e4aeec7"
   },
   "outputs": [
    {
     "data": {
      "image/png": "[encoded data removed]",
      "text/plain": [
       "<Figure size 432x288 with 1 Axes>"
      ]
     },
     "metadata": {
      "filenames": {
       "image/png": "/Users/muhazaliebenlito/vscode/Metode-Numerik/_build/jupyter_execute/notebooks/Solusi_dari_SPL_14_0.png"
      },
      "needs_background": "light"
     },
     "output_type": "display_data"
    }
   ],
   "source": [
    "# plot SPL\n",
    "x = np.linspace(-2, 2)\n",
    "f1 = 1 + 1e-17*x\n",
    "f2 = (3 - x)/2\n",
    "plt.plot(x, f1, color='red', label='$E_1$')\n",
    "plt.plot(x, f2, color='green', label='$E_2$')\n",
    "\n",
    "# solusi eliminasi\n",
    "plt.scatter(sol[0], sol[1], marker='o', color='black')\n",
    "plt.annotate('({}, {})'.format(sol[0], sol[1]), sol+0.1)\n",
    "\n",
    "# solusi eksak\n",
    "plt.scatter(1, 1, marker='o', color='red')\n",
    "plt.annotate('(1, 1)', (1,1+0.1))\n",
    "\n",
    "plt.legend();"
   ]
  },
  {
   "cell_type": "code",
   "execution_count": 8,
   "metadata": {
    "colab": {
     "base_uri": "https://localhost:8080/"
    },
    "id": "CkR0lOULY3xG",
    "outputId": "4bfe1cb8-935c-48a6-8480-df2ee235def8"
   },
   "outputs": [
    {
     "data": {
      "text/plain": [
       "1.0"
      ]
     },
     "execution_count": 8,
     "metadata": {},
     "output_type": "execute_result"
    }
   ],
   "source": [
    "detA = np.linalg.det(A) # Determinan A\n",
    "detA"
   ]
  },
  {
   "cell_type": "code",
   "execution_count": 9,
   "metadata": {
    "colab": {
     "base_uri": "https://localhost:8080/"
    },
    "id": "yHEHfNObMMPB",
    "outputId": "ae31e26f-1fb9-46b3-b209-21e07e7ac6c4"
   },
   "outputs": [
    {
     "data": {
      "text/plain": [
       "5.828427124746189"
      ]
     },
     "execution_count": 9,
     "metadata": {},
     "output_type": "execute_result"
    }
   ],
   "source": [
    "condition_number = np.linalg.cond(A) # Condition Number A\n",
    "condition_number"
   ]
  },
  {
   "cell_type": "markdown",
   "metadata": {
    "id": "7cMBXyrXZByw"
   },
   "source": [
    "Dari Contoh 2 terlihat bahwa condition number dari A adalah 5.8284 mengindikasikan bahwa matriks tersebut __ill-condition__ atau _hampir_ __singular__. Matriks yang ill-condition dapat terjadi karena error pembulatan, sehingga solusi numerik yang dihasilkan salah. Walaupun kita tahu bahwa determinan dari A tak nol artinya SPL pada Contoh 2 memiliki solusi tunggal."
   ]
  },
  {
   "cell_type": "markdown",
   "metadata": {
    "id": "OmpOGdNSYpwa"
   },
   "source": [
    "> If the condition number is not too much larger than one, the matrix is well-conditioned, which means that its inverse can be computed with good accuracy. If the condition number is very large, then the matrix is said to be ill-conditioned. Practically, such a matrix is almost singular, and the computation of its inverse, or solution of a linear system of equations is prone to large numerical errors. A matrix that is not invertible has condition number equal to infinity. (https://en.wikipedia.org/wiki/Condition_number)"
   ]
  },
  {
   "cell_type": "markdown",
   "metadata": {
    "id": "b-NW_e3qa7Yu"
   },
   "source": [
    "## Eliminasi Gauss dengan Scaled Partial Pivoting\n",
    "\n",
    "Untuk menghindari hal tersebut, kita memerlukan __penukaran baris__ di A."
   ]
  },
  {
   "cell_type": "code",
   "execution_count": 10,
   "metadata": {
    "colab": {
     "base_uri": "https://localhost:8080/"
    },
    "id": "RLNuNaEjbf23",
    "outputId": "e7a90a21-94a7-4fba-d6e4-c3c23f379481"
   },
   "outputs": [
    {
     "name": "stdout",
     "output_type": "stream",
     "text": [
      "A =  [[ 1.e+00  2.e+00]\n",
      " [ 1.e-17 -1.e+00]]\n",
      "b =  [ 3. -1.]\n"
     ]
    }
   ],
   "source": [
    "A[[0,1],:] = A[[1,0],:]\n",
    "b[[0,1]] = b[[1,0]]\n",
    "\n",
    "print(\"A = \", A)\n",
    "print(\"b = \", b)"
   ]
  },
  {
   "cell_type": "code",
   "execution_count": 11,
   "metadata": {
    "colab": {
     "base_uri": "https://localhost:8080/"
    },
    "id": "gS2oW5bcb8AG",
    "outputId": "12c4be24-f036-44a3-b9a0-6053331e1961"
   },
   "outputs": [
    {
     "data": {
      "text/plain": [
       "array([1., 1.])"
      ]
     },
     "execution_count": 11,
     "metadata": {},
     "output_type": "execute_result"
    }
   ],
   "source": [
    "sol = eliminasi_gauss(A, b)\n",
    "sol"
   ]
  },
  {
   "cell_type": "markdown",
   "metadata": {
    "id": "C5CX1Gg-lsga"
   },
   "source": [
    "📌 Jadi, kapan kita perlu menukar baris?\n",
    "\n",
    "Mari kita lihat SPL berikut\n",
    "\n",
    "$$\n",
    "\\begin{array}{cc}\n",
    "E_1: a_{11} x_1 + a_{12} x_2 &=& b_1 \\\\\n",
    "E_2: a_{21} x_1 + a_{22} x_2 &=& b_2\n",
    "\\end{array}\n",
    "$$\n",
    "\n",
    "Asumsikan bahwa kita telah mendapatkan nilai dari $x_2$ dan mengandung error pembulatan (round-off error), $\\hat{x}_2 = x_2 + \\varepsilon_2$. Kemudian kita hitung $x_1$ dengan $\\hat{x}_2$:\n",
    "\n",
    "$$\n",
    "\\begin{array}{cc}\n",
    "  \\hat{x}_1 &=& \\frac{1}{a_{11}}(b_1 - a_{12}\\hat{x}_2)\\\\\n",
    "            &=& \\frac{1}{a_{11}}(b_1 - a_{12}x_2 - a_{12}\\varepsilon_2)\\\\\n",
    "            &=& \\frac{1}{a_{11}}(b_1 - a_{12}x_2) - \\frac{a_{12}}{a_{11}} \\varepsilon_2\\\\\n",
    "            &=& x_1 - \\varepsilon_1\n",
    "\\end{array}\n",
    "$$\n",
    "\n",
    "dengan demikian kita dapatkan $\\varepsilon_1 = \\frac{a_{12}}{a_{11}} \\varepsilon_2$. Error di $x_2$ terpropagasi dengan suatu faktor $\\frac{a_{12}}{a_{11}}$. Kasus ini disebut juga dengan __error terpropagasi (propagated error)__. Untuk menghasilkan hasil yang terbaik, kita menginginkan nilai dari $|a_{11}|$ sebesar mungkin. \n"
   ]
  },
  {
   "cell_type": "markdown",
   "metadata": {
    "id": "e8ySr793w4vx"
   },
   "source": [
    "## Algoritma Eliminasi Gauss dengan Scaled Partial Pivoting\n",
    "\n",
    "Dari kasus tersebut, kita memerlukan teknik __scaled partial pivoting__. Idenya adalah mencari skala terbesar dari masing-masing koefisien di setiap persamaan,  $max_{k \\leq i \\leq n} |a_{ik}|$ untuk $a_{ii}$, kemudian cari mana baris yang memiliki skala terbesar dan lakukan penukaran baris. Untuk lebih jelasnya, kita lihat algoritma berikut:\n",
    "\n",
    "\n"
   ]
  },
  {
   "cell_type": "markdown",
   "metadata": {
    "id": "CVYzs8Oc3Om2"
   },
   "source": [
    "```python\n",
    "Algoritma: Eliminasi_Gauss_Scaled_Pivoting(A, b)\n",
    "\n",
    "INPUT: A` adalah matriks augmented [A,b], n adalah ukuran dari A.\n",
    "OUTPUT: variabel x \n",
    "\n",
    "1. Mencari skala terbesar dari setiap baris \n",
    "\n",
    "for i=1 to n\n",
    "      s[i] = max(|a[i,j]|), j = 1,2,..,n\n",
    "      if s[i] == 0\n",
    "          print('tidak ada solusi tunggal')\n",
    "\n",
    "for i=1 to n\n",
    "  2. Mencari indeks dari baris yang memiliki skala terbesar dan lakukan penukaran baris:\n",
    "\n",
    "  for i=1 to n-1\n",
    "      p = argmax(|a[k, i]|/s[i]), k = 1,2,...,n (mencari indeks)\n",
    "      if p ~= i\n",
    "          A`[[i,p]] <=> A`[[p,i]] (lakukan penukaran baris)\n",
    "          s[i] <=> s[p] (lakukan penukaran nilai skala)\n",
    "  3. Selanjutnya, lakukan eliminasi maju seperti pada algoritma sebelumnya.\n",
    "endfor\n",
    "4. Lakukan subtitusi mundur.\n",
    "```"
   ]
  },
  {
   "cell_type": "markdown",
   "metadata": {
    "id": "IIYx4oQ7WV3A"
   },
   "source": [
    "### Contoh 3\n",
    "\n",
    "Diberikan SPL\n",
    "\n",
    "$$\n",
    "\\begin{array}{cc}\n",
    "E_1: & x_1 &+& 2x_2 &+& x_3 &=& 3, \\\\\n",
    "E_2: & 3x_1 &+& 4x_2 &+&  &=& 3, \\\\\n",
    "E_3: & 2x_1 &+& 10x_2 &+& 4x_3 &=& 10, \\\\\n",
    "\\end{array}\n",
    "$$\n",
    "\n",
    "Dari SPL tersebut, pertama kita cari skala terbesar di setiap baris/persamaan.\n",
    "Untuk baris pertama $E_1$:\n",
    "\n",
    "$$\n",
    "\\begin{array}{cc}\n",
    "s_1 &=& \\max_{1 \\leq j \\leq n} |a_{1j}|\\\\\n",
    "     &=& \\max \\{1, 2, 1\\} \\\\\n",
    "     &=& 2\n",
    "\\end{array}\n",
    "$$\n",
    "\n",
    "baris kedua $E_2$:\n",
    "\n",
    "$$\n",
    "\\begin{array}{cc}\n",
    "s_2 &=& \\max_{1 \\leq j \\leq n} |a_{2j}|\\\\\n",
    "     &=& \\max \\{3, 4, 0\\} \\\\\n",
    "     &=& 4\n",
    "\\end{array}\n",
    "$$\n",
    "\n",
    "dan, baris ketiga $E_3$:\n",
    "\n",
    "$$\n",
    "\\begin{array}{cc}\n",
    "s_3 &=& \\max_{1 \\leq j \\leq n} |a_{3j}|\\\\\n",
    "     &=& \\max \\{2, 10, 4\\} \\\\\n",
    "     &=& 10.\n",
    "\\end{array}\n",
    "$$\n",
    "\n",
    "Kemudian kita cari baris yang akan ditukar:\n",
    "\n",
    "$$\n",
    "\\frac{a_{11}}{s_1} = \\frac{1}{2}, \\frac{a_{21}}{s_2} = \\frac{3}{4}, \\frac{a_{31}}{s_3} = \\frac{2}{10} \\rightarrow i=2\n",
    "$$\n",
    "\n",
    "dari sini kita dapatkan bahwa baris kedua $E_2$ yang memiliki nilai terbesar. Dengan demikian, lakukan penukaran $E_1 \\leftrightarrow E_2$. Sehingga SPLnya menjadi\n",
    "\n",
    "$$\n",
    "\\begin{array}{cc}\n",
    "E_1: & 3x_1 &+& 4x_2 &+&  &=& 3, \\\\\n",
    "E_2: & x_1 &+& 2x_2 &+& x_3 &=& 3, \\\\\n",
    "E_3: & 2x_1 &+& 10x_2 &+& 4x_3 &=& 10, \\\\\n",
    "\\end{array}\n",
    "$$\n",
    "\n",
    "Kemudian kita lakukan eliminasi maju untuk mengeliminasi $x_1$ dari $E_2$ dan $E_3$\n",
    "* $(E_2 - \\frac{1}{3} E_1) \\rightarrow (E_2)$\n",
    "* $(E_3 - \\frac{2}{3} E_1) \\rightarrow (E_3)$.\n",
    "\n",
    "Sehingga didapat SPL baru, yaitu\n",
    "\n",
    "$$\n",
    "\\begin{array}{cc}\n",
    "E_2: & 3x_1 &+& 4x_2 &+&  &=& 3, \\\\\n",
    "E_1: &  && \\frac{2}{3}x_2 &+& x_3 &=& 2, \\\\\n",
    "E_3: &  && \\frac{22}{3}x_2 &+& 4x_3 &=& 8, \\\\\n",
    "\\end{array}\n",
    "$$\n",
    "\n",
    "dan kita cari lagi baris yang akan ditukar dari SPL baru tersebut:\n",
    "\n",
    "$$\n",
    "\\frac{a_{12}}{s_1} = \\frac{2/3}{2} = \\frac{1}{3}, \\frac{a_{32}}{s_3} = \\frac{22/3}{10} = \\frac{22}{30} \\rightarrow i=3\n",
    "$$\n",
    "\n",
    "sehingga kita tukar $E_1 \\leftrightarrow E_3$, maka didapat SPL baru selanjutnya\n",
    "\n",
    "$$\n",
    "\\begin{array}{cc}\n",
    "E_2: & 3x_1 &+& 4x_2 &+&  &=& 3, \\\\\n",
    "E_3: &  && \\frac{22}{3}x_2 &+& 4x_3 &=& 8, \\\\\n",
    "E_1: &  && \\frac{2}{3}x_2 &+& x_3 &=& 2, \\\\\n",
    "\\end{array}\n",
    "$$\n",
    "\n",
    "dan lakukan eliminasi maju untuk mengeliminasi $x_2$ dari $E_1$:\n",
    "* $(E_1 - \\frac{1}{11} E_3) \\rightarrow (E_1)$\n",
    "\n",
    "sehingga didapatkan SPL:\n",
    "\n",
    "$$\n",
    "\\begin{array}{cc}\n",
    "E_2: & 3x_1 &+& 4x_2 &+&  &=& 3, \\\\\n",
    "E_3: &  && \\frac{22}{3}x_2 &+& 4x_3 &=& 8, \\\\\n",
    "E_1: &  &&  && \\frac{7}{11}x_3 &=& \\frac{14}{11}, \\\\\n",
    "\\end{array}\n",
    "$$\n",
    "\n",
    "Kemudian lakukan subtitusi mundur, sehingga didapatkan $x_1 = 1, x_2 = 0, x_3 = 2$.\n",
    "\n",
    "\n"
   ]
  },
  {
   "cell_type": "code",
   "execution_count": 12,
   "metadata": {
    "id": "IjMBgHmQj2Lu"
   },
   "outputs": [],
   "source": [
    "def eliminasi_gauss_pivoting(A,b):\n",
    "  A_c = np.c_[A,b]\n",
    "\n",
    "  n = len(A)\n",
    "\n",
    "  s = np.zeros(n)\n",
    "  # Mencari skala terbesar\n",
    "  for i in range(n):\n",
    "    s[i] = max(np.abs(A_c[i,:n]))\n",
    "\n",
    "  for i in range(n):\n",
    "    # Lakukan penukaran baris\n",
    "    for k in range(n-1):\n",
    "      p = np.argmax(np.abs(A_c[k:n, k])/s[k:n]) + k\n",
    "      if p != k:\n",
    "        A_c[[k,p],:] = A_c[[p,k],:]\n",
    "        s[k], s[p] = s[p], s[k]\n",
    "    \n",
    "    # Lakukan eliminasi maju\n",
    "    faktor = A_c[i+1:, i]/A_c[i,i]\n",
    "    A_c[i+1:] -= faktor[:, np.newaxis] * A_c[i]\n",
    "\n",
    "  x = np.zeros_like(b, dtype=np.float64)\n",
    "\n",
    "  # Lakukan subtitutsi mundur\n",
    "  x[-1] = A_c[-1,-1]/A_c[-1,-2]\n",
    "  for i in range(n-2, -1, -1):\n",
    "    x[i] = 1/A_c[i,i] * (A_c[i,-1] - np.dot(A_c[i,i:-1], x[i:]))\n",
    "    \n",
    "  return x"
   ]
  },
  {
   "cell_type": "code",
   "execution_count": 13,
   "metadata": {
    "id": "hmmsDtpHpznb"
   },
   "outputs": [],
   "source": [
    "A = np.array([[1,2,1],\n",
    "              [3,4,0],\n",
    "              [2,10,4]], dtype=np.double)\n",
    "b = np.array([3,3,10], dtype=np.double)"
   ]
  },
  {
   "cell_type": "code",
   "execution_count": 14,
   "metadata": {
    "colab": {
     "base_uri": "https://localhost:8080/"
    },
    "id": "DL-ljE0HvdgJ",
    "outputId": "8488d97f-d144-4690-8fd6-878b3be8830c"
   },
   "outputs": [
    {
     "data": {
      "text/plain": [
       "array([1., 0., 2.])"
      ]
     },
     "execution_count": 14,
     "metadata": {},
     "output_type": "execute_result"
    }
   ],
   "source": [
    "eliminasi_gauss_pivoting(A,b)"
   ]
  },
  {
   "cell_type": "markdown",
   "metadata": {
    "id": "-WIGPZX3NEfx"
   },
   "source": [
    "### Contoh 4\n",
    "Dari Contoh 2, kita gunakan scaled partial pivoting"
   ]
  },
  {
   "cell_type": "code",
   "execution_count": 15,
   "metadata": {
    "id": "DgSsivyx40KJ"
   },
   "outputs": [],
   "source": [
    "A = np.array([[1e-17, -1],\n",
    "              [1,2]], dtype=np.float64)\n",
    "b = np.array([-1, 3], dtype=np.float64)"
   ]
  },
  {
   "cell_type": "code",
   "execution_count": 16,
   "metadata": {
    "colab": {
     "base_uri": "https://localhost:8080/"
    },
    "id": "DnpHlSnlNBz8",
    "outputId": "29d81b57-2a7f-46e6-856a-4d5c865cf344"
   },
   "outputs": [
    {
     "data": {
      "text/plain": [
       "array([1., 1.])"
      ]
     },
     "execution_count": 16,
     "metadata": {},
     "output_type": "execute_result"
    }
   ],
   "source": [
    "x_pivoting = eliminasi_gauss_pivoting(A,b)\n",
    "x_pivoting"
   ]
  },
  {
   "cell_type": "markdown",
   "metadata": {
    "id": "7VpGoPKDNf0O"
   },
   "source": [
    "### Contoh 5\n",
    "\n",
    "$$\n",
    "\\begin{array}{cc}\n",
    "E_1: & x_1 &+& 10^{17}x_2 &=& 10^{17}, \\\\\n",
    "E_2: & x_1 &+& 10^{-17}x_2 &=& 1, \\\\\n",
    "\\end{array}\n",
    "$$"
   ]
  },
  {
   "cell_type": "code",
   "execution_count": 17,
   "metadata": {
    "id": "mCjG_aKtNek8"
   },
   "outputs": [],
   "source": [
    "A = np.array([[1, 1e17],\n",
    "             [1, 1e-17]], dtype=np.double)\n",
    "b = np.array([1e17, 1], dtype=np.double)"
   ]
  },
  {
   "cell_type": "code",
   "execution_count": 18,
   "metadata": {
    "colab": {
     "base_uri": "https://localhost:8080/"
    },
    "id": "-CqtKsZWSd5B",
    "outputId": "a779f949-edfd-45d8-fe94-bff3f702939a"
   },
   "outputs": [
    {
     "data": {
      "text/plain": [
       "9.999999999999997e+16"
      ]
     },
     "execution_count": 18,
     "metadata": {},
     "output_type": "execute_result"
    }
   ],
   "source": [
    "np.linalg.cond(A)"
   ]
  },
  {
   "cell_type": "code",
   "execution_count": 19,
   "metadata": {
    "colab": {
     "base_uri": "https://localhost:8080/"
    },
    "id": "TcBB7_HcXr17",
    "outputId": "71be75e9-16d5-4f1b-b315-c188e6aae90e"
   },
   "outputs": [
    {
     "data": {
      "text/plain": [
       "-1.000000000000001e+17"
      ]
     },
     "execution_count": 19,
     "metadata": {},
     "output_type": "execute_result"
    }
   ],
   "source": [
    "np.linalg.det(A)"
   ]
  },
  {
   "cell_type": "code",
   "execution_count": 20,
   "metadata": {
    "colab": {
     "base_uri": "https://localhost:8080/"
    },
    "id": "I_bFGPYaOZ4y",
    "outputId": "b5208ebd-6929-4fc8-a1b0-8d2178f53255"
   },
   "outputs": [
    {
     "data": {
      "text/plain": [
       "array([0., 1.])"
      ]
     },
     "execution_count": 20,
     "metadata": {},
     "output_type": "execute_result"
    }
   ],
   "source": [
    "x = eliminasi_gauss(A,b)\n",
    "x"
   ]
  },
  {
   "cell_type": "code",
   "execution_count": 21,
   "metadata": {
    "colab": {
     "base_uri": "https://localhost:8080/"
    },
    "id": "aS52hf0gOlWM",
    "outputId": "28af9fc0-1a46-498e-ff25-e1bcf0196f42"
   },
   "outputs": [
    {
     "data": {
      "text/plain": [
       "array([1., 1.])"
      ]
     },
     "execution_count": 21,
     "metadata": {},
     "output_type": "execute_result"
    }
   ],
   "source": [
    "x_pivoting = eliminasi_gauss_pivoting(A, b)\n",
    "x_pivoting"
   ]
  },
  {
   "cell_type": "code",
   "execution_count": 22,
   "metadata": {
    "colab": {
     "base_uri": "https://localhost:8080/"
    },
    "id": "uE8E0kBIa3kG",
    "outputId": "bf7787fc-cfe0-44cd-d1fa-409e1af9d328"
   },
   "outputs": [
    {
     "data": {
      "text/plain": [
       "2"
      ]
     },
     "execution_count": 22,
     "metadata": {},
     "output_type": "execute_result"
    }
   ],
   "source": [
    "rankA = np.linalg.matrix_rank(A, tol=1e-17)\n",
    "rankA"
   ]
  },
  {
   "cell_type": "code",
   "execution_count": null,
   "metadata": {
    "id": "oW1dCi0Kb2K2"
   },
   "outputs": [],
   "source": []
  }
 ],
 "metadata": {
  "colab": {
   "authorship_tag": "ABX9TyPsadSAOKvnuVZncntN4kEY",
   "name": "Solusi dari SPL.ipynb",
   "provenance": []
  },
  "kernelspec": {
   "display_name": "Python 3",
   "name": "python3"
  },
  "language_info": {
   "codemirror_mode": {
    "name": "ipython",
    "version": 3
   },
   "file_extension": ".py",
   "mimetype": "text/x-python",
   "name": "python",
   "nbconvert_exporter": "python",
   "pygments_lexer": "ipython3",
   "version": "3.9.7"
  }
 },
 "nbformat": 4,
 "nbformat_minor": 0
}