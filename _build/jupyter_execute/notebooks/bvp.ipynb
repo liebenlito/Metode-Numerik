{
 "cells": [
  {
   "cell_type": "markdown",
   "metadata": {},
   "source": [
    "# Solusi Numerik untuk Masalah Syarat Batas\n",
    "\n",
    "Bentuk umum\n",
    "\n",
    "$$\n",
    "y'' = f(x, y, y'), \\hspace{1.5em} a \\leq x \\leq b, \\hspace{1.5em} y(a) = \\alpha \\text{ dan } y(b) = \\beta.\n",
    "$$\n",
    "\n",
    "Berdasarkan linearitas masalahnya "
   ]
  },
  {
   "cell_type": "code",
   "execution_count": null,
   "metadata": {},
   "outputs": [],
   "source": []
  }
 ],
 "metadata": {
  "language_info": {
   "codemirror_mode": {
    "name": "ipython",
    "version": 3
   },
   "file_extension": ".py",
   "mimetype": "text/x-python",
   "name": "python",
   "nbconvert_exporter": "python",
   "pygments_lexer": "ipython3",
   "version": "3.9.7"
  }
 },
 "nbformat": 4,
 "nbformat_minor": 2
}