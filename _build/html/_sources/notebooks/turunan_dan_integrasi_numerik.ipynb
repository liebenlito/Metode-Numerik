{
 "cells": [
  {
   "cell_type": "markdown",
   "metadata": {},
   "source": [
    "# Turunan Numerik\n",
    "\n",
    "Misalkan $h$ adalah suatu step-size, suatu turunan dari suatu fungsi $f(x)$ dapat diaproksimasi dengan skema berikut:\n",
    "\n",
    "1. Forward-Difference\n",
    "\n",
    "$$\n",
    "f'(x) \\approx \\frac{f(x+h) - f(x)}{h}\n",
    "$$\n",
    "\n",
    "2. Backward-Difference\n",
    "\n",
    "$$\n",
    "f'(x) \\approx \\frac{f(x) - f(x-h)}{h}\n",
    "$$\n",
    "\n",
    "3. Central-Difference\n",
    "\n",
    "$$\n",
    "f'(x) \\approx \\frac{f(x+h) - f(x+h)}{2h}\n",
    "$$\n"
   ]
  },
  {
   "cell_type": "markdown",
   "metadata": {},
   "source": [
    "## Contoh 1\n",
    "\n",
    "Diberikan suatu fungsi \n",
    "\n",
    "$$\n",
    "f(x) = x^2\n",
    "$$\n",
    "\n",
    "maka turunan numerik dari fungsi tersebut di $x = 2$ adalah"
   ]
  },
  {
   "cell_type": "code",
   "execution_count": 2,
   "metadata": {},
   "outputs": [],
   "source": [
    "import numpy as np\n",
    "import matplotlib.pyplot as plt"
   ]
  },
  {
   "cell_type": "code",
   "execution_count": 3,
   "metadata": {},
   "outputs": [
    {
     "data": {
      "image/png": "[encoded data removed]",
      "text/plain": [
       "<Figure size 432x288 with 1 Axes>"
      ]
     },
     "metadata": {
      "needs_background": "light"
     },
     "output_type": "display_data"
    }
   ],
   "source": [
    "x = np.linspace(-5,5,100)\n",
    "f = lambda x: x**2\n",
    "f_aksen = lambda x: 2*x\n",
    "line = lambda x, x1, y1: f_aksen(x1)*(x-x1) + y1\n",
    "\n",
    "x1 = 2\n",
    "h = 0.1\n",
    "forward_D = (f(x1+h) - f(x1))/h\n",
    "\n",
    "xline = np.linspace(x1-2, x1+2, 100)\n",
    "plt.plot(x, f(x));\n",
    "plt.scatter(x1, f(x1), c='red')\n",
    "plt.plot(xline, line(xline, x1, f(x1)));\n",
    "\n"
   ]
  },
  {
   "cell_type": "code",
   "execution_count": 4,
   "metadata": {},
   "outputs": [
    {
     "data": {
      "text/plain": [
       "4.100000000000001"
      ]
     },
     "execution_count": 4,
     "metadata": {},
     "output_type": "execute_result"
    }
   ],
   "source": [
    "forward_D"
   ]
  },
  {
   "cell_type": "code",
   "execution_count": null,
   "metadata": {},
   "outputs": [],
   "source": []
  }
 ],
 "metadata": {
  "interpreter": {
   "hash": "bd2bba1f0abd62882dfa9d8465ca304f17cc759b9753a8b197c7f4fc49e2b8f4"
  },
  "kernelspec": {
   "display_name": "Python 3.9.7 64-bit ('iben_env': conda)",
   "language": "python",
   "name": "python3"
  },
  "language_info": {
   "codemirror_mode": {
    "name": "ipython",
    "version": 3
   },
   "file_extension": ".py",
   "mimetype": "text/x-python",
   "name": "python",
   "nbconvert_exporter": "python",
   "pygments_lexer": "ipython3",
   "version": "3.9.9"
  },
  "orig_nbformat": 4
 },
 "nbformat": 4,
 "nbformat_minor": 2
}
