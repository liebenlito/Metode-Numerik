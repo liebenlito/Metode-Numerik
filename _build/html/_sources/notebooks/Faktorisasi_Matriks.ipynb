{
 "cells": [
  {
   "cell_type": "markdown",
   "metadata": {},
   "source": [
    "# Dekomposisi Matriks\n",
    "\n",
    "Pada prinsipnya Eliminasi Gauss adalah teknik yang secara umum digunakan untuk menyelesaikan Sistem Persamaan Linear (SPL). Namun, waktu komputasi yang dibutuhkan oleh Eliminasi Gauss cenderung lama seiring bertambahnya ukuran matriks atau dapat dinotasikan $O(n^3 /3)$ {cite}`burden_numerical_2010`. Hal ini banyak dipengaruhi oleh operasi aritmatika dari proses eliminasi yang terjadi di dalam Eliminasi Gauss. Dengan demikian, kita memerlukan suatu cara agar dapat meminimalkan waktu komputasi, salah satunya dengan melakukan __dekomposisi matriks__."
   ]
  },
  {
   "cell_type": "markdown",
   "metadata": {},
   "source": [
    "## Dekomposisi LU\n",
    "\n",
    "Diberikan suatu SPL yang dapat dibentuk dalam bentuk matriks-vektor sebagai berikut\n",
    "\n",
    "$$\n",
    "A\\vec{x} = \\vec{b}\n",
    "$$\n",
    "\n",
    "dimana $A \\in \\mathbb{R}^{n \\times n}$ dan $\\vec{x}, \\vec{b} \\in \\mathbb{R}^n$. Kemudian untuk menyelesaikan SPL tersebut, kita gunakan eliminasi Gauss tanpa pivoting dan kita asumsikan juga bahwa elemen pivot di $A$ tak nol seiring berjalannya proses eliminasi pada setiap iterasinya, atau dapat ditulis $a_{ii}^{(k)}$, untuk $k = 1,2, ..., n$ dan $i = 1,2,...,n$. Proses eliminasi pada iterasi pertama dilakukan dengan cara\n",
    "\n",
    "$$\n",
    "(E_j - m_{j1}E_1) \\rightarrow (E_j), \\hspace{1.5em} m_{j1} = \\frac{a_{j1}^{(1)}}{a_{11}^{(1)}}\n",
    "$$\n",
    "\n",
    "atau operasi ini dapat direpresentasikan sebagai __matriks transformasi Gaussian pertama__\n",
    "\n",
    "$$\n",
    "M^{(1)} = \n",
    "\\begin{bmatrix}\n",
    "1       & 0 & \\cdots & 0 \\\\\n",
    "-m_{21} & 1 &        & 0 \\\\\n",
    "\\vdots  &   & \\ddots & \\vdots \\\\\n",
    "-m_{n1} & 0 & \\cdots & 1 \\\\\n",
    "\\end{bmatrix}\n",
    "$$\n",
    "\n",
    "Sehingga, hasil perkalian matriks antara $M^{(1)}$ dan $A^{(1)}$ adalah\n",
    "\n",
    "$$\n",
    "A^{(2)}\\vec{x} = M^{(1)}A\\vec{x} = M^{(1)} \\vec{b} = \\vec{b}^{(2)}.\n",
    "$$\n",
    "\n",
    "Secara umum, ketika kita melakukan perkalian matriks A dengan matriks transformasi Gaussian pada iterasi ke $k$ akan menghasilkan\n",
    "\n",
    "$$\n",
    "A^{(k+1)} \\vec{x} = M^{(k)} A^{(k)} \\vec{x} = M^{(k)} \\cdots M^{(1)} A \\vec{x} = M^{(k)}\\vec{b}^{(k)} = \\vec{b}^{(k+1)} = M^{(k)} \\cdots M^{(1)} \\vec{b}.\n",
    "$$\n",
    "\n",
    "Proses ini akan berhenti pada $A^{(n)} \\vec{x} = \\vec{b}^{(n)}$, dimana $A^{(n)}$ menjadi matriks segitiga atas\n",
    "\n",
    "$$\n",
    "A^{(n)} = \n",
    "\\begin{bmatrix}\n",
    "a_{11}^{(1)} & a_{12}^{(1)} & \\cdots & a_{1n}^{(1)} \\\\\n",
    "0            & a_{22}^{(2)} &        & a_{2n}^{(2)} \\\\\n",
    "\\vdots       &   & \\ddots & \\vdots \\\\\n",
    "0            & 0 & \\cdots & a_{nn}^{(n)} \\\\\n",
    "\\end{bmatrix}\n",
    "$$\n",
    "\n",
    "diberikan oleh \n",
    "\n",
    "$$\n",
    "A^{(n)} = M^{(n-1)} M^{(n-1)} \\cdots M^{(1)} A.\n",
    "$$"
   ]
  },
  {
   "cell_type": "markdown",
   "metadata": {},
   "source": [
    "Kemudian kita panggil kembali \n",
    "\n",
    "$$\n",
    "A^{(k+1)} \\vec{x} = M^{(k)} A^{(k)} \\vec{x} = M^{(k)} \\cdots M^{(1)} A \\vec{x} = M^{(k)}\\vec{b}^{(k)} = \\vec{b}^{(k+1)}\n",
    "$$\n",
    "\n",
    "dimana $M^{(k)}$ dihasilkan dari operasi baris\n",
    "\n",
    "$$\n",
    "(E_j - m_{jk}E_k) \\rightarrow (E_j), \\hspace{1.5em} j=k+1, \\cdots, n.\n",
    "$$\n",
    "\n",
    "Jika kita ingin mengembalikan nilai dari matriks $A^{(k+1)} ke A^{(k)}$, maka kita perlu operasi balikan \n",
    "\n",
    "$$\n",
    "(E_j + m_{jk}E_k) \\rightarrow (E_j), \\hspace{1.5em} j=k+1, \\cdots, n,\n",
    "$$\n",
    "\n",
    "berarti ini sama saja mencari invers dari matriks $M$, $[M^{(k)}]^{-1}$. Dengan demikian, jika kita teruskan operasi invers ini sampai dengan iterasi pertama, maka akan menghasilkan matriks $A$, dan operasi invers dari matriks $M$ dapat kita tuliskan ekivalen dengan matriks segitiga bawah $L$ atau dapat ditulis\n",
    "\n",
    "$$\n",
    "L = L^{(1)} L^{(2)} \\cdots L^{(n-1)} = \n",
    "\\begin{bmatrix}\n",
    "1       & 0 & \\cdots & 0 \\\\\n",
    "m_{21} & 1 &        & 0 \\\\\n",
    "\\vdots  &   & \\ddots & \\vdots \\\\\n",
    "m_{n1} & \\cdots & m_{n,n-1} & 1 \\\\\n",
    "\\end{bmatrix}\n",
    "$$\n",
    "\n",
    "Jadi, $A$ dapat kita dekomposisi menjadi hasil kali dari matriks segitiga bawah $L$ dan matriks segitiga atas $U$, atau dapat ditulis\n",
    "\n",
    "$$\n",
    "\\begin{array}{lll}\n",
    "LU &=& L^{(1)}L^{(2)} \\cdots L^{(n-3)} L^{(n-2)} L^{(n-1)} . M^{(n-1)} M^{(n-2)} M^{(n-3)} \\cdots M^{(2)} M^{(1)} A \\\\\n",
    "&=& [M^{(1)}]^{-1} [M^{(2)}]^{-1} \\cdots [M^{(n-2)}]^{-1} [M^{(n-1)}]^{-1} . M^{(n-1)} M^{(n-2)} M^{(n-3)} \\cdots M^{(2)} M^{(1)} A \\\\\n",
    "&=& A.\n",
    "\\end{array}\n",
    "$$"
   ]
  },
  {
   "cell_type": "markdown",
   "metadata": {},
   "source": [
    "```{admonition} Teorema\n",
    "Jika Eliminasi Gauss tanpa penukaran baris dapat digunakan untuk menyelesaikan $A\\vec{x} = \\vec{b}$, maka matriks $A$ dapat didekomposisi ke dalam perkalian matriks antara matriks segitiga bawah $L$ dan matriks segitiga atas $U$, $A = LU$\n",
    "\n",
    "$$\n",
    "U = \n",
    "\\begin{bmatrix}\n",
    "a_{11}^{(1)} & a_{12}^{(1)} & \\cdots & a_{1n}^{(1)} \\\\\n",
    "0            & a_{22}^{(2)} &        & a_{2n}^{(2)} \\\\\n",
    "\\vdots       &   & \\ddots & \\vdots \\\\\n",
    "0            & 0 & \\cdots & a_{nn}^{(n)} \\\\\n",
    "\\end{bmatrix}\n",
    ", L = \n",
    "\\begin{bmatrix}\n",
    "1       & 0 & \\cdots & 0 \\\\\n",
    "m_{21} & 1 &        & 0 \\\\\n",
    "\\vdots  &   & \\ddots & \\vdots \\\\\n",
    "m_{n1} & \\cdots & m_{n,n-1} & 1 \\\\\n",
    "\\end{bmatrix}\n",
    ",\n",
    "$$\n",
    "\n",
    "dimana $m_{ji} = \\frac{a_{ji}^{(i)}}{a_{ii}^{(i)}}$, untuk $i,j = 1,2,\\cdots, n$.\n",
    "```"
   ]
  },
  {
   "cell_type": "markdown",
   "metadata": {},
   "source": [
    "## Desain Algoritma untuk Dekomposisi LU\n",
    "\n",
    "```\n",
    "Algoritma: Eliminasi_Gauss_Scaled_Pivoting(A, b)\n",
    "\n",
    "INPUT: Matriks A \n",
    "\n",
    "Inisialisasi: L = Matriks Identitas, U = Matriks nol\n",
    "Lakukan Eliminasi Maju untuk mendapatkan matriks segitiga atas U, bersamaan dengan itu kita dapatkan juga matriks segitiga bawah L\n",
    "    for i=1 to n\n",
    "        for j=i+1 to n\n",
    "            faktor = A[j,i]/A[i,i]\n",
    "            L[j,i] = faktor\n",
    "            (E_j - faktor*E_i) -> (E_j) -> menghasilkan U\n",
    "```"
   ]
  },
  {
   "cell_type": "code",
   "execution_count": 1,
   "metadata": {},
   "outputs": [],
   "source": [
    "import numpy as np"
   ]
  },
  {
   "cell_type": "code",
   "execution_count": 2,
   "metadata": {},
   "outputs": [],
   "source": [
    "def dekomposisiLU(A):\n",
    "    n = len(A)\n",
    "    L = np.eye(n, dtype=np.double)\n",
    "\n",
    "    for i in range(n):\n",
    "        faktor = A[i+1:, i]/A[i,i]\n",
    "        L[i+1:, i] = faktor\n",
    "        A[i+1:] -= faktor[:, np.newaxis]*A[i]\n",
    "    \n",
    "    U = A\n",
    "    \n",
    "    return L,U\n"
   ]
  },
  {
   "cell_type": "markdown",
   "metadata": {},
   "source": [
    "### Contoh 1\n",
    "\n",
    "Diberikan SPL \n"
   ]
  },
  {
   "cell_type": "code",
   "execution_count": 3,
   "metadata": {},
   "outputs": [],
   "source": [
    "A = np.array([[1, 1, 0, 3],\n",
    "              [2, 1, -1, 1],\n",
    "              [3, -1, -1, 2],\n",
    "              [-1, 2, 3, -1]], dtype=np.float64)\n",
    "\n",
    "b = np.array([4, 1, -3, 4], dtype=np.float64)"
   ]
  },
  {
   "cell_type": "code",
   "execution_count": 4,
   "metadata": {},
   "outputs": [],
   "source": [
    "def subtitusi_maju(L,b):\n",
    "    n = len(b)\n",
    "    L_c = np.c_[L,b]\n",
    "    y = np.zeros_like(b, dtype=np.double)\n",
    "\n",
    "    # Lakukan subtitutsi mundur\n",
    "    y[0] = b[0]/L[0,0]\n",
    "    for i in range(1,n):\n",
    "        y[i] = (b[i] - np.dot(L[i,:i], y[:i])) / L[i,i]\n",
    "    \n",
    "    return y"
   ]
  },
  {
   "cell_type": "code",
   "execution_count": 5,
   "metadata": {},
   "outputs": [],
   "source": [
    "def subtitusi_mundur(U,y):\n",
    "    n = len(y)\n",
    "    x = np.zeros_like(y, dtype=np.double)\n",
    "    \n",
    "    # Lakukan subtitutsi mundur\n",
    "    x[-1] = y[-1]/U[-1,-1]\n",
    "    for i in range(n-2, -1, -1):\n",
    "        x[i] = (y[i] - np.dot(U[i,i:], x[i:])) / U[i,i]\n",
    "\n",
    "    return x"
   ]
  },
  {
   "cell_type": "code",
   "execution_count": 6,
   "metadata": {},
   "outputs": [],
   "source": [
    "def lu(A,b):\n",
    "    L, U = dekomposisiLU(A)\n",
    "    y = subtitusi_maju(L,b)\n",
    "\n",
    "    return subtitusi_mundur(U,y)"
   ]
  },
  {
   "cell_type": "code",
   "execution_count": 7,
   "metadata": {},
   "outputs": [
    {
     "data": {
      "text/plain": [
       "array([-1.,  2.,  0.,  1.])"
      ]
     },
     "execution_count": 7,
     "metadata": {},
     "output_type": "execute_result"
    }
   ],
   "source": [
    "x = lu(A,b)\n",
    "x"
   ]
  },
  {
   "cell_type": "markdown",
   "metadata": {},
   "source": [
    "## Matriks Permutasi"
   ]
  },
  {
   "cell_type": "code",
   "execution_count": 8,
   "metadata": {},
   "outputs": [],
   "source": [
    "def dekomposisi_plu(A):\n",
    "    n = A.shape[0]\n",
    "    \n",
    "    U = A.copy()\n",
    "    L = np.eye(n, dtype=np.double)\n",
    "    P = np.eye(n, dtype=np.double)\n",
    "    \n",
    "    for i in range(n):\n",
    "        for k in range(i, n): \n",
    "            if ~np.isclose(U[i, i], 0.0):\n",
    "                break\n",
    "            U[[k, k+1]] = U[[k+1, k]]\n",
    "            P[[k, k+1]] = P[[k+1, k]]\n",
    "            \n",
    "        factor = U[i+1:, i] / U[i, i]\n",
    "        L[i+1:, i] = factor\n",
    "        U[i+1:] -= factor[:, np.newaxis] * U[i]\n",
    "        \n",
    "    return P, L, U"
   ]
  },
  {
   "cell_type": "code",
   "execution_count": 9,
   "metadata": {},
   "outputs": [],
   "source": [
    "def plu(A, b):\n",
    "    P, L, U = dekomposisi_plu(A)\n",
    "    y = subtitusi_maju(L, np.dot(P,b))\n",
    "\n",
    "    return subtitusi_mundur(U, y)"
   ]
  },
  {
   "cell_type": "code",
   "execution_count": 10,
   "metadata": {},
   "outputs": [],
   "source": [
    "A = np.array([[1e-17, -1],\n",
    "              [1,2]], dtype=np.double)\n",
    "b = np.array([-1, 3], dtype=np.double)"
   ]
  },
  {
   "cell_type": "code",
   "execution_count": 11,
   "metadata": {},
   "outputs": [
    {
     "data": {
      "text/plain": [
       "array([1., 1.])"
      ]
     },
     "execution_count": 11,
     "metadata": {},
     "output_type": "execute_result"
    }
   ],
   "source": [
    "plu(A,b)"
   ]
  },
  {
   "cell_type": "markdown",
   "metadata": {},
   "source": [
    "## Singular Value Decomposition (SVD)\n",
    "\n",
    "Diberikan suatu matriks $A \\in \\mathbb{C}^{m \\times n}$. Matriks $A$ dapat didekomposisi ke dalam bentuk\n",
    "\n",
    "$$\n",
    "A = USV^t,\n",
    "$$\n",
    "\n",
    "dimana $U \\in \\mathbb{C}^{m \\times m}$ dan $V \\in \\mathbb{C}^{n \\times n}$ adalah matriks orthogonal, dan $S \\in \\mathbb{R}^{m \\times n}$ adalah matriks diagonal yang tak nol. Biasanya SVD dipakai untuk mendekomposisi matriks $A$ ketika $m \\gg n$, oleh karena itu kita asumsikan bahwa matriks $A$ memiliki ukuran $m \\gg n$.\n",
    "\n",
    "```{admonition} Definisi 1\n",
    "Misalkan $A$ adalah matriks $m \\times n$.\n",
    "(i)  Rank dari $A$ dinotasikan $Rank(A)$ adalah banyaknya baris yang bebas linear dari $A$.\n",
    "(ii) Nullity dari $A$ dinotasikan $Nullity(A)$, adalah $n - Rank(A)$, yaitu himpunan terbesar dari vektor bebas linear di $\\mathbb{R}^n$ untuk $A\\vec{v} = \\vec{0}$\n",
    "```\n",
    "\n",
    "Rank dan Nullity dari suatu matriks merupakan hal penting untuk mengetahui karakteristik dari matriks. Misalkan ketika matriksnya persegi maka kita dapat mengetahui apakah matriks tersebut memiliki invers atau tidak, dengan cara melihat apakah Nullity-nya 0 dan Rank-nya memiliki ukuran yang sama dari matriks tersebut."
   ]
  },
  {
   "cell_type": "code",
   "execution_count": null,
   "metadata": {},
   "outputs": [],
   "source": []
  }
 ],
 "metadata": {
  "interpreter": {
   "hash": "bd2bba1f0abd62882dfa9d8465ca304f17cc759b9753a8b197c7f4fc49e2b8f4"
  },
  "kernelspec": {
   "display_name": "Python 3.9.7 64-bit ('iben_env': conda)",
   "language": "python",
   "name": "python3"
  },
  "language_info": {
   "codemirror_mode": {
    "name": "ipython",
    "version": 3
   },
   "file_extension": ".py",
   "mimetype": "text/x-python",
   "name": "python",
   "nbconvert_exporter": "python",
   "pygments_lexer": "ipython3",
   "version": "3.9.7"
  },
  "orig_nbformat": 4
 },
 "nbformat": 4,
 "nbformat_minor": 2
}
