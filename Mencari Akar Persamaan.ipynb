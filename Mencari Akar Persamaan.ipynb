{
  "nbformat": 4,
  "nbformat_minor": 0,
  "metadata": {
    "kernelspec": {
      "display_name": "Python 3",
      "language": "python",
      "name": "python3"
    },
    "language_info": {
      "codemirror_mode": {
        "name": "ipython",
        "version": 3
      },
      "file_extension": ".py",
      "mimetype": "text/x-python",
      "name": "python",
      "nbconvert_exporter": "python",
      "pygments_lexer": "ipython3",
      "version": "3.8.7"
    },
    "colab": {
      "name": "Mencari Akar Persamaan.ipynb",
      "provenance": []
    }
  },
  "cells": [
    {
      "cell_type": "markdown",
      "metadata": {
        "id": "WLg2GO5m7y4S"
      },
      "source": [
        "# Mencari Akar Persamaan Non-Linear Satu Variabel\n",
        "\n",
        "Diberikan suatu fungsi bernilai real dan nonlinear $f(x)$. Cari suatu akar $p$ dari $f(x)$ sedemikian sehingga $f(p)=0$.\n",
        "\n",
        "__Contoh 1__: Polinomial kuadratik: $f(x)=x^2+5x+6$.\n",
        "$𝑓(x)=(x+2)(x+3)=0⇒p_1=−2, p_2=−3$.\n",
        "\n",
        "__Contoh 2__: $f(x)=x^2+4x+10=(x+2)^2+6$.\n",
        "Tidak ada akar $𝑝$ bernilai real yang memenuhi $f(p)=0$.\n",
        "\n",
        "__Contoh 3__: $f(x)=x^2+\\cos⁡{x}+e^x+\\sqrt{x+1}$.\n",
        "Akar bisa saja sulit untuk ditemukan secara analitik.\n",
        "\n",
        "__Fokus__: menggunakan metode numerik untuk mengaproksimasi akar.\n"
      ]
    },
    {
      "cell_type": "code",
      "metadata": {
        "id": "0L5m4LK-7y4U"
      },
      "source": [
        "import matplotlib.pyplot as plt\n",
        "import numpy as np"
      ],
      "execution_count": 13,
      "outputs": []
    },
    {
      "cell_type": "markdown",
      "metadata": {
        "id": "32vSbJ-77y4V"
      },
      "source": [
        "## Metode Bisection\n",
        "\n",
        "Diberikan $f(x)$ kontinu di interval $[a,b]$ dengan $f(a)$ dan $f(b)$ memiliki tanda yang berlawanan.\n",
        "Tujuan: Cari $a,b$ sedemikian sehingga $f(a).f(b)<0$. Ini berarti terdapat akar $p∈(a,b)$ sedemikian sehingga $f(r)=0$.\n",
        "\n",
        "Misalkan $c=(a+b)/2$, titik tengah.\n",
        "Jika $f(c)=0$, selesai.\n",
        "Jika tidak, periksa jika $f(c).f(c)<0$ atau $f(c).f(c)<0$.\n",
        "Pilih interval $[a,c]$ atau $[c,b]$, dan ulangi prosedur ini sampai memenuhi kriteria pemberhentian.\n",
        "\n",
        "Kriteria Pemberhentian:\n",
        "* Interval cukup kecil\n",
        "* $|f(c_n )|$ hampir $0$\n",
        "* Sudah mencapai iterasi maksimum\n",
        "* Kombinasi dari yang di atas."
      ]
    },
    {
      "cell_type": "markdown",
      "metadata": {
        "id": "UtAppMUz7y4W"
      },
      "source": [
        "__Contoh 1__:\n",
        "\n",
        "Diberikan $f(x) = x^3 + 4x^2 - 10$. Cari akar dari $f(x)$ di interval $[1,2]$ menggunakan metode Bisection dengan $\\varepsilon = 10^{-4}$"
      ]
    },
    {
      "cell_type": "code",
      "metadata": {
        "colab": {
          "base_uri": "https://localhost:8080/",
          "height": 397
        },
        "id": "kFPXZZti7y4W",
        "outputId": "c11e9048-e5be-4f70-9251-d32ea64a1d32"
      },
      "source": [
        "x = np.linspace(0, 10, 100)\n",
        "fungsi = x**3 + 4*x**2 - 10.\n",
        "g = np.zeros(x.size)\n",
        "\n",
        "plt.figure(figsize=(8,6))\n",
        "plt.plot(x, fungsi, x, g, 'r--')\n",
        "plt.xlabel(\"$x$\", fontsize=16)\n",
        "plt.ylabel(\"$f$\", fontsize=16)\n",
        "plt.ylim([-1., 10])\n",
        "plt.xlim([1., 2.])\n",
        "plt.grid()\n",
        "plt.legend(\"f\", loc='best');"
      ],
      "execution_count": 14,
      "outputs": [
        {
          "output_type": "display_data",
          "data": {
            "image/png": "[encoded data removed]",
            "text/plain": [
              "<Figure size 576x432 with 1 Axes>"
            ]
          },
          "metadata": {
            "needs_background": "light"
          }
        }
      ]
    },
    {
      "cell_type": "code",
      "metadata": {
        "id": "zMg_SsF67y4X"
      },
      "source": [
        "def bisection(func, a, b, epsilon=1e-4, N=1000):\n",
        "    f = func\n",
        "    FA = f(a)\n",
        "    for i in range(N):\n",
        "        p = a + (b-a)/2\n",
        "        FP = f(p)\n",
        "        print(\"iterasi {:2d}\\t p = {:2.4f}\\t f(p) = {:2.4f}\\t a = {:2.4f}\\t b = {:2.4f}\".format(i, p, FP, a, b))\n",
        "        if np.abs(FP) <= epsilon or (b-a)/2 <= epsilon:\n",
        "            break\n",
        "        else:\n",
        "            if FA*FP > epsilon:\n",
        "                a = p\n",
        "                FA = FP\n",
        "            else:\n",
        "                b = p\n",
        "    return p,FP,a,b,i"
      ],
      "execution_count": 15,
      "outputs": []
    },
    {
      "cell_type": "code",
      "metadata": {
        "colab": {
          "base_uri": "https://localhost:8080/"
        },
        "id": "lKcZN3_17y4X",
        "outputId": "d47bfaa9-675e-4c3c-c2b4-9551e63810f4"
      },
      "source": [
        "f = lambda x: x**3 + 4*x**2 - 10\n",
        "hasil = bisection(f, a=1, b=2, epsilon=1e-4, N=100)\n",
        "print(\"p = {}, f(p) = {}, a = {}, b = {}, Total iterasi = {}\".format(hasil[0], hasil[1], hasil[2], hasil[3], hasil[4]+1))"
      ],
      "execution_count": 16,
      "outputs": [
        {
          "output_type": "stream",
          "name": "stdout",
          "text": [
            "iterasi  0\t p = 1.5000\t f(p) = 2.3750\t a = 1.0000\t b = 2.0000\n",
            "iterasi  1\t p = 1.2500\t f(p) = -1.7969\t a = 1.0000\t b = 1.5000\n",
            "iterasi  2\t p = 1.3750\t f(p) = 0.1621\t a = 1.2500\t b = 1.5000\n",
            "iterasi  3\t p = 1.3125\t f(p) = -0.8484\t a = 1.2500\t b = 1.3750\n",
            "iterasi  4\t p = 1.3438\t f(p) = -0.3510\t a = 1.3125\t b = 1.3750\n",
            "iterasi  5\t p = 1.3594\t f(p) = -0.0964\t a = 1.3438\t b = 1.3750\n",
            "iterasi  6\t p = 1.3672\t f(p) = 0.0324\t a = 1.3594\t b = 1.3750\n",
            "iterasi  7\t p = 1.3633\t f(p) = -0.0321\t a = 1.3594\t b = 1.3672\n",
            "iterasi  8\t p = 1.3652\t f(p) = 0.0001\t a = 1.3633\t b = 1.3672\n",
            "p = 1.365234375, f(p) = 7.202476263046265e-05, a = 1.36328125, b = 1.3671875, Total iterasi = 9\n"
          ]
        }
      ]
    },
    {
      "cell_type": "markdown",
      "metadata": {
        "id": "F6JVxswI7y4Y"
      },
      "source": [
        "## Iterasi Fixed Point"
      ]
    },
    {
      "cell_type": "markdown",
      "metadata": {
        "id": "Zkk-N7nU7y4Y"
      },
      "source": [
        "### Contoh 1\n",
        "Carilah akar dari $f(x)=x−\\cos{⁡(x)}$ dengan akurasi 4-digit"
      ]
    },
    {
      "cell_type": "code",
      "metadata": {
        "colab": {
          "base_uri": "https://localhost:8080/",
          "height": 393
        },
        "id": "w8HAyI1V7y4Z",
        "outputId": "9fd777a6-3d44-4791-8b5e-5e81eac04b85"
      },
      "source": [
        "x = np.linspace(0, 1.2, 100)\n",
        "g = np.cos(x)\n",
        "\n",
        "plt.figure(figsize=(8,6))\n",
        "plt.plot(x, g, x, x, 'r--')\n",
        "plt.xlabel('x', fontsize=16)\n",
        "plt.ylabel(\"$f$, $g$\", fontsize=16)\n",
        "# plt.ticklabel_format(axis='y', style='sci', scilimits=(-1,1))\n",
        "plt.ylim([0.1, 1.1])\n",
        "plt.xlim([0.1, 1.2])\n",
        "plt.grid()\n",
        "plt.legend([\"$f$\", \"$g$\"], loc='best');"
      ],
      "execution_count": 17,
      "outputs": [
        {
          "output_type": "display_data",
          "data": {
            "image/png": "[encoded data removed]",
            "text/plain": [
              "<Figure size 576x432 with 1 Axes>"
            ]
          },
          "metadata": {
            "needs_background": "light"
          }
        }
      ]
    },
    {
      "cell_type": "markdown",
      "metadata": {
        "id": "72ytl5TS7y4a"
      },
      "source": [
        "### Contoh \n",
        "\n",
        "Selesaikan $f(x)=e^{-2x}\\cdot (x-1)$"
      ]
    },
    {
      "cell_type": "code",
      "metadata": {
        "colab": {
          "base_uri": "https://localhost:8080/",
          "height": 393
        },
        "id": "_RBi7LUP7y4a",
        "outputId": "d94520bf-d80a-45bd-d417-ebc8cd2c3772"
      },
      "source": [
        "x = np.linspace(0.1, 1., 100)\n",
        "f = np.exp(-2*x) * (x-1)\n",
        "g = -np.exp(-2*x) * (x-1) - x\n",
        "\n",
        "plt.figure(figsize=(8, 6))\n",
        "plt.plot(x, g, 'b', x, x, 'g--')\n",
        "plt.xlabel('x', fontsize=16)\n",
        "plt.ylabel(\"$f$, $g$\", fontsize=16)\n",
        "plt.grid()\n",
        "plt.legend([\"$f$\", \"$g$\"], loc='best');"
      ],
      "execution_count": 18,
      "outputs": [
        {
          "output_type": "display_data",
          "data": {
            "image/png": "[encoded data removed]",
            "text/plain": [
              "<Figure size 576x432 with 1 Axes>"
            ]
          },
          "metadata": {
            "needs_background": "light"
          }
        }
      ]
    },
    {
      "cell_type": "code",
      "metadata": {
        "id": "buG36z9j7y4a"
      },
      "source": [
        "import sympy\n",
        "sympy.init_printing(pretty_print=True)"
      ],
      "execution_count": 19,
      "outputs": []
    },
    {
      "cell_type": "code",
      "metadata": {
        "colab": {
          "base_uri": "https://localhost:8080/"
        },
        "id": "j6wgyN0-7y4b",
        "outputId": "3bdd4803-33b8-4ea5-f649-43cf95cb6428"
      },
      "source": [
        "x = sympy.symbols('x')\n",
        "g_simbol = -1*sympy.exp(-2*x) * (x-1) + x\n",
        "g_aksen = sympy.diff(g_simbol, x)\n",
        "print(g_aksen)"
      ],
      "execution_count": 20,
      "outputs": [
        {
          "output_type": "stream",
          "name": "stdout",
          "text": [
            "-2*(1 - x)*exp(-2*x) + 1 - exp(-2*x)\n"
          ]
        }
      ]
    },
    {
      "cell_type": "code",
      "metadata": {
        "colab": {
          "base_uri": "https://localhost:8080/"
        },
        "id": "Pm3c0Jr17y4b",
        "outputId": "af87dbf6-4bdb-4e61-e6cb-1e27f07a4869"
      },
      "source": [
        "ksi = 1\n",
        "g_aksen_eval = sympy.lambdify(x, g_aksen, \"numpy\")\n",
        "print(np.abs(g_aksen_eval(ksi)))"
      ],
      "execution_count": 21,
      "outputs": [
        {
          "output_type": "stream",
          "name": "stdout",
          "text": [
            "0.8646647167633873\n"
          ]
        }
      ]
    },
    {
      "cell_type": "code",
      "metadata": {
        "id": "mVJmIoGQ7y4b"
      },
      "source": [
        "def g(x):\n",
        "    return -1*np.exp(-2*x) * (x-1) + x\n",
        "\n",
        "def iterasi_fixed_point(N, epsilon, p0):\n",
        "    print('     p\\t\\t     g(p)      \\tresidual')\n",
        "    print('------------------------------------------------')\n",
        "    for i in range(N):\n",
        "        p = g(p0)\n",
        "        if (np.abs(p-p0) < epsilon):\n",
        "            break    \n",
        "        print('{:8.4f}\\t{:10.4f}\\t{:10.4f}\\t'.format(p, g(p), np.abs(p-p0)))\n",
        "        p0 = p\n",
        "        if (i>=N):\n",
        "            break\n",
        "    return 0"
      ],
      "execution_count": 22,
      "outputs": []
    },
    {
      "cell_type": "code",
      "metadata": {
        "colab": {
          "base_uri": "https://localhost:8080/",
          "height": 645
        },
        "id": "y7B2SA377y4b",
        "outputId": "688a6f74-8917-4eac-be43-a14f046b530f"
      },
      "source": [
        "iterasi_fixed_point(100, 1e-4, 0.9)"
      ],
      "execution_count": 23,
      "outputs": [
        {
          "output_type": "stream",
          "name": "stdout",
          "text": [
            "     p\t\t     g(p)      \tresidual\n",
            "------------------------------------------------\n",
            "  0.9165\t    0.9299\t    0.0165\t\n",
            "  0.9299\t    0.9408\t    0.0133\t\n",
            "  0.9408\t    0.9498\t    0.0109\t\n",
            "  0.9498\t    0.9573\t    0.0090\t\n",
            "  0.9573\t    0.9636\t    0.0075\t\n",
            "  0.9636\t    0.9689\t    0.0063\t\n",
            "  0.9689\t    0.9734\t    0.0053\t\n",
            "  0.9734\t    0.9772\t    0.0045\t\n",
            "  0.9772\t    0.9804\t    0.0038\t\n",
            "  0.9804\t    0.9832\t    0.0032\t\n",
            "  0.9832\t    0.9855\t    0.0028\t\n",
            "  0.9855\t    0.9875\t    0.0024\t\n",
            "  0.9875\t    0.9893\t    0.0020\t\n",
            "  0.9893\t    0.9908\t    0.0017\t\n",
            "  0.9908\t    0.9920\t    0.0015\t\n",
            "  0.9920\t    0.9931\t    0.0013\t\n",
            "  0.9931\t    0.9941\t    0.0011\t\n",
            "  0.9941\t    0.9949\t    0.0009\t\n",
            "  0.9949\t    0.9956\t    0.0008\t\n",
            "  0.9956\t    0.9962\t    0.0007\t\n",
            "  0.9962\t    0.9967\t    0.0006\t\n",
            "  0.9967\t    0.9972\t    0.0005\t\n",
            "  0.9972\t    0.9975\t    0.0004\t\n",
            "  0.9975\t    0.9979\t    0.0004\t\n",
            "  0.9979\t    0.9982\t    0.0003\t\n",
            "  0.9982\t    0.9984\t    0.0003\t\n",
            "  0.9984\t    0.9986\t    0.0002\t\n",
            "  0.9986\t    0.9988\t    0.0002\t\n",
            "  0.9988\t    0.9990\t    0.0002\t\n",
            "  0.9990\t    0.9991\t    0.0002\t\n",
            "  0.9991\t    0.9992\t    0.0001\t\n",
            "  0.9992\t    0.9993\t    0.0001\t\n",
            "  0.9993\t    0.9994\t    0.0001\t\n"
          ]
        },
        {
          "output_type": "execute_result",
          "data": {
            "image/png": "[encoded data removed]",
            "text/latex": "$\\displaystyle 0$",
            "text/plain": [
              "0"
            ]
          },
          "metadata": {},
          "execution_count": 23
        }
      ]
    },
    {
      "cell_type": "code",
      "metadata": {
        "id": "MVPLsYZG7y4c"
      },
      "source": [
        ""
      ],
      "execution_count": 23,
      "outputs": []
    },
    {
      "cell_type": "code",
      "metadata": {
        "id": "U_qkgi2Z7y4c"
      },
      "source": [
        ""
      ],
      "execution_count": 23,
      "outputs": []
    }
  ]
}