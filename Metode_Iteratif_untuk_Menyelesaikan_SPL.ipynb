{
  "nbformat": 4,
  "nbformat_minor": 0,
  "metadata": {
    "colab": {
      "name": "Metode Iteratif untuk Menyelesaikan SPL.ipynb",
      "provenance": [],
      "authorship_tag": "ABX9TyOnxrcz8qUo1JqBN+jmGAAD"
    },
    "kernelspec": {
      "name": "python3",
      "display_name": "Python 3"
    },
    "language_info": {
      "name": "python"
    }
  },
  "cells": [
    {
      "cell_type": "markdown",
      "metadata": {
        "id": "upyQQoXOgkl2"
      },
      "source": [
        "# Metode Iteratif untuk Menyelesaikan Sistem Persamaan Linear\n",
        "\n",
        "Terdapat dua teknik untuk menyelesaikan Sistem Persamaan Linear (SPL) yaitu metode langsung dan metode iteratif. Metode langsung seperti eliminasi Gauss, memiliki beberapa kelemahan diantaranya:\n",
        "* Tidak memiliki perbaikan dari error yang dihasilkan. Hal ini dikarenakan, metode ini terlalu mirip dengan solusi eksaknya. Akibatnya, metode ini rentan atau sensitif terhadap error pembulatan. \n",
        "* Operasi yang dibutuhkan oleh metode langsung dinotasikan dengan $O(n^3)$. Ini berarti, semakin besar $n$ atau ukuran matriksnya, maka akan semakin lama waktu eksekusinya."
      ]
    },
    {
      "cell_type": "markdown",
      "metadata": {
        "id": "BbTrJiP2iass"
      },
      "source": [
        "## Metode Jacobi\n",
        "\n",
        "Metode Jacobi dibangun dengan menggunakan dua asumsi:\n",
        "1. SPL $A\\vec{x}=\\vec{b}$ memiliki solusi tunggal.\n",
        "2. Koefisien dari matriks $A$ tidak nol pada diagonal utamanya, $a_{11}, a_{12}, \\cdots, a_{nn}$. Jika koefisien dari diagonal utamanya bernilai nol, maka penukaran baris atau kolom dapat dilakukan.\n",
        "\n",
        "Misalkan diberikan SPL\n",
        "\n",
        "$$\n",
        "\\begin{array}\n",
        "  aa_{11}x_1 & + & a_{12}x_2 & + & \\cdots & + & a_{1n}x_n & = & b_1 & (1)\\\\\n",
        "  a_{21}x_1 & + & a_{22}x_2 & + & \\cdots & + & a_{2n}x_n & = & b_2 & (2)\\\\\n",
        "   &  &  &  & \\vdots &  &  &  &  \\\\\n",
        "  a_{n1}x_1 & + & a_{n2}x_2 & + & \\cdots & + & a_{nn}x_n & = & b_n & (n)\\\\\n",
        "\\end{array}\n",
        "$$\n",
        "\n",
        "Berikut ini adalah langkah-langkah penyelesaian menggunakan metode Jacobi:\n",
        "1. Pertama, kita selesaikan persamaan $(1)$ untuk $x_1$, dilanjutkan ke persamaan $(2)$ untuk $x_2$, dan seterusnya sampai persamaan $(n)$ untuk $x_n$. Sehingga menjadi\n",
        "\n",
        "$$\n",
        "\\begin{array}\n",
        "  xx_1 & = & \\frac{1}{a_{11}} \\left(b_1 - a_{12}x_2 - a_{13}x_3 - \\cdots - a_{1n}x_n \\right)\\\\\n",
        "  x_2 & = & \\frac{1}{a_{22}} \\left(b_2 - a_{21}x_1 - a_{23}x_3 - \\cdots - a_{2n}x_n \\right)\\\\\n",
        "    & \\vdots & \\\\\n",
        "  x_n & = & \\frac{1}{a_{nn}} \\left(b_n - a_{n1}x_1 - a_{n2}x_2 - \\cdots - a_{n,n-1}x_{n,n-1}\\right)\\\\\n",
        "\\end{array}\n",
        "$$\n",
        "\n",
        "2. Buat tebakan awal untuk solusinya, dinotasikan dengan $x_1^{(0)}, x_2^{(0)}, \\cdots, x_n^{(0)}$ dan subtitusikan ke dalam persamaan pada langkah 1 untuk mendapatkan solusi pada iterasi pertama.\n",
        "\n",
        "3. Lakukan proses langkah 2 secara terus menerus sampai mendapatkan barisan solusi $x_1^{(k)}, x_2^{(k)}, \\cdots, x_n^{(k)}$, untuk $k=1, 2, \\cdots$, yang konvergen ke solusi dari SPL tersebut. \n",
        "\n"
      ]
    },
    {
      "cell_type": "code",
      "metadata": {
        "id": "t9E5z2QBf_3b"
      },
      "source": [
        "import numpy as np\n",
        "import matplotlib.pyplot as plt"
      ],
      "execution_count": 8,
      "outputs": []
    },
    {
      "cell_type": "markdown",
      "metadata": {
        "id": "AEjpEZtvxiqv"
      },
      "source": [
        "__Metode Jacobi__"
      ]
    },
    {
      "cell_type": "code",
      "metadata": {
        "id": "IE0PTt4XgNlq"
      },
      "source": [
        "def jacobi(A, b, x0, epsilon=1e-5, N=1000):\n",
        "  k = 1\n",
        "  x = np.zeros(len(b))\n",
        "  while (k < N):\n",
        "    for i in range(len(b)):\n",
        "      sum = 0\n",
        "      for j in range(len(b)):\n",
        "        if i != j:\n",
        "          sum += A[i,j] * x0[j]\n",
        "      \n",
        "      x[i] = 1/A[i,i]*(-sum + b[i])\n",
        "\n",
        "    if np.linalg.norm(x - x0) < epsilon:\n",
        "      break\n",
        "    \n",
        "    x0 = x\n",
        "    k = k + 1\n",
        "  return k,x"
      ],
      "execution_count": 9,
      "outputs": []
    },
    {
      "cell_type": "code",
      "metadata": {
        "id": "8FmG0QotzXSY"
      },
      "source": [
        "def jacobi1(A, b, x0, epsilon=1e-5, N=1000):\n",
        "  x = np.zeros(len(b))\n",
        "  T = A - np.diag(np.diagonal(A))\n",
        "\n",
        "  for k in range(N):\n",
        "    x = (b - np.dot(T,x0))/np.diagonal(A)\n",
        "\n",
        "    if np.linalg.norm(np.dot(A,x) - b) < epsilon:\n",
        "      break\n",
        "      \n",
        "    x0 = x\n",
        "\n",
        "  return k,x"
      ],
      "execution_count": 10,
      "outputs": []
    },
    {
      "cell_type": "markdown",
      "metadata": {
        "id": "OqA9HHKuxoqL"
      },
      "source": [
        "__Metode Gauss-Seidel__"
      ]
    },
    {
      "cell_type": "code",
      "metadata": {
        "id": "3QkFDZ3Nxn8r"
      },
      "source": [
        "def gauss_seidel(A, b, x0, epsilon=1e-5, N=1000):\n",
        "  x = np.zeros_like(b, dtype=np.double)\n",
        "  \n",
        "  for k in range(N):\n",
        "\n",
        "    for i in range(len(b)):\n",
        "      U = np.dot(A[i,:i], x[:i])\n",
        "      V = np.dot(A[i,(i+1):], x0[(i+1):])\n",
        "      x[i] = 1/A[i,i] * (b[i] - U - V)\n",
        "      #print(k,x)\n",
        "      \n",
        "    if np.linalg.norm(np.dot(A,x) - b) < epsilon:\n",
        "      break\n",
        "    \n",
        "    x0 = x\n",
        "\n",
        "  return k,x"
      ],
      "execution_count": 11,
      "outputs": []
    },
    {
      "cell_type": "markdown",
      "metadata": {
        "id": "y9tX1jn42ehx"
      },
      "source": [
        "__Metode SOR__"
      ]
    },
    {
      "cell_type": "code",
      "metadata": {
        "id": "_Ren5lTV2eCA"
      },
      "source": [
        "def SOR(A, b, x0, omega, epsilon=1e-5, N=1000):\n",
        "  x = np.zeros_like(b, dtype=np.double)\n",
        "  \n",
        "  for k in range(N):\n",
        "\n",
        "    for i in range(len(b)):\n",
        "      U = np.dot(A[i,:i], x[:i])\n",
        "      V = np.dot(A[i,(i+1):], x0[(i+1):])\n",
        "      x[i] = 1/A[i,i] * (b[i] - U - V)\n",
        "      x[i] = np.dot(x0[i], (1-omega)) + np.dot(x[i], omega)\n",
        "      #print(k, x) \n",
        "      \n",
        "    if np.linalg.norm(np.dot(A,x) - b) < epsilon:\n",
        "      break\n",
        "    #if np.linalg.norm((x - x0)) <= epsilon:\n",
        "      #break\n",
        "\n",
        "    x0 = x\n",
        "\n",
        "  return k,x"
      ],
      "execution_count": 12,
      "outputs": []
    },
    {
      "cell_type": "markdown",
      "metadata": {
        "id": "--D2DDGwwhek"
      },
      "source": [
        "__Contoh 1__:\n"
      ]
    },
    {
      "cell_type": "code",
      "metadata": {
        "id": "JpoEKEkUjoti",
        "colab": {
          "base_uri": "https://localhost:8080/"
        },
        "outputId": "048c1b8f-a243-4581-aa64-9de78fee3c26"
      },
      "source": [
        "A = np.array([[3, -1, 1], [3, 6, 2], [3, 3, 7]])\n",
        "b = np.array([1, 0, 4])\n",
        "x0 = np.array([1., 1., 1.])\n",
        "\n",
        "x_J = jacobi1(A, b, x0)\n",
        "x_GS = gauss_seidel(A, b, x0)\n",
        "x_SOR = SOR(A, b, x0, 1.1)\n",
        "print(x_J)\n",
        "print(x_GS)\n",
        "print(x_SOR)"
      ],
      "execution_count": 16,
      "outputs": [
        {
          "output_type": "stream",
          "name": "stdout",
          "text": [
            "(16, array([ 0.03508768, -0.23684256,  0.65789423]))\n",
            "(8, array([ 0.0350878 , -0.23684279,  0.657895  ]))\n",
            "(8, array([ 0.03508654, -0.2368433 ,  0.65789575]))\n"
          ]
        }
      ]
    },
    {
      "cell_type": "markdown",
      "metadata": {
        "id": "Z-MRfpaAjNnZ"
      },
      "source": [
        "__Contoh 2__:\n"
      ]
    },
    {
      "cell_type": "code",
      "metadata": {
        "id": "mqPdFuNbhk__",
        "outputId": "60d60218-ad57-4269-c2cc-41a0afae3ee1",
        "colab": {
          "base_uri": "https://localhost:8080/"
        }
      },
      "source": [
        "A = np.array([[4, 3, 0], [3, 4, -1], [0, -1, 4]])\n",
        "b = np.array([24, 30, -24])\n",
        "x0 = np.array([1., 1., 1.])\n",
        "\n",
        "x_J = jacobi1(A, b, x0)\n",
        "x_GS = gauss_seidel(A, b, x0)\n",
        "x_SOR = SOR(A, b, x0, 0.1)\n",
        "print(x_J)\n",
        "print(x_GS)\n",
        "print(x_SOR)"
      ],
      "execution_count": 21,
      "outputs": [
        {
          "output_type": "stream",
          "name": "stdout",
          "text": [
            "(64, array([ 3.00000066,  4.00000088, -5.00000022]))\n",
            "(23, array([ 3.00000454,  3.99999621, -5.00000095]))\n",
            "(20, array([ 3.00000526,  3.99999562, -5.0000011 ]))\n"
          ]
        }
      ]
    },
    {
      "cell_type": "code",
      "metadata": {
        "id": "nuKPoIrQjeco"
      },
      "source": [
        ""
      ],
      "execution_count": 14,
      "outputs": []
    }
  ]
}