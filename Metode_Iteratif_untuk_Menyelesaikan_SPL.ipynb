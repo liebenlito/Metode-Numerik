{
  "nbformat": 4,
  "nbformat_minor": 0,
  "metadata": {
    "colab": {
      "name": "Metode Iteratif untuk Menyelesaikan SPL.ipynb",
      "provenance": [],
      "authorship_tag": "ABX9TyNJy61nHRshY/j12IlJvLjS"
    },
    "kernelspec": {
      "name": "python3",
      "display_name": "Python 3"
    },
    "language_info": {
      "name": "python"
    }
  },
  "cells": [
    {
      "cell_type": "markdown",
      "metadata": {
        "id": "upyQQoXOgkl2"
      },
      "source": [
        "# Metode Iteratif untuk Menyelesaikan Sistem Persamaan Linear\n",
        "\n",
        "Terdapat dua teknik untuk menyelesaikan Sistem Persamaan Linear yaitu metode langsung dan metode iteratif. Metode langsung seperti eliminasi Gauss, terdapat beberapa kelemahan diantaranya:\n",
        "* Tidak memiliki perbaikan dari error yang dihasilkan. Hal ini dikarenakan, metode ini terlalu mirip dengan solusi eksaknya. Akibatnya, metode ini rentan atau sensitif terhadap error pembulatan. \n",
        "* Operasi yang dibutuhkan oleh metode langsung dinotasikan dengan $O(n^3)$. Ini berarti, semakin besar $n$ atau ukuran matriksnya, maka akan semakin lama waktu eksekusinya. "
      ]
    },
    {
      "cell_type": "markdown",
      "metadata": {
        "id": "BbTrJiP2iass"
      },
      "source": [
        "## Metode Jacobi\n"
      ]
    },
    {
      "cell_type": "code",
      "metadata": {
        "id": "t9E5z2QBf_3b"
      },
      "source": [
        "import numpy as np\n",
        "import matplotlib.pyplot as plt"
      ],
      "execution_count": 1,
      "outputs": []
    },
    {
      "cell_type": "code",
      "metadata": {
        "id": "IE0PTt4XgNlq"
      },
      "source": [
        ""
      ],
      "execution_count": null,
      "outputs": []
    }
  ]
}