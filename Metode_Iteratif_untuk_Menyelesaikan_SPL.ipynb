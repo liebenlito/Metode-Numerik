{
  "nbformat": 4,
  "nbformat_minor": 0,
  "metadata": {
    "colab": {
      "name": "Metode Iteratif untuk Menyelesaikan SPL.ipynb",
      "provenance": [],
      "authorship_tag": "ABX9TyN4nIJ5ytCvINfwAvLpKA+y"
    },
    "kernelspec": {
      "name": "python3",
      "display_name": "Python 3"
    },
    "language_info": {
      "name": "python"
    }
  },
  "cells": [
    {
      "cell_type": "markdown",
      "metadata": {
        "id": "upyQQoXOgkl2"
      },
      "source": [
        "# Metode Iteratif untuk Menyelesaikan Sistem Persamaan Linear\n",
        "\n",
        "Terdapat dua teknik untuk menyelesaikan Sistem Persamaan Linear (SPL) yaitu metode langsung dan metode iteratif. Metode langsung seperti eliminasi Gauss, memiliki beberapa kelemahan diantaranya:\n",
        "* Tidak memiliki perbaikan dari error yang dihasilkan. Hal ini dikarenakan, metode ini terlalu mirip dengan solusi eksaknya. Akibatnya, metode ini rentan atau sensitif terhadap error pembulatan. \n",
        "* Operasi yang dibutuhkan oleh metode langsung dinotasikan dengan $O(n^3)$. Ini berarti, semakin besar $n$ atau ukuran matriksnya, maka akan semakin lama waktu eksekusinya."
      ]
    },
    {
      "cell_type": "markdown",
      "metadata": {
        "id": "BbTrJiP2iass"
      },
      "source": [
        "## Metode Jacobi\n",
        "\n",
        "Metode Jacobi dibangun dengan menggunakan dua asumsi:\n",
        "1. SPL $A\\vec{x}=\\vec{b}$ memiliki solusi tunggal.\n",
        "2. Koefisien dari matriks $A$ tidak nol pada diagonal utamanya, $a_{11}, a_{12}, \\cdots, a_{nn}$. Jika koefisien dari diagonal utamanya bernilai nol, maka penukaran baris atau kolom dapat dilakukan.\n",
        "\n",
        "Misalkan diberikan SPL\n",
        "\n",
        "$$\n",
        "\\begin{array}\n",
        "  aa_{11}x_1 & + & a_{12}x_2 & + & \\cdots & + & a_{1n}x_n & = & b_1 & (1)\\\\\n",
        "  a_{21}x_1 & + & a_{22}x_2 & + & \\cdots & + & a_{2n}x_n & = & b_2 & (2)\\\\\n",
        "   &  &  &  & \\vdots &  &  &  &  \\\\\n",
        "  a_{n1}x_1 & + & a_{n2}x_2 & + & \\cdots & + & a_{nn}x_n & = & b_n & (n)\\\\\n",
        "\\end{array}\n",
        "$$\n",
        "\n",
        "Berikut ini adalah langkah-langkah penyelesaian menggunakan metode Jacobi:\n",
        "1. Pertama, kita selesaikan persamaan $(1)$ untuk $x_1$, dilanjutkan ke persamaan $(2)$ untuk $x_2$, dan seterusnya sampai persamaan $(n)$ untuk $x_n$. Sehingga menjadi\n",
        "\n",
        "$$\n",
        "\\begin{array}\n",
        "  xx_1 & = & \\frac{1}{a_{11}} \\left(b_1 - a_{12}x_2 - a_{13}x_3 - \\cdots - a_{1n}x_n \\right)\\\\\n",
        "  x_2 & = & \\frac{1}{a_{22}} \\left(b_2 - a_{21}x_1 - a_{23}x_3 - \\cdots - a_{2n}x_n \\right)\\\\\n",
        "    & \\vdots & \\\\\n",
        "  x_n & = & \\frac{1}{a_{nn}} \\left(b_n - a_{n1}x_1 - a_{n2}x_2 - \\cdots - a_{n,n-1}x_{n,n-1}\\right)\\\\\n",
        "\\end{array}\n",
        "$$\n",
        "\n",
        "2. Buat tebakan awal untuk solusinya, dinotasikan dengan $x_1^{(0)}, x_2^{(0)}, \\cdots, x_n^{(0)}$ dan subtitusikan ke dalam persamaan pada langkah 1 untuk mendapatkan solusi pada iterasi pertama.\n",
        "\n",
        "3. Lakukan proses langkah 2 secara terus menerus sampai mendapatkan barisan solusi $x_1^{(k)}, x_2^{(k)}, \\cdots, x_n^{(k)}$, untuk $k=1, 2, \\cdots$, yang konvergen ke solusi dari SPL tersebut. \n",
        "\n"
      ]
    },
    {
      "cell_type": "code",
      "metadata": {
        "id": "t9E5z2QBf_3b"
      },
      "source": [
        "import numpy as np\n",
        "import matplotlib.pyplot as plt"
      ],
      "execution_count": 1,
      "outputs": []
    },
    {
      "cell_type": "markdown",
      "metadata": {
        "id": "AEjpEZtvxiqv"
      },
      "source": [
        "__Metode Jacobi__"
      ]
    },
    {
      "cell_type": "code",
      "metadata": {
        "id": "IE0PTt4XgNlq"
      },
      "source": [
        "def jacobi(A, b, x0, epsilon=1e-10, N=1000):\n",
        "  k = 1\n",
        "  x = np.zeros(len(b))\n",
        "  while (k < N):\n",
        "    for i in range(len(b)):\n",
        "      sum = 0\n",
        "      for j in range(len(b)):\n",
        "        if i != j:\n",
        "          sum += A[i,j] * x0[j]\n",
        "      \n",
        "      x[i] = 1/A[i,i]*(-sum + b[i])\n",
        "\n",
        "    if np.linalg.norm(x - x0) < epsilon:\n",
        "      break\n",
        "    \n",
        "    x0 = x.copy()\n",
        "    k = k + 1\n",
        "  return x"
      ],
      "execution_count": 2,
      "outputs": []
    },
    {
      "cell_type": "code",
      "metadata": {
        "id": "8FmG0QotzXSY"
      },
      "source": [
        "def jacobi1(A, b, x0, epsilon=1e-10, N=1000):\n",
        "  x = np.zeros(len(b))\n",
        "  T = A - np.diag(np.diagonal(A))\n",
        "\n",
        "  for k in range(N):\n",
        "    x = (b - np.dot(T,x0))/np.diagonal(A)\n",
        "\n",
        "    if np.linalg.norm(x - x0) < epsilon:\n",
        "      break\n",
        "\n",
        "    x0 = x.copy()\n",
        "\n",
        "  return x"
      ],
      "execution_count": 3,
      "outputs": []
    },
    {
      "cell_type": "markdown",
      "metadata": {
        "id": "OqA9HHKuxoqL"
      },
      "source": [
        "__Metode Gauss-Seidel__"
      ]
    },
    {
      "cell_type": "code",
      "metadata": {
        "id": "3QkFDZ3Nxn8r"
      },
      "source": [
        "def gauss_seidel(A, b, x0, epsilon=1e-10, N=1000):\n",
        "  x = np.zeros(len(b))\n",
        "  \n",
        "  for k in range(N):\n",
        "\n",
        "    x0 = x.copy\n",
        "    \n",
        "    for i in range(len(b)):\n",
        "      x[i] = (b[i] - np.dot(A[i,:i], x[:i]) - np.dot(A[i,(i+1):], x0[(i+1):])) / A[i ,i]\n",
        "    \n",
        "    if np.linalg.norm(x - x0) < epsilon:\n",
        "      break\n",
        "\n",
        "    \n",
        "\n",
        "  return x"
      ],
      "execution_count": 4,
      "outputs": []
    },
    {
      "cell_type": "markdown",
      "metadata": {
        "id": "y9tX1jn42ehx"
      },
      "source": [
        "__Metode SOR__"
      ]
    },
    {
      "cell_type": "code",
      "metadata": {
        "id": "_Ren5lTV2eCA"
      },
      "source": [
        ""
      ],
      "execution_count": 4,
      "outputs": []
    },
    {
      "cell_type": "markdown",
      "metadata": {
        "id": "--D2DDGwwhek"
      },
      "source": [
        "__Contoh 1__:\n"
      ]
    },
    {
      "cell_type": "code",
      "metadata": {
        "id": "JpoEKEkUjoti",
        "outputId": "5485956b-a661-43d9-bd19-e00418d9558d",
        "colab": {
          "base_uri": "https://localhost:8080/",
          "height": 356
        }
      },
      "source": [
        "A = np.array([[3, -1, 1], [3, 6, 2], [3, 3, 7]])\n",
        "b = np.array([1, 0, 4])\n",
        "x0 = np.array([1, 1, 1])\n",
        "\n",
        "x1 = jacobi1(A, b, x0, epsilon=1e-10, N=1000)\n",
        "x = jacobi(A, b, x0, epsilon=1e-10, N=1000)\n",
        "x2 = gauss_seidel(A, b, x0, epsilon=1e-10, N=1000)\n",
        "print(x)\n",
        "print(x1)\n",
        "print(x2)"
      ],
      "execution_count": 5,
      "outputs": [
        {
          "output_type": "error",
          "ename": "TypeError",
          "evalue": "ignored",
          "traceback": [
            "\u001b[0;31m---------------------------------------------------------------------------\u001b[0m",
            "\u001b[0;31mTypeError\u001b[0m                                 Traceback (most recent call last)",
            "\u001b[0;32m<ipython-input-5-ab63e378260e>\u001b[0m in \u001b[0;36m<module>\u001b[0;34m()\u001b[0m\n\u001b[1;32m      5\u001b[0m \u001b[0mx1\u001b[0m \u001b[0;34m=\u001b[0m \u001b[0mjacobi1\u001b[0m\u001b[0;34m(\u001b[0m\u001b[0mA\u001b[0m\u001b[0;34m,\u001b[0m \u001b[0mb\u001b[0m\u001b[0;34m,\u001b[0m \u001b[0mx0\u001b[0m\u001b[0;34m,\u001b[0m \u001b[0mepsilon\u001b[0m\u001b[0;34m=\u001b[0m\u001b[0;36m1e-10\u001b[0m\u001b[0;34m,\u001b[0m \u001b[0mN\u001b[0m\u001b[0;34m=\u001b[0m\u001b[0;36m1000\u001b[0m\u001b[0;34m)\u001b[0m\u001b[0;34m\u001b[0m\u001b[0;34m\u001b[0m\u001b[0m\n\u001b[1;32m      6\u001b[0m \u001b[0mx\u001b[0m \u001b[0;34m=\u001b[0m \u001b[0mjacobi\u001b[0m\u001b[0;34m(\u001b[0m\u001b[0mA\u001b[0m\u001b[0;34m,\u001b[0m \u001b[0mb\u001b[0m\u001b[0;34m,\u001b[0m \u001b[0mx0\u001b[0m\u001b[0;34m,\u001b[0m \u001b[0mepsilon\u001b[0m\u001b[0;34m=\u001b[0m\u001b[0;36m1e-10\u001b[0m\u001b[0;34m,\u001b[0m \u001b[0mN\u001b[0m\u001b[0;34m=\u001b[0m\u001b[0;36m1000\u001b[0m\u001b[0;34m)\u001b[0m\u001b[0;34m\u001b[0m\u001b[0;34m\u001b[0m\u001b[0m\n\u001b[0;32m----> 7\u001b[0;31m \u001b[0mx2\u001b[0m \u001b[0;34m=\u001b[0m \u001b[0mgauss_seidel\u001b[0m\u001b[0;34m(\u001b[0m\u001b[0mA\u001b[0m\u001b[0;34m,\u001b[0m \u001b[0mb\u001b[0m\u001b[0;34m,\u001b[0m \u001b[0mx0\u001b[0m\u001b[0;34m,\u001b[0m \u001b[0mepsilon\u001b[0m\u001b[0;34m=\u001b[0m\u001b[0;36m1e-10\u001b[0m\u001b[0;34m,\u001b[0m \u001b[0mN\u001b[0m\u001b[0;34m=\u001b[0m\u001b[0;36m1000\u001b[0m\u001b[0;34m)\u001b[0m\u001b[0;34m\u001b[0m\u001b[0;34m\u001b[0m\u001b[0m\n\u001b[0m\u001b[1;32m      8\u001b[0m \u001b[0mprint\u001b[0m\u001b[0;34m(\u001b[0m\u001b[0mx\u001b[0m\u001b[0;34m)\u001b[0m\u001b[0;34m\u001b[0m\u001b[0;34m\u001b[0m\u001b[0m\n\u001b[1;32m      9\u001b[0m \u001b[0mprint\u001b[0m\u001b[0;34m(\u001b[0m\u001b[0mx1\u001b[0m\u001b[0;34m)\u001b[0m\u001b[0;34m\u001b[0m\u001b[0;34m\u001b[0m\u001b[0m\n",
            "\u001b[0;32m<ipython-input-4-e3368b855103>\u001b[0m in \u001b[0;36mgauss_seidel\u001b[0;34m(A, b, x0, epsilon, N)\u001b[0m\n\u001b[1;32m      7\u001b[0m \u001b[0;34m\u001b[0m\u001b[0m\n\u001b[1;32m      8\u001b[0m     \u001b[0;32mfor\u001b[0m \u001b[0mi\u001b[0m \u001b[0;32min\u001b[0m \u001b[0mrange\u001b[0m\u001b[0;34m(\u001b[0m\u001b[0mlen\u001b[0m\u001b[0;34m(\u001b[0m\u001b[0mb\u001b[0m\u001b[0;34m)\u001b[0m\u001b[0;34m)\u001b[0m\u001b[0;34m:\u001b[0m\u001b[0;34m\u001b[0m\u001b[0;34m\u001b[0m\u001b[0m\n\u001b[0;32m----> 9\u001b[0;31m       \u001b[0mx\u001b[0m\u001b[0;34m[\u001b[0m\u001b[0mi\u001b[0m\u001b[0;34m]\u001b[0m \u001b[0;34m=\u001b[0m \u001b[0;34m(\u001b[0m\u001b[0mb\u001b[0m\u001b[0;34m[\u001b[0m\u001b[0mi\u001b[0m\u001b[0;34m]\u001b[0m \u001b[0;34m-\u001b[0m \u001b[0mnp\u001b[0m\u001b[0;34m.\u001b[0m\u001b[0mdot\u001b[0m\u001b[0;34m(\u001b[0m\u001b[0mA\u001b[0m\u001b[0;34m[\u001b[0m\u001b[0mi\u001b[0m\u001b[0;34m,\u001b[0m\u001b[0;34m:\u001b[0m\u001b[0mi\u001b[0m\u001b[0;34m]\u001b[0m\u001b[0;34m,\u001b[0m \u001b[0mx\u001b[0m\u001b[0;34m[\u001b[0m\u001b[0;34m:\u001b[0m\u001b[0mi\u001b[0m\u001b[0;34m]\u001b[0m\u001b[0;34m)\u001b[0m \u001b[0;34m-\u001b[0m \u001b[0mnp\u001b[0m\u001b[0;34m.\u001b[0m\u001b[0mdot\u001b[0m\u001b[0;34m(\u001b[0m\u001b[0mA\u001b[0m\u001b[0;34m[\u001b[0m\u001b[0mi\u001b[0m\u001b[0;34m,\u001b[0m\u001b[0;34m(\u001b[0m\u001b[0mi\u001b[0m\u001b[0;34m+\u001b[0m\u001b[0;36m1\u001b[0m\u001b[0;34m)\u001b[0m\u001b[0;34m:\u001b[0m\u001b[0;34m]\u001b[0m\u001b[0;34m,\u001b[0m \u001b[0mx0\u001b[0m\u001b[0;34m[\u001b[0m\u001b[0;34m(\u001b[0m\u001b[0mi\u001b[0m\u001b[0;34m+\u001b[0m\u001b[0;36m1\u001b[0m\u001b[0;34m)\u001b[0m\u001b[0;34m:\u001b[0m\u001b[0;34m]\u001b[0m\u001b[0;34m)\u001b[0m\u001b[0;34m)\u001b[0m \u001b[0;34m/\u001b[0m \u001b[0mA\u001b[0m\u001b[0;34m[\u001b[0m\u001b[0mi\u001b[0m \u001b[0;34m,\u001b[0m\u001b[0mi\u001b[0m\u001b[0;34m]\u001b[0m\u001b[0;34m\u001b[0m\u001b[0;34m\u001b[0m\u001b[0m\n\u001b[0m\u001b[1;32m     10\u001b[0m \u001b[0;34m\u001b[0m\u001b[0m\n\u001b[1;32m     11\u001b[0m     \u001b[0;32mif\u001b[0m \u001b[0mnp\u001b[0m\u001b[0;34m.\u001b[0m\u001b[0mlinalg\u001b[0m\u001b[0;34m.\u001b[0m\u001b[0mnorm\u001b[0m\u001b[0;34m(\u001b[0m\u001b[0mx\u001b[0m \u001b[0;34m-\u001b[0m \u001b[0mx0\u001b[0m\u001b[0;34m)\u001b[0m \u001b[0;34m<\u001b[0m \u001b[0mepsilon\u001b[0m\u001b[0;34m:\u001b[0m\u001b[0;34m\u001b[0m\u001b[0;34m\u001b[0m\u001b[0m\n",
            "\u001b[0;31mTypeError\u001b[0m: 'builtin_function_or_method' object is not subscriptable"
          ]
        }
      ]
    },
    {
      "cell_type": "code",
      "metadata": {
        "id": "R05islm-vB23"
      },
      "source": [
        "for i in range(3):\n",
        "  print(np.dot(A[i,:i], x0[:i]))\n"
      ],
      "execution_count": null,
      "outputs": []
    },
    {
      "cell_type": "code",
      "metadata": {
        "id": "g7IAQKg04I4q"
      },
      "source": [
        ""
      ],
      "execution_count": null,
      "outputs": []
    }
  ]
}