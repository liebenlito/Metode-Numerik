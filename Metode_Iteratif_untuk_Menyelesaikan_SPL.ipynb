{
  "nbformat": 4,
  "nbformat_minor": 0,
  "metadata": {
    "colab": {
      "name": "Metode Iteratif untuk Menyelesaikan SPL.ipynb",
      "provenance": [],
      "authorship_tag": "ABX9TyOLdd87GRd3rObGvXYaZvBz"
    },
    "kernelspec": {
      "name": "python3",
      "display_name": "Python 3"
    },
    "language_info": {
      "name": "python"
    }
  },
  "cells": [
    {
      "cell_type": "markdown",
      "metadata": {
        "id": "upyQQoXOgkl2"
      },
      "source": [
        "# Metode Iteratif untuk Menyelesaikan Sistem Persamaan Linear\n",
        "\n",
        "Terdapat dua teknik untuk menyelesaikan Sistem Persamaan Linear (SPL) yaitu metode langsung dan metode iteratif. Metode langsung seperti eliminasi Gauss, memiliki beberapa kelemahan diantaranya:\n",
        "* Tidak memiliki perbaikan dari error yang dihasilkan. Hal ini dikarenakan, metode ini terlalu mirip dengan solusi eksaknya. Akibatnya, metode ini rentan atau sensitif terhadap error pembulatan. \n",
        "* Operasi yang dibutuhkan oleh metode langsung dinotasikan dengan $O(n^3)$. Ini berarti, semakin besar $n$ atau ukuran matriksnya, maka akan semakin lama waktu eksekusinya."
      ]
    },
    {
      "cell_type": "markdown",
      "metadata": {
        "id": "BbTrJiP2iass"
      },
      "source": [
        "## Metode Jacobi\n",
        "\n",
        "Metode Jacobi dibangun dengan menggunakan dua asumsi:\n",
        "1. SPL $A\\vec{x}=\\vec{b}$ memiliki solusi tunggal.\n",
        "2. Koefisien dari matriks $A$ tidak nol pada diagonal utamanya, $a_{11}, a_{12}, \\cdots, a_{nn}$. Jika koefisien dari diagonal utamanya bernilai nol, maka penukaran baris atau kolom dapat dilakukan.\n",
        "\n",
        "Misalkan diberikan SPL\n",
        "\n",
        "$$\n",
        "\\begin{array}\n",
        "  aa_{11}x_1 & + & a_{12}x_2 & + & \\cdots & + & a_{1n}x_n & = & b_1 & (1)\\\\\n",
        "  a_{21}x_1 & + & a_{22}x_2 & + & \\cdots & + & a_{2n}x_n & = & b_2 & (2)\\\\\n",
        "   &  &  &  & \\vdots &  &  &  &  \\\\\n",
        "  a_{n1}x_1 & + & a_{n2}x_2 & + & \\cdots & + & a_{nn}x_n & = & b_n & (n)\\\\\n",
        "\\end{array}\n",
        "$$\n",
        "\n",
        "Berikut ini adalah langkah-langkah penyelesaian menggunakan metode Jacobi:\n",
        "1. Pertama, kita selesaikan persamaan $(1)$ untuk $x_1$, dilanjutkan ke persamaan $(2)$ untuk $x_2$, dan seterusnya sampai persamaan $(n)$ untuk $x_n$. Sehingga menjadi\n",
        "\n",
        "$$\n",
        "\\begin{array}\n",
        "  xx_1 & = & \\frac{1}{a_{11}} \\left(b_1 - a_{12}x_2 - a_{13}x_3 - \\cdots - a_{1n}x_n \\right)\\\\\n",
        "  x_2 & = & \\frac{1}{a_{22}} \\left(b_2 - a_{21}x_1 - a_{23}x_3 - \\cdots - a_{2n}x_n \\right)\\\\\n",
        "    & \\vdots & \\\\\n",
        "  x_n & = & \\frac{1}{a_{nn}} \\left(b_n - a_{n1}x_1 - a_{n2}x_2 - \\cdots - a_{n,n-1}x_{n,n-1}\\right)\\\\\n",
        "\\end{array}\n",
        "$$\n",
        "\n",
        "2. Buat tebakan awal untuk solusinya, dinotasikan dengan $x_1^{(0)}, x_2^{(0)}, \\cdots, x_n^{(0)}$ dan subtitusikan ke dalam persamaan pada langkah 1 untuk mendapatkan solusi pada iterasi pertama.\n",
        "\n",
        "3. Lakukan proses langkah 2 secara terus menerus sampai mendapatkan barisan solusi $x_1^{(k)}, x_2^{(k)}, \\cdots, x_n^{(k)}$, untuk $k=1, 2, \\cdots$, yang konvergen ke solusi dari SPL tersebut. \n",
        "\n"
      ]
    },
    {
      "cell_type": "code",
      "metadata": {
        "id": "t9E5z2QBf_3b"
      },
      "source": [
        "import numpy as np\n",
        "import matplotlib.pyplot as plt"
      ],
      "execution_count": 1,
      "outputs": []
    },
    {
      "cell_type": "code",
      "metadata": {
        "id": "IE0PTt4XgNlq"
      },
      "source": [
        ""
      ],
      "execution_count": null,
      "outputs": []
    }
  ]
}