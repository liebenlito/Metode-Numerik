{
  "nbformat": 4,
  "nbformat_minor": 0,
  "metadata": {
    "colab": {
      "name": "model_SIR.ipynb",
      "provenance": [],
      "authorship_tag": "ABX9TyN/BB3adGTuFCgYOMTNK/af",
      "include_colab_link": true
    },
    "kernelspec": {
      "name": "python3",
      "display_name": "Python 3"
    },
    "language_info": {
      "name": "python"
    }
  },
  "cells": [
    {
      "cell_type": "markdown",
      "metadata": {
        "id": "view-in-github",
        "colab_type": "text"
      },
      "source": [
        "<a href=\"https://colab.research.google.com/github/liebenlito/Metode-Numerik/blob/main/model_SIR.ipynb\" target=\"_parent\"><img src=\"https://colab.research.google.com/assets/colab-badge.svg\" alt=\"Open In Colab\"/></a>"
      ]
    },
    {
      "cell_type": "markdown",
      "metadata": {
        "id": "INRxs0sU5gz_"
      },
      "source": [
        "# Model SIR \n",
        "Misalkan di dalam suatu pengamatan pada waktu ke $t$ di dalam populasi __tertutup__, terdapat subpopulasi yang rentan (Susceptible, $S$), subpopulasi yang terjangkit penyakit (Infection, $I$), dan subpopulasi yang sembuh (Recovery, $R$). Model populasi ini dinamakan model $SIR$. Model SIR memiliki asumsi-asumsi sebagai berikut:\n",
        "\n",
        "1. Individu yang sembuh mempunyai kekebalan terhadap penyakit tersebut (tidak bisa menjadi rentan lagi).\n",
        "2. Penyakit tidak fatal (tidak menyebabkan kematian).\n",
        "3. Masa inkubasi sangat singkat. Masa inkubasi adalah masa antara mulai terjadinya infeksi sampai dengan tampaknya gejala.\n",
        "4. Laju kenaikan proporsi (jumlah individu) dari kelas terjangkit dan menularkan sebanding dengan proporsi (jumlah individu) dari kelas rentan dan kelas terjangkit. Proporsi (jumlah individu) kelas rentan minimum dengan laju yang sama, yaitu $\\beta SI$.\n",
        "5. Laju kenaikan proporsi (jumlah individu) kelas sembuh sebanding dengan proporsi ( jumlah individu) dari kelas terjangkit dan menularkan, yaitu $\\alpha I$.\n",
        "\n",
        "\n",
        "\n",
        "\n",
        "\n",
        "\n"
      ]
    },
    {
      "cell_type": "code",
      "metadata": {
        "id": "7m0V_cJx5USf"
      },
      "source": [
        ""
      ],
      "execution_count": null,
      "outputs": []
    }
  ]
}