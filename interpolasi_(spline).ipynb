{
  "nbformat": 4,
  "nbformat_minor": 0,
  "metadata": {
    "colab": {
      "name": "interpolasi (spline).ipynb",
      "provenance": [],
      "authorship_tag": "ABX9TyMy7i7LN0j6+NBiVWd6Ujzn"
    },
    "kernelspec": {
      "name": "python3",
      "display_name": "Python 3"
    },
    "language_info": {
      "name": "python"
    }
  },
  "cells": [
    {
      "cell_type": "markdown",
      "metadata": {
        "id": "0h7Eq6FkKGHq"
      },
      "source": [
        "# Masalah di Interpolasi Polinomial\n",
        "\n",
        "Misalkan diberikan 21 pasang titik $(x_k,y_k)$ dimana $k=0,1,...,20$. Tujuannya adalah mencari suatu fungsi yang melalui titik-titik tersebut.\n",
        "\n",
        "Pertama, kita gunakan interpolasi Lagrange: "
      ]
    },
    {
      "cell_type": "code",
      "metadata": {
        "id": "ufe7iAzJJ9EG"
      },
      "source": [
        "import numpy as np\n",
        "import matplotlib.pyplot as plt"
      ],
      "execution_count": 1,
      "outputs": []
    },
    {
      "cell_type": "code",
      "metadata": {
        "id": "uxJher3eKrZZ"
      },
      "source": [
        "from scipy import interpolate"
      ],
      "execution_count": 2,
      "outputs": []
    },
    {
      "cell_type": "code",
      "metadata": {
        "colab": {
          "base_uri": "https://localhost:8080/",
          "height": 283
        },
        "id": "agdKE-ZpKyMt",
        "outputId": "7adbea9a-37a2-45fb-852d-b64e9b75b55d"
      },
      "source": [
        "x = np.array([0.9, 1.3, 1.9, 2.1, 2.6, 3.0, 3.9, 4.4, 4.7, 5.0, 6.0, 7.0, 8.0, 9.2, 10.5, 11.3, 11.6, 12.0, 12.6, 13.0, 13.3])\n",
        "y = np.array([1.3, 1.5, 1.85, 2.12, 2.6, 2.7, 2.4, 2.15, 2.05, 2.11, 2.25, 2.3, 2.26, 1.95, 1.4, 0.9, 0.7, 0.6, 0.5, 0.4, 0.25])\n",
        "\n",
        "plt.scatter(x,y);\n",
        "plt.xlabel(\"$x$\");\n",
        "plt.ylabel(\"$y$\");\n",
        "plt.ylim([-4, 4]);"
      ],
      "execution_count": 3,
      "outputs": [
        {
          "output_type": "display_data",
          "data": {
            "image/png": "[encoded data removed]",
            "text/plain": [
              "<Figure size 432x288 with 1 Axes>"
            ]
          },
          "metadata": {
            "needs_background": "light"
          }
        }
      ]
    },
    {
      "cell_type": "code",
      "metadata": {
        "id": "0xWwaS8fLkbB"
      },
      "source": [
        "f = interpolate.lagrange(x,y) # 21 derajat polinomial"
      ],
      "execution_count": 4,
      "outputs": []
    },
    {
      "cell_type": "code",
      "metadata": {
        "colab": {
          "base_uri": "https://localhost:8080/"
        },
        "id": "Oz8l3XLvLqf2",
        "outputId": "1585ad41-c089-465e-a4ed-67de9feb28ff"
      },
      "source": [
        "f"
      ],
      "execution_count": 5,
      "outputs": [
        {
          "output_type": "execute_result",
          "data": {
            "text/plain": [
              "poly1d([-3.54868435e-11,  4.94299642e-09, -3.20527566e-07,  1.28512185e-05,\n",
              "       -3.56883654e-04,  7.28781256e-03, -1.13401396e-01,  1.37498064e+00,\n",
              "       -1.31748437e+01,  1.00596514e+02, -6.14483947e+02,  3.00331353e+03,\n",
              "       -1.17053352e+04,  3.61211679e+04, -8.72406759e+04,  1.62083353e+05,\n",
              "       -2.25783901e+05,  2.26808970e+05, -1.54212429e+05,  6.31122777e+04,\n",
              "       -1.16552715e+04])"
            ]
          },
          "metadata": {},
          "execution_count": 5
        }
      ]
    },
    {
      "cell_type": "code",
      "metadata": {
        "colab": {
          "base_uri": "https://localhost:8080/",
          "height": 283
        },
        "id": "rdJgHgO6LrAQ",
        "outputId": "7d27c0b1-58c1-4bbf-92ce-1cad33b13da7"
      },
      "source": [
        "xi = np.linspace(0, 14, 100)\n",
        "plt.plot(xi, f(xi), 'r')\n",
        "plt.scatter(x,y)\n",
        "plt.xlabel(\"$x$\");\n",
        "plt.ylabel(\"$y$\");\n",
        "plt.ylim([-1, 4]);"
      ],
      "execution_count": 6,
      "outputs": [
        {
          "output_type": "display_data",
          "data": {
            "image/png": "[encoded data removed]",
            "text/plain": [
              "<Figure size 432x288 with 1 Axes>"
            ]
          },
          "metadata": {
            "needs_background": "light"
          }
        }
      ]
    }
  ]
}