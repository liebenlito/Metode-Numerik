{
  "nbformat": 4,
  "nbformat_minor": 0,
  "metadata": {
    "colab": {
      "name": "interpolasi (spline).ipynb",
      "provenance": [],
      "authorship_tag": "ABX9TyMbQ1wkuNZaXcU9ZVY+Qudk"
    },
    "kernelspec": {
      "name": "python3",
      "display_name": "Python 3"
    },
    "language_info": {
      "name": "python"
    }
  },
  "cells": [
    {
      "cell_type": "markdown",
      "metadata": {
        "id": "0h7Eq6FkKGHq"
      },
      "source": [
        "# Masalah di Interpolasi Polinomial\n",
        "\n",
        "Misalkan diberikan 21 pasang titik $(x_k,y_k)$ dimana $k=0,1,...,20$. Tujuannya adalah mencari suatu fungsi yang melalui titik-titik tersebut.\n",
        "\n",
        "Pertama, kita gunakan interpolasi Lagrange: "
      ]
    },
    {
      "cell_type": "code",
      "metadata": {
        "id": "ufe7iAzJJ9EG"
      },
      "source": [
        "import numpy as np\n",
        "import matplotlib.pyplot as plt"
      ],
      "execution_count": 1,
      "outputs": []
    },
    {
      "cell_type": "code",
      "metadata": {
        "id": "uxJher3eKrZZ"
      },
      "source": [
        "from scipy import interpolate"
      ],
      "execution_count": 2,
      "outputs": []
    },
    {
      "cell_type": "code",
      "metadata": {
        "colab": {
          "base_uri": "https://localhost:8080/",
          "height": 283
        },
        "id": "agdKE-ZpKyMt",
        "outputId": "a0c0124a-0ccb-4c9a-b7e0-25234ea0f31d"
      },
      "source": [
        "x = np.array([0.9, 1.3, 1.9, 2.1, 2.6, 3.0, 3.9, 4.4, 4.7, 5.0, 6.0, 7.0, 8.0, 9.2, 10.5, 11.3, 11.6, 12.0, 12.6, 13.0, 13.3])\n",
        "y = np.array([1.3, 1.5, 1.85, 2.12, 2.6, 2.7, 2.4, 2.15, 2.05, 2.11, 2.25, 2.3, 2.26, 1.95, 1.4, 0.9, 0.7, 0.6, 0.5, 0.4, 0.25])\n",
        "\n",
        "plt.scatter(x,y);\n",
        "plt.xlabel(\"$x$\");\n",
        "plt.ylabel(\"$y$\");\n",
        "plt.ylim([-4, 4]);"
      ],
      "execution_count": 3,
      "outputs": [
        {
          "output_type": "display_data",
          "data": {
            "image/png": "[encoded data removed]",
            "text/plain": [
              "<Figure size 432x288 with 1 Axes>"
            ]
          },
          "metadata": {
            "needs_background": "light"
          }
        }
      ]
    },
    {
      "cell_type": "markdown",
      "metadata": {
        "id": "BuKTZZByqstd"
      },
      "source": [
        "Karena terdapat 21 titik data, maka interpolan Lagrange membutuhkan polinom berderajat 20."
      ]
    },
    {
      "cell_type": "code",
      "metadata": {
        "id": "0xWwaS8fLkbB"
      },
      "source": [
        "f = interpolate.lagrange(x,y) # 20 derajat polinomial"
      ],
      "execution_count": 4,
      "outputs": []
    },
    {
      "cell_type": "code",
      "metadata": {
        "colab": {
          "base_uri": "https://localhost:8080/"
        },
        "id": "Oz8l3XLvLqf2",
        "outputId": "6ef028a8-e84a-4279-fd62-2f3d721ab41a"
      },
      "source": [
        "f"
      ],
      "execution_count": 5,
      "outputs": [
        {
          "output_type": "execute_result",
          "data": {
            "text/plain": [
              "poly1d([-3.54868435e-11,  4.94299642e-09, -3.20527566e-07,  1.28512185e-05,\n",
              "       -3.56883654e-04,  7.28781256e-03, -1.13401396e-01,  1.37498064e+00,\n",
              "       -1.31748437e+01,  1.00596514e+02, -6.14483947e+02,  3.00331353e+03,\n",
              "       -1.17053352e+04,  3.61211679e+04, -8.72406759e+04,  1.62083353e+05,\n",
              "       -2.25783901e+05,  2.26808970e+05, -1.54212429e+05,  6.31122777e+04,\n",
              "       -1.16552715e+04])"
            ]
          },
          "metadata": {},
          "execution_count": 5
        }
      ]
    },
    {
      "cell_type": "code",
      "metadata": {
        "colab": {
          "base_uri": "https://localhost:8080/",
          "height": 283
        },
        "id": "rdJgHgO6LrAQ",
        "outputId": "3bceffc9-e66a-4939-888c-9541467f5b59"
      },
      "source": [
        "xi = np.linspace(0, 14, 100)\n",
        "plt.plot(xi, f(xi), 'r')\n",
        "plt.scatter(x,y)\n",
        "plt.xlabel(\"$x$\");\n",
        "plt.ylabel(\"$y$\");\n",
        "plt.ylim([-1, 4]);"
      ],
      "execution_count": 6,
      "outputs": [
        {
          "output_type": "display_data",
          "data": {
            "image/png": "[encoded data removed]",
            "text/plain": [
              "<Figure size 432x288 with 1 Axes>"
            ]
          },
          "metadata": {
            "needs_background": "light"
          }
        }
      ]
    },
    {
      "cell_type": "markdown",
      "metadata": {
        "id": "2ifInozjpnWq"
      },
      "source": [
        "Dari grafik di atas terlihat bahwa interpolan Lagrange menghasilkan error yang besar. Hal ini terjadi karena penggunaan polinom berderajat tinggi yang diakibatkan dari banyaknya titik data yang digunakan. Ini berarti semakin tinggi derajat polinom yang digunakan, maka error yang dihasilkan akan semakin besar. Fenomena ini disebut juga dengan _Runge Phenomenon_."
      ]
    },
    {
      "cell_type": "markdown",
      "metadata": {
        "id": "_wVgvw-6qQTe"
      },
      "source": [
        "# Interpolasi Piece-Wise\n",
        "\n",
        "Untuk menangani masalah penggunaan polinom berderajat tinggi dari suatu interpolan, maka caranya adalah dengan membagi interval dari titik data ke dalam sub-sub interval."
      ]
    },
    {
      "cell_type": "markdown",
      "metadata": {
        "id": "7p1yOj5GyzqO"
      },
      "source": [
        "### Contoh 1:\n",
        "Diberikan titik (1,2), (2,3), dan (3,5)"
      ]
    },
    {
      "cell_type": "code",
      "metadata": {
        "id": "4tUNuBxdy6X7"
      },
      "source": [
        "x = np.array([1,2,3])\n",
        "y = np.array([2,3,5])"
      ],
      "execution_count": 7,
      "outputs": []
    },
    {
      "cell_type": "code",
      "metadata": {
        "colab": {
          "base_uri": "https://localhost:8080/",
          "height": 279
        },
        "id": "sGcNVJx6zDLR",
        "outputId": "571c71b9-42aa-471e-8f76-8c9a4488d406"
      },
      "source": [
        "plt.scatter(x,y);\n",
        "plt.xlabel(\"$x$\");\n",
        "plt.ylabel(\"$y$\");"
      ],
      "execution_count": 8,
      "outputs": [
        {
          "output_type": "display_data",
          "data": {
            "image/png": "[encoded data removed]",
            "text/plain": [
              "<Figure size 432x288 with 1 Axes>"
            ]
          },
          "metadata": {
            "needs_background": "light"
          }
        }
      ]
    },
    {
      "cell_type": "code",
      "metadata": {
        "id": "Rx4Y_nSYzIAT"
      },
      "source": [
        "S0 = lambda x: 2 + 0.75*(x-1) + 0.25*(x-1)**3\n",
        "S1 = lambda x: 3 + (3/2)*(x-2) + 0.75*(x-2)**2 - (0.25)*(x-2)**4"
      ],
      "execution_count": 9,
      "outputs": []
    },
    {
      "cell_type": "code",
      "metadata": {
        "colab": {
          "base_uri": "https://localhost:8080/",
          "height": 279
        },
        "id": "MU4MrEEbOuGG",
        "outputId": "6f14d51d-531d-4a2f-b3d7-3edb62b027d7"
      },
      "source": [
        "xi1 = np.linspace(1, 2, 100)\n",
        "xi2 = np.linspace(2, 3, 100)\n",
        "plt.plot(xi1, S0(xi1), label='$S_0$')\n",
        "plt.plot(xi2, S1(xi2), label='$S_1$')\n",
        "plt.scatter(x,y);\n",
        "plt.xlabel(\"$x$\");\n",
        "plt.ylabel(\"$y$\");\n",
        "plt.legend();"
      ],
      "execution_count": 10,
      "outputs": [
        {
          "output_type": "display_data",
          "data": {
            "image/png": "[encoded data removed]",
            "text/plain": [
              "<Figure size 432x288 with 1 Axes>"
            ]
          },
          "metadata": {
            "needs_background": "light"
          }
        }
      ]
    },
    {
      "cell_type": "markdown",
      "metadata": {
        "id": "ENTaM1lpwufg"
      },
      "source": [
        "### Implementasi Cubic Spline (Natural Boundary)\n",
        "\n",
        "Panggil fungsi `gauss_seidel` untuk menyelesaikan sistem persamaan linear yang dihasilkan dari bentuk matriks cubic spline."
      ]
    },
    {
      "cell_type": "code",
      "metadata": {
        "id": "W8TRSSXRoqKE"
      },
      "source": [
        "def gauss_seidel(A, b, x0, epsilon=1e-5, N=1000):\n",
        "  x = np.zeros_like(b, dtype=np.double)\n",
        "  \n",
        "  for k in range(N):\n",
        "\n",
        "    for i in range(len(b)):\n",
        "      U = np.dot(A[i,:i], x[:i])\n",
        "      V = np.dot(A[i,(i+1):], x0[(i+1):])\n",
        "      x[i] = 1/A[i,i] * (b[i] - U - V)\n",
        "      #print(k,x)\n",
        "      \n",
        "    if np.linalg.norm(np.dot(A,x) - b) < epsilon:\n",
        "      break\n",
        "    \n",
        "    x0 = x\n",
        "\n",
        "  return x"
      ],
      "execution_count": 11,
      "outputs": []
    },
    {
      "cell_type": "markdown",
      "metadata": {
        "id": "J4137mHvwmbj"
      },
      "source": [
        "Implementasikan code dibawah ini untuk mencari nilai $a,b,c,d$ dari persamaan cubic spline"
      ]
    },
    {
      "cell_type": "code",
      "metadata": {
        "id": "0tstKbUQPWvD"
      },
      "source": [
        "def cubic_spline(data):\n",
        "  n = len(data) - 1\n",
        "\n",
        "  data = np.array(data)\n",
        "\n",
        "  # Nilai dari koef. a diketahui dari titik data atau input yaitu a_j = f(x_j)\n",
        "  a = [data[i, 1] for i in range(n+1)]\n",
        "  a = np.array(a)\n",
        "\n",
        "  h = [(data[i+1,0] - data[i,0]) for i in range(n)]\n",
        "  \n",
        "  # Membentuk matriks A\n",
        "  A = np.zeros((n+1,n+1))\n",
        "  for i in range(1, n):\n",
        "    for j in range(0, n):\n",
        "      if j < i:\n",
        "        for k in range(j):\n",
        "          A[i,k] = 0\n",
        "        A[i,j] = h[j-1]\n",
        "      elif j > i:\n",
        "        for k in range(j):\n",
        "          A[k,j] = 0\n",
        "        A[i,j] = h[j]\n",
        "        A[i+1, j+1] = h[j]\n",
        "      else:\n",
        "        A[i,i] = 2*(h[j-1] + h[j])\n",
        "  A[0, 0] = 1\n",
        "  A[n, n] = 1\n",
        "  A[:n-1, n] = 0\n",
        "\n",
        "  # Membentuk vektor b\n",
        "  b = np.zeros(n+1)\n",
        "  for i in range(1,n):\n",
        "    b[i] = (3/h[i]) * (a[i+1] - a[i]) - (3/h[i-1]) * (a[i] - a[i-1])\n",
        "\n",
        "  # Cari nilai koef. c dengan Gauss-Seidel\n",
        "  x0 = np.zeros(n+1)\n",
        "  c = gauss_seidel(A, b, x0)\n",
        "\n",
        "  # Mencari koef. b dan d setelah koef. c didapatkan\n",
        "  d = np.zeros(n+1)\n",
        "  for i in range(n):\n",
        "    b[i] = (a[i+1] - a[i])/h[i] - h[i]*(c[i+1] + 2*c[i])/3\n",
        "    d[i] = (c[i+1] - c[i])/3*h[i]\n",
        "\n",
        "  return a, b, c, d"
      ],
      "execution_count": 12,
      "outputs": []
    },
    {
      "cell_type": "markdown",
      "metadata": {
        "id": "ILBRmfqTxP3p"
      },
      "source": [
        "### Contoh 2: \n",
        "Diberikan titik data $(0,1), (1,e), (2, e^2), (3, e^3)$"
      ]
    },
    {
      "cell_type": "code",
      "metadata": {
        "id": "o8vfmzpOwXDu",
        "colab": {
          "base_uri": "https://localhost:8080/"
        },
        "outputId": "80e00713-826f-4846-b8cb-f0f08cfcf6b8"
      },
      "source": [
        "X = [(0,1), (1,np.exp(1)), (2,(np.exp(1))**2), (3,(np.exp(1))**3)]\n",
        "X = np.array(X)\n",
        "X"
      ],
      "execution_count": 13,
      "outputs": [
        {
          "output_type": "execute_result",
          "data": {
            "text/plain": [
              "array([[ 0.        ,  1.        ],\n",
              "       [ 1.        ,  2.71828183],\n",
              "       [ 2.        ,  7.3890561 ],\n",
              "       [ 3.        , 20.08553692]])"
            ]
          },
          "metadata": {},
          "execution_count": 13
        }
      ]
    },
    {
      "cell_type": "code",
      "metadata": {
        "id": "N0NfMGgq71yY",
        "colab": {
          "base_uri": "https://localhost:8080/",
          "height": 279
        },
        "outputId": "08909aec-1d61-4d78-8d98-317f6e4be348"
      },
      "source": [
        "xi = np.linspace(0, 3, 100)\n",
        "plt.scatter(X[:,0], X[:,1], c='red')\n",
        "plt.plot(xi, np.exp(xi), label='$e^x$')\n",
        "plt.xlabel('$x$')\n",
        "plt.ylabel('$f(x)$')\n",
        "plt.legend();"
      ],
      "execution_count": 14,
      "outputs": [
        {
          "output_type": "display_data",
          "data": {
            "image/png": "[encoded data removed]",
            "text/plain": [
              "<Figure size 432x288 with 1 Axes>"
            ]
          },
          "metadata": {
            "needs_background": "light"
          }
        }
      ]
    },
    {
      "cell_type": "code",
      "metadata": {
        "id": "q7S9gAT1mqA1",
        "colab": {
          "base_uri": "https://localhost:8080/"
        },
        "outputId": "b1f5a871-27d6-41e3-9b70-eae4420a9705"
      },
      "source": [
        "import pprint\n",
        "pp = pprint.PrettyPrinter(indent=2, compact=True)\n",
        "# Cari koef. untuk S\n",
        "a,b,c,d = cubic_spline(X)\n",
        "\n",
        "P = [a,b,c,d]\n",
        "pp.pprint(P)"
      ],
      "execution_count": 15,
      "outputs": [
        {
          "output_type": "stream",
          "name": "stdout",
          "text": [
            "[ array([ 1.        ,  2.71828183,  7.3890561 , 20.08553692]),\n",
            "  array([1.46599715, 2.22284945, 8.80976989, 0.        ]),\n",
            "  array([0.        , 0.75685403, 5.83006641, 0.        ]),\n",
            "  array([ 0.25228468,  1.69107079, -1.94335547,  0.        ])]\n"
          ]
        }
      ]
    },
    {
      "cell_type": "code",
      "metadata": {
        "id": "njIpqyh00r9h"
      },
      "source": [
        "S0 = lambda x: a[0] + b[0]*x + d[0]*(x**3)\n",
        "S1 = lambda x: a[1] + b[1]*(x - 1) + c[1]*((x - 1)**2) + d[1]*((x-1)**3)\n",
        "S2 = lambda x: a[2] + b[2]*(x - 2) + c[2]*((x - 2)**2) + d[2]*((x-2)**3)"
      ],
      "execution_count": 16,
      "outputs": []
    },
    {
      "cell_type": "code",
      "metadata": {
        "id": "1BCKrBxe6qtH",
        "colab": {
          "base_uri": "https://localhost:8080/",
          "height": 279
        },
        "outputId": "5a0a64f7-bdc8-4401-9b47-fc6e78573b5a"
      },
      "source": [
        "interval = [np.linspace(i, i+1, 100) for i in range(len(X)-1)]\n",
        "plt.scatter(X[:,0], X[:,1], c='red', label='titik data')\n",
        "plt.plot(xi, np.exp(xi), label='fungsi eksak ($e^x$)')\n",
        "plt.plot(interval[0], S0(interval[0]), label='$S_0$')\n",
        "plt.plot(interval[1], S1(interval[1]), label='$S_1$')\n",
        "plt.plot(interval[2], S2(interval[2]), label='$S_2$')\n",
        "plt.xlabel('$x$')\n",
        "plt.ylabel('$f(x)$')\n",
        "plt.legend();"
      ],
      "execution_count": 17,
      "outputs": [
        {
          "output_type": "display_data",
          "data": {
            "image/png": "[encoded data removed]",
            "text/plain": [
              "<Figure size 432x288 with 1 Axes>"
            ]
          },
          "metadata": {
            "needs_background": "light"
          }
        }
      ]
    },
    {
      "cell_type": "markdown",
      "metadata": {
        "id": "MkkZG0OXy0SQ"
      },
      "source": [
        "#### Contoh 3:\n",
        "\n",
        "Kita juga dapat menghitung integral untuk $f(x)=e^x$ di $[0,3]$ menggunakan cubic spline:\n",
        "\n"
      ]
    },
    {
      "cell_type": "code",
      "metadata": {
        "id": "2oe_aebDu1xg",
        "colab": {
          "base_uri": "https://localhost:8080/"
        },
        "outputId": "6547c94f-085d-4620-93ef-d78773a0218a"
      },
      "source": [
        "S_integral = (a[0]+a[1]+a[2]) + 0.5*(b[0]+b[1]+b[2]) + 1/3*(c[0]+c[1]+c[2]) + 1/4*(d[0]+d[1]+d[2])\n",
        "S_integral"
      ],
      "execution_count": 18,
      "outputs": [
        {
          "output_type": "execute_result",
          "data": {
            "text/plain": [
              "19.5522863156542"
            ]
          },
          "metadata": {},
          "execution_count": 18
        }
      ]
    },
    {
      "cell_type": "code",
      "metadata": {
        "id": "FTFSE2I00R_t",
        "colab": {
          "base_uri": "https://localhost:8080/"
        },
        "outputId": "45dd52e6-c073-4aef-e78c-74f6dc5dd26a"
      },
      "source": [
        "import scipy.integrate as integral\n",
        "\n",
        "f = lambda x: np.exp(x)\n",
        "f_integral = integral.quad(f, 0, 3)\n",
        "f_integral"
      ],
      "execution_count": 19,
      "outputs": [
        {
          "output_type": "execute_result",
          "data": {
            "text/plain": [
              "(19.085536923187668, 2.1189202529456516e-13)"
            ]
          },
          "metadata": {},
          "execution_count": 19
        }
      ]
    },
    {
      "cell_type": "code",
      "metadata": {
        "id": "SOE2Zbty01vd",
        "colab": {
          "base_uri": "https://localhost:8080/"
        },
        "outputId": "0f1c18ed-acb8-4057-c27c-b5a6f33be946"
      },
      "source": [
        "error = np.abs(S_integral - f_integral[0])/np.abs(f_integral[0])\n",
        "error"
      ],
      "execution_count": 20,
      "outputs": [
        {
          "output_type": "execute_result",
          "data": {
            "text/plain": [
              "0.02445565950515453"
            ]
          },
          "metadata": {},
          "execution_count": 20
        }
      ]
    },
    {
      "cell_type": "markdown",
      "metadata": {
        "id": "jE2gu2H5S-Wi"
      },
      "source": [
        "Adakah metode yang dapat menghasilkan error yg lebih kecil? cubic spline dengan clamped boundary "
      ]
    },
    {
      "cell_type": "markdown",
      "metadata": {
        "id": "TbckMCrLYT0z"
      },
      "source": [
        "### Contoh 4:"
      ]
    },
    {
      "cell_type": "code",
      "metadata": {
        "id": "en18sJMlWOQT"
      },
      "source": [
        "x = np.array([0.9, 1.3, 1.9, 2.1, 2.6, 3.0, 3.9, 4.4, 4.7, 5.0, 6.0, 7.0, 8.0, 9.2, 10.5, 11.3, 11.6, 12.0, 12.6, 13.0, 13.3])\n",
        "y = np.array([1.3, 1.5, 1.85, 2.12, 2.6, 2.7, 2.4, 2.15, 2.05, 2.11, 2.25, 2.3, 2.26, 1.95, 1.4, 0.9, 0.7, 0.6, 0.5, 0.4, 0.25])\n",
        "\n",
        "data = [list(a) for a in zip(x, y)]\n",
        "data = np.array(data)"
      ],
      "execution_count": 21,
      "outputs": []
    },
    {
      "cell_type": "code",
      "metadata": {
        "id": "xcz993qqYkBc",
        "colab": {
          "base_uri": "https://localhost:8080/"
        },
        "outputId": "0f548e37-449f-4e29-cd22-486fbd6ec8f2"
      },
      "source": [
        "len(data)"
      ],
      "execution_count": 22,
      "outputs": [
        {
          "output_type": "execute_result",
          "data": {
            "text/plain": [
              "21"
            ]
          },
          "metadata": {},
          "execution_count": 22
        }
      ]
    },
    {
      "cell_type": "code",
      "metadata": {
        "id": "iHFs_UGUYk0d",
        "colab": {
          "base_uri": "https://localhost:8080/",
          "height": 283
        },
        "outputId": "b7bf2fbf-846b-4721-e81f-3c0699986196"
      },
      "source": [
        "plt.scatter(data[:,0], data[:,1]);\n",
        "plt.xlabel(\"$x$\");\n",
        "plt.ylabel(\"$y$\");\n",
        "plt.ylim([-4, 4]);"
      ],
      "execution_count": 23,
      "outputs": [
        {
          "output_type": "display_data",
          "data": {
            "image/png": "[encoded data removed]",
            "text/plain": [
              "<Figure size 432x288 with 1 Axes>"
            ]
          },
          "metadata": {
            "needs_background": "light"
          }
        }
      ]
    },
    {
      "cell_type": "code",
      "metadata": {
        "id": "tlw91wFmZUfn",
        "colab": {
          "base_uri": "https://localhost:8080/"
        },
        "outputId": "07477d31-842d-488b-d2ed-a472eb68bfb9"
      },
      "source": [
        "# Cari koef. untuk S\n",
        "a,b,c,d = cubic_spline(data)\n",
        "\n",
        "P = [a,b,c,d]\n",
        "pp.pprint(P)"
      ],
      "execution_count": 24,
      "outputs": [
        {
          "output_type": "stream",
          "name": "stdout",
          "text": [
            "[ array([1.3 , 1.5 , 1.85, 2.12, 2.6 , 2.7 , 2.4 , 2.15, 2.05, 2.11, 2.25,\n",
            "       2.3 , 2.26, 1.95, 1.4 , 0.9 , 0.7 , 0.6 , 0.5 , 0.4 , 0.25]),\n",
            "  array([ 0.50867103,  0.22927812,  1.19189293,  1.56531556,  0.5232126 ,\n",
            "        0.00299365, -0.47774079, -0.5013043 , -0.07292301,  0.30322867,\n",
            "        0.08678753,  0.01441943, -0.1334637 , -0.32538813, -0.51773512,\n",
            "       -0.73247255, -0.51355467, -0.15157408, -0.16927086, -0.39666192,\n",
            "        0.        ]),\n",
            "  array([ 0.        , -0.06503275,  1.90034154, -1.4290771 , -0.77373917,\n",
            "       -0.50161617, -0.1178576 ,  0.10215994,  1.4753898 , -0.2215495 ,\n",
            "       -0.04658699, -0.01718862, -0.12888106, -0.05441196, -0.11661175,\n",
            "       -0.16901982,  0.99609847, -0.01553695, -0.04438905, -0.51669041,\n",
            "        0.        ]),\n",
            "  array([-0.00867103,  0.39307486, -0.22196124,  0.10922299,  0.03628307,\n",
            "        0.11512757,  0.03666959,  0.13732299, -0.16969393,  0.05832084,\n",
            "        0.00979946, -0.03723081,  0.02978764, -0.02695324, -0.01397548,\n",
            "        0.11651183, -0.13488472, -0.00577042, -0.06297351,  0.05166904,\n",
            "        0.        ])]\n"
          ]
        }
      ]
    },
    {
      "cell_type": "code",
      "metadata": {
        "id": "XwSmpH4kZ51S"
      },
      "source": [
        "n = len(data)\n",
        "S = [(lambda x, j = j: a[j] + b[j]*(x - data[j,0]) + c[j]*((x - data[j,0])**2) + d[j]*((x - data[j,0])**3)) for j in range(n-1)]"
      ],
      "execution_count": 25,
      "outputs": []
    },
    {
      "cell_type": "code",
      "metadata": {
        "id": "XrdGpkweiLR5",
        "colab": {
          "base_uri": "https://localhost:8080/"
        },
        "outputId": "752c44ff-ef66-49e7-84a6-3273a8afde94"
      },
      "source": [
        "len(S)"
      ],
      "execution_count": 26,
      "outputs": [
        {
          "output_type": "execute_result",
          "data": {
            "text/plain": [
              "20"
            ]
          },
          "metadata": {},
          "execution_count": 26
        }
      ]
    },
    {
      "cell_type": "code",
      "metadata": {
        "id": "_QR2kHCNaY0g",
        "colab": {
          "base_uri": "https://localhost:8080/",
          "height": 283
        },
        "outputId": "dbd0f2a7-02a0-481f-88a1-d0f10c65bbfd"
      },
      "source": [
        "interval = [np.linspace(data[i,0], data[i+1, 0], 100) for i in range(n-1)]\n",
        "plt.scatter(data[:,0], data[:,1], c='red', label='titik data')\n",
        "for i in range(0, n-1):\n",
        "  plt.plot(interval[i], S[i](interval[i]), 'b')\n",
        "\n",
        "plt.xlabel('$x$')\n",
        "plt.ylabel('$f(x)$')\n",
        "plt.ylim([-4, 4]);\n",
        "plt.legend();"
      ],
      "execution_count": 29,
      "outputs": [
        {
          "output_type": "display_data",
          "data": {
            "image/png": "[encoded data removed]",
            "text/plain": [
              "<Figure size 432x288 with 1 Axes>"
            ]
          },
          "metadata": {
            "needs_background": "light"
          }
        }
      ]
    },
    {
      "cell_type": "code",
      "metadata": {
        "id": "5c59IlM5pXeS"
      },
      "source": [
        ""
      ],
      "execution_count": null,
      "outputs": []
    }
  ]
}