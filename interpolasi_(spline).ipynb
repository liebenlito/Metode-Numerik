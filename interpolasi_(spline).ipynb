{
  "nbformat": 4,
  "nbformat_minor": 0,
  "metadata": {
    "colab": {
      "name": "interpolasi (spline).ipynb",
      "provenance": [],
      "authorship_tag": "ABX9TyOQgfmYAjtNSnrLAz3aBQ/O"
    },
    "kernelspec": {
      "name": "python3",
      "display_name": "Python 3"
    },
    "language_info": {
      "name": "python"
    }
  },
  "cells": [
    {
      "cell_type": "markdown",
      "metadata": {
        "id": "0h7Eq6FkKGHq"
      },
      "source": [
        "# Masalah di Interpolasi Polinomial\n",
        "\n",
        "Misalkan diberikan 21 pasang titik $(x_k,y_k)$ dimana $k=0,1,...,20$. Tujuannya adalah mencari suatu fungsi yang melalui titik-titik tersebut.\n",
        "\n",
        "Pertama, kita gunakan interpolasi Lagrange: "
      ]
    },
    {
      "cell_type": "code",
      "metadata": {
        "id": "ufe7iAzJJ9EG"
      },
      "source": [
        "import numpy as np\n",
        "import matplotlib.pyplot as plt"
      ],
      "execution_count": 1,
      "outputs": []
    },
    {
      "cell_type": "code",
      "metadata": {
        "id": "uxJher3eKrZZ"
      },
      "source": [
        "from scipy import interpolate"
      ],
      "execution_count": 2,
      "outputs": []
    },
    {
      "cell_type": "code",
      "metadata": {
        "colab": {
          "base_uri": "https://localhost:8080/",
          "height": 283
        },
        "id": "agdKE-ZpKyMt",
        "outputId": "ab92252f-c05e-45ed-fcd5-895e960fc563"
      },
      "source": [
        "x = np.array([0.9, 1.3, 1.9, 2.1, 2.6, 3.0, 3.9, 4.4, 4.7, 5.0, 6.0, 7.0, 8.0, 9.2, 10.5, 11.3, 11.6, 12.0, 12.6, 13.0, 13.3])\n",
        "y = np.array([1.3, 1.5, 1.85, 2.12, 2.6, 2.7, 2.4, 2.15, 2.05, 2.11, 2.25, 2.3, 2.26, 1.95, 1.4, 0.9, 0.7, 0.6, 0.5, 0.4, 0.25])\n",
        "\n",
        "plt.scatter(x,y);\n",
        "plt.xlabel(\"$x$\");\n",
        "plt.ylabel(\"$y$\");\n",
        "plt.ylim([-4, 4]);"
      ],
      "execution_count": 3,
      "outputs": [
        {
          "output_type": "display_data",
          "data": {
            "image/png": "[encoded data removed]",
            "text/plain": [
              "<Figure size 432x288 with 1 Axes>"
            ]
          },
          "metadata": {
            "needs_background": "light"
          }
        }
      ]
    },
    {
      "cell_type": "code",
      "metadata": {
        "id": "0xWwaS8fLkbB"
      },
      "source": [
        "f = interpolate.lagrange(x,y) # 20 derajat polinomial"
      ],
      "execution_count": 4,
      "outputs": []
    },
    {
      "cell_type": "code",
      "metadata": {
        "colab": {
          "base_uri": "https://localhost:8080/"
        },
        "id": "Oz8l3XLvLqf2",
        "outputId": "d902ecec-382b-4b5f-f379-aa99c9ab7911"
      },
      "source": [
        "f"
      ],
      "execution_count": 5,
      "outputs": [
        {
          "output_type": "execute_result",
          "data": {
            "text/plain": [
              "poly1d([-3.54868435e-11,  4.94299642e-09, -3.20527566e-07,  1.28512185e-05,\n",
              "       -3.56883654e-04,  7.28781256e-03, -1.13401396e-01,  1.37498064e+00,\n",
              "       -1.31748437e+01,  1.00596514e+02, -6.14483947e+02,  3.00331353e+03,\n",
              "       -1.17053352e+04,  3.61211679e+04, -8.72406759e+04,  1.62083353e+05,\n",
              "       -2.25783901e+05,  2.26808970e+05, -1.54212429e+05,  6.31122777e+04,\n",
              "       -1.16552715e+04])"
            ]
          },
          "metadata": {},
          "execution_count": 5
        }
      ]
    },
    {
      "cell_type": "code",
      "metadata": {
        "colab": {
          "base_uri": "https://localhost:8080/",
          "height": 283
        },
        "id": "rdJgHgO6LrAQ",
        "outputId": "b3e340ea-6ee9-4065-f167-685c21bd721d"
      },
      "source": [
        "xi = np.linspace(0, 14, 100)\n",
        "plt.plot(xi, f(xi), 'r')\n",
        "plt.scatter(x,y)\n",
        "plt.xlabel(\"$x$\");\n",
        "plt.ylabel(\"$y$\");\n",
        "plt.ylim([-1, 4]);"
      ],
      "execution_count": 6,
      "outputs": [
        {
          "output_type": "display_data",
          "data": {
            "image/png": "[encoded data removed]",
            "text/plain": [
              "<Figure size 432x288 with 1 Axes>"
            ]
          },
          "metadata": {
            "needs_background": "light"
          }
        }
      ]
    },
    {
      "cell_type": "markdown",
      "metadata": {
        "id": "7p1yOj5GyzqO"
      },
      "source": [
        "Contoh 1:\n",
        "Diberikan titik (1,2), (2,3), dan (3,5)"
      ]
    },
    {
      "cell_type": "code",
      "metadata": {
        "id": "4tUNuBxdy6X7"
      },
      "source": [
        "x = np.array([1,2,3])\n",
        "y = np.array([2,3,5])"
      ],
      "execution_count": 7,
      "outputs": []
    },
    {
      "cell_type": "code",
      "metadata": {
        "colab": {
          "base_uri": "https://localhost:8080/",
          "height": 279
        },
        "id": "sGcNVJx6zDLR",
        "outputId": "b8e26989-4438-4dad-8223-cd721480521b"
      },
      "source": [
        "plt.scatter(x,y);\n",
        "plt.xlabel(\"$x$\");\n",
        "plt.ylabel(\"$y$\");"
      ],
      "execution_count": 8,
      "outputs": [
        {
          "output_type": "display_data",
          "data": {
            "image/png": "[encoded data removed]",
            "text/plain": [
              "<Figure size 432x288 with 1 Axes>"
            ]
          },
          "metadata": {
            "needs_background": "light"
          }
        }
      ]
    },
    {
      "cell_type": "code",
      "metadata": {
        "id": "Rx4Y_nSYzIAT"
      },
      "source": [
        "S0 = lambda x: 2 + 0.75*(x-1) + 0.25*(x-1)**3\n",
        "S1 = lambda x: 3 + (3/2)*(x-2) + 0.75*(x-2)**2 - (0.25)*(x-2)**4"
      ],
      "execution_count": 9,
      "outputs": []
    },
    {
      "cell_type": "code",
      "metadata": {
        "colab": {
          "base_uri": "https://localhost:8080/",
          "height": 279
        },
        "id": "MU4MrEEbOuGG",
        "outputId": "6d5decb1-6d5f-41d8-9615-64e5fd988561"
      },
      "source": [
        "xi1 = np.linspace(1, 2, 100)\n",
        "xi2 = np.linspace(2, 3, 100)\n",
        "plt.plot(xi1, S0(xi1), label='$S_0$')\n",
        "plt.plot(xi2, S1(xi2), label='$S_1$')\n",
        "plt.scatter(x,y);\n",
        "plt.xlabel(\"$x$\");\n",
        "plt.ylabel(\"$y$\");\n",
        "plt.legend();"
      ],
      "execution_count": 10,
      "outputs": [
        {
          "output_type": "display_data",
          "data": {
            "image/png": "[encoded data removed]",
            "text/plain": [
              "<Figure size 432x288 with 1 Axes>"
            ]
          },
          "metadata": {
            "needs_background": "light"
          }
        }
      ]
    },
    {
      "cell_type": "code",
      "metadata": {
        "id": "0tstKbUQPWvD"
      },
      "source": [
        "def cubic_spline(data):\n",
        "  n = len(data)\n",
        "  data = np.array(data)\n",
        "  h= []\n",
        "\n",
        "  for i in range(n):\n",
        "    h.append(data[i+1,0] - data[i,0])\n",
        "  \n",
        "  \n",
        "  \n",
        "\n",
        "  \n",
        "\n"
      ],
      "execution_count": 11,
      "outputs": []
    },
    {
      "cell_type": "code",
      "metadata": {
        "id": "o8vfmzpOwXDu"
      },
      "source": [
        "X = [(0,1), (1,np.exp(1)), (2,(np.exp(1))**2), (3,(np.exp(1))**3)]\n",
        "n = len(X)\n",
        "X = np.array(X)\n",
        "h = []"
      ],
      "execution_count": 12,
      "outputs": []
    },
    {
      "cell_type": "code",
      "metadata": {
        "colab": {
          "base_uri": "https://localhost:8080/"
        },
        "id": "xqcSPo2V1O3v",
        "outputId": "42de543c-0716-4b9f-a54c-b7b7bb65f591"
      },
      "source": [
        "X"
      ],
      "execution_count": 13,
      "outputs": [
        {
          "output_type": "execute_result",
          "data": {
            "text/plain": [
              "array([[ 0.        ,  1.        ],\n",
              "       [ 1.        ,  2.71828183],\n",
              "       [ 2.        ,  7.3890561 ],\n",
              "       [ 3.        , 20.08553692]])"
            ]
          },
          "metadata": {},
          "execution_count": 13
        }
      ]
    },
    {
      "cell_type": "code",
      "metadata": {
        "colab": {
          "base_uri": "https://localhost:8080/"
        },
        "id": "J2eBFuiNwq6x",
        "outputId": "2349b25e-3663-4828-d3a4-961a07b62d82"
      },
      "source": [
        "h = [(X[i+1,0] - X[i,0]) for i in range(n-1)]\n",
        "h"
      ],
      "execution_count": 14,
      "outputs": [
        {
          "output_type": "execute_result",
          "data": {
            "text/plain": [
              "[1.0, 1.0, 1.0]"
            ]
          },
          "metadata": {},
          "execution_count": 14
        }
      ]
    },
    {
      "cell_type": "code",
      "metadata": {
        "id": "-n2Eo266wxPD"
      },
      "source": [
        "def tridiag(a, b, c, k1=-1, k2=0, k3=1):\n",
        "    return np.diag(a, k1) + np.diag(b, k2) + np.diag(c, k3)\n",
        "\n",
        "a = [1 if n <= 3 else h[i] for i in range(n-2)]\n",
        "b = [2*(h[i-1]+h[i]) for i in range(1, n-1)]\n",
        "c = [h[i] for i in range(1, n-1)]"
      ],
      "execution_count": 15,
      "outputs": []
    },
    {
      "cell_type": "code",
      "metadata": {
        "id": "C88uyl0GZJ0N"
      },
      "source": [
        "a = np.array(h[:n-2])\n",
        "a = np.append(a, 0)"
      ],
      "execution_count": 22,
      "outputs": []
    },
    {
      "cell_type": "code",
      "metadata": {
        "id": "TdbcjfxjZK3J",
        "outputId": "abf36e9a-0016-42c4-eefa-4596eef75681",
        "colab": {
          "base_uri": "https://localhost:8080/"
        }
      },
      "source": [
        "a"
      ],
      "execution_count": 23,
      "outputs": [
        {
          "output_type": "execute_result",
          "data": {
            "text/plain": [
              "array([1., 1., 0.])"
            ]
          },
          "metadata": {},
          "execution_count": 23
        }
      ]
    },
    {
      "cell_type": "code",
      "metadata": {
        "id": "Kl3hrYybZMxI"
      },
      "source": [
        "b = np.array(h[1:])\n",
        "b = np.insert(b, 0, 0)"
      ],
      "execution_count": 18,
      "outputs": []
    },
    {
      "cell_type": "code",
      "metadata": {
        "id": "ooi17M9srOZR",
        "outputId": "65ec1b39-9057-40ae-80db-528241464f7f",
        "colab": {
          "base_uri": "https://localhost:8080/"
        }
      },
      "source": [
        "b"
      ],
      "execution_count": 19,
      "outputs": [
        {
          "output_type": "execute_result",
          "data": {
            "text/plain": [
              "array([0., 1., 1.])"
            ]
          },
          "metadata": {},
          "execution_count": 19
        }
      ]
    },
    {
      "cell_type": "code",
      "metadata": {
        "id": "MqEQ_Ddlsdbg",
        "outputId": "d8f418c8-02cf-407e-a417-42686f41b040",
        "colab": {
          "base_uri": "https://localhost:8080/"
        }
      },
      "source": [
        "c = np.zeros(n-2)\n",
        "for i in range(n-2):\n",
        "  c[i] = 2*(h[i-1] + h[i])\n",
        "c = np.append(c, 1)\n",
        "c = np.insert(c, 0, 1)\n",
        "c"
      ],
      "execution_count": 20,
      "outputs": [
        {
          "output_type": "execute_result",
          "data": {
            "text/plain": [
              "array([1., 4., 4., 1.])"
            ]
          },
          "metadata": {},
          "execution_count": 20
        }
      ]
    },
    {
      "cell_type": "code",
      "metadata": {
        "id": "SYoqsYqp1WRV",
        "outputId": "b1be30a8-b041-480e-8965-4c7c18e1b7cf",
        "colab": {
          "base_uri": "https://localhost:8080/",
          "height": 279
        }
      },
      "source": [
        "tridiag(a,b,c)"
      ],
      "execution_count": 24,
      "outputs": [
        {
          "output_type": "error",
          "ename": "ValueError",
          "evalue": "ignored",
          "traceback": [
            "\u001b[0;31m---------------------------------------------------------------------------\u001b[0m",
            "\u001b[0;31mValueError\u001b[0m                                Traceback (most recent call last)",
            "\u001b[0;32m<ipython-input-24-061b8bb0d98c>\u001b[0m in \u001b[0;36m<module>\u001b[0;34m()\u001b[0m\n\u001b[0;32m----> 1\u001b[0;31m \u001b[0mtridiag\u001b[0m\u001b[0;34m(\u001b[0m\u001b[0ma\u001b[0m\u001b[0;34m,\u001b[0m\u001b[0mb\u001b[0m\u001b[0;34m,\u001b[0m\u001b[0mc\u001b[0m\u001b[0;34m)\u001b[0m\u001b[0;34m\u001b[0m\u001b[0;34m\u001b[0m\u001b[0m\n\u001b[0m",
            "\u001b[0;32m<ipython-input-15-78a506ee85eb>\u001b[0m in \u001b[0;36mtridiag\u001b[0;34m(a, b, c, k1, k2, k3)\u001b[0m\n\u001b[1;32m      1\u001b[0m \u001b[0;32mdef\u001b[0m \u001b[0mtridiag\u001b[0m\u001b[0;34m(\u001b[0m\u001b[0ma\u001b[0m\u001b[0;34m,\u001b[0m \u001b[0mb\u001b[0m\u001b[0;34m,\u001b[0m \u001b[0mc\u001b[0m\u001b[0;34m,\u001b[0m \u001b[0mk1\u001b[0m\u001b[0;34m=\u001b[0m\u001b[0;34m-\u001b[0m\u001b[0;36m1\u001b[0m\u001b[0;34m,\u001b[0m \u001b[0mk2\u001b[0m\u001b[0;34m=\u001b[0m\u001b[0;36m0\u001b[0m\u001b[0;34m,\u001b[0m \u001b[0mk3\u001b[0m\u001b[0;34m=\u001b[0m\u001b[0;36m1\u001b[0m\u001b[0;34m)\u001b[0m\u001b[0;34m:\u001b[0m\u001b[0;34m\u001b[0m\u001b[0;34m\u001b[0m\u001b[0m\n\u001b[0;32m----> 2\u001b[0;31m     \u001b[0;32mreturn\u001b[0m \u001b[0mnp\u001b[0m\u001b[0;34m.\u001b[0m\u001b[0mdiag\u001b[0m\u001b[0;34m(\u001b[0m\u001b[0ma\u001b[0m\u001b[0;34m,\u001b[0m \u001b[0mk1\u001b[0m\u001b[0;34m)\u001b[0m \u001b[0;34m+\u001b[0m \u001b[0mnp\u001b[0m\u001b[0;34m.\u001b[0m\u001b[0mdiag\u001b[0m\u001b[0;34m(\u001b[0m\u001b[0mb\u001b[0m\u001b[0;34m,\u001b[0m \u001b[0mk2\u001b[0m\u001b[0;34m)\u001b[0m \u001b[0;34m+\u001b[0m \u001b[0mnp\u001b[0m\u001b[0;34m.\u001b[0m\u001b[0mdiag\u001b[0m\u001b[0;34m(\u001b[0m\u001b[0mc\u001b[0m\u001b[0;34m,\u001b[0m \u001b[0mk3\u001b[0m\u001b[0;34m)\u001b[0m\u001b[0;34m\u001b[0m\u001b[0;34m\u001b[0m\u001b[0m\n\u001b[0m\u001b[1;32m      3\u001b[0m \u001b[0;34m\u001b[0m\u001b[0m\n\u001b[1;32m      4\u001b[0m \u001b[0ma\u001b[0m \u001b[0;34m=\u001b[0m \u001b[0;34m[\u001b[0m\u001b[0;36m1\u001b[0m \u001b[0;32mif\u001b[0m \u001b[0mn\u001b[0m \u001b[0;34m<=\u001b[0m \u001b[0;36m3\u001b[0m \u001b[0;32melse\u001b[0m \u001b[0mh\u001b[0m\u001b[0;34m[\u001b[0m\u001b[0mi\u001b[0m\u001b[0;34m]\u001b[0m \u001b[0;32mfor\u001b[0m \u001b[0mi\u001b[0m \u001b[0;32min\u001b[0m \u001b[0mrange\u001b[0m\u001b[0;34m(\u001b[0m\u001b[0mn\u001b[0m\u001b[0;34m-\u001b[0m\u001b[0;36m2\u001b[0m\u001b[0;34m)\u001b[0m\u001b[0;34m]\u001b[0m\u001b[0;34m\u001b[0m\u001b[0;34m\u001b[0m\u001b[0m\n\u001b[1;32m      5\u001b[0m \u001b[0mb\u001b[0m \u001b[0;34m=\u001b[0m \u001b[0;34m[\u001b[0m\u001b[0;36m2\u001b[0m\u001b[0;34m*\u001b[0m\u001b[0;34m(\u001b[0m\u001b[0mh\u001b[0m\u001b[0;34m[\u001b[0m\u001b[0mi\u001b[0m\u001b[0;34m-\u001b[0m\u001b[0;36m1\u001b[0m\u001b[0;34m]\u001b[0m\u001b[0;34m+\u001b[0m\u001b[0mh\u001b[0m\u001b[0;34m[\u001b[0m\u001b[0mi\u001b[0m\u001b[0;34m]\u001b[0m\u001b[0;34m)\u001b[0m \u001b[0;32mfor\u001b[0m \u001b[0mi\u001b[0m \u001b[0;32min\u001b[0m \u001b[0mrange\u001b[0m\u001b[0;34m(\u001b[0m\u001b[0;36m1\u001b[0m\u001b[0;34m,\u001b[0m \u001b[0mn\u001b[0m\u001b[0;34m-\u001b[0m\u001b[0;36m1\u001b[0m\u001b[0;34m)\u001b[0m\u001b[0;34m]\u001b[0m\u001b[0;34m\u001b[0m\u001b[0;34m\u001b[0m\u001b[0m\n",
            "\u001b[0;31mValueError\u001b[0m: operands could not be broadcast together with shapes (4,4) (3,3) "
          ]
        }
      ]
    },
    {
      "cell_type": "code",
      "metadata": {
        "id": "Q4W5Kzj31eSy"
      },
      "source": [
        "from scipy import linalg"
      ],
      "execution_count": 25,
      "outputs": []
    },
    {
      "cell_type": "code",
      "metadata": {
        "id": "JqH5aLkk3GVu",
        "outputId": "0e90186c-1417-440f-9b36-d1b118fdde19",
        "colab": {
          "base_uri": "https://localhost:8080/"
        }
      },
      "source": [
        "linalg.toeplitz([4,1,0],[1,4,1])"
      ],
      "execution_count": 31,
      "outputs": [
        {
          "output_type": "execute_result",
          "data": {
            "text/plain": [
              "array([[4, 4, 1],\n",
              "       [1, 4, 4],\n",
              "       [0, 1, 4]])"
            ]
          },
          "metadata": {},
          "execution_count": 31
        }
      ]
    },
    {
      "cell_type": "code",
      "metadata": {
        "id": "md0NpUFU3PIH"
      },
      "source": [
        ""
      ],
      "execution_count": null,
      "outputs": []
    }
  ]
}