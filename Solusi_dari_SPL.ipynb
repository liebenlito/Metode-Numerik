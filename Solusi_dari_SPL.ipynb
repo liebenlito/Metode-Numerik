{
  "nbformat": 4,
  "nbformat_minor": 0,
  "metadata": {
    "colab": {
      "name": "Solusi dari SPL.ipynb",
      "provenance": [],
      "authorship_tag": "ABX9TyM6pv/8Db7+kbf3ucHrZ/jP"
    },
    "kernelspec": {
      "name": "python3",
      "display_name": "Python 3"
    },
    "language_info": {
      "name": "python"
    }
  },
  "cells": [
    {
      "cell_type": "code",
      "metadata": {
        "id": "9P7nJU1inly5"
      },
      "source": [
        ""
      ],
      "execution_count": null,
      "outputs": []
    }
  ]
}