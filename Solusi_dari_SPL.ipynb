{
  "nbformat": 4,
  "nbformat_minor": 0,
  "metadata": {
    "colab": {
      "name": "Solusi dari SPL.ipynb",
      "provenance": [],
      "authorship_tag": "ABX9TyPa2+5pO5QiosIRJFHMtmwi"
    },
    "kernelspec": {
      "name": "python3",
      "display_name": "Python 3"
    },
    "language_info": {
      "name": "python"
    }
  },
  "cells": [
    {
      "cell_type": "markdown",
      "metadata": {
        "id": "gp6O8_uNoUDC"
      },
      "source": [
        "# Solusi Numerik untuk Sistem Persamaan Linear\n",
        "\n",
        "Suatu sistem persamaan linear (SPL) adalah kumpulan dari sejumlah $n$ persamaan atau secara matematis dapat ditulis\n",
        "\n",
        "$$\n",
        "\\begin{array}\n",
        "EE_1: & a_{11}x_1 + a_{12}x_2 + \\cdots + a_{1n}x_n = b_1, \\\\\n",
        "E_2: & a_{21}x_1 + a_{22}x_2 + \\cdots + a_{2n}x_n = b_2, \\\\\n",
        "E_3: & a_{31}x_1 + a_{32}x_2 + \\cdots + a_{3n}x_n = b_3, \\\\\n",
        "    & \\vdots \\\\\n",
        "E_n: & a_{n1}x_1 + a_{n2}x_2 + \\cdots + a_{nn}x_n = b_n, \\\\\n",
        "\\end{array}\n",
        "(1)\n",
        "$$\n",
        "\n",
        "Di dalam (1), terdapat koefisien $a_{ij}$, untuk $i,j = 1,2, \\cdots, n$, dan $b_i$, dan kita perlu untuk mencari unknowns $x_1, x_2,\\cdots, x_n$. SPL (1) juga dapat ditulis dalam bentuk matriks-vektor yaitu\n",
        "$$A\\vec{x} = \\vec{b},$$\n",
        "dimana $A \\in \\mathbb{R}^{n \\times n}$, $\\vec{x} \\in \\mathbb{R}^n$, dan $\\vec{b} \\in \\mathbb{R}^n$.\n",
        "\n"
      ]
    },
    {
      "cell_type": "markdown",
      "metadata": {
        "id": "oMdCENeSWj4n"
      },
      "source": [
        "Terdapat dua cara untuk menyelesaikan (1) menggunakan solusi numerik:\n",
        "1. Metode Langsung (Naive) (fokus pada analisa error pembulatan)\n",
        "2. Metode Iteratif\n",
        "\n",
        "Selain mencari $\\vec{x}$, permasalahan yang ada di dalam SPL meliputi:\n",
        "1. Determinan dari matriks\n",
        "2. Invers dari matriks\n",
        "3. Tipe-tipe khusus dari matriks:\n",
        "  * Matriks Definit Positif\n",
        "  * Matriks Tridiagonal\n",
        "\n",
        "Beberapa metode yang akan dipelajari antara lain:\n",
        "1. Eliminasi Gauss\n",
        "2. Partial Pivoting\n",
        "3. Faktorisasi Matriks\n",
        "  * Dekomposisi LU\n",
        "  * Matriks Permutasi\n",
        "  * Cholesky\n",
        "  * Faktorisasi Crout"
      ]
    },
    {
      "cell_type": "markdown",
      "metadata": {
        "id": "NaNlVyxdw-Dy"
      },
      "source": [
        "## Sistem Persamaan Linear\n",
        "\n",
        "Kita menggunakan tiga operasi baris untuk menyederhanakan SPL (1):\n",
        "1. Persamaan $E_i$ dapat __dikali__ oleh suatu konstanta $\\lambda$ yang __tak nol__,yang hasilnya ditempatkan di $E_i$. Operasi tersebut dinotasikan sebagai $(\\lambda E_i) \\rightarrow (E_i)$.\n",
        "2. Persamaan $E_j$ dapat __dikali__ oleh suatu konstanta $\\lambda$ dan __ditambahkan__ ke persamaan $E_i$, yang hasilnya ditempatkan di $E_i$. Operasi ini dapat dinotasikan sebagai $(E_i + \\lambda E_j) \\rightarrow (E_i)$.\n",
        "3. Persamaan $E_i$ dan $E_j$ dapat __ditukar__ urutannya atau dapat ditulis $(E_i) \\leftrightarrow (E_j)$."
      ]
    },
    {
      "cell_type": "markdown",
      "metadata": {
        "id": "sK1CP8lszyF_"
      },
      "source": [
        "### Contoh 1:\n",
        "Diberikan SPL\n",
        "$$\n",
        "\\begin{array}\n",
        "EE_1: & x_1 &+& x_2 &&  &+& 3x_4 &=& 4, \\\\\n",
        "E_2: & 2x_1 &+& x_2 &-& x_3 &+& x_4 &=& 1, \\\\\n",
        "E_3: & 3x_1 &-& x_2 &-& x_3 &+& 2x_4 &=& -3, \\\\\n",
        "E_4: & -x_1 &+& 2x_2 &+& 3x_3 &-& x_4 &=& 4. \\\\\n",
        "\\end{array}\n",
        "$$\n",
        "\n",
        "Tujuannya adalah mencari nilai dari $x_1, x_2, x_3$, dan $x_4$."
      ]
    },
    {
      "cell_type": "markdown",
      "metadata": {
        "id": "hcUOoMGg1m00"
      },
      "source": [
        "Pertama, kita eliminasi $x_1$ dari persamaan $E_2, E_3$, dan $E_4$ dengan cara:\n",
        "* $(E_2-2E_1)\\rightarrow(E_2)$\n",
        "* $(E_3-3E_1)\\rightarrow(E_3)$\n",
        "* $(E_4+E_1)\\rightarrow(E_4)$\n",
        "\n",
        "akan menghasilkan sistem persamaan baru\n",
        "$$\n",
        "\\begin{array}\n",
        "EE_1: & x_1 &+& x_2 &&  &+& 3x_4 &=& 4, \\\\\n",
        "E_2: &  &-& x_2 &-& x_3 &-& 5x_4 &=& -7, \\\\\n",
        "E_3: &  &-& 4x_2 &-& x_3 &-& 7x_4 &=& -15, \\\\\n",
        "E_4: &  && 3x_2 &+& 3x_3 &+& 2x_4 &=& 8. \\\\\n",
        "\\end{array}\n",
        "$$\n",
        "\n",
        "Di dalam sistem persamaan baru ini, kemudian, kita eliminasi $x_2$ dari $E_3$ dan $E_4$ dengan cara:\n",
        "* $(E_3-4E_2)\\rightarrow(E_3)$\n",
        "* $(E_4+3E_2)\\rightarrow(E_4)$,\n",
        "\n",
        "sehingga menghasilkan\n",
        "$$\n",
        "\\begin{array}\n",
        "EE_1: & x_1 &+& x_2 &&  &+& 3x_4 &=& 4, \\\\\n",
        "E_2: &  &-& x_2 &-& x_3 &-& 5x_4 &=& -7, \\\\\n",
        "E_3: &  && &-& 3x_3 &+& 13x_4 &=& 13, \\\\\n",
        "E_4: &  && &&  &-& 13x_4 &=& -13. \\\\\n",
        "\\end{array}\n",
        "(2)\n",
        "$$\n",
        "SPL (2) sudah menjadi __bentuk tereduksi__ dan untuk mencari nilai unknowns tersebut digunakan proses __subtitusi mundur__. Karena $E_4$ bernilai $x_4 = 1$, kita selesaikan $E_3$ untuk mencari $x_3$\n",
        "$$\n",
        "x_3 = \\frac{1}{3}(13-13x_4) = \\frac{1}{3}(13-13) = 0.\n",
        "$$\n",
        "Dilanjutkan untuk $E_2$\n",
        "$$\n",
        "x_2 = -(-7 + 5x_4 + x_3) = -(-7 + 5 + 0) = 2,\n",
        "$$\n",
        "dan $E_1$\n",
        "$$\n",
        "x1 = 4 - 3x_4 - x_2 = 4 - 3 - 1 = -1.\n",
        "$$\n",
        "Jadi solusinya adalah $x_1 = -1, x_2 = 2, x_3 = 0$, dan $x_4 = 1$."
      ]
    },
    {
      "cell_type": "markdown",
      "metadata": {
        "id": "Btv-RVaPBaZr"
      },
      "source": [
        "## Desain Algoritma untuk Eliminasi Gauss\n",
        "Agar dapat mempermudah pengimplementasiannya ke dalam bahasa pemrograman, SPL(1) diubah ke dalam bentuk augmented, \n",
        "$$\n",
        "\\begin{array}\n",
        "EE_1: & a_{11}x_1 + a_{12}x_2 + \\cdots + a_{1n}x_n = a_{1,n+1}, \\\\\n",
        "E_2: & a_{21}x_1 + a_{22}x_2 + \\cdots + a_{2n}x_n = a_{2,n+1}, \\\\\n",
        "E_3: & a_{31}x_1 + a_{32}x_2 + \\cdots + a_{3n}x_n = a_{3,n+1}, \\\\\n",
        "    & \\vdots \\\\\n",
        "E_n: & a_{n1}x_1 + a_{n2}x_2 + \\cdots + a_{nn}x_n = a_{n,n+1}, \\\\\n",
        "\\end{array}\n",
        "(3)\n",
        "$$\n",
        "atau dapat ditulis dalam bentuk augmented matrix $C$\n",
        "$$\n",
        "C = \n",
        "\\begin{bmatrix}\n",
        "  a_{11} & a_{12} & \\cdots & a_{1n} & a_{1,n+1} \\\\\n",
        "  a_{21} & a_{22} & \\cdots & a_{2n} & a_{2,n+1} \\\\\n",
        "   &  & \\vdots &  &  \\\\\n",
        "  a_{n1} & a_{n2} & \\cdots & a_{nn} & a_{n,n+1} \\\\\n",
        "\\end{bmatrix}\n",
        "$$\n",
        "\n",
        "Untuk menyelesaikan SPL tersebut, kita gunakan Eliminasi Gauss yang desain algoritmanya adalah sebagai berikut:\n",
        "1. Buat sistem segitiga atas menggunakan eliminasi maju.\n",
        "  * Kita lakukan eliminasi $x_1$ dari persamaan $E_2$, $E_3$, $E_4, ..., E_n$ menghasilkan SPL baru, lakukan eliminasi $x_2$ dari persamaan $E_3, E_4, ..., E_n$, dst. sampai $x_{n-1}$ dari persamaan $E_n$ atau dapat ditulis dalam bentuk algoritma\n",
        "    ``` python\n",
        "    for i=1 to n\n",
        "        for j=i+1 to n\n",
        "            (E_j) <- (E_j) - (a_{ji}/a_{ii})*(E_i)\n",
        "    ```\n",
        "Maka algoritma ini akan menghasilkan sistem segitiga atas\n",
        "$$\n",
        "\\begin{array}\n",
        "EE_1: & a_{11}x_1 &+& a_{12}x_2 &+& \\cdots &+& a_{1n}x_n &=& a_{1,n+1}, \\\\\n",
        "E_2: &  && a_{22}x_2 &+& \\cdots &+& a_{2n}x_n &=& a_{2,n+1}, \\\\\n",
        "&&&&&&& \\vdots& \\\\\n",
        "E_n: &  && &&  &+& a_{nn}x_n &=& a_{n,n+1}. \\\\\n",
        "\\end{array}\n",
        "(4)\n",
        "$$\n",
        "Catatan bahwa nilai dari koefisien $a_{i,j+1}$ di (4) berbeda dari (3).\n",
        "\n",
        "2. Subtitusi mundur\n",
        "  * Lakukan subtitusi mundur untuk mendapatkan solusinya.\n",
        "  ```python\n",
        "  x_n = a_{n, n+1} / a_{nn}\n",
        "  for i = n-1 to 1\n",
        "      x_i = 1/a_{ii} (a_{i, n+1} - sum(a_{ij}*x_j))\n",
        "  ``` "
      ]
    },
    {
      "cell_type": "markdown",
      "metadata": {
        "id": "j-2qyDEu_vWi"
      },
      "source": [
        "## Implementasi di Python\n",
        "\n",
        "SPL biasanya diubah ke dalam bentuk __augmented matrix__, agar lebih mudah untuk mengimplementasikannya."
      ]
    },
    {
      "cell_type": "code",
      "metadata": {
        "id": "HjH77_vS1wQo"
      },
      "source": [
        "import numpy as np"
      ],
      "execution_count": 1,
      "outputs": []
    },
    {
      "cell_type": "code",
      "metadata": {
        "id": "9P7nJU1inly5"
      },
      "source": [
        "def eliminasi_gauss(A, b):\n",
        "  # Gabung matriks A dan b sehingga membentuk augmented matrix A_c\n",
        "  A_c = np.c_[A,b] \n",
        "\n",
        "  # Jumlah baris dari A\n",
        "  n = A.shape[0]\n",
        "\n",
        "  # Lakukan eliminasi maju\n",
        "  for i in range(n):\n",
        "    faktor = A_c[i+1:, i]/A_c[i,i]\n",
        "    A_c[i+1:] -= faktor[:, np.newaxis] * A_c[i]\n",
        "\n",
        "  x = np.zeros_like(b, dtype=np.float64)\n",
        "\n",
        "  # Lakukan subtitutsi mundur\n",
        "  x[-1] = A_c[-1,-1]/A_c[-1,-2]\n",
        "  for i in range(n-2, -1, -1):\n",
        "    x[i] = 1/A_c[i,i] * (A_c[i,-1] - np.dot(A_c[i,i:-1], x[i:]))\n",
        "\n",
        "  return x"
      ],
      "execution_count": 2,
      "outputs": []
    },
    {
      "cell_type": "code",
      "metadata": {
        "id": "lZ3Inzjr1u9v"
      },
      "source": [
        "A = np.array([[1, 1, 0, 3],\n",
        "              [2, 1, -1, 1],\n",
        "              [3, -1, -1, 2],\n",
        "              [-1, 2, 3, -1]], dtype=np.float64)\n",
        "\n",
        "b = np.array([4, 1, -3, 4], dtype=np.float64)"
      ],
      "execution_count": 3,
      "outputs": []
    },
    {
      "cell_type": "code",
      "metadata": {
        "colab": {
          "base_uri": "https://localhost:8080/",
          "height": 0
        },
        "id": "FcztOSTC27pc",
        "outputId": "78c54f94-3a9c-4e80-d299-9aeee3143160"
      },
      "source": [
        "sol = eliminasi_gauss(A,b)\n",
        "sol"
      ],
      "execution_count": 4,
      "outputs": [
        {
          "output_type": "execute_result",
          "data": {
            "text/plain": [
              "array([-1.,  2.,  0.,  1.])"
            ]
          },
          "metadata": {},
          "execution_count": 4
        }
      ]
    },
    {
      "cell_type": "markdown",
      "metadata": {
        "id": "hebl7UbaLQJk"
      },
      "source": [
        "### Contoh 2\n",
        "\n",
        "$$\n",
        "\\begin{array}\n",
        "EE_1: & 10^{-17}x_1 &-& x_2 &=& -1, \\\\\n",
        "E_2: & x_1 &+& 2x_2 &=& 3, \\\\\n",
        "\\end{array}\n",
        "$$"
      ]
    },
    {
      "cell_type": "code",
      "metadata": {
        "id": "nJPZN-LuLzYa"
      },
      "source": [
        "A = np.array([[1e-17, -1],\n",
        "              [1,2]], dtype=np.float64)\n",
        "b = np.array([-1, 3], dtype=np.float64)"
      ],
      "execution_count": 5,
      "outputs": []
    },
    {
      "cell_type": "code",
      "metadata": {
        "colab": {
          "base_uri": "https://localhost:8080/",
          "height": 0
        },
        "id": "43Y4AhhrMI9Y",
        "outputId": "122c816c-0255-4886-aa5f-c36544e2993f"
      },
      "source": [
        "sol = eliminasi_gauss(A,b)\n",
        "sol"
      ],
      "execution_count": 6,
      "outputs": [
        {
          "output_type": "execute_result",
          "data": {
            "text/plain": [
              "array([0., 1.])"
            ]
          },
          "metadata": {},
          "execution_count": 6
        }
      ]
    },
    {
      "cell_type": "code",
      "metadata": {
        "id": "CkR0lOULY3xG",
        "colab": {
          "base_uri": "https://localhost:8080/",
          "height": 0
        },
        "outputId": "57c25d5d-eda9-4869-f401-51f3a268cbc8"
      },
      "source": [
        "detA = np.linalg.det(A) # Determinan A\n",
        "detA"
      ],
      "execution_count": 7,
      "outputs": [
        {
          "output_type": "execute_result",
          "data": {
            "text/plain": [
              "1.0"
            ]
          },
          "metadata": {},
          "execution_count": 7
        }
      ]
    },
    {
      "cell_type": "code",
      "metadata": {
        "colab": {
          "base_uri": "https://localhost:8080/",
          "height": 0
        },
        "id": "yHEHfNObMMPB",
        "outputId": "814cb927-787f-43e1-ddc4-1bd96476917e"
      },
      "source": [
        "condition_number = np.linalg.cond(A) # Condition Number A\n",
        "condition_number"
      ],
      "execution_count": 8,
      "outputs": [
        {
          "output_type": "execute_result",
          "data": {
            "text/plain": [
              "5.828427124746189"
            ]
          },
          "metadata": {},
          "execution_count": 8
        }
      ]
    },
    {
      "cell_type": "markdown",
      "metadata": {
        "id": "7cMBXyrXZByw"
      },
      "source": [
        "Dari Contoh 2 terlihat bahwa condition number dari A adalah 5.8284 mengindikasikan bahwa matriks tersebut __ill-condition__. Matriks ill-condition terjadi karena error pembulatan, sehingga solusi numerik yang dihasilkan salah. Walaupun kita tahu bahwa determinan dari A tak nol artinya SPL pada Contoh 2 memiliki solusi tunggal."
      ]
    },
    {
      "cell_type": "markdown",
      "metadata": {
        "id": "b-NW_e3qa7Yu"
      },
      "source": [
        "## Eliminasi Gauss dengan Scaled Partial Pivoting\n",
        "\n",
        "Untuk menghindari hal tersebut, kita memerlukan __penukaran baris__ di A."
      ]
    },
    {
      "cell_type": "code",
      "metadata": {
        "id": "RLNuNaEjbf23",
        "colab": {
          "base_uri": "https://localhost:8080/",
          "height": 0
        },
        "outputId": "e7a1bfe0-3533-430b-fa63-4781098b83de"
      },
      "source": [
        "A[[0,1]] = A[[1,0]]\n",
        "b[[0,1]] = b[[1,0]]\n",
        "\n",
        "print(\"A = \", A)\n",
        "print(\"b = \", b)"
      ],
      "execution_count": 9,
      "outputs": [
        {
          "output_type": "stream",
          "name": "stdout",
          "text": [
            "A =  [[ 1.e+00  2.e+00]\n",
            " [ 1.e-17 -1.e+00]]\n",
            "b =  [ 3. -1.]\n"
          ]
        }
      ]
    },
    {
      "cell_type": "code",
      "metadata": {
        "id": "gS2oW5bcb8AG",
        "colab": {
          "base_uri": "https://localhost:8080/",
          "height": 0
        },
        "outputId": "5cc8d049-22bd-4a47-8d60-d589ccd8b6cc"
      },
      "source": [
        "sol = eliminasi_gauss(A, b)\n",
        "sol"
      ],
      "execution_count": 10,
      "outputs": [
        {
          "output_type": "execute_result",
          "data": {
            "text/plain": [
              "array([1., 1.])"
            ]
          },
          "metadata": {},
          "execution_count": 10
        }
      ]
    },
    {
      "cell_type": "markdown",
      "metadata": {
        "id": "C5CX1Gg-lsga"
      },
      "source": [
        "📌 Jadi, kapan kita perlu menukar baris?\n",
        "\n",
        "Mari kita lihat SPL berikut\n",
        "$$\n",
        "\\begin{array}\n",
        "EE_1: a_{11} x_1 + a_{12} x_2 &=& b_1 \\\\\n",
        "E_2: a_{21} x_1 + a_{22} x_2 &=& b_2\n",
        "\\end{array}\n",
        "$$\n",
        "Asumsikan bahwa kita telah mendapatkan nilai dari $x_2$ dan mengandung error pembulatan (round-off error), $\\hat{x}_2 = x_2 + \\varepsilon_2$. Kemudian kita hitung $x_1$ dengan $\\hat{x}_2$:\n",
        "$$\n",
        "\\begin{array}a\n",
        "  \\hat{x}_1 &=& \\frac{1}{a_{11}}(b_1 - a_{12}\\hat{x}_2)\\\\\n",
        "            &=& \\frac{1}{a_{11}}(b_1 - a_{12}x_2 - a_{12}\\varepsilon_2)\\\\\n",
        "            &=& \\frac{1}{a_{11}}(b_1 - a_{12}x_2) - \\frac{a_{12}}{a_{11}} \\varepsilon_2\\\\\n",
        "            &=& x_1 - \\varepsilon_1\n",
        "\\end{array}\n",
        "$$\n",
        "dengan demikian kita dapatkan $\\varepsilon_1 = \\frac{a_{12}}{a_{11}} \\varepsilon_2$. Error di $x_2$ terpropagasi dengan suatu faktor $\\frac{a_{12}}{a_{11}}$. Kasus ini disebut juga dengan __error terpropagasi (propagated error)__. Untuk menghasilkan hasil yang terbaik, kita menginginkan nilai dari $|a_{11}|$ sebesar mungkin. \n"
      ]
    },
    {
      "cell_type": "markdown",
      "metadata": {
        "id": "e8ySr793w4vx"
      },
      "source": [
        "Dari kasus tersebut, kita memerlukan teknik __scaled partial pivoting__. Idenya adalah mencari skala terbesar dari masing-masing koefisien di setiap persamaan,  $max_{k \\leq i \\leq n} |a_{ik}|$ untuk $a_{ii}$. Untuk lebih jelasnya, kita lihat algoritma berikut:\n",
        "\n",
        "\n"
      ]
    },
    {
      "cell_type": "markdown",
      "metadata": {
        "id": "CVYzs8Oc3Om2"
      },
      "source": [
        ""
      ]
    },
    {
      "cell_type": "code",
      "metadata": {
        "id": "IjMBgHmQj2Lu"
      },
      "source": [
        "def eliminasi_gauss_pivoting(A,b):\n",
        "  A_c = np.c_[A,b]\n",
        "\n",
        "  n = len(A)\n",
        "\n",
        "  # Mencari skala terbesar\n",
        "  s = np.zeros(n)\n",
        "  for i in range(n):\n",
        "    s[i] = max(np.abs(A[i,:n]))\n",
        "\n",
        "  # Lakukan penukaran baris\n",
        "  for k in range(n-1):\n",
        "    p = np.argmax(np.abs(A[k:n, k])/s[k:n]) + k\n",
        "    if p != k:\n",
        "      A_c[[k,p]] = A_c[[p,k]]\n",
        "  \n",
        "  # Lakukan eliminasi maju\n",
        "  for i in range(n):\n",
        "    faktor = A_c[i+1:, i]/A_c[i,i]\n",
        "    A_c[i+1:] -= faktor[:, np.newaxis] * A_c[i]\n",
        "\n",
        "  x = np.zeros_like(b, dtype=np.float64)\n",
        "\n",
        "  # Lakukan subtitutsi mundur\n",
        "  x[-1] = A_c[-1,-1]/A_c[-1,-2]\n",
        "  for i in range(n-2, -1, -1):\n",
        "    x[i] = 1/A_c[i,i] * (A_c[i,-1] - np.dot(A_c[i,i:-1], x[i:]))\n",
        "    \n",
        "  return x"
      ],
      "execution_count": 22,
      "outputs": []
    },
    {
      "cell_type": "code",
      "metadata": {
        "id": "DgSsivyx40KJ"
      },
      "source": [
        "A = np.array([[1e-17, -1],\n",
        "              [1,2]], dtype=np.float64)\n",
        "b = np.array([-1, 3], dtype=np.float64)"
      ],
      "execution_count": 20,
      "outputs": []
    },
    {
      "cell_type": "code",
      "metadata": {
        "colab": {
          "base_uri": "https://localhost:8080/",
          "height": 0
        },
        "id": "M_m3v-Ha458n",
        "outputId": "cb8d77b1-309a-4135-ecfc-e355dce493bc"
      },
      "source": [
        "gauss_pivot(A,b)"
      ],
      "execution_count": 21,
      "outputs": [
        {
          "output_type": "execute_result",
          "data": {
            "text/plain": [
              "array([1., 1.])"
            ]
          },
          "metadata": {},
          "execution_count": 21
        }
      ]
    },
    {
      "cell_type": "code",
      "metadata": {
        "colab": {
          "base_uri": "https://localhost:8080/",
          "height": 0
        },
        "id": "mEWuRp3U48wY",
        "outputId": "f200d938-6b58-4c88-f6ab-64f6f7c6e769"
      },
      "source": [
        "A = np.array([[1.,-1.,1.,-1.],\n",
        "              [1.,0.,0.,0.],\n",
        "              [1.,1.,1.,1.],\n",
        "              [1.,2.,4.,8.]])\n",
        "b =  np.array([14.,4.,2.,2.])\n",
        "\n",
        "print(\"A = \", A)\n",
        "print(\"b = \", b)"
      ],
      "execution_count": 25,
      "outputs": [
        {
          "output_type": "stream",
          "name": "stdout",
          "text": [
            "A =  [[ 1. -1.  1. -1.]\n",
            " [ 1.  0.  0.  0.]\n",
            " [ 1.  1.  1.  1.]\n",
            " [ 1.  2.  4.  8.]]\n",
            "b =  [14.  4.  2.  2.]\n"
          ]
        }
      ]
    },
    {
      "cell_type": "code",
      "metadata": {
        "colab": {
          "base_uri": "https://localhost:8080/",
          "height": 0
        },
        "id": "t26E05r68g9L",
        "outputId": "79172ddc-c354-4988-9931-adbfb1c06973"
      },
      "source": [
        "x = eliminasi_gauss(A,b)\n",
        "x"
      ],
      "execution_count": 26,
      "outputs": [
        {
          "output_type": "execute_result",
          "data": {
            "text/plain": [
              "array([ 4., -5.,  4., -1.])"
            ]
          },
          "metadata": {},
          "execution_count": 26
        }
      ]
    },
    {
      "cell_type": "code",
      "metadata": {
        "colab": {
          "base_uri": "https://localhost:8080/",
          "height": 0
        },
        "id": "Qs0aPpY081w0",
        "outputId": "0bb2a256-baea-4377-b6bc-fe1e50d42423"
      },
      "source": [
        "x_pivoting = gauss_pivot(A,b)\n",
        "x_pivoting"
      ],
      "execution_count": 28,
      "outputs": [
        {
          "output_type": "execute_result",
          "data": {
            "text/plain": [
              "array([ 4., -5.,  4., -1.])"
            ]
          },
          "metadata": {},
          "execution_count": 28
        }
      ]
    },
    {
      "cell_type": "code",
      "metadata": {
        "id": "_Fz4gagO87Uw"
      },
      "source": [
        ""
      ],
      "execution_count": null,
      "outputs": []
    }
  ]
}