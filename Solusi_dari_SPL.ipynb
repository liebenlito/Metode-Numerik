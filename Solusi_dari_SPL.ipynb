{
  "nbformat": 4,
  "nbformat_minor": 0,
  "metadata": {
    "colab": {
      "name": "Solusi dari SPL.ipynb",
      "provenance": [],
      "authorship_tag": "ABX9TyMZA69SXWmUjSYMguZmTgpx"
    },
    "kernelspec": {
      "name": "python3",
      "display_name": "Python 3"
    },
    "language_info": {
      "name": "python"
    }
  },
  "cells": [
    {
      "cell_type": "markdown",
      "metadata": {
        "id": "gp6O8_uNoUDC"
      },
      "source": [
        "# Solusi Numerik untuk Sistem Persamaan Linear\n",
        "\n",
        "Suatu sistem persamaan linear (SPL) adalah kumpulan dari sejumlah $n$ persamaan atau secara matematis dapat ditulis\n",
        "\n",
        "$$\n",
        "\\begin{array}\n",
        "EE_1: & a_{11}x_1 + a_{12}x_2 + \\cdots + a_{1n}x_n = b_1, \\\\\n",
        "E_2: & a_{21}x_1 + a_{22}x_2 + \\cdots + a_{2n}x_n = b_2, \\\\\n",
        "E_3: & a_{31}x_1 + a_{32}x_2 + \\cdots + a_{3n}x_n = b_3, \\\\\n",
        "    & \\vdots \\\\\n",
        "E_n: & a_{n1}x_1 + a_{n2}x_2 + \\cdots + a_{nn}x_n = b_n, \\\\\n",
        "\\end{array}\n",
        "(1)\n",
        "$$\n",
        "\n",
        "Di dalam (1), terdapat koefisien $a_{ij}$, untuk $i,j = 1,2, \\cdots, n$, dan $b_i$, dan kita perlu untuk mencari unknowns $x_1, x_2,\\cdots, x_n$. SPL (1) juga dapat ditulis dalam bentuk matriks-vektor yaitu\n",
        "$$A\\vec{x} = \\vec{b},$$\n",
        "dimana $A \\in \\mathbb{R}^{n \\times n}$, $\\vec{x} \\in \\mathbb{R}^n$, dan $\\vec{b} \\in \\mathbb{R}^n$.\n",
        "\n"
      ]
    },
    {
      "cell_type": "markdown",
      "metadata": {
        "id": "oMdCENeSWj4n"
      },
      "source": [
        "Terdapat dua cara untuk menyelesaikan (1) menggunakan solusi numerik:\n",
        "1. Metode Langsung (Naive) (fokus pada analisa error pembulatan)\n",
        "2. Metode Iteratif\n",
        "\n",
        "Selain mencari $\\vec{x}$, permasalahan yang ada di dalam SPL meliputi:\n",
        "1. Determinan dari matriks\n",
        "2. Invers dari matriks\n",
        "3. Tipe-tipe khusus dari matriks:\n",
        "  * Matriks Definit Positif\n",
        "  * Matriks Tridiagonal\n",
        "\n",
        "Beberapa metode yang akan dipelajari antara lain:\n",
        "1. Eliminasi Gauss\n",
        "2. Partial Pivoting\n",
        "3. Faktorisasi Matriks\n",
        "  * Dekomposisi LU\n",
        "  * Matriks Permutasi\n",
        "  * Cholesky\n",
        "  * Faktorisasi Crout"
      ]
    },
    {
      "cell_type": "markdown",
      "metadata": {
        "id": "NaNlVyxdw-Dy"
      },
      "source": [
        "## Sistem Persamaan Linear\n",
        "\n",
        "Kita menggunakan tiga operasi baris untuk menyederhanakan SPL (1):\n",
        "1. Persamaan $E_i$ dapat __dikali__ oleh suatu konstanta $\\lambda$ yang __tak nol__,yang hasilnya ditempatkan di $E_i$. Operasi tersebut dinotasikan sebagai $(\\lambda E_i) \\rightarrow (E_i)$.\n",
        "2. Persamaan $E_j$ dapat __dikali__ oleh suatu konstanta $\\lambda$ dan __ditambahkan__ ke persamaan $E_i$, yang hasilnya ditempatkan di $E_i$. Operasi ini dapat dinotasikan sebagai $(E_i + \\lambda E_j) \\rightarrow (E_i)$.\n",
        "3. Persamaan $E_i$ dan $E_j$ dapat __ditukar__ urutannya atau dapat ditulis $(E_i) \\leftrightarrow (E_j)$."
      ]
    },
    {
      "cell_type": "markdown",
      "metadata": {
        "id": "sK1CP8lszyF_"
      },
      "source": [
        "### Contoh 1:\n",
        "Diberikan SPL\n",
        "$$\n",
        "\\begin{array}\n",
        "EE_1: & x_1 &+& x_2 &&  &+& 3x_4 &=& 4, \\\\\n",
        "E_2: & 2x_1 &+& x_2 &-& x_3 &+& x_4 &=& 1, \\\\\n",
        "E_3: & 3x_1 &-& x_2 &-& x_3 &+& 2x_4 &=& -3, \\\\\n",
        "E_4: & -x_1 &+& 2x_2 &+& 3x_3 &-& x_4 &=& 4. \\\\\n",
        "\\end{array}\n",
        "$$\n",
        "\n",
        "Tujuannya adalah mencari nilai dari $x_1, x_2, x_3$, dan $x_4$."
      ]
    },
    {
      "cell_type": "markdown",
      "metadata": {
        "id": "hcUOoMGg1m00"
      },
      "source": [
        "Pertama, kita eliminasi $x_1$ dari persamaan $E_2, E_3$, dan $E_4$ dengan cara:\n",
        "* $(E_2-2E_1)\\rightarrow(E_2)$\n",
        "* $(E_3-3E_1)\\rightarrow(E_3)$\n",
        "* $(E_4+E_1)\\rightarrow(E_4)$\n",
        "\n",
        "akan menghasilkan sistem persamaan baru\n",
        "$$\n",
        "\\begin{array}\n",
        "EE_1: & x_1 &+& x_2 &&  &+& 3x_4 &=& 4, \\\\\n",
        "E_2: &  &-& x_2 &-& x_3 &-& 5x_4 &=& -7, \\\\\n",
        "E_3: &  &-& 4x_2 &-& x_3 &-& 7x_4 &=& -15, \\\\\n",
        "E_4: &  && 3x_2 &+& 3x_3 &+& 2x_4 &=& 8. \\\\\n",
        "\\end{array}\n",
        "$$\n",
        "\n",
        "Di dalam sistem persamaan baru ini, kemudian, kita eliminasi $x_2$ dari $E_3$ dan $E_4$ dengan cara:\n",
        "* $(E_3-4E_2)\\rightarrow(E_3)$\n",
        "* $(E_4+3E_2)\\rightarrow(E_4)$,\n",
        "\n",
        "sehingga menghasilkan\n",
        "$$\n",
        "\\begin{array}\n",
        "EE_1: & x_1 &+& x_2 &&  &+& 3x_4 &=& 4, \\\\\n",
        "E_2: &  &-& x_2 &-& x_3 &-& 5x_4 &=& -7, \\\\\n",
        "E_3: &  && &-& 3x_3 &+& 13x_4 &=& 13, \\\\\n",
        "E_4: &  && &&  &-& 13x_4 &=& -13. \\\\\n",
        "\\end{array}\n",
        "(2)\n",
        "$$\n",
        "SPL (2) sudah menjadi __bentuk tereduksi__ dan untuk mencari nilai unknowns tersebut digunakan proses __subtitusi mundur__. Karena $E_4$ bernilai $x_4 = 1$, kita selesaikan $E_3$ untuk mencari $x_3$\n",
        "$$\n",
        "x_3 = \\frac{1}{3}(13-13x_4) = \\frac{1}{3}(13-13) = 0.\n",
        "$$\n",
        "Dilanjutkan untuk $E_2$\n",
        "$$\n",
        "x_2 = -(-7 + 5x_4 + x_3) = -(-7 + 5 + 0) = 2,\n",
        "$$\n",
        "dan $E_1$\n",
        "$$\n",
        "x1 = 4 - 3x_4 - x_2 = 4 - 3 - 1 = -1.\n",
        "$$\n",
        "Jadi solusinya adalah $x_1 = -1, x_2 = 2, x_3 = 0$, dan $x_4 = 1$."
      ]
    },
    {
      "cell_type": "markdown",
      "metadata": {
        "id": "Btv-RVaPBaZr"
      },
      "source": [
        "## Desain Algoritma untuk Eliminasi Gauss\n",
        "Agar dapat mempermudah pengimplementasiannya ke dalam bahasa pemrograman, SPL(1) diubah ke dalam bentuk augmented, \n",
        "$$\n",
        "\\begin{array}\n",
        "EE_1: & a_{11}x_1 + a_{12}x_2 + \\cdots + a_{1n}x_n = a_{1,n+1}, \\\\\n",
        "E_2: & a_{21}x_1 + a_{22}x_2 + \\cdots + a_{2n}x_n = a_{2,n+1}, \\\\\n",
        "E_3: & a_{31}x_1 + a_{32}x_2 + \\cdots + a_{3n}x_n = a_{3,n+1}, \\\\\n",
        "    & \\vdots \\\\\n",
        "E_n: & a_{n1}x_1 + a_{n2}x_2 + \\cdots + a_{nn}x_n = a_{n,n+1}, \\\\\n",
        "\\end{array}\n",
        "(3)\n",
        "$$\n",
        "atau dapat ditulis dalam bentuk augmented matrix $C$\n",
        "$$\n",
        "C = \n",
        "\\begin{bmatrix}\n",
        "  a_{11} & a_{12} & \\cdots & a_{1n} & a_{1,n+1} \\\\\n",
        "  a_{21} & a_{22} & \\cdots & a_{2n} & a_{2,n+1} \\\\\n",
        "   &  & \\vdots &  &  \\\\\n",
        "  a_{n1} & a_{n2} & \\cdots & a_{nn} & a_{n,n+1} \\\\\n",
        "\\end{bmatrix}\n",
        "$$\n",
        "\n",
        "Untuk menyelesaikan SPL tersebut, kita gunakan Eliminasi Gauss yang desain algoritmanya adalah sebagai berikut:\n",
        "1. Buat sistem segitiga atas menggunakan eliminasi maju.\n",
        "  * Kita lakukan eliminasi $x_1$ dari persamaan $E_2$, $E_3$, $E_4, ..., E_n$ menghasilkan SPL baru, lakukan eliminasi $x_2$ dari persamaan $E_3, E_4, ..., E_n$, dst. sampai $x_{n-1}$ dari persamaan $E_n$ atau dapat ditulis dalam bentuk algoritma\n",
        "    ``` python\n",
        "    for i=1 to n\n",
        "        for j=i+1 to n\n",
        "            (E_j) <- (E_j) - (a_{ji}/a_{ii})*(E_i)\n",
        "    ```\n",
        "Maka algoritma ini akan menghasilkan sistem segitiga atas\n",
        "$$\n",
        "\\begin{array}\n",
        "EE_1: & a_{11}x_1 &+& a_{12}x_2 &+& \\cdots &+& a_{1n}x_n &=& a_{1,n+1}, \\\\\n",
        "E_2: &  && a_{22}x_2 &+& \\cdots &+& a_{2n}x_n &=& a_{2,n+1}, \\\\\n",
        "&&&&&&& \\vdots& \\\\\n",
        "E_n: &  && &&  &+& a_{nn}x_n &=& a_{n,n+1}. \\\\\n",
        "\\end{array}\n",
        "(4)\n",
        "$$\n",
        "Catatan bahwa nilai dari koefisien $a_{i,j+1}$ di (4) berbeda dari (3).\n",
        "\n",
        "2. Subtitusi mundur\n",
        "  * Lakukan subtitusi mundur untuk mendapatkan solusinya.\n",
        "  ```python\n",
        "  x_n = a_{n, n+1} / a_{nn}\n",
        "  for i = n-1 to 1\n",
        "      x_i = 1/a_{ii} (a_{i, n+1} - sum(a_{ij}*x_j))\n",
        "  ``` "
      ]
    },
    {
      "cell_type": "markdown",
      "metadata": {
        "id": "j-2qyDEu_vWi"
      },
      "source": [
        "## Implementasi di Python\n",
        "\n",
        "SPL biasanya diubah ke dalam bentuk __augmented matrix__, agar lebih mudah untuk mengimplementasikannya."
      ]
    },
    {
      "cell_type": "code",
      "metadata": {
        "id": "HjH77_vS1wQo"
      },
      "source": [
        "import numpy as np\n",
        "import matplotlib.pyplot as plt"
      ],
      "execution_count": 1,
      "outputs": []
    },
    {
      "cell_type": "code",
      "metadata": {
        "id": "9P7nJU1inly5"
      },
      "source": [
        "def eliminasi_gauss(A, b):\n",
        "  # Gabung matriks A dan b sehingga membentuk augmented matrix A_c\n",
        "  A_c = np.c_[A,b] \n",
        "\n",
        "  # Jumlah baris dari A\n",
        "  n = A.shape[0]\n",
        "\n",
        "  # Lakukan eliminasi maju\n",
        "  for i in range(n):\n",
        "    faktor = A_c[i+1:, i]/A_c[i,i]\n",
        "    A_c[i+1:] -= faktor[:, np.newaxis] * A_c[i]\n",
        "\n",
        "  x = np.zeros_like(b, dtype=np.float64)\n",
        "\n",
        "  # Lakukan subtitutsi mundur\n",
        "  x[-1] = A_c[-1,-1]/A_c[-1,-2]\n",
        "  for i in range(n-2, -1, -1):\n",
        "    x[i] = 1/A_c[i,i] * (A_c[i,-1] - np.dot(A_c[i,i:-1], x[i:]))\n",
        "\n",
        "  return x"
      ],
      "execution_count": 2,
      "outputs": []
    },
    {
      "cell_type": "code",
      "metadata": {
        "id": "lZ3Inzjr1u9v"
      },
      "source": [
        "A = np.array([[1, 1, 0, 3],\n",
        "              [2, 1, -1, 1],\n",
        "              [3, -1, -1, 2],\n",
        "              [-1, 2, 3, -1]], dtype=np.float64)\n",
        "\n",
        "b = np.array([4, 1, -3, 4], dtype=np.float64)"
      ],
      "execution_count": 3,
      "outputs": []
    },
    {
      "cell_type": "code",
      "metadata": {
        "colab": {
          "base_uri": "https://localhost:8080/"
        },
        "id": "FcztOSTC27pc",
        "outputId": "5859fd3e-e602-4bcb-f408-7a2895e30ebd"
      },
      "source": [
        "sol = eliminasi_gauss(A,b)\n",
        "sol"
      ],
      "execution_count": 4,
      "outputs": [
        {
          "output_type": "execute_result",
          "data": {
            "text/plain": [
              "array([-1.,  2.,  0.,  1.])"
            ]
          },
          "metadata": {},
          "execution_count": 4
        }
      ]
    },
    {
      "cell_type": "markdown",
      "metadata": {
        "id": "hebl7UbaLQJk"
      },
      "source": [
        "### Contoh 2\n",
        "\n",
        "$$\n",
        "\\begin{array}\n",
        "EE_1: & 10^{-17}x_1 &-& x_2 &=& -1, \\\\\n",
        "E_2: & x_1 &+& 2x_2 &=& 3, \\\\\n",
        "\\end{array}\n",
        "$$"
      ]
    },
    {
      "cell_type": "code",
      "metadata": {
        "id": "nJPZN-LuLzYa"
      },
      "source": [
        "A = np.array([[1e-17, -1],\n",
        "              [1,2]], dtype=np.float64)\n",
        "b = np.array([-1, 3], dtype=np.float64)"
      ],
      "execution_count": 5,
      "outputs": []
    },
    {
      "cell_type": "code",
      "metadata": {
        "colab": {
          "base_uri": "https://localhost:8080/"
        },
        "id": "43Y4AhhrMI9Y",
        "outputId": "39334f2e-6e98-4bb0-b304-e102f2122dc0"
      },
      "source": [
        "sol = eliminasi_gauss(A,b)\n",
        "sol"
      ],
      "execution_count": 9,
      "outputs": [
        {
          "output_type": "execute_result",
          "data": {
            "text/plain": [
              "array([0., 1.])"
            ]
          },
          "metadata": {},
          "execution_count": 9
        }
      ]
    },
    {
      "cell_type": "code",
      "metadata": {
        "colab": {
          "base_uri": "https://localhost:8080/",
          "height": 265
        },
        "id": "KTPMRcz0RcbD",
        "outputId": "3df1d8f4-ddff-4615-b76f-74b284e701cc"
      },
      "source": [
        "# Tampilkan kuadran\n",
        "plt.plot([-2, 2], [0, 0], color='C0')\n",
        "plt.plot([0, 0], [-2, 2], color='C0')\n",
        "\n",
        "# plot SPL\n",
        "x = np.linspace(-2, 2)\n",
        "f1 = 1 + 1e-17*x\n",
        "f2 = (3 - x)/2\n",
        "plt.plot(x, f1, color='red', label='$E_1$')\n",
        "plt.plot(x, f2, color='green', label='$E_2$')\n",
        "\n",
        "# solusi eliminasi\n",
        "plt.scatter(sol[0], sol[1], marker='o', color='black')\n",
        "plt.annotate('({}, {})'.format(sol[0], sol[1]), sol+0.1)\n",
        "\n",
        "# solusi eksak\n",
        "plt.scatter(1, 1, marker='o', color='red')\n",
        "plt.annotate('(1, 1)', (1,1+0.1))\n",
        "\n",
        "plt.legend();"
      ],
      "execution_count": 27,
      "outputs": [
        {
          "output_type": "display_data",
          "data": {
            "image/png": "[encoded data removed]",
            "text/plain": [
              "<Figure size 432x288 with 1 Axes>"
            ]
          },
          "metadata": {
            "needs_background": "light"
          }
        }
      ]
    },
    {
      "cell_type": "code",
      "metadata": {
        "id": "CkR0lOULY3xG",
        "colab": {
          "base_uri": "https://localhost:8080/"
        },
        "outputId": "be1b07d5-e0ea-48e9-8602-78355835c0b6"
      },
      "source": [
        "detA = np.linalg.det(A) # Determinan A\n",
        "detA"
      ],
      "execution_count": 28,
      "outputs": [
        {
          "output_type": "execute_result",
          "data": {
            "text/plain": [
              "1.0"
            ]
          },
          "metadata": {},
          "execution_count": 28
        }
      ]
    },
    {
      "cell_type": "code",
      "metadata": {
        "colab": {
          "base_uri": "https://localhost:8080/"
        },
        "id": "yHEHfNObMMPB",
        "outputId": "c0b20a92-5cc0-40b4-c1b0-a2b23fff6319"
      },
      "source": [
        "condition_number = np.linalg.cond(A) # Condition Number A\n",
        "condition_number"
      ],
      "execution_count": 29,
      "outputs": [
        {
          "output_type": "execute_result",
          "data": {
            "text/plain": [
              "5.828427124746189"
            ]
          },
          "metadata": {},
          "execution_count": 29
        }
      ]
    },
    {
      "cell_type": "markdown",
      "metadata": {
        "id": "7cMBXyrXZByw"
      },
      "source": [
        "Dari Contoh 2 terlihat bahwa condition number dari A adalah 5.8284 mengindikasikan bahwa matriks tersebut __ill-condition__ atau _hampir_ __singular__. Matriks yang ill-condition dapat terjadi karena error pembulatan, sehingga solusi numerik yang dihasilkan salah. Walaupun kita tahu bahwa determinan dari A tak nol artinya SPL pada Contoh 2 memiliki solusi tunggal."
      ]
    },
    {
      "cell_type": "markdown",
      "metadata": {
        "id": "OmpOGdNSYpwa"
      },
      "source": [
        "If the condition number is not too much larger than one, the matrix is well-conditioned, which means that its inverse can be computed with good accuracy. If the condition number is very large, then the matrix is said to be ill-conditioned. Practically, such a matrix is almost singular, and the computation of its inverse, or solution of a linear system of equations is prone to large numerical errors. A matrix that is not invertible has condition number equal to infinity. (https://en.wikipedia.org/wiki/Condition_number)"
      ]
    },
    {
      "cell_type": "markdown",
      "metadata": {
        "id": "b-NW_e3qa7Yu"
      },
      "source": [
        "## Eliminasi Gauss dengan Scaled Partial Pivoting\n",
        "\n",
        "Untuk menghindari hal tersebut, kita memerlukan __penukaran baris__ di A."
      ]
    },
    {
      "cell_type": "code",
      "metadata": {
        "id": "RLNuNaEjbf23",
        "colab": {
          "base_uri": "https://localhost:8080/"
        },
        "outputId": "f9d8259c-9063-43ef-878c-62cb8ef25d74"
      },
      "source": [
        "A[[0,1],:] = A[[1,0],:]\n",
        "b[[0,1]] = b[[1,0]]\n",
        "\n",
        "print(\"A = \", A)\n",
        "print(\"b = \", b)"
      ],
      "execution_count": 30,
      "outputs": [
        {
          "output_type": "stream",
          "name": "stdout",
          "text": [
            "A =  [[ 1.e+00  2.e+00]\n",
            " [ 1.e-17 -1.e+00]]\n",
            "b =  [ 3. -1.]\n"
          ]
        }
      ]
    },
    {
      "cell_type": "code",
      "metadata": {
        "id": "gS2oW5bcb8AG",
        "colab": {
          "base_uri": "https://localhost:8080/"
        },
        "outputId": "aa26356c-e9d1-4647-9922-2f7dd397c6f5"
      },
      "source": [
        "sol = eliminasi_gauss(A, b)\n",
        "sol"
      ],
      "execution_count": 31,
      "outputs": [
        {
          "output_type": "execute_result",
          "data": {
            "text/plain": [
              "array([1., 1.])"
            ]
          },
          "metadata": {},
          "execution_count": 31
        }
      ]
    },
    {
      "cell_type": "markdown",
      "metadata": {
        "id": "C5CX1Gg-lsga"
      },
      "source": [
        "📌 Jadi, kapan kita perlu menukar baris?\n",
        "\n",
        "Mari kita lihat SPL berikut\n",
        "$$\n",
        "\\begin{array}\n",
        "EE_1: a_{11} x_1 + a_{12} x_2 &=& b_1 \\\\\n",
        "E_2: a_{21} x_1 + a_{22} x_2 &=& b_2\n",
        "\\end{array}\n",
        "$$\n",
        "Asumsikan bahwa kita telah mendapatkan nilai dari $x_2$ dan mengandung error pembulatan (round-off error), $\\hat{x}_2 = x_2 + \\varepsilon_2$. Kemudian kita hitung $x_1$ dengan $\\hat{x}_2$:\n",
        "$$\n",
        "\\begin{array}a\n",
        "  \\hat{x}_1 &=& \\frac{1}{a_{11}}(b_1 - a_{12}\\hat{x}_2)\\\\\n",
        "            &=& \\frac{1}{a_{11}}(b_1 - a_{12}x_2 - a_{12}\\varepsilon_2)\\\\\n",
        "            &=& \\frac{1}{a_{11}}(b_1 - a_{12}x_2) - \\frac{a_{12}}{a_{11}} \\varepsilon_2\\\\\n",
        "            &=& x_1 - \\varepsilon_1\n",
        "\\end{array}\n",
        "$$\n",
        "dengan demikian kita dapatkan $\\varepsilon_1 = \\frac{a_{12}}{a_{11}} \\varepsilon_2$. Error di $x_2$ terpropagasi dengan suatu faktor $\\frac{a_{12}}{a_{11}}$. Kasus ini disebut juga dengan __error terpropagasi (propagated error)__. Untuk menghasilkan hasil yang terbaik, kita menginginkan nilai dari $|a_{11}|$ sebesar mungkin. \n"
      ]
    },
    {
      "cell_type": "markdown",
      "metadata": {
        "id": "e8ySr793w4vx"
      },
      "source": [
        "## Algoritma Eliminasi Gauss dengan Scaled Partial Pivoting\n",
        "\n",
        "Dari kasus tersebut, kita memerlukan teknik __scaled partial pivoting__. Idenya adalah mencari skala terbesar dari masing-masing koefisien di setiap persamaan,  $max_{k \\leq i \\leq n} |a_{ik}|$ untuk $a_{ii}$, kemudian cari mana baris yang memiliki skala terbesar dan lakukan penukaran baris. Untuk lebih jelasnya, kita lihat algoritma berikut:\n",
        "\n",
        "\n"
      ]
    },
    {
      "cell_type": "markdown",
      "metadata": {
        "id": "CVYzs8Oc3Om2"
      },
      "source": [
        "```python\n",
        "Algoritma: Eliminasi_Gauss_Scaled_Pivoting(A, b)\n",
        "\n",
        "INPUT: A` adalah matriks augmented [A,b], n adalah ukuran dari A.\n",
        "OUTPUT: variabel x \n",
        "\n",
        "1. Mencari skala terbesar dari setiap baris \n",
        "\n",
        "for i=1 to n\n",
        "      s[i] = max(|a[i,j]|), j = 1,2,..,n\n",
        "      if s[i] == 0\n",
        "          print('tidak ada solusi tunggal')\n",
        "\n",
        "for i=1 to n\n",
        "  2. Mencari indeks dari baris yang memiliki skala terbesar dan lakukan penukaran baris:\n",
        "\n",
        "  for i=1 to n-1\n",
        "      p = argmax(|a[k, i]|/s[i]), k = 1,2,...,n (mencari indeks)\n",
        "      if p ~= i\n",
        "          A`[[i,p]] <=> A`[[p,i]] (lakukan penukaran baris)\n",
        "          s[i] <=> s[p] (lakukan penukaran nilai skala)\n",
        "  3. Selanjutnya, lakukan eliminasi maju seperti pada algoritma sebelumnya.\n",
        "endfor\n",
        "4. Lakukan subtitusi mundur.\n",
        "```"
      ]
    },
    {
      "cell_type": "markdown",
      "metadata": {
        "id": "IIYx4oQ7WV3A"
      },
      "source": [
        "### Contoh 3\n",
        "\n",
        "Diberikan SPL\n",
        "\n",
        "$$\n",
        "\\begin{array}\n",
        "EE_1: & x_1 &+& 2x_2 &+& x_3 &=& 3, \\\\\n",
        "E_2: & 3x_1 &+& 4x_2 &+&  &=& 3, \\\\\n",
        "E_3: & 2x_1 &+& 10x_2 &+& 4x_3 &=& 10, \\\\\n",
        "\\end{array}\n",
        "$$\n",
        "\n",
        "Dari SPL tersebut, pertama kita cari skala terbesar di setiap baris/persamaan.\n",
        "Untuk baris pertama $E_1$:\n",
        "\n",
        "$$\n",
        "\\begin{array}\n",
        "ss_1 &=& \\max_{1 \\leq j \\leq n} |a_{1j}|\\\\\n",
        "     &=& \\max \\{1, 2, 1\\} \\\\\n",
        "     &=& 2\n",
        "\\end{array}\n",
        "$$\n",
        "\n",
        "baris kedua $E_2$:\n",
        "\n",
        "$$\n",
        "\\begin{array}\n",
        "ss_2 &=& \\max_{1 \\leq j \\leq n} |a_{2j}|\\\\\n",
        "     &=& \\max \\{3, 4, 0\\} \\\\\n",
        "     &=& 4\n",
        "\\end{array}\n",
        "$$\n",
        "\n",
        "dan, baris ketiga $E_3$:\n",
        "\n",
        "$$\n",
        "\\begin{array}\n",
        "ss_3 &=& \\max_{1 \\leq j \\leq n} |a_{3j}|\\\\\n",
        "     &=& \\max \\{2, 10, 4\\} \\\\\n",
        "     &=& 10.\n",
        "\\end{array}\n",
        "$$\n",
        "\n",
        "Kemudian kita cari baris yang akan ditukar:\n",
        "\n",
        "$$\n",
        "\\frac{a_{11}}{s_1} = \\frac{1}{2}, \\frac{a_{21}}{s_2} = \\frac{3}{4}, \\frac{a_{31}}{s_3} = \\frac{2}{10} \\rightarrow i=2\n",
        "$$\n",
        "\n",
        "dari sini kita dapatkan bahwa baris kedua $E_2$ yang memiliki nilai terbesar. Dengan demikian, lakukan penukaran $E_1 \\leftrightarrow E_2$. Sehingga SPLnya menjadi\n",
        "\n",
        "$$\n",
        "\\begin{array}\n",
        "EE_1: & 3x_1 &+& 4x_2 &+&  &=& 3, \\\\\n",
        "E_2: & x_1 &+& 2x_2 &+& x_3 &=& 3, \\\\\n",
        "E_3: & 2x_1 &+& 10x_2 &+& 4x_3 &=& 10, \\\\\n",
        "\\end{array}\n",
        "$$\n",
        "\n",
        "Kemudian kita lakukan eliminasi maju untuk mengeliminasi $x_1$ dari $E_2$ dan $E_3$\n",
        "* $(E_2 - \\frac{1}{3} E_1) \\rightarrow (E_2)$\n",
        "* $(E_3 - \\frac{2}{3} E_1) \\rightarrow (E_3)$.\n",
        "\n",
        "Sehingga didapat SPL baru, yaitu\n",
        "\n",
        "$$\n",
        "\\begin{array}\n",
        "EE_2: & 3x_1 &+& 4x_2 &+&  &=& 3, \\\\\n",
        "E_1: &  && \\frac{2}{3}x_2 &+& x_3 &=& 2, \\\\\n",
        "E_3: &  && \\frac{22}{3}x_2 &+& 4x_3 &=& 8, \\\\\n",
        "\\end{array}\n",
        "$$\n",
        "\n",
        "dan kita cari lagi baris yang akan ditukar dari SPL baru tersebut:\n",
        "\n",
        "$$\n",
        "\\frac{a_{12}}{s_1} = \\frac{2/3}{2} = \\frac{1}{3}, \\frac{a_{32}}{s_3} = \\frac{22/3}{10} = \\frac{22}{30} \\rightarrow i=3\n",
        "$$\n",
        "\n",
        "sehingga kita tukar $E_1 \\leftrightarrow E_3$, maka didapat SPL baru selanjutnya\n",
        "\n",
        "$$\n",
        "\\begin{array}\n",
        "EE_2: & 3x_1 &+& 4x_2 &+&  &=& 3, \\\\\n",
        "E_3: &  && \\frac{22}{3}x_2 &+& 4x_3 &=& 8, \\\\\n",
        "E_1: &  && \\frac{2}{3}x_2 &+& x_3 &=& 2, \\\\\n",
        "\\end{array}\n",
        "$$\n",
        "\n",
        "dan lakukan eliminasi maju untuk mengeliminasi $x_2$ dari $E_1$:\n",
        "* $(E_1 - \\frac{1}{11} E_3) \\rightarrow (E_1)$\n",
        "\n",
        "sehingga didapatkan SPL:\n",
        "\n",
        "$$\n",
        "\\begin{array}\n",
        "EE_2: & 3x_1 &+& 4x_2 &+&  &=& 3, \\\\\n",
        "E_3: &  && \\frac{22}{3}x_2 &+& 4x_3 &=& 8, \\\\\n",
        "E_1: &  &&  && \\frac{7}{11}x_3 &=& \\frac{14}{11}, \\\\\n",
        "\\end{array}\n",
        "$$\n",
        "\n",
        "Kemudian lakukan subtitusi mundur, sehingga didapatkan $x_1 = 1, x_2 = 0, x_3 = 2$.\n",
        "\n",
        "\n"
      ]
    },
    {
      "cell_type": "code",
      "metadata": {
        "id": "IjMBgHmQj2Lu"
      },
      "source": [
        "def eliminasi_gauss_pivoting(A,b):\n",
        "  A_c = np.c_[A,b]\n",
        "\n",
        "  n = len(A)\n",
        "\n",
        "  s = np.zeros(n)\n",
        "  # Mencari skala terbesar\n",
        "  for i in range(n):\n",
        "    s[i] = max(np.abs(A_c[i,:n]))\n",
        "\n",
        "  for i in range(n):\n",
        "    # Lakukan penukaran baris\n",
        "    for k in range(n-1):\n",
        "      p = np.argmax(np.abs(A_c[k:n, k])/s[k:n]) + k\n",
        "      if p != k:\n",
        "        A_c[[k,p],:] = A_c[[p,k],:]\n",
        "        s[k], s[p] = s[p], s[k]\n",
        "    \n",
        "    # Lakukan eliminasi maju\n",
        "    faktor = A_c[i+1:, i]/A_c[i,i]\n",
        "    A_c[i+1:] -= faktor[:, np.newaxis] * A_c[i]\n",
        "\n",
        "  x = np.zeros_like(b, dtype=np.float64)\n",
        "\n",
        "  # Lakukan subtitutsi mundur\n",
        "  x[-1] = A_c[-1,-1]/A_c[-1,-2]\n",
        "  for i in range(n-2, -1, -1):\n",
        "    x[i] = 1/A_c[i,i] * (A_c[i,-1] - np.dot(A_c[i,i:-1], x[i:]))\n",
        "    \n",
        "  return x"
      ],
      "execution_count": 32,
      "outputs": []
    },
    {
      "cell_type": "code",
      "metadata": {
        "id": "hmmsDtpHpznb"
      },
      "source": [
        "A = np.array([[1,2,1],\n",
        "              [3,4,0],\n",
        "              [2,10,4]], dtype=np.double)\n",
        "b = np.array([3,3,10], dtype=np.double)"
      ],
      "execution_count": 33,
      "outputs": []
    },
    {
      "cell_type": "code",
      "metadata": {
        "colab": {
          "base_uri": "https://localhost:8080/"
        },
        "id": "DL-ljE0HvdgJ",
        "outputId": "471187df-b82d-43ca-d3cb-97de2199420f"
      },
      "source": [
        "eliminasi_gauss_pivoting(A,b)"
      ],
      "execution_count": 34,
      "outputs": [
        {
          "output_type": "execute_result",
          "data": {
            "text/plain": [
              "array([1., 0., 2.])"
            ]
          },
          "metadata": {},
          "execution_count": 34
        }
      ]
    },
    {
      "cell_type": "markdown",
      "metadata": {
        "id": "-WIGPZX3NEfx"
      },
      "source": [
        "### Contoh 4\n",
        "Dari Contoh 2, kita gunakan scaled partial pivoting"
      ]
    },
    {
      "cell_type": "code",
      "metadata": {
        "id": "DgSsivyx40KJ"
      },
      "source": [
        "A = np.array([[1e-17, -1],\n",
        "              [1,2]], dtype=np.float64)\n",
        "b = np.array([-1, 3], dtype=np.float64)"
      ],
      "execution_count": 35,
      "outputs": []
    },
    {
      "cell_type": "code",
      "metadata": {
        "id": "DnpHlSnlNBz8",
        "colab": {
          "base_uri": "https://localhost:8080/"
        },
        "outputId": "1fce0d30-30db-4985-e7f3-836a49dc7c92"
      },
      "source": [
        "x_pivoting = eliminasi_gauss_pivoting(A,b)\n",
        "x_pivoting"
      ],
      "execution_count": 36,
      "outputs": [
        {
          "output_type": "execute_result",
          "data": {
            "text/plain": [
              "array([1., 1.])"
            ]
          },
          "metadata": {},
          "execution_count": 36
        }
      ]
    },
    {
      "cell_type": "markdown",
      "metadata": {
        "id": "7VpGoPKDNf0O"
      },
      "source": [
        "### Contoh 5\n",
        "\n",
        "$$\n",
        "\\begin{array}\n",
        "EE_1: & x_1 &+& 10^{17}x_2 &=& 10^{17}, \\\\\n",
        "E_2: & x_1 &+& 10^{-17}x_2 &=& 1, \\\\\n",
        "\\end{array}\n",
        "$$"
      ]
    },
    {
      "cell_type": "code",
      "metadata": {
        "id": "mCjG_aKtNek8"
      },
      "source": [
        "A = np.array([[1, 1e17],\n",
        "             [1, 1e-17]], dtype=np.double)\n",
        "b = np.array([1e17, 1], dtype=np.double)"
      ],
      "execution_count": 37,
      "outputs": []
    },
    {
      "cell_type": "code",
      "metadata": {
        "id": "-CqtKsZWSd5B",
        "colab": {
          "base_uri": "https://localhost:8080/"
        },
        "outputId": "5bcf6fe6-2482-4d9c-88dd-5ecd6df0ae79"
      },
      "source": [
        "np.linalg.cond(A)"
      ],
      "execution_count": 38,
      "outputs": [
        {
          "output_type": "execute_result",
          "data": {
            "text/plain": [
              "9.999999999999997e+16"
            ]
          },
          "metadata": {},
          "execution_count": 38
        }
      ]
    },
    {
      "cell_type": "code",
      "metadata": {
        "id": "TcBB7_HcXr17",
        "colab": {
          "base_uri": "https://localhost:8080/"
        },
        "outputId": "f0a832fd-45e5-4f8f-8a6b-2fdcd9a9fc94"
      },
      "source": [
        "np.linalg.det(A)"
      ],
      "execution_count": 39,
      "outputs": [
        {
          "output_type": "execute_result",
          "data": {
            "text/plain": [
              "-1.000000000000001e+17"
            ]
          },
          "metadata": {},
          "execution_count": 39
        }
      ]
    },
    {
      "cell_type": "code",
      "metadata": {
        "id": "I_bFGPYaOZ4y",
        "colab": {
          "base_uri": "https://localhost:8080/"
        },
        "outputId": "dd814db1-3302-433b-d1fb-5a76348c6c66"
      },
      "source": [
        "x = eliminasi_gauss(A,b)\n",
        "x"
      ],
      "execution_count": 40,
      "outputs": [
        {
          "output_type": "execute_result",
          "data": {
            "text/plain": [
              "array([0., 1.])"
            ]
          },
          "metadata": {},
          "execution_count": 40
        }
      ]
    },
    {
      "cell_type": "code",
      "metadata": {
        "id": "aS52hf0gOlWM",
        "colab": {
          "base_uri": "https://localhost:8080/"
        },
        "outputId": "b694c73f-6efc-486e-e6a5-62d0e80c3d4c"
      },
      "source": [
        "x_pivoting = eliminasi_gauss_pivoting(A, b)\n",
        "x_pivoting"
      ],
      "execution_count": 41,
      "outputs": [
        {
          "output_type": "execute_result",
          "data": {
            "text/plain": [
              "array([1., 1.])"
            ]
          },
          "metadata": {},
          "execution_count": 41
        }
      ]
    }
  ]
}