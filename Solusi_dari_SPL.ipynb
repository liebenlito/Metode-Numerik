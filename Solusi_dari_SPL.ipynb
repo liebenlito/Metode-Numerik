{
  "nbformat": 4,
  "nbformat_minor": 0,
  "metadata": {
    "colab": {
      "name": "Solusi dari SPL.ipynb",
      "provenance": [],
      "authorship_tag": "ABX9TyMmdp2T5d2wDpS1jTrM0w51"
    },
    "kernelspec": {
      "name": "python3",
      "display_name": "Python 3"
    },
    "language_info": {
      "name": "python"
    }
  },
  "cells": [
    {
      "cell_type": "markdown",
      "metadata": {
        "id": "gp6O8_uNoUDC"
      },
      "source": [
        "# Solusi Numerik untuk Sistem Persamaan Linear\n",
        "\n",
        "Suatu sistem persamaan linear (SPL) adalah kumpulan dari sejumlah $n$ persamaan atau secara matematis dapat ditulis\n",
        "\n",
        "$$\n",
        "\\begin{array}\n",
        "EE_1: & a_{11}x_1 + a_{12}x_2 + \\cdots + a_{1n}x_n = b_1, \\\\\n",
        "E_2: & a_{21}x_1 + a_{22}x_2 + \\cdots + a_{2n}x_n = b_2, \\\\\n",
        "E_3: & a_{31}x_1 + a_{32}x_2 + \\cdots + a_{3n}x_n = b_3, \\\\\n",
        "    & \\vdots \\\\\n",
        "E_n: & a_{n1}x_1 + a_{n2}x_2 + \\cdots + a_{nn}x_n = b_n, \\\\\n",
        "\\end{array}\n",
        "(1)\n",
        "$$\n",
        "\n",
        "Di dalam (1), terdapat koefisien $a_{ij}$, untuk $i,j = 1,2, \\cdots, n$, dan $b_i$, dan kita perlu untuk mencari unknowns $x_1, x_2,\\cdots, x_n$. SPL (1) juga dapat ditulis dalam bentuk matriks-vektor yaitu\n",
        "$$A\\vec{x} = \\vec{b},$$\n",
        "dimana $A \\in \\mathbb{R}^{n \\times n}$, $\\vec{x} \\in \\mathbb{R}^n$, dan $\\vec{b} \\in \\mathbb{R}^n$.\n",
        "\n",
        "Terdapat dua cara untuk menyelesaikan (1) menggunakan solusi numerik:\n",
        "1. Metode Langsung (Naive) (fokus pada analisa error pembulatan)\n",
        "2. Metode Iteratif\n",
        "\n",
        "Selain mencari $\\vec{x}$, permasalahan yang ada di dalam SPL meliputi:\n",
        "1. Determinan dari matriks\n",
        "2. Invers dari matriks\n",
        "3. Tipe-tipe khusus dari matriks:\n",
        "  * Matriks Definit Positif\n",
        "  * Matriks Tridiagonal\n",
        "\n",
        "Beberapa metode yang akan dipelajari antara lain:\n",
        "1. Eliminasi Gauss\n",
        "2. Partial Pivoting\n",
        "3. Faktorisasi Matriks\n",
        "  * Dekomposisi LU\n",
        "  * Matriks Permutasi\n",
        "  * Cholesky\n",
        "  * Faktorisasi Crout"
      ]
    },
    {
      "cell_type": "markdown",
      "metadata": {
        "id": "NaNlVyxdw-Dy"
      },
      "source": [
        "## Sistem Persamaan Linear\n",
        "\n",
        "Kita menggunakan tiga operasi baris untuk menyederhanakan SPL (1):\n",
        "1. Persamaan $E_i$ dapat __dikali__ oleh suatu konstanta $\\lambda$ yang __tak nol__,yang hasilnya ditempatkan di $E_i$. Operasi tersebut dinotasikan sebagai $(\\lambda E_i) \\rightarrow (E_i)$.\n",
        "2. Persamaan $E_j$ dapat __dikali__ oleh suatu konstanta $\\lambda$ dan __ditambahkan__ ke persamaan $E_i$, yang hasilnya ditempatkan di $E_i$. Operasi ini dapat dinotasikan sebagai $(E_i + \\lambda E_j) \\rightarrow (E_i)$.\n",
        "3. Persamaan $E_i$ dan $E_j$ dapat __ditukar__ urutannya atau dapat ditulis $(E_i) \\leftrightarrow (E_j)$."
      ]
    },
    {
      "cell_type": "markdown",
      "metadata": {
        "id": "sK1CP8lszyF_"
      },
      "source": [
        "### Contoh 1:\n",
        "Diberikan SPL\n",
        "$$\n",
        "\\begin{array}\n",
        "EE_1: & x_1 &+& x_2 &&  &+& 3x_4 &=& 4, \\\\\n",
        "E_2: & 2x_1 &+& x_2 &-& x_3 &+& x_4 &=& 1, \\\\\n",
        "E_3: & 3x_1 &-& x_2 &-& x_3 &+& 2x_4 &=& -3, \\\\\n",
        "E_4: & -x_1 &+& 2x_2 &+& 3x_3 &-& x_4 &=& 4. \\\\\n",
        "\\end{array}\n",
        "$$\n",
        "\n",
        "Tujuannya adalah mencari nilai dari $x_1, x_2, x_3$, dan $x_4$."
      ]
    },
    {
      "cell_type": "markdown",
      "metadata": {
        "id": "hcUOoMGg1m00"
      },
      "source": [
        "Pertama, kita eliminasi $x_1$ dari persamaan $E_2, E_3$, dan $E_4$ dengan cara:\n",
        "* $(E_2-2E_1)\\rightarrow(E_2)$\n",
        "* $(E_3-3E_1)\\rightarrow(E_3)$\n",
        "* $(E_4+E_1)\\rightarrow(E_4)$\n",
        "\n",
        "akan menghasilkan sistem persamaan baru\n",
        "$$\n",
        "\\begin{array}\n",
        "EE_1: & x_1 &+& x_2 &&  &+& 3x_4 &=& 4, \\\\\n",
        "E_2: &  &-& x_2 &-& x_3 &-& 5x_4 &=& -7, \\\\\n",
        "E_3: &  &-& 4x_2 &-& x_3 &-& 7x_4 &=& -15, \\\\\n",
        "E_4: &  && 3x_2 &+& 3x_3 &+& 2x_4 &=& 8. \\\\\n",
        "\\end{array}\n",
        "$$\n",
        "\n",
        "Di dalam sistem persamaan baru ini, kemudian, kita eliminasi $x_2$ dari $E_3$ dan $E_4$ dengan cara:\n",
        "* $(E_3-4E_2)\\rightarrow(E_3)$\n",
        "* $(E_4+3E_2)\\rightarrow(E_4)$,\n",
        "\n",
        "sehingga menghasilkan\n",
        "$$\n",
        "\\begin{array}\n",
        "EE_1: & x_1 &+& x_2 &&  &+& 3x_4 &=& 4, \\\\\n",
        "E_2: &  &-& x_2 &-& x_3 &-& 5x_4 &=& -7, \\\\\n",
        "E_3: &  && &-& 3x_3 &+& 13x_4 &=& 13, \\\\\n",
        "E_4: &  && &&  &-& 13x_4 &=& -13. \\\\\n",
        "\\end{array}\n",
        "(2)\n",
        "$$\n",
        "SPL (2) sudah menjadi __bentuk tereduksi__ dan untuk mencari nilai unknowns tersebut digunakan proses __subtitusi mundur__. Karena $E_4$ bernilai $x_4 = 1$, kita selesaikan $E_3$ untuk mencari $x_3$\n",
        "$$\n",
        "x_3 = \\frac{1}{3}(13-13x_4) = \\frac{1}{3}(13-13) = 0.\n",
        "$$\n",
        "Dilanjutkan untuk $E_2$\n",
        "$$\n",
        "x_2 = -(-7 + 5x_4 + x_3) = -(-7 + 5 + 0) = 2,\n",
        "$$\n",
        "dan $E_1$\n",
        "$$\n",
        "x1 = 4 - 3x_4 - x_2 = 4 - 3 - 1 = -1.\n",
        "$$\n",
        "Jadi solusinya adalah $x_1 = -1, x_2 = 2, x_3 = 0$, dan $x_4 = 1$."
      ]
    },
    {
      "cell_type": "markdown",
      "metadata": {
        "id": "Btv-RVaPBaZr"
      },
      "source": [
        "## Desain Algoritma untuk Eliminasi Gauss\n",
        "Agar dapat mempermudah pengimplementasiannya ke dalam bahasa pemrograman, SPL(1) diubah ke dalam bentuk augmented, \n",
        "$$\n",
        "\\begin{array}\n",
        "EE_1: & a_{11}x_1 + a_{12}x_2 + \\cdots + a_{1n}x_n = a_{1,n+1}, \\\\\n",
        "E_2: & a_{21}x_1 + a_{22}x_2 + \\cdots + a_{2n}x_n = a_{2,n+1}, \\\\\n",
        "E_3: & a_{31}x_1 + a_{32}x_2 + \\cdots + a_{3n}x_n = a_{3,n+1}, \\\\\n",
        "    & \\vdots \\\\\n",
        "E_n: & a_{n1}x_1 + a_{n2}x_2 + \\cdots + a_{nn}x_n = a_{n,n+1}, \\\\\n",
        "\\end{array}\n",
        "(3)\n",
        "$$\n",
        "atau dapat ditulis dalam bentuk augmented matrix $C$\n",
        "$$\n",
        "C = \n",
        "\\begin{bmatrix}\n",
        "  a_{11} & a_{12} & \\cdots & a_{1n} & a_{1,n+1} \\\\\n",
        "  a_{21} & a_{22} & \\cdots & a_{2n} & a_{2,n+1} \\\\\n",
        "   &  & \\vdots &  &  \\\\\n",
        "  a_{n1} & a_{n2} & \\cdots & a_{nn} & a_{n,n+1} \\\\\n",
        "\\end{bmatrix}\n",
        "$$\n",
        "\n",
        "Untuk menyelesaikan SPL tersebut, kita gunakan Eliminasi Gauss yang desain algoritmanya adalah sebagai berikut:\n",
        "1. Buat sistem segitiga atas menggunakan eliminasi maju.\n",
        "  * Kita lakukan eliminasi $x_1$ dari persamaan $E_2$, $E_3$, $E_4, ..., E_n$ menghasilkan SPL baru, lakukan eliminasi $x_2$ dari persamaan $E_3, E_4, ..., E_n$, dst. sampai $x_{n-1}$ dari persamaan $E_n$ atau dapat ditulis dalam bentuk algoritma\n",
        "    ``` python\n",
        "    for i=1 to n-1\n",
        "        for j=i+1 to n\n",
        "            (E_j) <- (E_j) - (a_{ji}/a_{ii})*(E_i)\n",
        "    ```\n",
        "Maka algoritma ini akan menghasilkan sistem segitiga atas\n",
        "$$\n",
        "\\begin{array}\n",
        "EE_1: & a_{11}x_1 &+& a_{12}x_2 &+& \\cdots &+& a_{1n}x_n &=& a_{1,n+1}, \\\\\n",
        "E_2: &  && a_{22}x_2 &+& \\cdots &+& a_{2n}x_n &=& a_{2,n+1}, \\\\\n",
        "&&&&&&& \\vdots& \\\\\n",
        "E_n: &  && &&  &+& a_{nn}x_n &=& a_{n,n+1}. \\\\\n",
        "\\end{array}\n",
        "(4)\n",
        "$$\n",
        "Catatan bahwa nilai dari koefisien $a_{i,j+1}$ di (4) berbeda dari (3).\n",
        "\n",
        "2. Subtitusi mundur\n",
        "  * Lakukan subtitusi mundur untuk mendapatkan solusinya.\n",
        "  ```python\n",
        "  x_n = a_{n+1, n+1} / a_{nn}\n",
        "  for i = n-1 to 1\n",
        "      x_i = 1/a_{ii} (a_{i, n+1} - sum(a_{ij}*x_j))\n",
        "  ``` "
      ]
    },
    {
      "cell_type": "markdown",
      "metadata": {
        "id": "j-2qyDEu_vWi"
      },
      "source": [
        "## Implementasi di Python\n",
        "\n",
        "SPL biasanya diubah ke dalam bentuk __augmented matrix__, agar lebih mudah untuk mengimplementasikannya."
      ]
    },
    {
      "cell_type": "code",
      "metadata": {
        "id": "HjH77_vS1wQo"
      },
      "source": [
        "import numpy as np"
      ],
      "execution_count": 1,
      "outputs": []
    },
    {
      "cell_type": "code",
      "metadata": {
        "id": "9P7nJU1inly5"
      },
      "source": [
        "def eliminasi_gauss(A, b):\n",
        "  # Gabung matriks A dan b sehingga membentuk augmented matrix A_c\n",
        "  A_c = np.c_[A,b] \n",
        "\n",
        "  # Jumlah baris dari A\n",
        "  n = A.shape[0]\n",
        "\n",
        "  # Lakukan eliminasi maju\n",
        "  for i in range(n):\n",
        "    faktor = A_c[i+1:, i]/A_c[i,i]\n",
        "    A_c[i+1:] -= faktor[:, np.newaxis] * A_c[i]\n",
        "\n",
        "  x = np.zeros_like(b, dtype=np.float64)\n",
        "\n",
        "  # Lakukan subtitutsi mundur\n",
        "  x[-1] = A_c[-1,-1]/A_c[-1,-2]\n",
        "  for i in range(n-2, -1, -1):\n",
        "    x[i] = 1/A_c[i,i] * (A_c[i,-1] - np.dot(A_c[i,i:-1], x[i:]))\n",
        "\n",
        "  return x"
      ],
      "execution_count": 20,
      "outputs": []
    },
    {
      "cell_type": "code",
      "metadata": {
        "id": "lZ3Inzjr1u9v"
      },
      "source": [
        "A = np.array([[1, 1, 0, 3],\n",
        "              [2, 1, -1, 1],\n",
        "              [3, -1, -1, 2],\n",
        "              [-1, 2, 3, -1]], dtype=np.float64)\n",
        "\n",
        "b = np.array([4, 1, -3, 4], dtype=np.float64)"
      ],
      "execution_count": 21,
      "outputs": []
    },
    {
      "cell_type": "code",
      "metadata": {
        "colab": {
          "base_uri": "https://localhost:8080/",
          "height": 0
        },
        "id": "FcztOSTC27pc",
        "outputId": "1fe74921-229d-4932-9156-c0f5f6ad24e5"
      },
      "source": [
        "sol = eliminasi_gauss(A,b)\n",
        "sol"
      ],
      "execution_count": 22,
      "outputs": [
        {
          "output_type": "execute_result",
          "data": {
            "text/plain": [
              "array([-1.,  2.,  0.,  1.])"
            ]
          },
          "metadata": {},
          "execution_count": 22
        }
      ]
    },
    {
      "cell_type": "markdown",
      "metadata": {
        "id": "hebl7UbaLQJk"
      },
      "source": [
        "### Contoh 2\n",
        "\n",
        "$$\n",
        "\\begin{array}\n",
        "EE_1: & 10^{-17}x_1 &-& x_2 &=& -1, \\\\\n",
        "E_2: & x_1 &+& 2x_2 &=& 3, \\\\\n",
        "\\end{array}\n",
        "$$"
      ]
    },
    {
      "cell_type": "code",
      "metadata": {
        "id": "nJPZN-LuLzYa"
      },
      "source": [
        "A = np.array([[1e-17, -1],\n",
        "              [1,2]], dtype=np.float64)\n",
        "b = np.array([-1, 3], dtype=np.float64)"
      ],
      "execution_count": 60,
      "outputs": []
    },
    {
      "cell_type": "code",
      "metadata": {
        "colab": {
          "base_uri": "https://localhost:8080/"
        },
        "id": "43Y4AhhrMI9Y",
        "outputId": "cd16e361-90f2-40fa-cd9e-c5d81f1af391"
      },
      "source": [
        "sol = eliminasi_gauss(A,b)\n",
        "sol"
      ],
      "execution_count": 61,
      "outputs": [
        {
          "output_type": "execute_result",
          "data": {
            "text/plain": [
              "array([0., 1.])"
            ]
          },
          "metadata": {},
          "execution_count": 61
        }
      ]
    },
    {
      "cell_type": "code",
      "metadata": {
        "colab": {
          "base_uri": "https://localhost:8080/"
        },
        "id": "yHEHfNObMMPB",
        "outputId": "5e2302e5-c546-429d-9191-495f5bf57507"
      },
      "source": [
        "condition_number = np.linalg.cond(A)\n",
        "condition_number"
      ],
      "execution_count": 35,
      "outputs": [
        {
          "output_type": "execute_result",
          "data": {
            "text/plain": [
              "1.7675918792439984"
            ]
          },
          "metadata": {},
          "execution_count": 35
        }
      ]
    },
    {
      "cell_type": "code",
      "metadata": {
        "id": "CkR0lOULY3xG"
      },
      "source": [
        ""
      ],
      "execution_count": null,
      "outputs": []
    }
  ]
}